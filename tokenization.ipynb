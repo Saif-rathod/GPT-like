{
  "nbformat": 4,
  "nbformat_minor": 0,
  "metadata": {
    "colab": {
      "provenance": []
    },
    "kernelspec": {
      "name": "python3",
      "display_name": "Python 3"
    },
    "language_info": {
      "name": "python"
    }
  },
  "cells": [
    {
      "cell_type": "markdown",
      "source": [
        "**Tokenization**\n"
      ],
      "metadata": {
        "id": "vId_6ga6HCgP"
      }
    },
    {
      "cell_type": "code",
      "execution_count": null,
      "metadata": {
        "colab": {
          "base_uri": "https://localhost:8080/",
          "height": 36
        },
        "id": "03HXHQHNDhoe",
        "outputId": "2afb5fb2-1cc1-48fc-91c5-09c4e27d4dd6"
      },
      "outputs": [
        {
          "output_type": "execute_result",
          "data": {
            "text/plain": [
              "'Hola negro 🙉 (Hey Nigga in Spanish)'"
            ],
            "application/vnd.google.colaboratory.intrinsic+json": {
              "type": "string"
            }
          },
          "metadata": {},
          "execution_count": 2
        }
      ],
      "source": [
        "\"Hola negro 🙉 (Hey Nigga in Spanish)\""
      ]
    },
    {
      "cell_type": "code",
      "source": [
        "ord(\"0\")"
      ],
      "metadata": {
        "colab": {
          "base_uri": "https://localhost:8080/"
        },
        "id": "pZC8QB7-HBIc",
        "outputId": "fa4026ce-b3a0-48e7-f663-1f7328451d5c"
      },
      "execution_count": null,
      "outputs": [
        {
          "output_type": "execute_result",
          "data": {
            "text/plain": [
              "48"
            ]
          },
          "metadata": {},
          "execution_count": 3
        }
      ]
    },
    {
      "cell_type": "code",
      "source": [
        "ord(\"🙉\")"
      ],
      "metadata": {
        "colab": {
          "base_uri": "https://localhost:8080/"
        },
        "id": "LOjWsAcuHQAl",
        "outputId": "cd20d2ce-0c23-417e-cdf6-7644c21f4b1f"
      },
      "execution_count": null,
      "outputs": [
        {
          "output_type": "execute_result",
          "data": {
            "text/plain": [
              "128585"
            ]
          },
          "metadata": {},
          "execution_count": 4
        }
      ]
    },
    {
      "cell_type": "code",
      "source": [
        "print([ord(x) for x in \"Hola negro 🙉 (Hey Nigga in Spanish)\"])"
      ],
      "metadata": {
        "colab": {
          "base_uri": "https://localhost:8080/"
        },
        "id": "0Cc6KIG6Hqkm",
        "outputId": "9e561276-f532-45f8-90e4-1c79ceddced2"
      },
      "execution_count": null,
      "outputs": [
        {
          "output_type": "stream",
          "name": "stdout",
          "text": [
            "[72, 111, 108, 97, 32, 110, 101, 103, 114, 111, 32, 128585, 32, 40, 72, 101, 121, 32, 78, 105, 103, 103, 97, 32, 105, 110, 32, 83, 112, 97, 110, 105, 115, 104, 41]\n"
          ]
        }
      ]
    },
    {
      "cell_type": "code",
      "source": [
        "print(list(\"Hola negro 🙉 (Hey Nigga in Spanish)\".encode('utf-16')))"
      ],
      "metadata": {
        "colab": {
          "base_uri": "https://localhost:8080/"
        },
        "id": "XJJixKHjICV-",
        "outputId": "1c3c4068-ba3e-47f7-8a1b-edb6b79fe8c2"
      },
      "execution_count": null,
      "outputs": [
        {
          "output_type": "stream",
          "name": "stdout",
          "text": [
            "[255, 254, 72, 0, 111, 0, 108, 0, 97, 0, 32, 0, 110, 0, 101, 0, 103, 0, 114, 0, 111, 0, 32, 0, 61, 216, 73, 222, 32, 0, 40, 0, 72, 0, 101, 0, 121, 0, 32, 0, 78, 0, 105, 0, 103, 0, 103, 0, 97, 0, 32, 0, 105, 0, 110, 0, 32, 0, 83, 0, 112, 0, 97, 0, 110, 0, 105, 0, 115, 0, 104, 0, 41, 0]\n"
          ]
        }
      ]
    },
    {
      "cell_type": "code",
      "source": [
        "text = \"Ｕｎｉｃｏｄｅ! 🅤🅝🅘🅒🅞🅓🅔‽ 🇺‌🇳‌🇮‌🇨‌🇴‌🇩‌🇪! 😄 The very name strikes fear and awe into the hearts of programmers worldwide. We all know we ought to “support Unicode” in our software (whatever that means—like using wchar_t for all the strings, right?). But Unicode can be abstruse, and diving into the thousand-page Unicode Standard plus its dozens of supplementary annexes, reports, and notes can be more than a little intimidating. I don't blame programmers for still finding the whole thing mysterious, even 30 years after Unicode’s inception.\"\n",
        "tokens = text.encode('utf-8')\n",
        "tokens = list(map(int, tokens))\n",
        "print(tokens)"
      ],
      "metadata": {
        "colab": {
          "base_uri": "https://localhost:8080/"
        },
        "id": "Sy922qb6Lfm2",
        "outputId": "3481af75-5f44-48fa-fa4d-f40baad43629"
      },
      "execution_count": null,
      "outputs": [
        {
          "output_type": "stream",
          "name": "stdout",
          "text": [
            "[239, 188, 181, 239, 189, 142, 239, 189, 137, 239, 189, 131, 239, 189, 143, 239, 189, 132, 239, 189, 133, 33, 32, 240, 159, 133, 164, 240, 159, 133, 157, 240, 159, 133, 152, 240, 159, 133, 146, 240, 159, 133, 158, 240, 159, 133, 147, 240, 159, 133, 148, 226, 128, 189, 32, 240, 159, 135, 186, 226, 128, 140, 240, 159, 135, 179, 226, 128, 140, 240, 159, 135, 174, 226, 128, 140, 240, 159, 135, 168, 226, 128, 140, 240, 159, 135, 180, 226, 128, 140, 240, 159, 135, 169, 226, 128, 140, 240, 159, 135, 170, 33, 32, 240, 159, 152, 132, 32, 84, 104, 101, 32, 118, 101, 114, 121, 32, 110, 97, 109, 101, 32, 115, 116, 114, 105, 107, 101, 115, 32, 102, 101, 97, 114, 32, 97, 110, 100, 32, 97, 119, 101, 32, 105, 110, 116, 111, 32, 116, 104, 101, 32, 104, 101, 97, 114, 116, 115, 32, 111, 102, 32, 112, 114, 111, 103, 114, 97, 109, 109, 101, 114, 115, 32, 119, 111, 114, 108, 100, 119, 105, 100, 101, 46, 32, 87, 101, 32, 97, 108, 108, 32, 107, 110, 111, 119, 32, 119, 101, 32, 111, 117, 103, 104, 116, 32, 116, 111, 32, 226, 128, 156, 115, 117, 112, 112, 111, 114, 116, 32, 85, 110, 105, 99, 111, 100, 101, 226, 128, 157, 32, 105, 110, 32, 111, 117, 114, 32, 115, 111, 102, 116, 119, 97, 114, 101, 32, 40, 119, 104, 97, 116, 101, 118, 101, 114, 32, 116, 104, 97, 116, 32, 109, 101, 97, 110, 115, 226, 128, 148, 108, 105, 107, 101, 32, 117, 115, 105, 110, 103, 32, 119, 99, 104, 97, 114, 95, 116, 32, 102, 111, 114, 32, 97, 108, 108, 32, 116, 104, 101, 32, 115, 116, 114, 105, 110, 103, 115, 44, 32, 114, 105, 103, 104, 116, 63, 41, 46, 32, 66, 117, 116, 32, 85, 110, 105, 99, 111, 100, 101, 32, 99, 97, 110, 32, 98, 101, 32, 97, 98, 115, 116, 114, 117, 115, 101, 44, 32, 97, 110, 100, 32, 100, 105, 118, 105, 110, 103, 32, 105, 110, 116, 111, 32, 116, 104, 101, 32, 116, 104, 111, 117, 115, 97, 110, 100, 45, 112, 97, 103, 101, 32, 85, 110, 105, 99, 111, 100, 101, 32, 83, 116, 97, 110, 100, 97, 114, 100, 32, 112, 108, 117, 115, 32, 105, 116, 115, 32, 100, 111, 122, 101, 110, 115, 32, 111, 102, 32, 115, 117, 112, 112, 108, 101, 109, 101, 110, 116, 97, 114, 121, 32, 97, 110, 110, 101, 120, 101, 115, 44, 32, 114, 101, 112, 111, 114, 116, 115, 44, 32, 97, 110, 100, 32, 110, 111, 116, 101, 115, 32, 99, 97, 110, 32, 98, 101, 32, 109, 111, 114, 101, 32, 116, 104, 97, 110, 32, 97, 32, 108, 105, 116, 116, 108, 101, 32, 105, 110, 116, 105, 109, 105, 100, 97, 116, 105, 110, 103, 46, 32, 73, 32, 100, 111, 110, 39, 116, 32, 98, 108, 97, 109, 101, 32, 112, 114, 111, 103, 114, 97, 109, 109, 101, 114, 115, 32, 102, 111, 114, 32, 115, 116, 105, 108, 108, 32, 102, 105, 110, 100, 105, 110, 103, 32, 116, 104, 101, 32, 119, 104, 111, 108, 101, 32, 116, 104, 105, 110, 103, 32, 109, 121, 115, 116, 101, 114, 105, 111, 117, 115, 44, 32, 101, 118, 101, 110, 32, 51, 48, 32, 121, 101, 97, 114, 115, 32, 97, 102, 116, 101, 114, 32, 85, 110, 105, 99, 111, 100, 101, 226, 128, 153, 115, 32, 105, 110, 99, 101, 112, 116, 105, 111, 110, 46]\n"
          ]
        }
      ]
    },
    {
      "cell_type": "code",
      "source": [
        "len(tokens), len(text)"
      ],
      "metadata": {
        "colab": {
          "base_uri": "https://localhost:8080/"
        },
        "id": "jnzy71NmMLi6",
        "outputId": "8a7edd43-1409-43c1-a9e0-5f2d87a52164"
      },
      "execution_count": null,
      "outputs": [
        {
          "output_type": "execute_result",
          "data": {
            "text/plain": [
              "(614, 533)"
            ]
          },
          "metadata": {},
          "execution_count": 8
        }
      ]
    },
    {
      "cell_type": "code",
      "source": [
        "text = \"Ｕｎｉｃｏｄｅ! 🅤🅝🅘🅒🅞🅓🅔‽ 🇺‌🇳‌🇮‌🇨‌🇴‌🇩‌🇪! 😄 The very name strikes fear and awe into the hearts of programmers worldwide. We all know we ought to “support Unicode” in our software (whatever that means—like using wchar_t for all the strings, right?). But Unicode can be abstruse, and diving into the thousand-page Unicode Standard plus its dozens of supplementary annexes, reports, and notes can be more than a little intimidating. I don’t blame programmers for still finding the whole thing mysterious, even 30 years after Unicode’s inception.\"\n",
        "tokens = text.encode(\"utf-8\")\n",
        "tokens = list(map(int, tokens))\n",
        "print(text)"
      ],
      "metadata": {
        "colab": {
          "base_uri": "https://localhost:8080/"
        },
        "id": "xsjOqhTdM7JW",
        "outputId": "41e6c35f-2e79-47f8-98f6-440b1fa2a10e"
      },
      "execution_count": null,
      "outputs": [
        {
          "output_type": "stream",
          "name": "stdout",
          "text": [
            "Ｕｎｉｃｏｄｅ! 🅤🅝🅘🅒🅞🅓🅔‽ 🇺‌🇳‌🇮‌🇨‌🇴‌🇩‌🇪! 😄 The very name strikes fear and awe into the hearts of programmers worldwide. We all know we ought to “support Unicode” in our software (whatever that means—like using wchar_t for all the strings, right?). But Unicode can be abstruse, and diving into the thousand-page Unicode Standard plus its dozens of supplementary annexes, reports, and notes can be more than a little intimidating. I don’t blame programmers for still finding the whole thing mysterious, even 30 years after Unicode’s inception.\n"
          ]
        }
      ]
    },
    {
      "cell_type": "code",
      "source": [
        "print(tokens)"
      ],
      "metadata": {
        "colab": {
          "base_uri": "https://localhost:8080/"
        },
        "id": "Ay5bsUOuNitu",
        "outputId": "f245cd7a-3026-424d-8f9f-84569e0405aa"
      },
      "execution_count": null,
      "outputs": [
        {
          "output_type": "stream",
          "name": "stdout",
          "text": [
            "[239, 188, 181, 239, 189, 142, 239, 189, 137, 239, 189, 131, 239, 189, 143, 239, 189, 132, 239, 189, 133, 33, 32, 240, 159, 133, 164, 240, 159, 133, 157, 240, 159, 133, 152, 240, 159, 133, 146, 240, 159, 133, 158, 240, 159, 133, 147, 240, 159, 133, 148, 226, 128, 189, 32, 240, 159, 135, 186, 226, 128, 140, 240, 159, 135, 179, 226, 128, 140, 240, 159, 135, 174, 226, 128, 140, 240, 159, 135, 168, 226, 128, 140, 240, 159, 135, 180, 226, 128, 140, 240, 159, 135, 169, 226, 128, 140, 240, 159, 135, 170, 33, 32, 240, 159, 152, 132, 32, 84, 104, 101, 32, 118, 101, 114, 121, 32, 110, 97, 109, 101, 32, 115, 116, 114, 105, 107, 101, 115, 32, 102, 101, 97, 114, 32, 97, 110, 100, 32, 97, 119, 101, 32, 105, 110, 116, 111, 32, 116, 104, 101, 32, 104, 101, 97, 114, 116, 115, 32, 111, 102, 32, 112, 114, 111, 103, 114, 97, 109, 109, 101, 114, 115, 32, 119, 111, 114, 108, 100, 119, 105, 100, 101, 46, 32, 87, 101, 32, 97, 108, 108, 32, 107, 110, 111, 119, 32, 119, 101, 32, 111, 117, 103, 104, 116, 32, 116, 111, 32, 226, 128, 156, 115, 117, 112, 112, 111, 114, 116, 32, 85, 110, 105, 99, 111, 100, 101, 226, 128, 157, 32, 105, 110, 32, 111, 117, 114, 32, 115, 111, 102, 116, 119, 97, 114, 101, 32, 40, 119, 104, 97, 116, 101, 118, 101, 114, 32, 116, 104, 97, 116, 32, 109, 101, 97, 110, 115, 226, 128, 148, 108, 105, 107, 101, 32, 117, 115, 105, 110, 103, 32, 119, 99, 104, 97, 114, 95, 116, 32, 102, 111, 114, 32, 97, 108, 108, 32, 116, 104, 101, 32, 115, 116, 114, 105, 110, 103, 115, 44, 32, 114, 105, 103, 104, 116, 63, 41, 46, 32, 66, 117, 116, 32, 85, 110, 105, 99, 111, 100, 101, 32, 99, 97, 110, 32, 98, 101, 32, 97, 98, 115, 116, 114, 117, 115, 101, 44, 32, 97, 110, 100, 32, 100, 105, 118, 105, 110, 103, 32, 105, 110, 116, 111, 32, 116, 104, 101, 32, 116, 104, 111, 117, 115, 97, 110, 100, 45, 112, 97, 103, 101, 32, 85, 110, 105, 99, 111, 100, 101, 32, 83, 116, 97, 110, 100, 97, 114, 100, 32, 112, 108, 117, 115, 32, 105, 116, 115, 32, 100, 111, 122, 101, 110, 115, 32, 111, 102, 32, 115, 117, 112, 112, 108, 101, 109, 101, 110, 116, 97, 114, 121, 32, 97, 110, 110, 101, 120, 101, 115, 44, 32, 114, 101, 112, 111, 114, 116, 115, 44, 32, 97, 110, 100, 32, 110, 111, 116, 101, 115, 32, 99, 97, 110, 32, 98, 101, 32, 109, 111, 114, 101, 32, 116, 104, 97, 110, 32, 97, 32, 108, 105, 116, 116, 108, 101, 32, 105, 110, 116, 105, 109, 105, 100, 97, 116, 105, 110, 103, 46, 32, 73, 32, 100, 111, 110, 226, 128, 153, 116, 32, 98, 108, 97, 109, 101, 32, 112, 114, 111, 103, 114, 97, 109, 109, 101, 114, 115, 32, 102, 111, 114, 32, 115, 116, 105, 108, 108, 32, 102, 105, 110, 100, 105, 110, 103, 32, 116, 104, 101, 32, 119, 104, 111, 108, 101, 32, 116, 104, 105, 110, 103, 32, 109, 121, 115, 116, 101, 114, 105, 111, 117, 115, 44, 32, 101, 118, 101, 110, 32, 51, 48, 32, 121, 101, 97, 114, 115, 32, 97, 102, 116, 101, 114, 32, 85, 110, 105, 99, 111, 100, 101, 226, 128, 153, 115, 32, 105, 110, 99, 101, 112, 116, 105, 111, 110, 46]\n"
          ]
        }
      ]
    },
    {
      "cell_type": "code",
      "source": [
        "print(\"Text Length:\",len(text))"
      ],
      "metadata": {
        "colab": {
          "base_uri": "https://localhost:8080/"
        },
        "id": "sr_WCp7XNeP1",
        "outputId": "6c6e8151-ced3-4bc9-e730-af68c36fec4f"
      },
      "execution_count": null,
      "outputs": [
        {
          "output_type": "stream",
          "name": "stdout",
          "text": [
            "Text Length: 533\n"
          ]
        }
      ]
    },
    {
      "cell_type": "code",
      "source": [
        "print(\"Tokens Length:\", len(tokens))"
      ],
      "metadata": {
        "colab": {
          "base_uri": "https://localhost:8080/"
        },
        "id": "OeXQmUiLNm97",
        "outputId": "37ecee1a-9bb2-4768-c638-b86386a12ce0"
      },
      "execution_count": null,
      "outputs": [
        {
          "output_type": "stream",
          "name": "stdout",
          "text": [
            "Tokens Length: 616\n"
          ]
        }
      ]
    },
    {
      "cell_type": "code",
      "source": [
        "def get_stats(ids):\n",
        "\n",
        "  counts = {}\n",
        "  for pair in zip(ids, ids[1:]):\n",
        "    counts[pair] = counts.get(pair, 0) + 1\n",
        "  return counts\n",
        "\n",
        "stats = get_stats(tokens)\n",
        "print(sorted(((v, k) for k, v in stats.items()), reverse = True))\n",
        "\n"
      ],
      "metadata": {
        "id": "vmENqNzAN5qr",
        "colab": {
          "base_uri": "https://localhost:8080/"
        },
        "outputId": "9f6b2019-b71a-45f6-e5cf-a84881880664"
      },
      "execution_count": null,
      "outputs": [
        {
          "output_type": "stream",
          "name": "stdout",
          "text": [
            "[(20, (101, 32)), (15, (240, 159)), (12, (226, 128)), (12, (105, 110)), (10, (115, 32)), (10, (97, 110)), (10, (32, 97)), (9, (32, 116)), (8, (116, 104)), (7, (159, 135)), (7, (159, 133)), (7, (97, 114)), (6, (239, 189)), (6, (140, 240)), (6, (128, 140)), (6, (116, 32)), (6, (114, 32)), (6, (111, 114)), (6, (110, 103)), (6, (110, 100)), (6, (109, 101)), (6, (104, 101)), (6, (101, 114)), (6, (32, 105)), (5, (117, 115)), (5, (115, 116)), (5, (110, 32)), (5, (100, 101)), (5, (44, 32)), (5, (32, 115)), (4, (116, 105)), (4, (116, 101)), (4, (115, 44)), (4, (114, 105)), (4, (111, 117)), (4, (111, 100)), (4, (110, 116)), (4, (110, 105)), (4, (105, 99)), (4, (104, 97)), (4, (103, 32)), (4, (101, 97)), (4, (100, 32)), (4, (99, 111)), (4, (97, 109)), (4, (85, 110)), (4, (32, 119)), (4, (32, 111)), (4, (32, 102)), (4, (32, 85)), (3, (118, 101)), (3, (116, 115)), (3, (116, 114)), (3, (116, 111)), (3, (114, 116)), (3, (114, 115)), (3, (114, 101)), (3, (111, 102)), (3, (111, 32)), (3, (108, 108)), (3, (108, 101)), (3, (108, 32)), (3, (101, 115)), (3, (101, 110)), (3, (97, 116)), (3, (46, 32)), (3, (32, 240)), (3, (32, 112)), (3, (32, 109)), (3, (32, 100)), (3, (32, 98)), (2, (128, 153)), (2, (121, 32)), (2, (119, 104)), (2, (119, 101)), (2, (117, 112)), (2, (116, 97)), (2, (115, 117)), (2, (114, 121)), (2, (114, 111)), (2, (114, 97)), (2, (112, 114)), (2, (112, 112)), (2, (112, 111)), (2, (112, 108)), (2, (111, 110)), (2, (111, 103)), (2, (110, 115)), (2, (110, 111)), (2, (109, 109)), (2, (108, 105)), (2, (107, 101)), (2, (105, 116)), (2, (105, 111)), (2, (105, 107)), (2, (105, 100)), (2, (104, 116)), (2, (104, 111)), (2, (103, 114)), (2, (103, 104)), (2, (102, 116)), (2, (102, 111)), (2, (102, 32)), (2, (101, 226)), (2, (101, 118)), (2, (101, 112)), (2, (100, 111)), (2, (100, 105)), (2, (100, 97)), (2, (99, 97)), (2, (98, 101)), (2, (97, 108)), (2, (33, 32)), (2, (32, 114)), (2, (32, 110)), (2, (32, 99)), (1, (239, 188)), (1, (189, 143)), (1, (189, 142)), (1, (189, 137)), (1, (189, 133)), (1, (189, 132)), (1, (189, 131)), (1, (189, 32)), (1, (188, 181)), (1, (186, 226)), (1, (181, 239)), (1, (180, 226)), (1, (179, 226)), (1, (174, 226)), (1, (170, 33)), (1, (169, 226)), (1, (168, 226)), (1, (164, 240)), (1, (159, 152)), (1, (158, 240)), (1, (157, 240)), (1, (157, 32)), (1, (156, 115)), (1, (153, 116)), (1, (153, 115)), (1, (152, 240)), (1, (152, 132)), (1, (148, 226)), (1, (148, 108)), (1, (147, 240)), (1, (146, 240)), (1, (143, 239)), (1, (142, 239)), (1, (137, 239)), (1, (135, 186)), (1, (135, 180)), (1, (135, 179)), (1, (135, 174)), (1, (135, 170)), (1, (135, 169)), (1, (135, 168)), (1, (133, 164)), (1, (133, 158)), (1, (133, 157)), (1, (133, 152)), (1, (133, 148)), (1, (133, 147)), (1, (133, 146)), (1, (133, 33)), (1, (132, 239)), (1, (132, 32)), (1, (131, 239)), (1, (128, 189)), (1, (128, 157)), (1, (128, 156)), (1, (128, 148)), (1, (122, 101)), (1, (121, 115)), (1, (121, 101)), (1, (120, 101)), (1, (119, 111)), (1, (119, 105)), (1, (119, 99)), (1, (119, 97)), (1, (119, 32)), (1, (118, 105)), (1, (117, 116)), (1, (117, 114)), (1, (117, 103)), (1, (116, 119)), (1, (116, 116)), (1, (116, 108)), (1, (116, 63)), (1, (115, 226)), (1, (115, 111)), (1, (115, 105)), (1, (115, 101)), (1, (115, 97)), (1, (114, 117)), (1, (114, 108)), (1, (114, 100)), (1, (114, 95)), (1, (112, 116)), (1, (112, 97)), (1, (111, 122)), (1, (111, 119)), (1, (111, 116)), (1, (111, 108)), (1, (110, 226)), (1, (110, 110)), (1, (110, 101)), (1, (110, 99)), (1, (110, 97)), (1, (110, 46)), (1, (109, 121)), (1, (109, 111)), (1, (109, 105)), (1, (108, 117)), (1, (108, 100)), (1, (108, 97)), (1, (107, 110)), (1, (105, 118)), (1, (105, 109)), (1, (105, 108)), (1, (105, 103)), (1, (104, 105)), (1, (103, 115)), (1, (103, 101)), (1, (103, 46)), (1, (102, 105)), (1, (102, 101)), (1, (101, 120)), (1, (101, 109)), (1, (101, 46)), (1, (101, 44)), (1, (100, 119)), (1, (100, 45)), (1, (99, 104)), (1, (99, 101)), (1, (98, 115)), (1, (98, 108)), (1, (97, 119)), (1, (97, 103)), (1, (97, 102)), (1, (97, 98)), (1, (97, 32)), (1, (95, 116)), (1, (87, 101)), (1, (84, 104)), (1, (83, 116)), (1, (73, 32)), (1, (66, 117)), (1, (63, 41)), (1, (51, 48)), (1, (48, 32)), (1, (45, 112)), (1, (41, 46)), (1, (40, 119)), (1, (32, 226)), (1, (32, 121)), (1, (32, 118)), (1, (32, 117)), (1, (32, 108)), (1, (32, 107)), (1, (32, 104)), (1, (32, 101)), (1, (32, 87)), (1, (32, 84)), (1, (32, 83)), (1, (32, 73)), (1, (32, 66)), (1, (32, 51)), (1, (32, 40))]\n"
          ]
        }
      ]
    },
    {
      "cell_type": "code",
      "source": [
        "chr(101), chr(32)"
      ],
      "metadata": {
        "colab": {
          "base_uri": "https://localhost:8080/"
        },
        "id": "vB151yNEBYdk",
        "outputId": "393cb06d-7941-4c3e-cf53-ba8106af8962"
      },
      "execution_count": null,
      "outputs": [
        {
          "output_type": "execute_result",
          "data": {
            "text/plain": [
              "('e', ' ')"
            ]
          },
          "metadata": {},
          "execution_count": 19
        }
      ]
    },
    {
      "cell_type": "code",
      "source": [
        "top_pair = max(stats, key = stats.get)\n",
        "print(top_pair)"
      ],
      "metadata": {
        "colab": {
          "base_uri": "https://localhost:8080/"
        },
        "id": "1lCUkpmPCVXE",
        "outputId": "a02754ca-42ad-496c-9e37-d2de0094ee7f"
      },
      "execution_count": null,
      "outputs": [
        {
          "output_type": "stream",
          "name": "stdout",
          "text": [
            "(101, 32)\n"
          ]
        }
      ]
    },
    {
      "cell_type": "code",
      "source": [
        "def merge(ids, pair, idx):\n",
        "\n",
        "  newids = []\n",
        "  i = 0\n",
        "  while i < len(ids):\n",
        "\n",
        "    if i < len(ids) - 1 and ids[i] == pair[0] and ids[i+1] == pair[1]:\n",
        "      newids.append(idx)\n",
        "      i+=2\n",
        "    else:\n",
        "      newids.append(ids[i])\n",
        "      i+=1\n",
        "  return newids\n",
        "\n",
        "token2 = merge(tokens, top_pair, 256)\n",
        "print(token2)"
      ],
      "metadata": {
        "colab": {
          "base_uri": "https://localhost:8080/"
        },
        "id": "x00x_Sk6Cgw4",
        "outputId": "ff669dbf-a3ae-43ac-ef59-e654f8e44032"
      },
      "execution_count": null,
      "outputs": [
        {
          "output_type": "stream",
          "name": "stdout",
          "text": [
            "[239, 188, 181, 239, 189, 142, 239, 189, 137, 239, 189, 131, 239, 189, 143, 239, 189, 132, 239, 189, 133, 33, 32, 240, 159, 133, 164, 240, 159, 133, 157, 240, 159, 133, 152, 240, 159, 133, 146, 240, 159, 133, 158, 240, 159, 133, 147, 240, 159, 133, 148, 226, 128, 189, 32, 240, 159, 135, 186, 226, 128, 140, 240, 159, 135, 179, 226, 128, 140, 240, 159, 135, 174, 226, 128, 140, 240, 159, 135, 168, 226, 128, 140, 240, 159, 135, 180, 226, 128, 140, 240, 159, 135, 169, 226, 128, 140, 240, 159, 135, 170, 33, 32, 240, 159, 152, 132, 32, 84, 104, 256, 118, 101, 114, 121, 32, 110, 97, 109, 256, 115, 116, 114, 105, 107, 101, 115, 32, 102, 101, 97, 114, 32, 97, 110, 100, 32, 97, 119, 256, 105, 110, 116, 111, 32, 116, 104, 256, 104, 101, 97, 114, 116, 115, 32, 111, 102, 32, 112, 114, 111, 103, 114, 97, 109, 109, 101, 114, 115, 32, 119, 111, 114, 108, 100, 119, 105, 100, 101, 46, 32, 87, 256, 97, 108, 108, 32, 107, 110, 111, 119, 32, 119, 256, 111, 117, 103, 104, 116, 32, 116, 111, 32, 226, 128, 156, 115, 117, 112, 112, 111, 114, 116, 32, 85, 110, 105, 99, 111, 100, 101, 226, 128, 157, 32, 105, 110, 32, 111, 117, 114, 32, 115, 111, 102, 116, 119, 97, 114, 256, 40, 119, 104, 97, 116, 101, 118, 101, 114, 32, 116, 104, 97, 116, 32, 109, 101, 97, 110, 115, 226, 128, 148, 108, 105, 107, 256, 117, 115, 105, 110, 103, 32, 119, 99, 104, 97, 114, 95, 116, 32, 102, 111, 114, 32, 97, 108, 108, 32, 116, 104, 256, 115, 116, 114, 105, 110, 103, 115, 44, 32, 114, 105, 103, 104, 116, 63, 41, 46, 32, 66, 117, 116, 32, 85, 110, 105, 99, 111, 100, 256, 99, 97, 110, 32, 98, 256, 97, 98, 115, 116, 114, 117, 115, 101, 44, 32, 97, 110, 100, 32, 100, 105, 118, 105, 110, 103, 32, 105, 110, 116, 111, 32, 116, 104, 256, 116, 104, 111, 117, 115, 97, 110, 100, 45, 112, 97, 103, 256, 85, 110, 105, 99, 111, 100, 256, 83, 116, 97, 110, 100, 97, 114, 100, 32, 112, 108, 117, 115, 32, 105, 116, 115, 32, 100, 111, 122, 101, 110, 115, 32, 111, 102, 32, 115, 117, 112, 112, 108, 101, 109, 101, 110, 116, 97, 114, 121, 32, 97, 110, 110, 101, 120, 101, 115, 44, 32, 114, 101, 112, 111, 114, 116, 115, 44, 32, 97, 110, 100, 32, 110, 111, 116, 101, 115, 32, 99, 97, 110, 32, 98, 256, 109, 111, 114, 256, 116, 104, 97, 110, 32, 97, 32, 108, 105, 116, 116, 108, 256, 105, 110, 116, 105, 109, 105, 100, 97, 116, 105, 110, 103, 46, 32, 73, 32, 100, 111, 110, 226, 128, 153, 116, 32, 98, 108, 97, 109, 256, 112, 114, 111, 103, 114, 97, 109, 109, 101, 114, 115, 32, 102, 111, 114, 32, 115, 116, 105, 108, 108, 32, 102, 105, 110, 100, 105, 110, 103, 32, 116, 104, 256, 119, 104, 111, 108, 256, 116, 104, 105, 110, 103, 32, 109, 121, 115, 116, 101, 114, 105, 111, 117, 115, 44, 32, 101, 118, 101, 110, 32, 51, 48, 32, 121, 101, 97, 114, 115, 32, 97, 102, 116, 101, 114, 32, 85, 110, 105, 99, 111, 100, 101, 226, 128, 153, 115, 32, 105, 110, 99, 101, 112, 116, 105, 111, 110, 46]\n"
          ]
        }
      ]
    },
    {
      "cell_type": "code",
      "source": [
        "len(token2)"
      ],
      "metadata": {
        "colab": {
          "base_uri": "https://localhost:8080/"
        },
        "id": "yE0U_wMcFaxe",
        "outputId": "ed2c3f65-2bc2-4227-b26c-a414e005600b"
      },
      "execution_count": null,
      "outputs": [
        {
          "output_type": "execute_result",
          "data": {
            "text/plain": [
              "596"
            ]
          },
          "metadata": {},
          "execution_count": 39
        }
      ]
    },
    {
      "cell_type": "code",
      "source": [
        "def get_stats(ids):\n",
        "\n",
        "  counts = {}\n",
        "  for pair in zip(ids, ids[1:]):\n",
        "    counts[pair] = counts.get(pair, 0) + 1\n",
        "  return counts\n",
        "\n",
        "def merge(ids, pair, idx):\n",
        "\n",
        "  newids = []\n",
        "  i = 0\n",
        "  while i < len(ids):\n",
        "\n",
        "    if i < len(ids) - 1 and ids[i] == pair[0] and ids[i+1] == pair[1]:\n",
        "      newids.append(idx)\n",
        "      i+=2\n",
        "    else:\n",
        "      newids.append(ids[i])\n",
        "      i+=1\n",
        "  return newids\n",
        "\n",
        "vocab_size = 276\n",
        "num_merges = vocab_size - 256\n",
        "ids = list(tokens)\n",
        "\n",
        "merges = {}\n",
        "for i in range(num_merges):\n",
        "  stats = get_stats(ids)\n",
        "  pair = max(stats, key = stats.get)\n",
        "  idx = 256 + i\n",
        "  merges[pair] = idx\n",
        "  print(\"Id\",i+1,\"merging {}\".format(pair) ,\"into new token {}\".format(idx) )\n",
        "  ids = merge(ids, pair, idx)\n"
      ],
      "metadata": {
        "colab": {
          "base_uri": "https://localhost:8080/"
        },
        "id": "jpxPq3sEFdl7",
        "outputId": "f38221e5-783c-40a5-a81c-609c33f3213b"
      },
      "execution_count": null,
      "outputs": [
        {
          "output_type": "stream",
          "name": "stdout",
          "text": [
            "Id 1 merging (101, 32) into new token 256\n",
            "Id 2 merging (240, 159) into new token 257\n",
            "Id 3 merging (226, 128) into new token 258\n",
            "Id 4 merging (105, 110) into new token 259\n",
            "Id 5 merging (115, 32) into new token 260\n",
            "Id 6 merging (97, 110) into new token 261\n",
            "Id 7 merging (116, 104) into new token 262\n",
            "Id 8 merging (257, 133) into new token 263\n",
            "Id 9 merging (257, 135) into new token 264\n",
            "Id 10 merging (97, 114) into new token 265\n",
            "Id 11 merging (239, 189) into new token 266\n",
            "Id 12 merging (258, 140) into new token 267\n",
            "Id 13 merging (267, 264) into new token 268\n",
            "Id 14 merging (101, 114) into new token 269\n",
            "Id 15 merging (111, 114) into new token 270\n",
            "Id 16 merging (116, 32) into new token 271\n",
            "Id 17 merging (259, 103) into new token 272\n",
            "Id 18 merging (115, 116) into new token 273\n",
            "Id 19 merging (261, 100) into new token 274\n",
            "Id 20 merging (32, 262) into new token 275\n"
          ]
        }
      ]
    },
    {
      "cell_type": "code",
      "source": [
        "len(tokens), len(ids)"
      ],
      "metadata": {
        "colab": {
          "base_uri": "https://localhost:8080/"
        },
        "id": "LNdJ5h0HLuwo",
        "outputId": "25fc9799-6648-4437-a05d-04c131bd7994"
      },
      "execution_count": null,
      "outputs": [
        {
          "output_type": "execute_result",
          "data": {
            "text/plain": [
              "(616, 451, 20)"
            ]
          },
          "metadata": {},
          "execution_count": 53
        }
      ]
    },
    {
      "cell_type": "code",
      "source": [
        "text = \"\"\"A Programmer’s Introduction to Unicode\n",
        "March 3, 2017 · Coding · 25 Comments\n",
        "\n",
        "Ｕｎｉｃｏｄｅ! 🅤🅝🅘🅒🅞🅓🅔‽ 🇺‌🇳‌🇮‌🇨‌🇴‌🇩‌🇪! 😄 The very name strikes fear and awe into the hearts of programmers worldwide. We all know we ought to “support Unicode” in our software (whatever that means—like using wchar_t for all the strings, right?). But Unicode can be abstruse, and diving into the thousand-page Unicode Standard plus its dozens of supplementary annexes, reports, and notes can be more than a little intimidating. I don’t blame programmers for still finding the whole thing mysterious, even 30 years after Unicode’s inception.\n",
        "\n",
        "A few months ago, I got interested in Unicode and decided to spend some time learning more about it in detail. In this article, I’ll give an introduction to it from a programmer’s point of view.\n",
        "\n",
        "I’m going to focus on the character set and what’s involved in working with strings and files of Unicode text. However, in this article I’m not going to talk about fonts, text layout/shaping/rendering, or localization in detail—those are separate issues, beyond my scope (and knowledge) here.\n",
        "\n",
        "Diversity and Inherent Complexity\n",
        "The Unicode Codespace\n",
        "Codespace Allocation\n",
        "Scripts\n",
        "Usage Frequency\n",
        "Encodings\n",
        "UTF-8\n",
        "UTF-16\n",
        "Combining Marks\n",
        "Canonical Equivalence\n",
        "Normalization Forms\n",
        "Grapheme Clusters\n",
        "And More…\n",
        "Diversity and Inherent Complexity\n",
        "As soon as you start to study Unicode, it becomes clear that it represents a large jump in complexity over character sets like ASCII that you may be more familiar with. It’s not just that Unicode contains a much larger number of characters, although that’s part of it. Unicode also has a great deal of internal structure, features, and special cases, making it much more than what one might expect a mere “character set” to be. We’ll see some of that later in this article.\n",
        "\n",
        "When confronting all this complexity, especially as an engineer, it’s hard not to find oneself asking, “Why do we need all this? Is this really necessary? Couldn’t it be simplified?”\n",
        "\n",
        "However, Unicode aims to faithfully represent the entire world’s writing systems. The Unicode Consortium’s stated goal is “enabling people around the world to use computers in any language”. And as you might imagine, the diversity of written languages is immense! To date, Unicode supports 135 different scripts, covering some 1100 languages, and there’s still a long tail of over 100 unsupported scripts, both modern and historical, which people are still working to add.\n",
        "\n",
        "Given this enormous diversity, it’s inevitable that representing it is a complicated project. Unicode embraces that diversity, and accepts the complexity inherent in its mission to include all human writing systems. It doesn’t make a lot of trade-offs in the name of simplification, and it makes exceptions to its own rules where necessary to further its mission.\n",
        "\n",
        "Moreover, Unicode is committed not just to supporting texts in any single language, but also to letting multiple languages coexist within one text—which introduces even more complexity.\n",
        "\n",
        "Most programming languages have libraries available to handle the gory low-level details of text manipulation, but as a programmer, you’ll still need to know about certain Unicode features in order to know when and how to apply them. It may take some time to wrap your head around it all, but don’t be discouraged—think about the billions of people for whom your software will be more accessible through supporting text in their language. Embrace the complexity!\n",
        "\n",
        "The Unicode Codespace\n",
        "Let’s start with some general orientation. The basic elements of Unicode—its “characters”, although that term isn’t quite right—are called code points. Code points are identified by number, customarily written in hexadecimal with the prefix “U+”, such as U+0041 “A” latin capital letter a or U+03B8 “θ” greek small letter theta. Each code point also has a short name, and quite a few other properties, specified in the Unicode Character Database.\n",
        "\n",
        "The set of all possible code points is called the codespace. The Unicode codespace consists of 1,114,112 code points. However, only 128,237 of them—about 12% of the codespace—are actually assigned, to date. There’s plenty of room for growth! Unicode also reserves an additional 137,468 code points as “private use” areas, which have no standardized meaning and are available for individual applications to define for their own purposes.\n",
        "\n",
        "Codespace Allocation\n",
        "To get a feel for how the codespace is laid out, it’s helpful to visualize it. Below is a map of the entire codespace, with one pixel per code point. It’s arranged in tiles for visual coherence; each small square is 16×16 = 256 code points, and each large square is a “plane” of 65,536 code points. There are 17 planes altogether.\n",
        "\n",
        "Map of the Unicode codespace (click to zoom)\n",
        "\n",
        "White represents unassigned space. Blue is assigned code points, green is private-use areas, and the small red area is surrogates (more about those later). As you can see, the assigned code points are distributed somewhat sparsely, but concentrated in the first three planes.\n",
        "\n",
        "Plane 0 is also known as the “Basic Multilingual Plane”, or BMP. The BMP contains essentially all the characters needed for modern text in any script, including Latin, Cyrillic, Greek, Han (Chinese), Japanese, Korean, Arabic, Hebrew, Devanagari (Indian), and many more.\n",
        "\n",
        "(In the past, the codespace was just the BMP and no more—Unicode was originally conceived as a straightforward 16-bit encoding, with only 65,536 code points. It was expanded to its current size in 1996. However, the vast majority of code points in modern text belong to the BMP.)\n",
        "\n",
        "Plane 1 contains historical scripts, such as Sumerian cuneiform and Egyptian hieroglyphs, as well as emoji and various other symbols. Plane 2 contains a large block of less-common and historical Han characters. The remaining planes are empty, except for a small number of rarely-used formatting characters in Plane 14; planes 15–16 are reserved entirely for private use.\n",
        "\n",
        "Scripts\n",
        "Let’s zoom in on the first three planes, since that’s where the action is:\n",
        "\n",
        "Map of scripts in Unicode planes 0–2 (click to zoom)\n",
        "\n",
        "This map color-codes the 135 different scripts in Unicode. You can see how Han () and Korean () take up most of the range of the BMP (the left large square). By contrast, all of the European, Middle Eastern, and South Asian scripts fit into the first row of the BMP in this diagram.\n",
        "\n",
        "Many areas of the codespace are adapted or copied from earlier encodings. For example, the first 128 code points of Unicode are just a copy of ASCII. This has clear benefits for compatibility—it’s easy to losslessly convert texts from smaller encodings into Unicode (and the other direction too, as long as no characters outside the smaller encoding are used).\n",
        "\n",
        "Usage Frequency\n",
        "One more interesting way to visualize the codespace is to look at the distribution of usage—in other words, how often each code point is actually used in real-world texts. Below is a heat map of planes 0–2 based on a large sample of text from Wikipedia and Twitter (all languages). Frequency increases from black (never seen) through red and yellow to white.\n",
        "\n",
        "Heat map of code point usage frequency in Unicode planes 0–2 (click to zoom)\n",
        "\n",
        "You can see that the vast majority of this text sample lies in the BMP, with only scattered usage of code points from planes 1–2. The biggest exception is emoji, which show up here as the several bright squares in the bottom row of plane 1.\n",
        "\n",
        "Encodings\n",
        "We’ve seen that Unicode code points are abstractly identified by their index in the codespace, ranging from U+0000 to U+10FFFF. But how do code points get represented as bytes, in memory or in a file?\n",
        "\n",
        "The most convenient, computer-friendliest (and programmer-friendliest) thing to do would be to just store the code point index as a 32-bit integer. This works, but it consumes 4 bytes per code point, which is sort of a lot. Using 32-bit ints for Unicode will cost you a bunch of extra storage, memory, and performance in bandwidth-bound scenarios, if you work with a lot of text.\n",
        "\n",
        "Consequently, there are several more-compact encodings for Unicode. The 32-bit integer encoding is officially called UTF-32 (UTF = “Unicode Transformation Format”), but it’s rarely used for storage. At most, it comes up sometimes as a temporary internal representation, for examining or operating on the code points in a string.\n",
        "\n",
        "Much more commonly, you’ll see Unicode text encoded as either UTF-8 or UTF-16. These are both variable-length encodings, made up of 8-bit or 16-bit units, respectively. In these schemes, code points with smaller index values take up fewer bytes, which saves a lot of memory for typical texts. The trade-off is that processing UTF-8/16 texts is more programmatically involved, and likely slower.\n",
        "\n",
        "UTF-8\n",
        "In UTF-8, each code point is stored using 1 to 4 bytes, based on its index value.\n",
        "\n",
        "UTF-8 uses a system of binary prefixes, in which the high bits of each byte mark whether it’s a single byte, the beginning of a multi-byte sequence, or a continuation byte; the remaining bits, concatenated, give the code point index. This table shows how it works:\n",
        "\n",
        "UTF-8 (binary)\tCode point (binary)\tRange\n",
        "0xxxxxxx\txxxxxxx\tU+0000–U+007F\n",
        "110xxxxx 10yyyyyy\txxxxxyyyyyy\tU+0080–U+07FF\n",
        "1110xxxx 10yyyyyy 10zzzzzz\txxxxyyyyyyzzzzzz\tU+0800–U+FFFF\n",
        "11110xxx 10yyyyyy 10zzzzzz 10wwwwww\txxxyyyyyyzzzzzzwwwwww\tU+10000–U+10FFFF\n",
        "A handy property of UTF-8 is that code points below 128 (ASCII characters) are encoded as single bytes, and all non-ASCII code points are encoded using sequences of bytes 128–255. This has a couple of nice consequences. First, any strings or files out there that are already in ASCII can also be interpreted as UTF-8 without any conversion. Second, lots of widely-used string programming idioms—such as null termination, or delimiters (newlines, tabs, commas, slashes, etc.)—will just work on UTF-8 strings. ASCII bytes never occur inside the encoding of non-ASCII code points, so searching byte-wise for a null terminator or a delimiter will do the right thing.\n",
        "\n",
        "Thanks to this convenience, it’s relatively simple to extend legacy ASCII programs and APIs to handle UTF-8 strings. UTF-8 is very widely used in the Unix/Linux and Web worlds, and many programmers argue UTF-8 should be the default encoding everywhere.\n",
        "\n",
        "However, UTF-8 isn’t a drop-in replacement for ASCII strings in all respects. For instance, code that iterates over the “characters” in a string will need to decode UTF-8 and iterate over code points (or maybe grapheme clusters—more about those later), not bytes. When you measure the “length” of a string, you’ll need to think about whether you want the length in bytes, the length in code points, the width of the text when rendered, or something else.\n",
        "\n",
        "UTF-16\n",
        "The other encoding that you’re likely to encounter is UTF-16. It uses 16-bit words, with each code point stored as either 1 or 2 words.\n",
        "\n",
        "Like UTF-8, we can express the UTF-16 encoding rules in the form of binary prefixes:\n",
        "\n",
        "UTF-16 (binary)\tCode point (binary)\tRange\n",
        "xxxxxxxxxxxxxxxx\txxxxxxxxxxxxxxxx\tU+0000–U+FFFF\n",
        "110110xxxxxxxxxx 110111yyyyyyyyyy\txxxxxxxxxxyyyyyyyyyy + 0x10000\tU+10000–U+10FFFF\n",
        "A more common way that people talk about UTF-16 encoding, though, is in terms of code points called “surrogates”. All the code points in the range U+D800–U+DFFF—or in other words, the code points that match the binary prefixes 110110 and 110111 in the table above—are reserved specifically for UTF-16 encoding, and don’t represent any valid characters on their own. They’re only meant to occur in the 2-word encoding pattern above, which is called a “surrogate pair”. Surrogate code points are illegal in any other context! They’re not allowed in UTF-8 or UTF-32 at all.\n",
        "\n",
        "Historically, UTF-16 is a descendant of the original, pre-1996 versions of Unicode, in which there were only 65,536 code points. The original intention was that there would be no different “encodings”; Unicode was supposed to be a straightforward 16-bit character set. Later, the codespace was expanded to make room for a long tail of less-common (but still important) Han characters, which the Unicode designers didn’t originally plan for. Surrogates were then introduced, as—to put it bluntly—a kludge, allowing 16-bit encodings to access the new code points.\n",
        "\n",
        "Today, Javascript uses UTF-16 as its standard string representation: if you ask for the length of a string, or iterate over it, etc., the result will be in UTF-16 words, with any code points outside the BMP expressed as surrogate pairs. UTF-16 is also used by the Microsoft Win32 APIs; though Win32 supports either 8-bit or 16-bit strings, the 8-bit version unaccountably still doesn’t support UTF-8—only legacy code-page encodings, like ANSI. This leaves UTF-16 as the only way to get proper Unicode support in Windows. (Update: in Win10 version 1903, they finally added UTF-8 support to the 8-bit APIs! 😊)\n",
        "\n",
        "By the way, UTF-16’s words can be stored either little-endian or big-endian. Unicode has no opinion on that issue, though it does encourage the convention of putting U+FEFF zero width no-break space at the top of a UTF-16 file as a byte-order mark, to disambiguate the endianness. (If the file doesn’t match the system’s endianness, the BOM will be decoded as U+FFFE, which isn’t a valid code point.)\n",
        "\n",
        "Combining Marks\n",
        "In the story so far, we’ve been focusing on code points. But in Unicode, a “character” can be more complicated than just an individual code point!\n",
        "\n",
        "Unicode includes a system for dynamically composing characters, by combining multiple code points together. This is used in various ways to gain flexibility without causing a huge combinatorial explosion in the number of code points.\n",
        "\n",
        "In European languages, for example, this shows up in the application of diacritics to letters. Unicode supports a wide range of diacritics, including acute and grave accents, umlauts, cedillas, and many more. All these diacritics can be applied to any letter of any alphabet—and in fact, multiple diacritics can be used on a single letter.\n",
        "\n",
        "If Unicode tried to assign a distinct code point to every possible combination of letter and diacritics, things would rapidly get out of hand. Instead, the dynamic composition system enables you to construct the character you want, by starting with a base code point (the letter) and appending additional code points, called “combining marks”, to specify the diacritics. When a text renderer sees a sequence like this in a string, it automatically stacks the diacritics over or under the base letter to create a composed character.\n",
        "\n",
        "For example, the accented character “Á” can be expressed as a string of two code points: U+0041 “A” latin capital letter a plus U+0301 “◌́” combining acute accent. This string automatically gets rendered as a single character: “Á”.\n",
        "\n",
        "Now, Unicode does also include many “precomposed” code points, each representing a letter with some combination of diacritics already applied, such as U+00C1 “Á” latin capital letter a with acute or U+1EC7 “ệ” latin small letter e with circumflex and dot below. I suspect these are mostly inherited from older encodings that were assimilated into Unicode, and kept around for compatibility. In practice, there are precomposed code points for most of the common letter-with-diacritic combinations in European-script languages, so they don’t use dynamic composition that much in typical text.\n",
        "\n",
        "Still, the system of combining marks does allow for an arbitrary number of diacritics to be stacked on any base character. The reductio-ad-absurdum of this is Zalgo text, which works by ͖͟ͅr͞aṋ̫̠̖͈̗d͖̻̹óm̪͙͕̗̝ļ͇̰͓̳̫ý͓̥̟͍ ̕s̫t̫̱͕̗̰̼̘͜a̼̩͖͇̠͈̣͝c̙͍k̖̱̹͍͘i̢n̨̺̝͇͇̟͙ģ̫̮͎̻̟ͅ ̕n̼̺͈͞u̮͙m̺̭̟̗͞e̞͓̰̤͓̫r̵o̖ṷs҉̪͍̭̬̝̤ ̮͉̝̞̗̟͠d̴̟̜̱͕͚i͇̫̼̯̭̜͡ḁ͙̻̼c̲̲̹r̨̠̹̣̰̦i̱t̤̻̤͍͙̘̕i̵̜̭̤̱͎c̵s ͘o̱̲͈̙͖͇̲͢n͘ ̜͈e̬̲̠̩ac͕̺̠͉h̷̪ ̺̣͖̱ḻ̫̬̝̹ḙ̙̺͙̭͓̲t̞̞͇̲͉͍t̷͔̪͉̲̻̠͙e̦̻͈͉͇r͇̭̭̬͖,̖́ ̜͙͓̣̭s̘̘͈o̱̰̤̲ͅ ̛̬̜̙t̼̦͕̱̹͕̥h̳̲͈͝ͅa̦t̻̲ ̻̟̭̦̖t̛̰̩h̠͕̳̝̫͕e͈̤̘͖̞͘y҉̝͙ ̷͉͔̰̠o̞̰v͈͈̳̘͜er̶f̰͈͔ḻ͕̘̫̺̲o̲̭͙͠ͅw̱̳̺ ͜t̸h͇̭͕̳͍e̖̯̟̠ ͍̞̜͔̩̪͜ļ͎̪̲͚i̝̲̹̙̩̹n̨̦̩̖ḙ̼̲̼͢ͅ ̬͝s̼͚̘̞͝p͙̘̻a̙c҉͉̜̤͈̯̖i̥͡n̦̠̱͟g̸̗̻̦̭̮̟ͅ ̳̪̠͖̳̯̕a̫͜n͝d͡ ̣̦̙ͅc̪̗r̴͙̮̦̹̳e͇͚̞͔̹̫͟a̙̺̙ț͔͎̘̹ͅe̥̩͍ a͖̪̜̮͙̹n̢͉̝ ͇͉͓̦̼́a̳͖̪̤̱p̖͔͔̟͇͎͠p̱͍̺ę̲͎͈̰̲̤̫a̯͜r̨̮̫̣̘a̩̯͖n̹̦̰͎̣̞̞c̨̦̱͔͎͍͖e̬͓͘ ̤̰̩͙̤̬͙o̵̼̻̬̻͇̮̪f̴ ̡̙̭͓͖̪̤“̸͙̠̼c̳̗͜o͏̼͙͔̮r̞̫̺̞̥̬ru̺̻̯͉̭̻̯p̰̥͓̣̫̙̤͢t̳͍̳̖ͅi̶͈̝͙̼̙̹o̡͔n̙̺̹̖̩͝ͅ”̨̗͖͚̩.̯͓\n",
        "\n",
        "A few other places where dynamic character composition shows up in Unicode:\n",
        "\n",
        "Vowel-pointing notation in Arabic and Hebrew. In these languages, words are normally spelled with some of their vowels left out. They then have diacritic notation to indicate the vowels (used in dictionaries, language-teaching materials, children’s books, and such). These diacritics are expressed with combining marks.\n",
        "\n",
        "A Hebrew example, with niqqud:\tאֶת דַלְתִּי הֵזִיז הֵנִיעַ, קֶטֶב לִשְׁכַּתִּי יָשׁוֹד\n",
        "Normal writing (no niqqud):\tאת דלתי הזיז הניע, קטב לשכתי ישוד\n",
        "Devanagari, the script used to write Hindi, Sanskrit, and many other South Asian languages, expresses certain vowels as combining marks attached to consonant letters. For example, “ह” + “​ि” = “हि” (“h” + “i” = “hi”).\n",
        "\n",
        "Korean characters stand for syllables, but they are composed of letters called jamo that stand for the vowels and consonants in the syllable. While there are code points for precomposed Korean syllables, it’s also possible to dynamically compose them by concatenating their jamo. For example, “ᄒ” + “ᅡ” + “ᆫ” = “한” (“h” + “a” + “n” = “han”).\n",
        "\n",
        "Canonical Equivalence\n",
        "In Unicode, precomposed characters exist alongside the dynamic composition system. A consequence of this is that there are multiple ways to express “the same” string—different sequences of code points that result in the same user-perceived characters. For example, as we saw earlier, we can express the character “Á” either as the single code point U+00C1, or as the string of two code points U+0041 U+0301.\n",
        "\n",
        "Another source of ambiguity is the ordering of multiple diacritics in a single character. Diacritic order matters visually when two diacritics apply to the same side of the base character, e.g. both above: “ǡ” (dot, then macron) is different from “ā̇” (macron, then dot). However, when diacritics apply to different sides of the character, e.g. one above and one below, then the order doesn’t affect rendering. Moreover, a character with multiple diacritics might have one of the diacritics precomposed and others expressed as combining marks.\n",
        "\n",
        "For example, the Vietnamese letter “ệ” can be expressed in five different ways:\n",
        "\n",
        "Fully precomposed: U+1EC7 “ệ”\n",
        "Partially precomposed: U+1EB9 “ẹ” + U+0302 “◌̂”\n",
        "Partially precomposed: U+00EA “ê” + U+0323 “◌̣”\n",
        "Fully decomposed: U+0065 “e” + U+0323 “◌̣” + U+0302 “◌̂”\n",
        "Fully decomposed: U+0065 “e” + U+0302 “◌̂” + U+0323 “◌̣”\n",
        "Unicode refers to set of strings like this as “canonically equivalent”. Canonically equivalent strings are supposed to be treated as identical for purposes of searching, sorting, rendering, text selection, and so on. This has implications for how you implement operations on text. For example, if an app has a “find in file” operation and the user searches for “ệ”, it should, by default, find occurrences of any of the five versions of “ệ” above!\n",
        "\n",
        "Normalization Forms\n",
        "To address the problem of “how to handle canonically equivalent strings”, Unicode defines several normalization forms: ways of converting strings into a canonical form so that they can be compared code-point-by-code-point (or byte-by-byte).\n",
        "\n",
        "The “NFD” normalization form fully decomposes every character down to its component base and combining marks, taking apart any precomposed code points in the string. It also sorts the combining marks in each character according to their rendered position, so e.g. diacritics that go below the character come before the ones that go above the character. (It doesn’t reorder diacritics in the same rendered position, since their order matters visually, as previously mentioned.)\n",
        "\n",
        "The “NFC” form, conversely, puts things back together into precomposed code points as much as possible. If an unusual combination of diacritics is called for, there may not be any precomposed code point for it, in which case NFC still precomposes what it can and leaves any remaining combining marks in place (again ordered by rendered position, as in NFD).\n",
        "\n",
        "There are also forms called NFKD and NFKC. The “K” here refers to compatibility decompositions, which cover characters that are “similar” in some sense but not visually identical. However, I’m not going to cover that here.\n",
        "\n",
        "Grapheme Clusters\n",
        "As we’ve seen, Unicode contains various cases where a thing that a user thinks of as a single “character” might actually be made up of multiple code points under the hood. Unicode formalizes this using the notion of a grapheme cluster: a string of one or more code points that constitute a single “user-perceived character”.\n",
        "\n",
        "UAX #29 defines the rules for what, precisely, qualifies as a grapheme cluster. It’s approximately “a base code point followed by any number of combining marks”, but the actual definition is a bit more complicated; it accounts for things like Korean jamo, and emoji ZWJ sequences.\n",
        "\n",
        "The main thing grapheme clusters are used for is text editing: they’re often the most sensible unit for cursor placement and text selection boundaries. Using grapheme clusters for these purposes ensures that you can’t accidentally chop off some diacritics when you copy-and-paste text, that left/right arrow keys always move the cursor by one visible character, and so on.\n",
        "\n",
        "Another place where grapheme clusters are useful is in enforcing a string length limit—say, on a database field. While the true, underlying limit might be something like the byte length of the string in UTF-8, you wouldn’t want to enforce that by just truncating bytes. At a minimum, you’d want to “round down” to the nearest code point boundary; but even better, round down to the nearest grapheme cluster boundary. Otherwise, you might be corrupting the last character by cutting off a diacritic, or interrupting a jamo sequence or ZWJ sequence.\n",
        "\n",
        "And More…\n",
        "There’s much more that could be said about Unicode from a programmer’s perspective! I haven’t gotten into such fun topics as case mapping, collation, compatibility decompositions and confusables, Unicode-aware regexes, or bidirectional text. Nor have I said anything yet about implementation issues—how to efficiently store and look-up data about the sparsely-assigned code points, or how to optimize UTF-8 decoding, string comparison, or NFC normalization. Perhaps I’ll return to some of those things in future posts.\n",
        "\n",
        "Unicode is a fascinating and complex system. It has a many-to-one mapping between bytes and code points, and on top of that a many-to-one (or, under some circumstances, many-to-many) mapping between code points and “characters”. It has oddball special cases in every corner. But no one ever claimed that representing all written languages was going to be easy, and it’s clear that we’re never going back to the bad old days of a patchwork of incompatible encodings.\n",
        "\n",
        "Further reading:\n",
        "\n",
        "The Unicode Standard\n",
        "UTF-8 Everywhere Manifesto\n",
        "Dark corners of Unicode by Eevee\n",
        "ICU (International Components for Unicode)—C/C++/Java libraries implementing many Unicode algorithms and related things\n",
        "Python 3 Unicode Howto\n",
        "Google Noto Fonts—set of fonts intended to cover all assigned code points\"\"\"\n",
        "\n",
        "tokens = text.encode('utf-8')\n",
        "tokens = list(map(int, tokens))\n",
        "print(text)"
      ],
      "metadata": {
        "colab": {
          "base_uri": "https://localhost:8080/"
        },
        "id": "0nOBnFyvMhoc",
        "outputId": "e217d826-aa0f-4ef8-d7bb-6d0810a0c1c9"
      },
      "execution_count": null,
      "outputs": [
        {
          "output_type": "stream",
          "name": "stdout",
          "text": [
            "A Programmer’s Introduction to Unicode\n",
            "March 3, 2017 · Coding · 25 Comments\n",
            "\n",
            "Ｕｎｉｃｏｄｅ! 🅤🅝🅘🅒🅞🅓🅔‽ 🇺‌🇳‌🇮‌🇨‌🇴‌🇩‌🇪! 😄 The very name strikes fear and awe into the hearts of programmers worldwide. We all know we ought to “support Unicode” in our software (whatever that means—like using wchar_t for all the strings, right?). But Unicode can be abstruse, and diving into the thousand-page Unicode Standard plus its dozens of supplementary annexes, reports, and notes can be more than a little intimidating. I don’t blame programmers for still finding the whole thing mysterious, even 30 years after Unicode’s inception.\n",
            "\n",
            "A few months ago, I got interested in Unicode and decided to spend some time learning more about it in detail. In this article, I’ll give an introduction to it from a programmer’s point of view.\n",
            "\n",
            "I’m going to focus on the character set and what’s involved in working with strings and files of Unicode text. However, in this article I’m not going to talk about fonts, text layout/shaping/rendering, or localization in detail—those are separate issues, beyond my scope (and knowledge) here.\n",
            "\n",
            "Diversity and Inherent Complexity\n",
            "The Unicode Codespace\n",
            "Codespace Allocation\n",
            "Scripts\n",
            "Usage Frequency\n",
            "Encodings\n",
            "UTF-8\n",
            "UTF-16\n",
            "Combining Marks\n",
            "Canonical Equivalence\n",
            "Normalization Forms\n",
            "Grapheme Clusters\n",
            "And More…\n",
            "Diversity and Inherent Complexity\n",
            "As soon as you start to study Unicode, it becomes clear that it represents a large jump in complexity over character sets like ASCII that you may be more familiar with. It’s not just that Unicode contains a much larger number of characters, although that’s part of it. Unicode also has a great deal of internal structure, features, and special cases, making it much more than what one might expect a mere “character set” to be. We’ll see some of that later in this article.\n",
            "\n",
            "When confronting all this complexity, especially as an engineer, it’s hard not to find oneself asking, “Why do we need all this? Is this really necessary? Couldn’t it be simplified?”\n",
            "\n",
            "However, Unicode aims to faithfully represent the entire world’s writing systems. The Unicode Consortium’s stated goal is “enabling people around the world to use computers in any language”. And as you might imagine, the diversity of written languages is immense! To date, Unicode supports 135 different scripts, covering some 1100 languages, and there’s still a long tail of over 100 unsupported scripts, both modern and historical, which people are still working to add.\n",
            "\n",
            "Given this enormous diversity, it’s inevitable that representing it is a complicated project. Unicode embraces that diversity, and accepts the complexity inherent in its mission to include all human writing systems. It doesn’t make a lot of trade-offs in the name of simplification, and it makes exceptions to its own rules where necessary to further its mission.\n",
            "\n",
            "Moreover, Unicode is committed not just to supporting texts in any single language, but also to letting multiple languages coexist within one text—which introduces even more complexity.\n",
            "\n",
            "Most programming languages have libraries available to handle the gory low-level details of text manipulation, but as a programmer, you’ll still need to know about certain Unicode features in order to know when and how to apply them. It may take some time to wrap your head around it all, but don’t be discouraged—think about the billions of people for whom your software will be more accessible through supporting text in their language. Embrace the complexity!\n",
            "\n",
            "The Unicode Codespace\n",
            "Let’s start with some general orientation. The basic elements of Unicode—its “characters”, although that term isn’t quite right—are called code points. Code points are identified by number, customarily written in hexadecimal with the prefix “U+”, such as U+0041 “A” latin capital letter a or U+03B8 “θ” greek small letter theta. Each code point also has a short name, and quite a few other properties, specified in the Unicode Character Database.\n",
            "\n",
            "The set of all possible code points is called the codespace. The Unicode codespace consists of 1,114,112 code points. However, only 128,237 of them—about 12% of the codespace—are actually assigned, to date. There’s plenty of room for growth! Unicode also reserves an additional 137,468 code points as “private use” areas, which have no standardized meaning and are available for individual applications to define for their own purposes.\n",
            "\n",
            "Codespace Allocation\n",
            "To get a feel for how the codespace is laid out, it’s helpful to visualize it. Below is a map of the entire codespace, with one pixel per code point. It’s arranged in tiles for visual coherence; each small square is 16×16 = 256 code points, and each large square is a “plane” of 65,536 code points. There are 17 planes altogether.\n",
            "\n",
            "Map of the Unicode codespace (click to zoom)\n",
            "\n",
            "White represents unassigned space. Blue is assigned code points, green is private-use areas, and the small red area is surrogates (more about those later). As you can see, the assigned code points are distributed somewhat sparsely, but concentrated in the first three planes.\n",
            "\n",
            "Plane 0 is also known as the “Basic Multilingual Plane”, or BMP. The BMP contains essentially all the characters needed for modern text in any script, including Latin, Cyrillic, Greek, Han (Chinese), Japanese, Korean, Arabic, Hebrew, Devanagari (Indian), and many more.\n",
            "\n",
            "(In the past, the codespace was just the BMP and no more—Unicode was originally conceived as a straightforward 16-bit encoding, with only 65,536 code points. It was expanded to its current size in 1996. However, the vast majority of code points in modern text belong to the BMP.)\n",
            "\n",
            "Plane 1 contains historical scripts, such as Sumerian cuneiform and Egyptian hieroglyphs, as well as emoji and various other symbols. Plane 2 contains a large block of less-common and historical Han characters. The remaining planes are empty, except for a small number of rarely-used formatting characters in Plane 14; planes 15–16 are reserved entirely for private use.\n",
            "\n",
            "Scripts\n",
            "Let’s zoom in on the first three planes, since that’s where the action is:\n",
            "\n",
            "Map of scripts in Unicode planes 0–2 (click to zoom)\n",
            "\n",
            "This map color-codes the 135 different scripts in Unicode. You can see how Han () and Korean () take up most of the range of the BMP (the left large square). By contrast, all of the European, Middle Eastern, and South Asian scripts fit into the first row of the BMP in this diagram.\n",
            "\n",
            "Many areas of the codespace are adapted or copied from earlier encodings. For example, the first 128 code points of Unicode are just a copy of ASCII. This has clear benefits for compatibility—it’s easy to losslessly convert texts from smaller encodings into Unicode (and the other direction too, as long as no characters outside the smaller encoding are used).\n",
            "\n",
            "Usage Frequency\n",
            "One more interesting way to visualize the codespace is to look at the distribution of usage—in other words, how often each code point is actually used in real-world texts. Below is a heat map of planes 0–2 based on a large sample of text from Wikipedia and Twitter (all languages). Frequency increases from black (never seen) through red and yellow to white.\n",
            "\n",
            "Heat map of code point usage frequency in Unicode planes 0–2 (click to zoom)\n",
            "\n",
            "You can see that the vast majority of this text sample lies in the BMP, with only scattered usage of code points from planes 1–2. The biggest exception is emoji, which show up here as the several bright squares in the bottom row of plane 1.\n",
            "\n",
            "Encodings\n",
            "We’ve seen that Unicode code points are abstractly identified by their index in the codespace, ranging from U+0000 to U+10FFFF. But how do code points get represented as bytes, in memory or in a file?\n",
            "\n",
            "The most convenient, computer-friendliest (and programmer-friendliest) thing to do would be to just store the code point index as a 32-bit integer. This works, but it consumes 4 bytes per code point, which is sort of a lot. Using 32-bit ints for Unicode will cost you a bunch of extra storage, memory, and performance in bandwidth-bound scenarios, if you work with a lot of text.\n",
            "\n",
            "Consequently, there are several more-compact encodings for Unicode. The 32-bit integer encoding is officially called UTF-32 (UTF = “Unicode Transformation Format”), but it’s rarely used for storage. At most, it comes up sometimes as a temporary internal representation, for examining or operating on the code points in a string.\n",
            "\n",
            "Much more commonly, you’ll see Unicode text encoded as either UTF-8 or UTF-16. These are both variable-length encodings, made up of 8-bit or 16-bit units, respectively. In these schemes, code points with smaller index values take up fewer bytes, which saves a lot of memory for typical texts. The trade-off is that processing UTF-8/16 texts is more programmatically involved, and likely slower.\n",
            "\n",
            "UTF-8\n",
            "In UTF-8, each code point is stored using 1 to 4 bytes, based on its index value.\n",
            "\n",
            "UTF-8 uses a system of binary prefixes, in which the high bits of each byte mark whether it’s a single byte, the beginning of a multi-byte sequence, or a continuation byte; the remaining bits, concatenated, give the code point index. This table shows how it works:\n",
            "\n",
            "UTF-8 (binary)\tCode point (binary)\tRange\n",
            "0xxxxxxx\txxxxxxx\tU+0000–U+007F\n",
            "110xxxxx 10yyyyyy\txxxxxyyyyyy\tU+0080–U+07FF\n",
            "1110xxxx 10yyyyyy 10zzzzzz\txxxxyyyyyyzzzzzz\tU+0800–U+FFFF\n",
            "11110xxx 10yyyyyy 10zzzzzz 10wwwwww\txxxyyyyyyzzzzzzwwwwww\tU+10000–U+10FFFF\n",
            "A handy property of UTF-8 is that code points below 128 (ASCII characters) are encoded as single bytes, and all non-ASCII code points are encoded using sequences of bytes 128–255. This has a couple of nice consequences. First, any strings or files out there that are already in ASCII can also be interpreted as UTF-8 without any conversion. Second, lots of widely-used string programming idioms—such as null termination, or delimiters (newlines, tabs, commas, slashes, etc.)—will just work on UTF-8 strings. ASCII bytes never occur inside the encoding of non-ASCII code points, so searching byte-wise for a null terminator or a delimiter will do the right thing.\n",
            "\n",
            "Thanks to this convenience, it’s relatively simple to extend legacy ASCII programs and APIs to handle UTF-8 strings. UTF-8 is very widely used in the Unix/Linux and Web worlds, and many programmers argue UTF-8 should be the default encoding everywhere.\n",
            "\n",
            "However, UTF-8 isn’t a drop-in replacement for ASCII strings in all respects. For instance, code that iterates over the “characters” in a string will need to decode UTF-8 and iterate over code points (or maybe grapheme clusters—more about those later), not bytes. When you measure the “length” of a string, you’ll need to think about whether you want the length in bytes, the length in code points, the width of the text when rendered, or something else.\n",
            "\n",
            "UTF-16\n",
            "The other encoding that you’re likely to encounter is UTF-16. It uses 16-bit words, with each code point stored as either 1 or 2 words.\n",
            "\n",
            "Like UTF-8, we can express the UTF-16 encoding rules in the form of binary prefixes:\n",
            "\n",
            "UTF-16 (binary)\tCode point (binary)\tRange\n",
            "xxxxxxxxxxxxxxxx\txxxxxxxxxxxxxxxx\tU+0000–U+FFFF\n",
            "110110xxxxxxxxxx 110111yyyyyyyyyy\txxxxxxxxxxyyyyyyyyyy + 0x10000\tU+10000–U+10FFFF\n",
            "A more common way that people talk about UTF-16 encoding, though, is in terms of code points called “surrogates”. All the code points in the range U+D800–U+DFFF—or in other words, the code points that match the binary prefixes 110110 and 110111 in the table above—are reserved specifically for UTF-16 encoding, and don’t represent any valid characters on their own. They’re only meant to occur in the 2-word encoding pattern above, which is called a “surrogate pair”. Surrogate code points are illegal in any other context! They’re not allowed in UTF-8 or UTF-32 at all.\n",
            "\n",
            "Historically, UTF-16 is a descendant of the original, pre-1996 versions of Unicode, in which there were only 65,536 code points. The original intention was that there would be no different “encodings”; Unicode was supposed to be a straightforward 16-bit character set. Later, the codespace was expanded to make room for a long tail of less-common (but still important) Han characters, which the Unicode designers didn’t originally plan for. Surrogates were then introduced, as—to put it bluntly—a kludge, allowing 16-bit encodings to access the new code points.\n",
            "\n",
            "Today, Javascript uses UTF-16 as its standard string representation: if you ask for the length of a string, or iterate over it, etc., the result will be in UTF-16 words, with any code points outside the BMP expressed as surrogate pairs. UTF-16 is also used by the Microsoft Win32 APIs; though Win32 supports either 8-bit or 16-bit strings, the 8-bit version unaccountably still doesn’t support UTF-8—only legacy code-page encodings, like ANSI. This leaves UTF-16 as the only way to get proper Unicode support in Windows. (Update: in Win10 version 1903, they finally added UTF-8 support to the 8-bit APIs! 😊)\n",
            "\n",
            "By the way, UTF-16’s words can be stored either little-endian or big-endian. Unicode has no opinion on that issue, though it does encourage the convention of putting U+FEFF zero width no-break space at the top of a UTF-16 file as a byte-order mark, to disambiguate the endianness. (If the file doesn’t match the system’s endianness, the BOM will be decoded as U+FFFE, which isn’t a valid code point.)\n",
            "\n",
            "Combining Marks\n",
            "In the story so far, we’ve been focusing on code points. But in Unicode, a “character” can be more complicated than just an individual code point!\n",
            "\n",
            "Unicode includes a system for dynamically composing characters, by combining multiple code points together. This is used in various ways to gain flexibility without causing a huge combinatorial explosion in the number of code points.\n",
            "\n",
            "In European languages, for example, this shows up in the application of diacritics to letters. Unicode supports a wide range of diacritics, including acute and grave accents, umlauts, cedillas, and many more. All these diacritics can be applied to any letter of any alphabet—and in fact, multiple diacritics can be used on a single letter.\n",
            "\n",
            "If Unicode tried to assign a distinct code point to every possible combination of letter and diacritics, things would rapidly get out of hand. Instead, the dynamic composition system enables you to construct the character you want, by starting with a base code point (the letter) and appending additional code points, called “combining marks”, to specify the diacritics. When a text renderer sees a sequence like this in a string, it automatically stacks the diacritics over or under the base letter to create a composed character.\n",
            "\n",
            "For example, the accented character “Á” can be expressed as a string of two code points: U+0041 “A” latin capital letter a plus U+0301 “◌́” combining acute accent. This string automatically gets rendered as a single character: “Á”.\n",
            "\n",
            "Now, Unicode does also include many “precomposed” code points, each representing a letter with some combination of diacritics already applied, such as U+00C1 “Á” latin capital letter a with acute or U+1EC7 “ệ” latin small letter e with circumflex and dot below. I suspect these are mostly inherited from older encodings that were assimilated into Unicode, and kept around for compatibility. In practice, there are precomposed code points for most of the common letter-with-diacritic combinations in European-script languages, so they don’t use dynamic composition that much in typical text.\n",
            "\n",
            "Still, the system of combining marks does allow for an arbitrary number of diacritics to be stacked on any base character. The reductio-ad-absurdum of this is Zalgo text, which works by ͖͟ͅr͞aṋ̫̠̖͈̗d͖̻̹óm̪͙͕̗̝ļ͇̰͓̳̫ý͓̥̟͍ ̕s̫t̫̱͕̗̰̼̘͜a̼̩͖͇̠͈̣͝c̙͍k̖̱̹͍͘i̢n̨̺̝͇͇̟͙ģ̫̮͎̻̟ͅ ̕n̼̺͈͞u̮͙m̺̭̟̗͞e̞͓̰̤͓̫r̵o̖ṷs҉̪͍̭̬̝̤ ̮͉̝̞̗̟͠d̴̟̜̱͕͚i͇̫̼̯̭̜͡ḁ͙̻̼c̲̲̹r̨̠̹̣̰̦i̱t̤̻̤͍͙̘̕i̵̜̭̤̱͎c̵s ͘o̱̲͈̙͖͇̲͢n͘ ̜͈e̬̲̠̩ac͕̺̠͉h̷̪ ̺̣͖̱ḻ̫̬̝̹ḙ̙̺͙̭͓̲t̞̞͇̲͉͍t̷͔̪͉̲̻̠͙e̦̻͈͉͇r͇̭̭̬͖,̖́ ̜͙͓̣̭s̘̘͈o̱̰̤̲ͅ ̛̬̜̙t̼̦͕̱̹͕̥h̳̲͈͝ͅa̦t̻̲ ̻̟̭̦̖t̛̰̩h̠͕̳̝̫͕e͈̤̘͖̞͘y҉̝͙ ̷͉͔̰̠o̞̰v͈͈̳̘͜er̶f̰͈͔ḻ͕̘̫̺̲o̲̭͙͠ͅw̱̳̺ ͜t̸h͇̭͕̳͍e̖̯̟̠ ͍̞̜͔̩̪͜ļ͎̪̲͚i̝̲̹̙̩̹n̨̦̩̖ḙ̼̲̼͢ͅ ̬͝s̼͚̘̞͝p͙̘̻a̙c҉͉̜̤͈̯̖i̥͡n̦̠̱͟g̸̗̻̦̭̮̟ͅ ̳̪̠͖̳̯̕a̫͜n͝d͡ ̣̦̙ͅc̪̗r̴͙̮̦̹̳e͇͚̞͔̹̫͟a̙̺̙ț͔͎̘̹ͅe̥̩͍ a͖̪̜̮͙̹n̢͉̝ ͇͉͓̦̼́a̳͖̪̤̱p̖͔͔̟͇͎͠p̱͍̺ę̲͎͈̰̲̤̫a̯͜r̨̮̫̣̘a̩̯͖n̹̦̰͎̣̞̞c̨̦̱͔͎͍͖e̬͓͘ ̤̰̩͙̤̬͙o̵̼̻̬̻͇̮̪f̴ ̡̙̭͓͖̪̤“̸͙̠̼c̳̗͜o͏̼͙͔̮r̞̫̺̞̥̬ru̺̻̯͉̭̻̯p̰̥͓̣̫̙̤͢t̳͍̳̖ͅi̶͈̝͙̼̙̹o̡͔n̙̺̹̖̩͝ͅ”̨̗͖͚̩.̯͓\n",
            "\n",
            "A few other places where dynamic character composition shows up in Unicode:\n",
            "\n",
            "Vowel-pointing notation in Arabic and Hebrew. In these languages, words are normally spelled with some of their vowels left out. They then have diacritic notation to indicate the vowels (used in dictionaries, language-teaching materials, children’s books, and such). These diacritics are expressed with combining marks.\n",
            "\n",
            "A Hebrew example, with niqqud:\tאֶת דַלְתִּי הֵזִיז הֵנִיעַ, קֶטֶב לִשְׁכַּתִּי יָשׁוֹד\n",
            "Normal writing (no niqqud):\tאת דלתי הזיז הניע, קטב לשכתי ישוד\n",
            "Devanagari, the script used to write Hindi, Sanskrit, and many other South Asian languages, expresses certain vowels as combining marks attached to consonant letters. For example, “ह” + “​ि” = “हि” (“h” + “i” = “hi”).\n",
            "\n",
            "Korean characters stand for syllables, but they are composed of letters called jamo that stand for the vowels and consonants in the syllable. While there are code points for precomposed Korean syllables, it’s also possible to dynamically compose them by concatenating their jamo. For example, “ᄒ” + “ᅡ” + “ᆫ” = “한” (“h” + “a” + “n” = “han”).\n",
            "\n",
            "Canonical Equivalence\n",
            "In Unicode, precomposed characters exist alongside the dynamic composition system. A consequence of this is that there are multiple ways to express “the same” string—different sequences of code points that result in the same user-perceived characters. For example, as we saw earlier, we can express the character “Á” either as the single code point U+00C1, or as the string of two code points U+0041 U+0301.\n",
            "\n",
            "Another source of ambiguity is the ordering of multiple diacritics in a single character. Diacritic order matters visually when two diacritics apply to the same side of the base character, e.g. both above: “ǡ” (dot, then macron) is different from “ā̇” (macron, then dot). However, when diacritics apply to different sides of the character, e.g. one above and one below, then the order doesn’t affect rendering. Moreover, a character with multiple diacritics might have one of the diacritics precomposed and others expressed as combining marks.\n",
            "\n",
            "For example, the Vietnamese letter “ệ” can be expressed in five different ways:\n",
            "\n",
            "Fully precomposed: U+1EC7 “ệ”\n",
            "Partially precomposed: U+1EB9 “ẹ” + U+0302 “◌̂”\n",
            "Partially precomposed: U+00EA “ê” + U+0323 “◌̣”\n",
            "Fully decomposed: U+0065 “e” + U+0323 “◌̣” + U+0302 “◌̂”\n",
            "Fully decomposed: U+0065 “e” + U+0302 “◌̂” + U+0323 “◌̣”\n",
            "Unicode refers to set of strings like this as “canonically equivalent”. Canonically equivalent strings are supposed to be treated as identical for purposes of searching, sorting, rendering, text selection, and so on. This has implications for how you implement operations on text. For example, if an app has a “find in file” operation and the user searches for “ệ”, it should, by default, find occurrences of any of the five versions of “ệ” above!\n",
            "\n",
            "Normalization Forms\n",
            "To address the problem of “how to handle canonically equivalent strings”, Unicode defines several normalization forms: ways of converting strings into a canonical form so that they can be compared code-point-by-code-point (or byte-by-byte).\n",
            "\n",
            "The “NFD” normalization form fully decomposes every character down to its component base and combining marks, taking apart any precomposed code points in the string. It also sorts the combining marks in each character according to their rendered position, so e.g. diacritics that go below the character come before the ones that go above the character. (It doesn’t reorder diacritics in the same rendered position, since their order matters visually, as previously mentioned.)\n",
            "\n",
            "The “NFC” form, conversely, puts things back together into precomposed code points as much as possible. If an unusual combination of diacritics is called for, there may not be any precomposed code point for it, in which case NFC still precomposes what it can and leaves any remaining combining marks in place (again ordered by rendered position, as in NFD).\n",
            "\n",
            "There are also forms called NFKD and NFKC. The “K” here refers to compatibility decompositions, which cover characters that are “similar” in some sense but not visually identical. However, I’m not going to cover that here.\n",
            "\n",
            "Grapheme Clusters\n",
            "As we’ve seen, Unicode contains various cases where a thing that a user thinks of as a single “character” might actually be made up of multiple code points under the hood. Unicode formalizes this using the notion of a grapheme cluster: a string of one or more code points that constitute a single “user-perceived character”.\n",
            "\n",
            "UAX #29 defines the rules for what, precisely, qualifies as a grapheme cluster. It’s approximately “a base code point followed by any number of combining marks”, but the actual definition is a bit more complicated; it accounts for things like Korean jamo, and emoji ZWJ sequences.\n",
            "\n",
            "The main thing grapheme clusters are used for is text editing: they’re often the most sensible unit for cursor placement and text selection boundaries. Using grapheme clusters for these purposes ensures that you can’t accidentally chop off some diacritics when you copy-and-paste text, that left/right arrow keys always move the cursor by one visible character, and so on.\n",
            "\n",
            "Another place where grapheme clusters are useful is in enforcing a string length limit—say, on a database field. While the true, underlying limit might be something like the byte length of the string in UTF-8, you wouldn’t want to enforce that by just truncating bytes. At a minimum, you’d want to “round down” to the nearest code point boundary; but even better, round down to the nearest grapheme cluster boundary. Otherwise, you might be corrupting the last character by cutting off a diacritic, or interrupting a jamo sequence or ZWJ sequence.\n",
            "\n",
            "And More…\n",
            "There’s much more that could be said about Unicode from a programmer’s perspective! I haven’t gotten into such fun topics as case mapping, collation, compatibility decompositions and confusables, Unicode-aware regexes, or bidirectional text. Nor have I said anything yet about implementation issues—how to efficiently store and look-up data about the sparsely-assigned code points, or how to optimize UTF-8 decoding, string comparison, or NFC normalization. Perhaps I’ll return to some of those things in future posts.\n",
            "\n",
            "Unicode is a fascinating and complex system. It has a many-to-one mapping between bytes and code points, and on top of that a many-to-one (or, under some circumstances, many-to-many) mapping between code points and “characters”. It has oddball special cases in every corner. But no one ever claimed that representing all written languages was going to be easy, and it’s clear that we’re never going back to the bad old days of a patchwork of incompatible encodings.\n",
            "\n",
            "Further reading:\n",
            "\n",
            "The Unicode Standard\n",
            "UTF-8 Everywhere Manifesto\n",
            "Dark corners of Unicode by Eevee\n",
            "ICU (International Components for Unicode)—C/C++/Java libraries implementing many Unicode algorithms and related things\n",
            "Python 3 Unicode Howto\n",
            "Google Noto Fonts—set of fonts intended to cover all assigned code points\n"
          ]
        }
      ]
    },
    {
      "cell_type": "code",
      "source": [
        "print(tokens)"
      ],
      "metadata": {
        "colab": {
          "base_uri": "https://localhost:8080/"
        },
        "id": "0IB7-W3jM2-F",
        "outputId": "32f4be53-2626-4840-dd92-125e567a6571"
      },
      "execution_count": null,
      "outputs": [
        {
          "output_type": "stream",
          "name": "stdout",
          "text": [
            "[65, 32, 80, 114, 111, 103, 114, 97, 109, 109, 101, 114, 226, 128, 153, 115, 32, 73, 110, 116, 114, 111, 100, 117, 99, 116, 105, 111, 110, 32, 116, 111, 32, 85, 110, 105, 99, 111, 100, 101, 10, 77, 97, 114, 99, 104, 32, 51, 44, 32, 50, 48, 49, 55, 32, 194, 183, 32, 67, 111, 100, 105, 110, 103, 32, 194, 183, 32, 50, 53, 32, 67, 111, 109, 109, 101, 110, 116, 115, 10, 10, 239, 188, 181, 239, 189, 142, 239, 189, 137, 239, 189, 131, 239, 189, 143, 239, 189, 132, 239, 189, 133, 33, 32, 240, 159, 133, 164, 240, 159, 133, 157, 240, 159, 133, 152, 240, 159, 133, 146, 240, 159, 133, 158, 240, 159, 133, 147, 240, 159, 133, 148, 226, 128, 189, 32, 240, 159, 135, 186, 226, 128, 140, 240, 159, 135, 179, 226, 128, 140, 240, 159, 135, 174, 226, 128, 140, 240, 159, 135, 168, 226, 128, 140, 240, 159, 135, 180, 226, 128, 140, 240, 159, 135, 169, 226, 128, 140, 240, 159, 135, 170, 33, 32, 240, 159, 152, 132, 32, 84, 104, 101, 32, 118, 101, 114, 121, 32, 110, 97, 109, 101, 32, 115, 116, 114, 105, 107, 101, 115, 32, 102, 101, 97, 114, 32, 97, 110, 100, 32, 97, 119, 101, 32, 105, 110, 116, 111, 32, 116, 104, 101, 32, 104, 101, 97, 114, 116, 115, 32, 111, 102, 32, 112, 114, 111, 103, 114, 97, 109, 109, 101, 114, 115, 32, 119, 111, 114, 108, 100, 119, 105, 100, 101, 46, 32, 87, 101, 32, 97, 108, 108, 32, 107, 110, 111, 119, 32, 119, 101, 32, 111, 117, 103, 104, 116, 32, 116, 111, 32, 226, 128, 156, 115, 117, 112, 112, 111, 114, 116, 32, 85, 110, 105, 99, 111, 100, 101, 226, 128, 157, 32, 105, 110, 32, 111, 117, 114, 32, 115, 111, 102, 116, 119, 97, 114, 101, 32, 40, 119, 104, 97, 116, 101, 118, 101, 114, 32, 116, 104, 97, 116, 32, 109, 101, 97, 110, 115, 226, 128, 148, 108, 105, 107, 101, 32, 117, 115, 105, 110, 103, 32, 119, 99, 104, 97, 114, 95, 116, 32, 102, 111, 114, 32, 97, 108, 108, 32, 116, 104, 101, 32, 115, 116, 114, 105, 110, 103, 115, 44, 32, 114, 105, 103, 104, 116, 63, 41, 46, 32, 66, 117, 116, 32, 85, 110, 105, 99, 111, 100, 101, 32, 99, 97, 110, 32, 98, 101, 32, 97, 98, 115, 116, 114, 117, 115, 101, 44, 32, 97, 110, 100, 32, 100, 105, 118, 105, 110, 103, 32, 105, 110, 116, 111, 32, 116, 104, 101, 32, 116, 104, 111, 117, 115, 97, 110, 100, 45, 112, 97, 103, 101, 32, 85, 110, 105, 99, 111, 100, 101, 32, 83, 116, 97, 110, 100, 97, 114, 100, 32, 112, 108, 117, 115, 32, 105, 116, 115, 32, 100, 111, 122, 101, 110, 115, 32, 111, 102, 32, 115, 117, 112, 112, 108, 101, 109, 101, 110, 116, 97, 114, 121, 32, 97, 110, 110, 101, 120, 101, 115, 44, 32, 114, 101, 112, 111, 114, 116, 115, 44, 32, 97, 110, 100, 32, 110, 111, 116, 101, 115, 32, 99, 97, 110, 32, 98, 101, 32, 109, 111, 114, 101, 32, 116, 104, 97, 110, 32, 97, 32, 108, 105, 116, 116, 108, 101, 32, 105, 110, 116, 105, 109, 105, 100, 97, 116, 105, 110, 103, 46, 32, 73, 32, 100, 111, 110, 226, 128, 153, 116, 32, 98, 108, 97, 109, 101, 32, 112, 114, 111, 103, 114, 97, 109, 109, 101, 114, 115, 32, 102, 111, 114, 32, 115, 116, 105, 108, 108, 32, 102, 105, 110, 100, 105, 110, 103, 32, 116, 104, 101, 32, 119, 104, 111, 108, 101, 32, 116, 104, 105, 110, 103, 32, 109, 121, 115, 116, 101, 114, 105, 111, 117, 115, 44, 32, 101, 118, 101, 110, 32, 51, 48, 32, 121, 101, 97, 114, 115, 32, 97, 102, 116, 101, 114, 32, 85, 110, 105, 99, 111, 100, 101, 226, 128, 153, 115, 32, 105, 110, 99, 101, 112, 116, 105, 111, 110, 46, 10, 10, 65, 32, 102, 101, 119, 32, 109, 111, 110, 116, 104, 115, 32, 97, 103, 111, 44, 32, 73, 32, 103, 111, 116, 32, 105, 110, 116, 101, 114, 101, 115, 116, 101, 100, 32, 105, 110, 32, 85, 110, 105, 99, 111, 100, 101, 32, 97, 110, 100, 32, 100, 101, 99, 105, 100, 101, 100, 32, 116, 111, 32, 115, 112, 101, 110, 100, 32, 115, 111, 109, 101, 32, 116, 105, 109, 101, 32, 108, 101, 97, 114, 110, 105, 110, 103, 32, 109, 111, 114, 101, 32, 97, 98, 111, 117, 116, 32, 105, 116, 32, 105, 110, 32, 100, 101, 116, 97, 105, 108, 46, 32, 73, 110, 32, 116, 104, 105, 115, 32, 97, 114, 116, 105, 99, 108, 101, 44, 32, 73, 226, 128, 153, 108, 108, 32, 103, 105, 118, 101, 32, 97, 110, 32, 105, 110, 116, 114, 111, 100, 117, 99, 116, 105, 111, 110, 32, 116, 111, 32, 105, 116, 32, 102, 114, 111, 109, 32, 97, 32, 112, 114, 111, 103, 114, 97, 109, 109, 101, 114, 226, 128, 153, 115, 32, 112, 111, 105, 110, 116, 32, 111, 102, 32, 118, 105, 101, 119, 46, 10, 10, 73, 226, 128, 153, 109, 32, 103, 111, 105, 110, 103, 32, 116, 111, 32, 102, 111, 99, 117, 115, 32, 111, 110, 32, 116, 104, 101, 32, 99, 104, 97, 114, 97, 99, 116, 101, 114, 32, 115, 101, 116, 32, 97, 110, 100, 32, 119, 104, 97, 116, 226, 128, 153, 115, 32, 105, 110, 118, 111, 108, 118, 101, 100, 32, 105, 110, 32, 119, 111, 114, 107, 105, 110, 103, 32, 119, 105, 116, 104, 32, 115, 116, 114, 105, 110, 103, 115, 32, 97, 110, 100, 32, 102, 105, 108, 101, 115, 32, 111, 102, 32, 85, 110, 105, 99, 111, 100, 101, 32, 116, 101, 120, 116, 46, 32, 72, 111, 119, 101, 118, 101, 114, 44, 32, 105, 110, 32, 116, 104, 105, 115, 32, 97, 114, 116, 105, 99, 108, 101, 32, 73, 226, 128, 153, 109, 32, 110, 111, 116, 32, 103, 111, 105, 110, 103, 32, 116, 111, 32, 116, 97, 108, 107, 32, 97, 98, 111, 117, 116, 32, 102, 111, 110, 116, 115, 44, 32, 116, 101, 120, 116, 32, 108, 97, 121, 111, 117, 116, 47, 115, 104, 97, 112, 105, 110, 103, 47, 114, 101, 110, 100, 101, 114, 105, 110, 103, 44, 32, 111, 114, 32, 108, 111, 99, 97, 108, 105, 122, 97, 116, 105, 111, 110, 32, 105, 110, 32, 100, 101, 116, 97, 105, 108, 226, 128, 148, 116, 104, 111, 115, 101, 32, 97, 114, 101, 32, 115, 101, 112, 97, 114, 97, 116, 101, 32, 105, 115, 115, 117, 101, 115, 44, 32, 98, 101, 121, 111, 110, 100, 32, 109, 121, 32, 115, 99, 111, 112, 101, 32, 40, 97, 110, 100, 32, 107, 110, 111, 119, 108, 101, 100, 103, 101, 41, 32, 104, 101, 114, 101, 46, 10, 10, 68, 105, 118, 101, 114, 115, 105, 116, 121, 32, 97, 110, 100, 32, 73, 110, 104, 101, 114, 101, 110, 116, 32, 67, 111, 109, 112, 108, 101, 120, 105, 116, 121, 10, 84, 104, 101, 32, 85, 110, 105, 99, 111, 100, 101, 32, 67, 111, 100, 101, 115, 112, 97, 99, 101, 10, 67, 111, 100, 101, 115, 112, 97, 99, 101, 32, 65, 108, 108, 111, 99, 97, 116, 105, 111, 110, 10, 83, 99, 114, 105, 112, 116, 115, 10, 85, 115, 97, 103, 101, 32, 70, 114, 101, 113, 117, 101, 110, 99, 121, 10, 69, 110, 99, 111, 100, 105, 110, 103, 115, 10, 85, 84, 70, 45, 56, 10, 85, 84, 70, 45, 49, 54, 10, 67, 111, 109, 98, 105, 110, 105, 110, 103, 32, 77, 97, 114, 107, 115, 10, 67, 97, 110, 111, 110, 105, 99, 97, 108, 32, 69, 113, 117, 105, 118, 97, 108, 101, 110, 99, 101, 10, 78, 111, 114, 109, 97, 108, 105, 122, 97, 116, 105, 111, 110, 32, 70, 111, 114, 109, 115, 10, 71, 114, 97, 112, 104, 101, 109, 101, 32, 67, 108, 117, 115, 116, 101, 114, 115, 10, 65, 110, 100, 32, 77, 111, 114, 101, 226, 128, 166, 10, 68, 105, 118, 101, 114, 115, 105, 116, 121, 32, 97, 110, 100, 32, 73, 110, 104, 101, 114, 101, 110, 116, 32, 67, 111, 109, 112, 108, 101, 120, 105, 116, 121, 10, 65, 115, 32, 115, 111, 111, 110, 32, 97, 115, 32, 121, 111, 117, 32, 115, 116, 97, 114, 116, 32, 116, 111, 32, 115, 116, 117, 100, 121, 32, 85, 110, 105, 99, 111, 100, 101, 44, 32, 105, 116, 32, 98, 101, 99, 111, 109, 101, 115, 32, 99, 108, 101, 97, 114, 32, 116, 104, 97, 116, 32, 105, 116, 32, 114, 101, 112, 114, 101, 115, 101, 110, 116, 115, 32, 97, 32, 108, 97, 114, 103, 101, 32, 106, 117, 109, 112, 32, 105, 110, 32, 99, 111, 109, 112, 108, 101, 120, 105, 116, 121, 32, 111, 118, 101, 114, 32, 99, 104, 97, 114, 97, 99, 116, 101, 114, 32, 115, 101, 116, 115, 32, 108, 105, 107, 101, 32, 65, 83, 67, 73, 73, 32, 116, 104, 97, 116, 32, 121, 111, 117, 32, 109, 97, 121, 32, 98, 101, 32, 109, 111, 114, 101, 32, 102, 97, 109, 105, 108, 105, 97, 114, 32, 119, 105, 116, 104, 46, 32, 73, 116, 226, 128, 153, 115, 32, 110, 111, 116, 32, 106, 117, 115, 116, 32, 116, 104, 97, 116, 32, 85, 110, 105, 99, 111, 100, 101, 32, 99, 111, 110, 116, 97, 105, 110, 115, 32, 97, 32, 109, 117, 99, 104, 32, 108, 97, 114, 103, 101, 114, 32, 110, 117, 109, 98, 101, 114, 32, 111, 102, 32, 99, 104, 97, 114, 97, 99, 116, 101, 114, 115, 44, 32, 97, 108, 116, 104, 111, 117, 103, 104, 32, 116, 104, 97, 116, 226, 128, 153, 115, 32, 112, 97, 114, 116, 32, 111, 102, 32, 105, 116, 46, 32, 85, 110, 105, 99, 111, 100, 101, 32, 97, 108, 115, 111, 32, 104, 97, 115, 32, 97, 32, 103, 114, 101, 97, 116, 32, 100, 101, 97, 108, 32, 111, 102, 32, 105, 110, 116, 101, 114, 110, 97, 108, 32, 115, 116, 114, 117, 99, 116, 117, 114, 101, 44, 32, 102, 101, 97, 116, 117, 114, 101, 115, 44, 32, 97, 110, 100, 32, 115, 112, 101, 99, 105, 97, 108, 32, 99, 97, 115, 101, 115, 44, 32, 109, 97, 107, 105, 110, 103, 32, 105, 116, 32, 109, 117, 99, 104, 32, 109, 111, 114, 101, 32, 116, 104, 97, 110, 32, 119, 104, 97, 116, 32, 111, 110, 101, 32, 109, 105, 103, 104, 116, 32, 101, 120, 112, 101, 99, 116, 32, 97, 32, 109, 101, 114, 101, 32, 226, 128, 156, 99, 104, 97, 114, 97, 99, 116, 101, 114, 32, 115, 101, 116, 226, 128, 157, 32, 116, 111, 32, 98, 101, 46, 32, 87, 101, 226, 128, 153, 108, 108, 32, 115, 101, 101, 32, 115, 111, 109, 101, 32, 111, 102, 32, 116, 104, 97, 116, 32, 108, 97, 116, 101, 114, 32, 105, 110, 32, 116, 104, 105, 115, 32, 97, 114, 116, 105, 99, 108, 101, 46, 10, 10, 87, 104, 101, 110, 32, 99, 111, 110, 102, 114, 111, 110, 116, 105, 110, 103, 32, 97, 108, 108, 32, 116, 104, 105, 115, 32, 99, 111, 109, 112, 108, 101, 120, 105, 116, 121, 44, 32, 101, 115, 112, 101, 99, 105, 97, 108, 108, 121, 32, 97, 115, 32, 97, 110, 32, 101, 110, 103, 105, 110, 101, 101, 114, 44, 32, 105, 116, 226, 128, 153, 115, 32, 104, 97, 114, 100, 32, 110, 111, 116, 32, 116, 111, 32, 102, 105, 110, 100, 32, 111, 110, 101, 115, 101, 108, 102, 32, 97, 115, 107, 105, 110, 103, 44, 32, 226, 128, 156, 87, 104, 121, 32, 100, 111, 32, 119, 101, 32, 110, 101, 101, 100, 32, 97, 108, 108, 32, 116, 104, 105, 115, 63, 32, 73, 115, 32, 116, 104, 105, 115, 32, 114, 101, 97, 108, 108, 121, 32, 110, 101, 99, 101, 115, 115, 97, 114, 121, 63, 32, 67, 111, 117, 108, 100, 110, 226, 128, 153, 116, 32, 105, 116, 32, 98, 101, 32, 115, 105, 109, 112, 108, 105, 102, 105, 101, 100, 63, 226, 128, 157, 10, 10, 72, 111, 119, 101, 118, 101, 114, 44, 32, 85, 110, 105, 99, 111, 100, 101, 32, 97, 105, 109, 115, 32, 116, 111, 32, 102, 97, 105, 116, 104, 102, 117, 108, 108, 121, 32, 114, 101, 112, 114, 101, 115, 101, 110, 116, 32, 116, 104, 101, 32, 101, 110, 116, 105, 114, 101, 32, 119, 111, 114, 108, 100, 226, 128, 153, 115, 32, 119, 114, 105, 116, 105, 110, 103, 32, 115, 121, 115, 116, 101, 109, 115, 46, 32, 84, 104, 101, 32, 85, 110, 105, 99, 111, 100, 101, 32, 67, 111, 110, 115, 111, 114, 116, 105, 117, 109, 226, 128, 153, 115, 32, 115, 116, 97, 116, 101, 100, 32, 103, 111, 97, 108, 32, 105, 115, 32, 226, 128, 156, 101, 110, 97, 98, 108, 105, 110, 103, 32, 112, 101, 111, 112, 108, 101, 32, 97, 114, 111, 117, 110, 100, 32, 116, 104, 101, 32, 119, 111, 114, 108, 100, 32, 116, 111, 32, 117, 115, 101, 32, 99, 111, 109, 112, 117, 116, 101, 114, 115, 32, 105, 110, 32, 97, 110, 121, 32, 108, 97, 110, 103, 117, 97, 103, 101, 226, 128, 157, 46, 32, 65, 110, 100, 32, 97, 115, 32, 121, 111, 117, 32, 109, 105, 103, 104, 116, 32, 105, 109, 97, 103, 105, 110, 101, 44, 32, 116, 104, 101, 32, 100, 105, 118, 101, 114, 115, 105, 116, 121, 32, 111, 102, 32, 119, 114, 105, 116, 116, 101, 110, 32, 108, 97, 110, 103, 117, 97, 103, 101, 115, 32, 105, 115, 32, 105, 109, 109, 101, 110, 115, 101, 33, 32, 84, 111, 32, 100, 97, 116, 101, 44, 32, 85, 110, 105, 99, 111, 100, 101, 32, 115, 117, 112, 112, 111, 114, 116, 115, 32, 49, 51, 53, 32, 100, 105, 102, 102, 101, 114, 101, 110, 116, 32, 115, 99, 114, 105, 112, 116, 115, 44, 32, 99, 111, 118, 101, 114, 105, 110, 103, 32, 115, 111, 109, 101, 32, 49, 49, 48, 48, 32, 108, 97, 110, 103, 117, 97, 103, 101, 115, 44, 32, 97, 110, 100, 32, 116, 104, 101, 114, 101, 226, 128, 153, 115, 32, 115, 116, 105, 108, 108, 32, 97, 32, 108, 111, 110, 103, 32, 116, 97, 105, 108, 32, 111, 102, 32, 111, 118, 101, 114, 32, 49, 48, 48, 32, 117, 110, 115, 117, 112, 112, 111, 114, 116, 101, 100, 32, 115, 99, 114, 105, 112, 116, 115, 44, 32, 98, 111, 116, 104, 32, 109, 111, 100, 101, 114, 110, 32, 97, 110, 100, 32, 104, 105, 115, 116, 111, 114, 105, 99, 97, 108, 44, 32, 119, 104, 105, 99, 104, 32, 112, 101, 111, 112, 108, 101, 32, 97, 114, 101, 32, 115, 116, 105, 108, 108, 32, 119, 111, 114, 107, 105, 110, 103, 32, 116, 111, 32, 97, 100, 100, 46, 10, 10, 71, 105, 118, 101, 110, 32, 116, 104, 105, 115, 32, 101, 110, 111, 114, 109, 111, 117, 115, 32, 100, 105, 118, 101, 114, 115, 105, 116, 121, 44, 32, 105, 116, 226, 128, 153, 115, 32, 105, 110, 101, 118, 105, 116, 97, 98, 108, 101, 32, 116, 104, 97, 116, 32, 114, 101, 112, 114, 101, 115, 101, 110, 116, 105, 110, 103, 32, 105, 116, 32, 105, 115, 32, 97, 32, 99, 111, 109, 112, 108, 105, 99, 97, 116, 101, 100, 32, 112, 114, 111, 106, 101, 99, 116, 46, 32, 85, 110, 105, 99, 111, 100, 101, 32, 101, 109, 98, 114, 97, 99, 101, 115, 32, 116, 104, 97, 116, 32, 100, 105, 118, 101, 114, 115, 105, 116, 121, 44, 32, 97, 110, 100, 32, 97, 99, 99, 101, 112, 116, 115, 32, 116, 104, 101, 32, 99, 111, 109, 112, 108, 101, 120, 105, 116, 121, 32, 105, 110, 104, 101, 114, 101, 110, 116, 32, 105, 110, 32, 105, 116, 115, 32, 109, 105, 115, 115, 105, 111, 110, 32, 116, 111, 32, 105, 110, 99, 108, 117, 100, 101, 32, 97, 108, 108, 32, 104, 117, 109, 97, 110, 32, 119, 114, 105, 116, 105, 110, 103, 32, 115, 121, 115, 116, 101, 109, 115, 46, 32, 73, 116, 32, 100, 111, 101, 115, 110, 226, 128, 153, 116, 32, 109, 97, 107, 101, 32, 97, 32, 108, 111, 116, 32, 111, 102, 32, 116, 114, 97, 100, 101, 45, 111, 102, 102, 115, 32, 105, 110, 32, 116, 104, 101, 32, 110, 97, 109, 101, 32, 111, 102, 32, 115, 105, 109, 112, 108, 105, 102, 105, 99, 97, 116, 105, 111, 110, 44, 32, 97, 110, 100, 32, 105, 116, 32, 109, 97, 107, 101, 115, 32, 101, 120, 99, 101, 112, 116, 105, 111, 110, 115, 32, 116, 111, 32, 105, 116, 115, 32, 111, 119, 110, 32, 114, 117, 108, 101, 115, 32, 119, 104, 101, 114, 101, 32, 110, 101, 99, 101, 115, 115, 97, 114, 121, 32, 116, 111, 32, 102, 117, 114, 116, 104, 101, 114, 32, 105, 116, 115, 32, 109, 105, 115, 115, 105, 111, 110, 46, 10, 10, 77, 111, 114, 101, 111, 118, 101, 114, 44, 32, 85, 110, 105, 99, 111, 100, 101, 32, 105, 115, 32, 99, 111, 109, 109, 105, 116, 116, 101, 100, 32, 110, 111, 116, 32, 106, 117, 115, 116, 32, 116, 111, 32, 115, 117, 112, 112, 111, 114, 116, 105, 110, 103, 32, 116, 101, 120, 116, 115, 32, 105, 110, 32, 97, 110, 121, 32, 115, 105, 110, 103, 108, 101, 32, 108, 97, 110, 103, 117, 97, 103, 101, 44, 32, 98, 117, 116, 32, 97, 108, 115, 111, 32, 116, 111, 32, 108, 101, 116, 116, 105, 110, 103, 32, 109, 117, 108, 116, 105, 112, 108, 101, 32, 108, 97, 110, 103, 117, 97, 103, 101, 115, 32, 99, 111, 101, 120, 105, 115, 116, 32, 119, 105, 116, 104, 105, 110, 32, 111, 110, 101, 32, 116, 101, 120, 116, 226, 128, 148, 119, 104, 105, 99, 104, 32, 105, 110, 116, 114, 111, 100, 117, 99, 101, 115, 32, 101, 118, 101, 110, 32, 109, 111, 114, 101, 32, 99, 111, 109, 112, 108, 101, 120, 105, 116, 121, 46, 10, 10, 77, 111, 115, 116, 32, 112, 114, 111, 103, 114, 97, 109, 109, 105, 110, 103, 32, 108, 97, 110, 103, 117, 97, 103, 101, 115, 32, 104, 97, 118, 101, 32, 108, 105, 98, 114, 97, 114, 105, 101, 115, 32, 97, 118, 97, 105, 108, 97, 98, 108, 101, 32, 116, 111, 32, 104, 97, 110, 100, 108, 101, 32, 116, 104, 101, 32, 103, 111, 114, 121, 32, 108, 111, 119, 45, 108, 101, 118, 101, 108, 32, 100, 101, 116, 97, 105, 108, 115, 32, 111, 102, 32, 116, 101, 120, 116, 32, 109, 97, 110, 105, 112, 117, 108, 97, 116, 105, 111, 110, 44, 32, 98, 117, 116, 32, 97, 115, 32, 97, 32, 112, 114, 111, 103, 114, 97, 109, 109, 101, 114, 44, 32, 121, 111, 117, 226, 128, 153, 108, 108, 32, 115, 116, 105, 108, 108, 32, 110, 101, 101, 100, 32, 116, 111, 32, 107, 110, 111, 119, 32, 97, 98, 111, 117, 116, 32, 99, 101, 114, 116, 97, 105, 110, 32, 85, 110, 105, 99, 111, 100, 101, 32, 102, 101, 97, 116, 117, 114, 101, 115, 32, 105, 110, 32, 111, 114, 100, 101, 114, 32, 116, 111, 32, 107, 110, 111, 119, 32, 119, 104, 101, 110, 32, 97, 110, 100, 32, 104, 111, 119, 32, 116, 111, 32, 97, 112, 112, 108, 121, 32, 116, 104, 101, 109, 46, 32, 73, 116, 32, 109, 97, 121, 32, 116, 97, 107, 101, 32, 115, 111, 109, 101, 32, 116, 105, 109, 101, 32, 116, 111, 32, 119, 114, 97, 112, 32, 121, 111, 117, 114, 32, 104, 101, 97, 100, 32, 97, 114, 111, 117, 110, 100, 32, 105, 116, 32, 97, 108, 108, 44, 32, 98, 117, 116, 32, 100, 111, 110, 226, 128, 153, 116, 32, 98, 101, 32, 100, 105, 115, 99, 111, 117, 114, 97, 103, 101, 100, 226, 128, 148, 116, 104, 105, 110, 107, 32, 97, 98, 111, 117, 116, 32, 116, 104, 101, 32, 98, 105, 108, 108, 105, 111, 110, 115, 32, 111, 102, 32, 112, 101, 111, 112, 108, 101, 32, 102, 111, 114, 32, 119, 104, 111, 109, 32, 121, 111, 117, 114, 32, 115, 111, 102, 116, 119, 97, 114, 101, 32, 119, 105, 108, 108, 32, 98, 101, 32, 109, 111, 114, 101, 32, 97, 99, 99, 101, 115, 115, 105, 98, 108, 101, 32, 116, 104, 114, 111, 117, 103, 104, 32, 115, 117, 112, 112, 111, 114, 116, 105, 110, 103, 32, 116, 101, 120, 116, 32, 105, 110, 32, 116, 104, 101, 105, 114, 32, 108, 97, 110, 103, 117, 97, 103, 101, 46, 32, 69, 109, 98, 114, 97, 99, 101, 32, 116, 104, 101, 32, 99, 111, 109, 112, 108, 101, 120, 105, 116, 121, 33, 10, 10, 84, 104, 101, 32, 85, 110, 105, 99, 111, 100, 101, 32, 67, 111, 100, 101, 115, 112, 97, 99, 101, 10, 76, 101, 116, 226, 128, 153, 115, 32, 115, 116, 97, 114, 116, 32, 119, 105, 116, 104, 32, 115, 111, 109, 101, 32, 103, 101, 110, 101, 114, 97, 108, 32, 111, 114, 105, 101, 110, 116, 97, 116, 105, 111, 110, 46, 32, 84, 104, 101, 32, 98, 97, 115, 105, 99, 32, 101, 108, 101, 109, 101, 110, 116, 115, 32, 111, 102, 32, 85, 110, 105, 99, 111, 100, 101, 226, 128, 148, 105, 116, 115, 32, 226, 128, 156, 99, 104, 97, 114, 97, 99, 116, 101, 114, 115, 226, 128, 157, 44, 32, 97, 108, 116, 104, 111, 117, 103, 104, 32, 116, 104, 97, 116, 32, 116, 101, 114, 109, 32, 105, 115, 110, 226, 128, 153, 116, 32, 113, 117, 105, 116, 101, 32, 114, 105, 103, 104, 116, 226, 128, 148, 97, 114, 101, 32, 99, 97, 108, 108, 101, 100, 32, 99, 111, 100, 101, 32, 112, 111, 105, 110, 116, 115, 46, 32, 67, 111, 100, 101, 32, 112, 111, 105, 110, 116, 115, 32, 97, 114, 101, 32, 105, 100, 101, 110, 116, 105, 102, 105, 101, 100, 32, 98, 121, 32, 110, 117, 109, 98, 101, 114, 44, 32, 99, 117, 115, 116, 111, 109, 97, 114, 105, 108, 121, 32, 119, 114, 105, 116, 116, 101, 110, 32, 105, 110, 32, 104, 101, 120, 97, 100, 101, 99, 105, 109, 97, 108, 32, 119, 105, 116, 104, 32, 116, 104, 101, 32, 112, 114, 101, 102, 105, 120, 32, 226, 128, 156, 85, 43, 226, 128, 157, 44, 32, 115, 117, 99, 104, 32, 97, 115, 32, 85, 43, 48, 48, 52, 49, 32, 226, 128, 156, 65, 226, 128, 157, 32, 108, 97, 116, 105, 110, 32, 99, 97, 112, 105, 116, 97, 108, 32, 108, 101, 116, 116, 101, 114, 32, 97, 32, 111, 114, 32, 85, 43, 48, 51, 66, 56, 32, 226, 128, 156, 206, 184, 226, 128, 157, 32, 103, 114, 101, 101, 107, 32, 115, 109, 97, 108, 108, 32, 108, 101, 116, 116, 101, 114, 32, 116, 104, 101, 116, 97, 46, 32, 69, 97, 99, 104, 32, 99, 111, 100, 101, 32, 112, 111, 105, 110, 116, 32, 97, 108, 115, 111, 32, 104, 97, 115, 32, 97, 32, 115, 104, 111, 114, 116, 32, 110, 97, 109, 101, 44, 32, 97, 110, 100, 32, 113, 117, 105, 116, 101, 32, 97, 32, 102, 101, 119, 32, 111, 116, 104, 101, 114, 32, 112, 114, 111, 112, 101, 114, 116, 105, 101, 115, 44, 32, 115, 112, 101, 99, 105, 102, 105, 101, 100, 32, 105, 110, 32, 116, 104, 101, 32, 85, 110, 105, 99, 111, 100, 101, 32, 67, 104, 97, 114, 97, 99, 116, 101, 114, 32, 68, 97, 116, 97, 98, 97, 115, 101, 46, 10, 10, 84, 104, 101, 32, 115, 101, 116, 32, 111, 102, 32, 97, 108, 108, 32, 112, 111, 115, 115, 105, 98, 108, 101, 32, 99, 111, 100, 101, 32, 112, 111, 105, 110, 116, 115, 32, 105, 115, 32, 99, 97, 108, 108, 101, 100, 32, 116, 104, 101, 32, 99, 111, 100, 101, 115, 112, 97, 99, 101, 46, 32, 84, 104, 101, 32, 85, 110, 105, 99, 111, 100, 101, 32, 99, 111, 100, 101, 115, 112, 97, 99, 101, 32, 99, 111, 110, 115, 105, 115, 116, 115, 32, 111, 102, 32, 49, 44, 49, 49, 52, 44, 49, 49, 50, 32, 99, 111, 100, 101, 32, 112, 111, 105, 110, 116, 115, 46, 32, 72, 111, 119, 101, 118, 101, 114, 44, 32, 111, 110, 108, 121, 32, 49, 50, 56, 44, 50, 51, 55, 32, 111, 102, 32, 116, 104, 101, 109, 226, 128, 148, 97, 98, 111, 117, 116, 32, 49, 50, 37, 32, 111, 102, 32, 116, 104, 101, 32, 99, 111, 100, 101, 115, 112, 97, 99, 101, 226, 128, 148, 97, 114, 101, 32, 97, 99, 116, 117, 97, 108, 108, 121, 32, 97, 115, 115, 105, 103, 110, 101, 100, 44, 32, 116, 111, 32, 100, 97, 116, 101, 46, 32, 84, 104, 101, 114, 101, 226, 128, 153, 115, 32, 112, 108, 101, 110, 116, 121, 32, 111, 102, 32, 114, 111, 111, 109, 32, 102, 111, 114, 32, 103, 114, 111, 119, 116, 104, 33, 32, 85, 110, 105, 99, 111, 100, 101, 32, 97, 108, 115, 111, 32, 114, 101, 115, 101, 114, 118, 101, 115, 32, 97, 110, 32, 97, 100, 100, 105, 116, 105, 111, 110, 97, 108, 32, 49, 51, 55, 44, 52, 54, 56, 32, 99, 111, 100, 101, 32, 112, 111, 105, 110, 116, 115, 32, 97, 115, 32, 226, 128, 156, 112, 114, 105, 118, 97, 116, 101, 32, 117, 115, 101, 226, 128, 157, 32, 97, 114, 101, 97, 115, 44, 32, 119, 104, 105, 99, 104, 32, 104, 97, 118, 101, 32, 110, 111, 32, 115, 116, 97, 110, 100, 97, 114, 100, 105, 122, 101, 100, 32, 109, 101, 97, 110, 105, 110, 103, 32, 97, 110, 100, 32, 97, 114, 101, 32, 97, 118, 97, 105, 108, 97, 98, 108, 101, 32, 102, 111, 114, 32, 105, 110, 100, 105, 118, 105, 100, 117, 97, 108, 32, 97, 112, 112, 108, 105, 99, 97, 116, 105, 111, 110, 115, 32, 116, 111, 32, 100, 101, 102, 105, 110, 101, 32, 102, 111, 114, 32, 116, 104, 101, 105, 114, 32, 111, 119, 110, 32, 112, 117, 114, 112, 111, 115, 101, 115, 46, 10, 10, 67, 111, 100, 101, 115, 112, 97, 99, 101, 32, 65, 108, 108, 111, 99, 97, 116, 105, 111, 110, 10, 84, 111, 32, 103, 101, 116, 32, 97, 32, 102, 101, 101, 108, 32, 102, 111, 114, 32, 104, 111, 119, 32, 116, 104, 101, 32, 99, 111, 100, 101, 115, 112, 97, 99, 101, 32, 105, 115, 32, 108, 97, 105, 100, 32, 111, 117, 116, 44, 32, 105, 116, 226, 128, 153, 115, 32, 104, 101, 108, 112, 102, 117, 108, 32, 116, 111, 32, 118, 105, 115, 117, 97, 108, 105, 122, 101, 32, 105, 116, 46, 32, 66, 101, 108, 111, 119, 32, 105, 115, 32, 97, 32, 109, 97, 112, 32, 111, 102, 32, 116, 104, 101, 32, 101, 110, 116, 105, 114, 101, 32, 99, 111, 100, 101, 115, 112, 97, 99, 101, 44, 32, 119, 105, 116, 104, 32, 111, 110, 101, 32, 112, 105, 120, 101, 108, 32, 112, 101, 114, 32, 99, 111, 100, 101, 32, 112, 111, 105, 110, 116, 46, 32, 73, 116, 226, 128, 153, 115, 32, 97, 114, 114, 97, 110, 103, 101, 100, 32, 105, 110, 32, 116, 105, 108, 101, 115, 32, 102, 111, 114, 32, 118, 105, 115, 117, 97, 108, 32, 99, 111, 104, 101, 114, 101, 110, 99, 101, 59, 32, 101, 97, 99, 104, 32, 115, 109, 97, 108, 108, 32, 115, 113, 117, 97, 114, 101, 32, 105, 115, 32, 49, 54, 195, 151, 49, 54, 32, 61, 32, 50, 53, 54, 32, 99, 111, 100, 101, 32, 112, 111, 105, 110, 116, 115, 44, 32, 97, 110, 100, 32, 101, 97, 99, 104, 32, 108, 97, 114, 103, 101, 32, 115, 113, 117, 97, 114, 101, 32, 105, 115, 32, 97, 32, 226, 128, 156, 112, 108, 97, 110, 101, 226, 128, 157, 32, 111, 102, 32, 54, 53, 44, 53, 51, 54, 32, 99, 111, 100, 101, 32, 112, 111, 105, 110, 116, 115, 46, 32, 84, 104, 101, 114, 101, 32, 97, 114, 101, 32, 49, 55, 32, 112, 108, 97, 110, 101, 115, 32, 97, 108, 116, 111, 103, 101, 116, 104, 101, 114, 46, 10, 10, 77, 97, 112, 32, 111, 102, 32, 116, 104, 101, 32, 85, 110, 105, 99, 111, 100, 101, 32, 99, 111, 100, 101, 115, 112, 97, 99, 101, 32, 40, 99, 108, 105, 99, 107, 32, 116, 111, 32, 122, 111, 111, 109, 41, 10, 10, 87, 104, 105, 116, 101, 32, 114, 101, 112, 114, 101, 115, 101, 110, 116, 115, 32, 117, 110, 97, 115, 115, 105, 103, 110, 101, 100, 32, 115, 112, 97, 99, 101, 46, 32, 66, 108, 117, 101, 32, 105, 115, 32, 97, 115, 115, 105, 103, 110, 101, 100, 32, 99, 111, 100, 101, 32, 112, 111, 105, 110, 116, 115, 44, 32, 103, 114, 101, 101, 110, 32, 105, 115, 32, 112, 114, 105, 118, 97, 116, 101, 45, 117, 115, 101, 32, 97, 114, 101, 97, 115, 44, 32, 97, 110, 100, 32, 116, 104, 101, 32, 115, 109, 97, 108, 108, 32, 114, 101, 100, 32, 97, 114, 101, 97, 32, 105, 115, 32, 115, 117, 114, 114, 111, 103, 97, 116, 101, 115, 32, 40, 109, 111, 114, 101, 32, 97, 98, 111, 117, 116, 32, 116, 104, 111, 115, 101, 32, 108, 97, 116, 101, 114, 41, 46, 32, 65, 115, 32, 121, 111, 117, 32, 99, 97, 110, 32, 115, 101, 101, 44, 32, 116, 104, 101, 32, 97, 115, 115, 105, 103, 110, 101, 100, 32, 99, 111, 100, 101, 32, 112, 111, 105, 110, 116, 115, 32, 97, 114, 101, 32, 100, 105, 115, 116, 114, 105, 98, 117, 116, 101, 100, 32, 115, 111, 109, 101, 119, 104, 97, 116, 32, 115, 112, 97, 114, 115, 101, 108, 121, 44, 32, 98, 117, 116, 32, 99, 111, 110, 99, 101, 110, 116, 114, 97, 116, 101, 100, 32, 105, 110, 32, 116, 104, 101, 32, 102, 105, 114, 115, 116, 32, 116, 104, 114, 101, 101, 32, 112, 108, 97, 110, 101, 115, 46, 10, 10, 80, 108, 97, 110, 101, 32, 48, 32, 105, 115, 32, 97, 108, 115, 111, 32, 107, 110, 111, 119, 110, 32, 97, 115, 32, 116, 104, 101, 32, 226, 128, 156, 66, 97, 115, 105, 99, 32, 77, 117, 108, 116, 105, 108, 105, 110, 103, 117, 97, 108, 32, 80, 108, 97, 110, 101, 226, 128, 157, 44, 32, 111, 114, 32, 66, 77, 80, 46, 32, 84, 104, 101, 32, 66, 77, 80, 32, 99, 111, 110, 116, 97, 105, 110, 115, 32, 101, 115, 115, 101, 110, 116, 105, 97, 108, 108, 121, 32, 97, 108, 108, 32, 116, 104, 101, 32, 99, 104, 97, 114, 97, 99, 116, 101, 114, 115, 32, 110, 101, 101, 100, 101, 100, 32, 102, 111, 114, 32, 109, 111, 100, 101, 114, 110, 32, 116, 101, 120, 116, 32, 105, 110, 32, 97, 110, 121, 32, 115, 99, 114, 105, 112, 116, 44, 32, 105, 110, 99, 108, 117, 100, 105, 110, 103, 32, 76, 97, 116, 105, 110, 44, 32, 67, 121, 114, 105, 108, 108, 105, 99, 44, 32, 71, 114, 101, 101, 107, 44, 32, 72, 97, 110, 32, 40, 67, 104, 105, 110, 101, 115, 101, 41, 44, 32, 74, 97, 112, 97, 110, 101, 115, 101, 44, 32, 75, 111, 114, 101, 97, 110, 44, 32, 65, 114, 97, 98, 105, 99, 44, 32, 72, 101, 98, 114, 101, 119, 44, 32, 68, 101, 118, 97, 110, 97, 103, 97, 114, 105, 32, 40, 73, 110, 100, 105, 97, 110, 41, 44, 32, 97, 110, 100, 32, 109, 97, 110, 121, 32, 109, 111, 114, 101, 46, 10, 10, 40, 73, 110, 32, 116, 104, 101, 32, 112, 97, 115, 116, 44, 32, 116, 104, 101, 32, 99, 111, 100, 101, 115, 112, 97, 99, 101, 32, 119, 97, 115, 32, 106, 117, 115, 116, 32, 116, 104, 101, 32, 66, 77, 80, 32, 97, 110, 100, 32, 110, 111, 32, 109, 111, 114, 101, 226, 128, 148, 85, 110, 105, 99, 111, 100, 101, 32, 119, 97, 115, 32, 111, 114, 105, 103, 105, 110, 97, 108, 108, 121, 32, 99, 111, 110, 99, 101, 105, 118, 101, 100, 32, 97, 115, 32, 97, 32, 115, 116, 114, 97, 105, 103, 104, 116, 102, 111, 114, 119, 97, 114, 100, 32, 49, 54, 45, 98, 105, 116, 32, 101, 110, 99, 111, 100, 105, 110, 103, 44, 32, 119, 105, 116, 104, 32, 111, 110, 108, 121, 32, 54, 53, 44, 53, 51, 54, 32, 99, 111, 100, 101, 32, 112, 111, 105, 110, 116, 115, 46, 32, 73, 116, 32, 119, 97, 115, 32, 101, 120, 112, 97, 110, 100, 101, 100, 32, 116, 111, 32, 105, 116, 115, 32, 99, 117, 114, 114, 101, 110, 116, 32, 115, 105, 122, 101, 32, 105, 110, 32, 49, 57, 57, 54, 46, 32, 72, 111, 119, 101, 118, 101, 114, 44, 32, 116, 104, 101, 32, 118, 97, 115, 116, 32, 109, 97, 106, 111, 114, 105, 116, 121, 32, 111, 102, 32, 99, 111, 100, 101, 32, 112, 111, 105, 110, 116, 115, 32, 105, 110, 32, 109, 111, 100, 101, 114, 110, 32, 116, 101, 120, 116, 32, 98, 101, 108, 111, 110, 103, 32, 116, 111, 32, 116, 104, 101, 32, 66, 77, 80, 46, 41, 10, 10, 80, 108, 97, 110, 101, 32, 49, 32, 99, 111, 110, 116, 97, 105, 110, 115, 32, 104, 105, 115, 116, 111, 114, 105, 99, 97, 108, 32, 115, 99, 114, 105, 112, 116, 115, 44, 32, 115, 117, 99, 104, 32, 97, 115, 32, 83, 117, 109, 101, 114, 105, 97, 110, 32, 99, 117, 110, 101, 105, 102, 111, 114, 109, 32, 97, 110, 100, 32, 69, 103, 121, 112, 116, 105, 97, 110, 32, 104, 105, 101, 114, 111, 103, 108, 121, 112, 104, 115, 44, 32, 97, 115, 32, 119, 101, 108, 108, 32, 97, 115, 32, 101, 109, 111, 106, 105, 32, 97, 110, 100, 32, 118, 97, 114, 105, 111, 117, 115, 32, 111, 116, 104, 101, 114, 32, 115, 121, 109, 98, 111, 108, 115, 46, 32, 80, 108, 97, 110, 101, 32, 50, 32, 99, 111, 110, 116, 97, 105, 110, 115, 32, 97, 32, 108, 97, 114, 103, 101, 32, 98, 108, 111, 99, 107, 32, 111, 102, 32, 108, 101, 115, 115, 45, 99, 111, 109, 109, 111, 110, 32, 97, 110, 100, 32, 104, 105, 115, 116, 111, 114, 105, 99, 97, 108, 32, 72, 97, 110, 32, 99, 104, 97, 114, 97, 99, 116, 101, 114, 115, 46, 32, 84, 104, 101, 32, 114, 101, 109, 97, 105, 110, 105, 110, 103, 32, 112, 108, 97, 110, 101, 115, 32, 97, 114, 101, 32, 101, 109, 112, 116, 121, 44, 32, 101, 120, 99, 101, 112, 116, 32, 102, 111, 114, 32, 97, 32, 115, 109, 97, 108, 108, 32, 110, 117, 109, 98, 101, 114, 32, 111, 102, 32, 114, 97, 114, 101, 108, 121, 45, 117, 115, 101, 100, 32, 102, 111, 114, 109, 97, 116, 116, 105, 110, 103, 32, 99, 104, 97, 114, 97, 99, 116, 101, 114, 115, 32, 105, 110, 32, 80, 108, 97, 110, 101, 32, 49, 52, 59, 32, 112, 108, 97, 110, 101, 115, 32, 49, 53, 226, 128, 147, 49, 54, 32, 97, 114, 101, 32, 114, 101, 115, 101, 114, 118, 101, 100, 32, 101, 110, 116, 105, 114, 101, 108, 121, 32, 102, 111, 114, 32, 112, 114, 105, 118, 97, 116, 101, 32, 117, 115, 101, 46, 10, 10, 83, 99, 114, 105, 112, 116, 115, 10, 76, 101, 116, 226, 128, 153, 115, 32, 122, 111, 111, 109, 32, 105, 110, 32, 111, 110, 32, 116, 104, 101, 32, 102, 105, 114, 115, 116, 32, 116, 104, 114, 101, 101, 32, 112, 108, 97, 110, 101, 115, 44, 32, 115, 105, 110, 99, 101, 32, 116, 104, 97, 116, 226, 128, 153, 115, 32, 119, 104, 101, 114, 101, 32, 116, 104, 101, 32, 97, 99, 116, 105, 111, 110, 32, 105, 115, 58, 10, 10, 77, 97, 112, 32, 111, 102, 32, 115, 99, 114, 105, 112, 116, 115, 32, 105, 110, 32, 85, 110, 105, 99, 111, 100, 101, 32, 112, 108, 97, 110, 101, 115, 32, 48, 226, 128, 147, 50, 32, 40, 99, 108, 105, 99, 107, 32, 116, 111, 32, 122, 111, 111, 109, 41, 10, 10, 84, 104, 105, 115, 32, 109, 97, 112, 32, 99, 111, 108, 111, 114, 45, 99, 111, 100, 101, 115, 32, 116, 104, 101, 32, 49, 51, 53, 32, 100, 105, 102, 102, 101, 114, 101, 110, 116, 32, 115, 99, 114, 105, 112, 116, 115, 32, 105, 110, 32, 85, 110, 105, 99, 111, 100, 101, 46, 32, 89, 111, 117, 32, 99, 97, 110, 32, 115, 101, 101, 32, 104, 111, 119, 32, 72, 97, 110, 32, 40, 41, 32, 97, 110, 100, 32, 75, 111, 114, 101, 97, 110, 32, 40, 41, 32, 116, 97, 107, 101, 32, 117, 112, 32, 109, 111, 115, 116, 32, 111, 102, 32, 116, 104, 101, 32, 114, 97, 110, 103, 101, 32, 111, 102, 32, 116, 104, 101, 32, 66, 77, 80, 32, 40, 116, 104, 101, 32, 108, 101, 102, 116, 32, 108, 97, 114, 103, 101, 32, 115, 113, 117, 97, 114, 101, 41, 46, 32, 66, 121, 32, 99, 111, 110, 116, 114, 97, 115, 116, 44, 32, 97, 108, 108, 32, 111, 102, 32, 116, 104, 101, 32, 69, 117, 114, 111, 112, 101, 97, 110, 44, 32, 77, 105, 100, 100, 108, 101, 32, 69, 97, 115, 116, 101, 114, 110, 44, 32, 97, 110, 100, 32, 83, 111, 117, 116, 104, 32, 65, 115, 105, 97, 110, 32, 115, 99, 114, 105, 112, 116, 115, 32, 102, 105, 116, 32, 105, 110, 116, 111, 32, 116, 104, 101, 32, 102, 105, 114, 115, 116, 32, 114, 111, 119, 32, 111, 102, 32, 116, 104, 101, 32, 66, 77, 80, 32, 105, 110, 32, 116, 104, 105, 115, 32, 100, 105, 97, 103, 114, 97, 109, 46, 10, 10, 77, 97, 110, 121, 32, 97, 114, 101, 97, 115, 32, 111, 102, 32, 116, 104, 101, 32, 99, 111, 100, 101, 115, 112, 97, 99, 101, 32, 97, 114, 101, 32, 97, 100, 97, 112, 116, 101, 100, 32, 111, 114, 32, 99, 111, 112, 105, 101, 100, 32, 102, 114, 111, 109, 32, 101, 97, 114, 108, 105, 101, 114, 32, 101, 110, 99, 111, 100, 105, 110, 103, 115, 46, 32, 70, 111, 114, 32, 101, 120, 97, 109, 112, 108, 101, 44, 32, 116, 104, 101, 32, 102, 105, 114, 115, 116, 32, 49, 50, 56, 32, 99, 111, 100, 101, 32, 112, 111, 105, 110, 116, 115, 32, 111, 102, 32, 85, 110, 105, 99, 111, 100, 101, 32, 97, 114, 101, 32, 106, 117, 115, 116, 32, 97, 32, 99, 111, 112, 121, 32, 111, 102, 32, 65, 83, 67, 73, 73, 46, 32, 84, 104, 105, 115, 32, 104, 97, 115, 32, 99, 108, 101, 97, 114, 32, 98, 101, 110, 101, 102, 105, 116, 115, 32, 102, 111, 114, 32, 99, 111, 109, 112, 97, 116, 105, 98, 105, 108, 105, 116, 121, 226, 128, 148, 105, 116, 226, 128, 153, 115, 32, 101, 97, 115, 121, 32, 116, 111, 32, 108, 111, 115, 115, 108, 101, 115, 115, 108, 121, 32, 99, 111, 110, 118, 101, 114, 116, 32, 116, 101, 120, 116, 115, 32, 102, 114, 111, 109, 32, 115, 109, 97, 108, 108, 101, 114, 32, 101, 110, 99, 111, 100, 105, 110, 103, 115, 32, 105, 110, 116, 111, 32, 85, 110, 105, 99, 111, 100, 101, 32, 40, 97, 110, 100, 32, 116, 104, 101, 32, 111, 116, 104, 101, 114, 32, 100, 105, 114, 101, 99, 116, 105, 111, 110, 32, 116, 111, 111, 44, 32, 97, 115, 32, 108, 111, 110, 103, 32, 97, 115, 32, 110, 111, 32, 99, 104, 97, 114, 97, 99, 116, 101, 114, 115, 32, 111, 117, 116, 115, 105, 100, 101, 32, 116, 104, 101, 32, 115, 109, 97, 108, 108, 101, 114, 32, 101, 110, 99, 111, 100, 105, 110, 103, 32, 97, 114, 101, 32, 117, 115, 101, 100, 41, 46, 10, 10, 85, 115, 97, 103, 101, 32, 70, 114, 101, 113, 117, 101, 110, 99, 121, 10, 79, 110, 101, 32, 109, 111, 114, 101, 32, 105, 110, 116, 101, 114, 101, 115, 116, 105, 110, 103, 32, 119, 97, 121, 32, 116, 111, 32, 118, 105, 115, 117, 97, 108, 105, 122, 101, 32, 116, 104, 101, 32, 99, 111, 100, 101, 115, 112, 97, 99, 101, 32, 105, 115, 32, 116, 111, 32, 108, 111, 111, 107, 32, 97, 116, 32, 116, 104, 101, 32, 100, 105, 115, 116, 114, 105, 98, 117, 116, 105, 111, 110, 32, 111, 102, 32, 117, 115, 97, 103, 101, 226, 128, 148, 105, 110, 32, 111, 116, 104, 101, 114, 32, 119, 111, 114, 100, 115, 44, 32, 104, 111, 119, 32, 111, 102, 116, 101, 110, 32, 101, 97, 99, 104, 32, 99, 111, 100, 101, 32, 112, 111, 105, 110, 116, 32, 105, 115, 32, 97, 99, 116, 117, 97, 108, 108, 121, 32, 117, 115, 101, 100, 32, 105, 110, 32, 114, 101, 97, 108, 45, 119, 111, 114, 108, 100, 32, 116, 101, 120, 116, 115, 46, 32, 66, 101, 108, 111, 119, 32, 105, 115, 32, 97, 32, 104, 101, 97, 116, 32, 109, 97, 112, 32, 111, 102, 32, 112, 108, 97, 110, 101, 115, 32, 48, 226, 128, 147, 50, 32, 98, 97, 115, 101, 100, 32, 111, 110, 32, 97, 32, 108, 97, 114, 103, 101, 32, 115, 97, 109, 112, 108, 101, 32, 111, 102, 32, 116, 101, 120, 116, 32, 102, 114, 111, 109, 32, 87, 105, 107, 105, 112, 101, 100, 105, 97, 32, 97, 110, 100, 32, 84, 119, 105, 116, 116, 101, 114, 32, 40, 97, 108, 108, 32, 108, 97, 110, 103, 117, 97, 103, 101, 115, 41, 46, 32, 70, 114, 101, 113, 117, 101, 110, 99, 121, 32, 105, 110, 99, 114, 101, 97, 115, 101, 115, 32, 102, 114, 111, 109, 32, 98, 108, 97, 99, 107, 32, 40, 110, 101, 118, 101, 114, 32, 115, 101, 101, 110, 41, 32, 116, 104, 114, 111, 117, 103, 104, 32, 114, 101, 100, 32, 97, 110, 100, 32, 121, 101, 108, 108, 111, 119, 32, 116, 111, 32, 119, 104, 105, 116, 101, 46, 10, 10, 72, 101, 97, 116, 32, 109, 97, 112, 32, 111, 102, 32, 99, 111, 100, 101, 32, 112, 111, 105, 110, 116, 32, 117, 115, 97, 103, 101, 32, 102, 114, 101, 113, 117, 101, 110, 99, 121, 32, 105, 110, 32, 85, 110, 105, 99, 111, 100, 101, 32, 112, 108, 97, 110, 101, 115, 32, 48, 226, 128, 147, 50, 32, 40, 99, 108, 105, 99, 107, 32, 116, 111, 32, 122, 111, 111, 109, 41, 10, 10, 89, 111, 117, 32, 99, 97, 110, 32, 115, 101, 101, 32, 116, 104, 97, 116, 32, 116, 104, 101, 32, 118, 97, 115, 116, 32, 109, 97, 106, 111, 114, 105, 116, 121, 32, 111, 102, 32, 116, 104, 105, 115, 32, 116, 101, 120, 116, 32, 115, 97, 109, 112, 108, 101, 32, 108, 105, 101, 115, 32, 105, 110, 32, 116, 104, 101, 32, 66, 77, 80, 44, 32, 119, 105, 116, 104, 32, 111, 110, 108, 121, 32, 115, 99, 97, 116, 116, 101, 114, 101, 100, 32, 117, 115, 97, 103, 101, 32, 111, 102, 32, 99, 111, 100, 101, 32, 112, 111, 105, 110, 116, 115, 32, 102, 114, 111, 109, 32, 112, 108, 97, 110, 101, 115, 32, 49, 226, 128, 147, 50, 46, 32, 84, 104, 101, 32, 98, 105, 103, 103, 101, 115, 116, 32, 101, 120, 99, 101, 112, 116, 105, 111, 110, 32, 105, 115, 32, 101, 109, 111, 106, 105, 44, 32, 119, 104, 105, 99, 104, 32, 115, 104, 111, 119, 32, 117, 112, 32, 104, 101, 114, 101, 32, 97, 115, 32, 116, 104, 101, 32, 115, 101, 118, 101, 114, 97, 108, 32, 98, 114, 105, 103, 104, 116, 32, 115, 113, 117, 97, 114, 101, 115, 32, 105, 110, 32, 116, 104, 101, 32, 98, 111, 116, 116, 111, 109, 32, 114, 111, 119, 32, 111, 102, 32, 112, 108, 97, 110, 101, 32, 49, 46, 10, 10, 69, 110, 99, 111, 100, 105, 110, 103, 115, 10, 87, 101, 226, 128, 153, 118, 101, 32, 115, 101, 101, 110, 32, 116, 104, 97, 116, 32, 85, 110, 105, 99, 111, 100, 101, 32, 99, 111, 100, 101, 32, 112, 111, 105, 110, 116, 115, 32, 97, 114, 101, 32, 97, 98, 115, 116, 114, 97, 99, 116, 108, 121, 32, 105, 100, 101, 110, 116, 105, 102, 105, 101, 100, 32, 98, 121, 32, 116, 104, 101, 105, 114, 32, 105, 110, 100, 101, 120, 32, 105, 110, 32, 116, 104, 101, 32, 99, 111, 100, 101, 115, 112, 97, 99, 101, 44, 32, 114, 97, 110, 103, 105, 110, 103, 32, 102, 114, 111, 109, 32, 85, 43, 48, 48, 48, 48, 32, 116, 111, 32, 85, 43, 49, 48, 70, 70, 70, 70, 46, 32, 66, 117, 116, 32, 104, 111, 119, 32, 100, 111, 32, 99, 111, 100, 101, 32, 112, 111, 105, 110, 116, 115, 32, 103, 101, 116, 32, 114, 101, 112, 114, 101, 115, 101, 110, 116, 101, 100, 32, 97, 115, 32, 98, 121, 116, 101, 115, 44, 32, 105, 110, 32, 109, 101, 109, 111, 114, 121, 32, 111, 114, 32, 105, 110, 32, 97, 32, 102, 105, 108, 101, 63, 10, 10, 84, 104, 101, 32, 109, 111, 115, 116, 32, 99, 111, 110, 118, 101, 110, 105, 101, 110, 116, 44, 32, 99, 111, 109, 112, 117, 116, 101, 114, 45, 102, 114, 105, 101, 110, 100, 108, 105, 101, 115, 116, 32, 40, 97, 110, 100, 32, 112, 114, 111, 103, 114, 97, 109, 109, 101, 114, 45, 102, 114, 105, 101, 110, 100, 108, 105, 101, 115, 116, 41, 32, 116, 104, 105, 110, 103, 32, 116, 111, 32, 100, 111, 32, 119, 111, 117, 108, 100, 32, 98, 101, 32, 116, 111, 32, 106, 117, 115, 116, 32, 115, 116, 111, 114, 101, 32, 116, 104, 101, 32, 99, 111, 100, 101, 32, 112, 111, 105, 110, 116, 32, 105, 110, 100, 101, 120, 32, 97, 115, 32, 97, 32, 51, 50, 45, 98, 105, 116, 32, 105, 110, 116, 101, 103, 101, 114, 46, 32, 84, 104, 105, 115, 32, 119, 111, 114, 107, 115, 44, 32, 98, 117, 116, 32, 105, 116, 32, 99, 111, 110, 115, 117, 109, 101, 115, 32, 52, 32, 98, 121, 116, 101, 115, 32, 112, 101, 114, 32, 99, 111, 100, 101, 32, 112, 111, 105, 110, 116, 44, 32, 119, 104, 105, 99, 104, 32, 105, 115, 32, 115, 111, 114, 116, 32, 111, 102, 32, 97, 32, 108, 111, 116, 46, 32, 85, 115, 105, 110, 103, 32, 51, 50, 45, 98, 105, 116, 32, 105, 110, 116, 115, 32, 102, 111, 114, 32, 85, 110, 105, 99, 111, 100, 101, 32, 119, 105, 108, 108, 32, 99, 111, 115, 116, 32, 121, 111, 117, 32, 97, 32, 98, 117, 110, 99, 104, 32, 111, 102, 32, 101, 120, 116, 114, 97, 32, 115, 116, 111, 114, 97, 103, 101, 44, 32, 109, 101, 109, 111, 114, 121, 44, 32, 97, 110, 100, 32, 112, 101, 114, 102, 111, 114, 109, 97, 110, 99, 101, 32, 105, 110, 32, 98, 97, 110, 100, 119, 105, 100, 116, 104, 45, 98, 111, 117, 110, 100, 32, 115, 99, 101, 110, 97, 114, 105, 111, 115, 44, 32, 105, 102, 32, 121, 111, 117, 32, 119, 111, 114, 107, 32, 119, 105, 116, 104, 32, 97, 32, 108, 111, 116, 32, 111, 102, 32, 116, 101, 120, 116, 46, 10, 10, 67, 111, 110, 115, 101, 113, 117, 101, 110, 116, 108, 121, 44, 32, 116, 104, 101, 114, 101, 32, 97, 114, 101, 32, 115, 101, 118, 101, 114, 97, 108, 32, 109, 111, 114, 101, 45, 99, 111, 109, 112, 97, 99, 116, 32, 101, 110, 99, 111, 100, 105, 110, 103, 115, 32, 102, 111, 114, 32, 85, 110, 105, 99, 111, 100, 101, 46, 32, 84, 104, 101, 32, 51, 50, 45, 98, 105, 116, 32, 105, 110, 116, 101, 103, 101, 114, 32, 101, 110, 99, 111, 100, 105, 110, 103, 32, 105, 115, 32, 111, 102, 102, 105, 99, 105, 97, 108, 108, 121, 32, 99, 97, 108, 108, 101, 100, 32, 85, 84, 70, 45, 51, 50, 32, 40, 85, 84, 70, 32, 61, 32, 226, 128, 156, 85, 110, 105, 99, 111, 100, 101, 32, 84, 114, 97, 110, 115, 102, 111, 114, 109, 97, 116, 105, 111, 110, 32, 70, 111, 114, 109, 97, 116, 226, 128, 157, 41, 44, 32, 98, 117, 116, 32, 105, 116, 226, 128, 153, 115, 32, 114, 97, 114, 101, 108, 121, 32, 117, 115, 101, 100, 32, 102, 111, 114, 32, 115, 116, 111, 114, 97, 103, 101, 46, 32, 65, 116, 32, 109, 111, 115, 116, 44, 32, 105, 116, 32, 99, 111, 109, 101, 115, 32, 117, 112, 32, 115, 111, 109, 101, 116, 105, 109, 101, 115, 32, 97, 115, 32, 97, 32, 116, 101, 109, 112, 111, 114, 97, 114, 121, 32, 105, 110, 116, 101, 114, 110, 97, 108, 32, 114, 101, 112, 114, 101, 115, 101, 110, 116, 97, 116, 105, 111, 110, 44, 32, 102, 111, 114, 32, 101, 120, 97, 109, 105, 110, 105, 110, 103, 32, 111, 114, 32, 111, 112, 101, 114, 97, 116, 105, 110, 103, 32, 111, 110, 32, 116, 104, 101, 32, 99, 111, 100, 101, 32, 112, 111, 105, 110, 116, 115, 32, 105, 110, 32, 97, 32, 115, 116, 114, 105, 110, 103, 46, 10, 10, 77, 117, 99, 104, 32, 109, 111, 114, 101, 32, 99, 111, 109, 109, 111, 110, 108, 121, 44, 32, 121, 111, 117, 226, 128, 153, 108, 108, 32, 115, 101, 101, 32, 85, 110, 105, 99, 111, 100, 101, 32, 116, 101, 120, 116, 32, 101, 110, 99, 111, 100, 101, 100, 32, 97, 115, 32, 101, 105, 116, 104, 101, 114, 32, 85, 84, 70, 45, 56, 32, 111, 114, 32, 85, 84, 70, 45, 49, 54, 46, 32, 84, 104, 101, 115, 101, 32, 97, 114, 101, 32, 98, 111, 116, 104, 32, 118, 97, 114, 105, 97, 98, 108, 101, 45, 108, 101, 110, 103, 116, 104, 32, 101, 110, 99, 111, 100, 105, 110, 103, 115, 44, 32, 109, 97, 100, 101, 32, 117, 112, 32, 111, 102, 32, 56, 45, 98, 105, 116, 32, 111, 114, 32, 49, 54, 45, 98, 105, 116, 32, 117, 110, 105, 116, 115, 44, 32, 114, 101, 115, 112, 101, 99, 116, 105, 118, 101, 108, 121, 46, 32, 73, 110, 32, 116, 104, 101, 115, 101, 32, 115, 99, 104, 101, 109, 101, 115, 44, 32, 99, 111, 100, 101, 32, 112, 111, 105, 110, 116, 115, 32, 119, 105, 116, 104, 32, 115, 109, 97, 108, 108, 101, 114, 32, 105, 110, 100, 101, 120, 32, 118, 97, 108, 117, 101, 115, 32, 116, 97, 107, 101, 32, 117, 112, 32, 102, 101, 119, 101, 114, 32, 98, 121, 116, 101, 115, 44, 32, 119, 104, 105, 99, 104, 32, 115, 97, 118, 101, 115, 32, 97, 32, 108, 111, 116, 32, 111, 102, 32, 109, 101, 109, 111, 114, 121, 32, 102, 111, 114, 32, 116, 121, 112, 105, 99, 97, 108, 32, 116, 101, 120, 116, 115, 46, 32, 84, 104, 101, 32, 116, 114, 97, 100, 101, 45, 111, 102, 102, 32, 105, 115, 32, 116, 104, 97, 116, 32, 112, 114, 111, 99, 101, 115, 115, 105, 110, 103, 32, 85, 84, 70, 45, 56, 47, 49, 54, 32, 116, 101, 120, 116, 115, 32, 105, 115, 32, 109, 111, 114, 101, 32, 112, 114, 111, 103, 114, 97, 109, 109, 97, 116, 105, 99, 97, 108, 108, 121, 32, 105, 110, 118, 111, 108, 118, 101, 100, 44, 32, 97, 110, 100, 32, 108, 105, 107, 101, 108, 121, 32, 115, 108, 111, 119, 101, 114, 46, 10, 10, 85, 84, 70, 45, 56, 10, 73, 110, 32, 85, 84, 70, 45, 56, 44, 32, 101, 97, 99, 104, 32, 99, 111, 100, 101, 32, 112, 111, 105, 110, 116, 32, 105, 115, 32, 115, 116, 111, 114, 101, 100, 32, 117, 115, 105, 110, 103, 32, 49, 32, 116, 111, 32, 52, 32, 98, 121, 116, 101, 115, 44, 32, 98, 97, 115, 101, 100, 32, 111, 110, 32, 105, 116, 115, 32, 105, 110, 100, 101, 120, 32, 118, 97, 108, 117, 101, 46, 10, 10, 85, 84, 70, 45, 56, 32, 117, 115, 101, 115, 32, 97, 32, 115, 121, 115, 116, 101, 109, 32, 111, 102, 32, 98, 105, 110, 97, 114, 121, 32, 112, 114, 101, 102, 105, 120, 101, 115, 44, 32, 105, 110, 32, 119, 104, 105, 99, 104, 32, 116, 104, 101, 32, 104, 105, 103, 104, 32, 98, 105, 116, 115, 32, 111, 102, 32, 101, 97, 99, 104, 32, 98, 121, 116, 101, 32, 109, 97, 114, 107, 32, 119, 104, 101, 116, 104, 101, 114, 32, 105, 116, 226, 128, 153, 115, 32, 97, 32, 115, 105, 110, 103, 108, 101, 32, 98, 121, 116, 101, 44, 32, 116, 104, 101, 32, 98, 101, 103, 105, 110, 110, 105, 110, 103, 32, 111, 102, 32, 97, 32, 109, 117, 108, 116, 105, 45, 98, 121, 116, 101, 32, 115, 101, 113, 117, 101, 110, 99, 101, 44, 32, 111, 114, 32, 97, 32, 99, 111, 110, 116, 105, 110, 117, 97, 116, 105, 111, 110, 32, 98, 121, 116, 101, 59, 32, 116, 104, 101, 32, 114, 101, 109, 97, 105, 110, 105, 110, 103, 32, 98, 105, 116, 115, 44, 32, 99, 111, 110, 99, 97, 116, 101, 110, 97, 116, 101, 100, 44, 32, 103, 105, 118, 101, 32, 116, 104, 101, 32, 99, 111, 100, 101, 32, 112, 111, 105, 110, 116, 32, 105, 110, 100, 101, 120, 46, 32, 84, 104, 105, 115, 32, 116, 97, 98, 108, 101, 32, 115, 104, 111, 119, 115, 32, 104, 111, 119, 32, 105, 116, 32, 119, 111, 114, 107, 115, 58, 10, 10, 85, 84, 70, 45, 56, 32, 40, 98, 105, 110, 97, 114, 121, 41, 9, 67, 111, 100, 101, 32, 112, 111, 105, 110, 116, 32, 40, 98, 105, 110, 97, 114, 121, 41, 9, 82, 97, 110, 103, 101, 10, 48, 120, 120, 120, 120, 120, 120, 120, 9, 120, 120, 120, 120, 120, 120, 120, 9, 85, 43, 48, 48, 48, 48, 226, 128, 147, 85, 43, 48, 48, 55, 70, 10, 49, 49, 48, 120, 120, 120, 120, 120, 32, 49, 48, 121, 121, 121, 121, 121, 121, 9, 120, 120, 120, 120, 120, 121, 121, 121, 121, 121, 121, 9, 85, 43, 48, 48, 56, 48, 226, 128, 147, 85, 43, 48, 55, 70, 70, 10, 49, 49, 49, 48, 120, 120, 120, 120, 32, 49, 48, 121, 121, 121, 121, 121, 121, 32, 49, 48, 122, 122, 122, 122, 122, 122, 9, 120, 120, 120, 120, 121, 121, 121, 121, 121, 121, 122, 122, 122, 122, 122, 122, 9, 85, 43, 48, 56, 48, 48, 226, 128, 147, 85, 43, 70, 70, 70, 70, 10, 49, 49, 49, 49, 48, 120, 120, 120, 32, 49, 48, 121, 121, 121, 121, 121, 121, 32, 49, 48, 122, 122, 122, 122, 122, 122, 32, 49, 48, 119, 119, 119, 119, 119, 119, 9, 120, 120, 120, 121, 121, 121, 121, 121, 121, 122, 122, 122, 122, 122, 122, 119, 119, 119, 119, 119, 119, 9, 85, 43, 49, 48, 48, 48, 48, 226, 128, 147, 85, 43, 49, 48, 70, 70, 70, 70, 10, 65, 32, 104, 97, 110, 100, 121, 32, 112, 114, 111, 112, 101, 114, 116, 121, 32, 111, 102, 32, 85, 84, 70, 45, 56, 32, 105, 115, 32, 116, 104, 97, 116, 32, 99, 111, 100, 101, 32, 112, 111, 105, 110, 116, 115, 32, 98, 101, 108, 111, 119, 32, 49, 50, 56, 32, 40, 65, 83, 67, 73, 73, 32, 99, 104, 97, 114, 97, 99, 116, 101, 114, 115, 41, 32, 97, 114, 101, 32, 101, 110, 99, 111, 100, 101, 100, 32, 97, 115, 32, 115, 105, 110, 103, 108, 101, 32, 98, 121, 116, 101, 115, 44, 32, 97, 110, 100, 32, 97, 108, 108, 32, 110, 111, 110, 45, 65, 83, 67, 73, 73, 32, 99, 111, 100, 101, 32, 112, 111, 105, 110, 116, 115, 32, 97, 114, 101, 32, 101, 110, 99, 111, 100, 101, 100, 32, 117, 115, 105, 110, 103, 32, 115, 101, 113, 117, 101, 110, 99, 101, 115, 32, 111, 102, 32, 98, 121, 116, 101, 115, 32, 49, 50, 56, 226, 128, 147, 50, 53, 53, 46, 32, 84, 104, 105, 115, 32, 104, 97, 115, 32, 97, 32, 99, 111, 117, 112, 108, 101, 32, 111, 102, 32, 110, 105, 99, 101, 32, 99, 111, 110, 115, 101, 113, 117, 101, 110, 99, 101, 115, 46, 32, 70, 105, 114, 115, 116, 44, 32, 97, 110, 121, 32, 115, 116, 114, 105, 110, 103, 115, 32, 111, 114, 32, 102, 105, 108, 101, 115, 32, 111, 117, 116, 32, 116, 104, 101, 114, 101, 32, 116, 104, 97, 116, 32, 97, 114, 101, 32, 97, 108, 114, 101, 97, 100, 121, 32, 105, 110, 32, 65, 83, 67, 73, 73, 32, 99, 97, 110, 32, 97, 108, 115, 111, 32, 98, 101, 32, 105, 110, 116, 101, 114, 112, 114, 101, 116, 101, 100, 32, 97, 115, 32, 85, 84, 70, 45, 56, 32, 119, 105, 116, 104, 111, 117, 116, 32, 97, 110, 121, 32, 99, 111, 110, 118, 101, 114, 115, 105, 111, 110, 46, 32, 83, 101, 99, 111, 110, 100, 44, 32, 108, 111, 116, 115, 32, 111, 102, 32, 119, 105, 100, 101, 108, 121, 45, 117, 115, 101, 100, 32, 115, 116, 114, 105, 110, 103, 32, 112, 114, 111, 103, 114, 97, 109, 109, 105, 110, 103, 32, 105, 100, 105, 111, 109, 115, 226, 128, 148, 115, 117, 99, 104, 32, 97, 115, 32, 110, 117, 108, 108, 32, 116, 101, 114, 109, 105, 110, 97, 116, 105, 111, 110, 44, 32, 111, 114, 32, 100, 101, 108, 105, 109, 105, 116, 101, 114, 115, 32, 40, 110, 101, 119, 108, 105, 110, 101, 115, 44, 32, 116, 97, 98, 115, 44, 32, 99, 111, 109, 109, 97, 115, 44, 32, 115, 108, 97, 115, 104, 101, 115, 44, 32, 101, 116, 99, 46, 41, 226, 128, 148, 119, 105, 108, 108, 32, 106, 117, 115, 116, 32, 119, 111, 114, 107, 32, 111, 110, 32, 85, 84, 70, 45, 56, 32, 115, 116, 114, 105, 110, 103, 115, 46, 32, 65, 83, 67, 73, 73, 32, 98, 121, 116, 101, 115, 32, 110, 101, 118, 101, 114, 32, 111, 99, 99, 117, 114, 32, 105, 110, 115, 105, 100, 101, 32, 116, 104, 101, 32, 101, 110, 99, 111, 100, 105, 110, 103, 32, 111, 102, 32, 110, 111, 110, 45, 65, 83, 67, 73, 73, 32, 99, 111, 100, 101, 32, 112, 111, 105, 110, 116, 115, 44, 32, 115, 111, 32, 115, 101, 97, 114, 99, 104, 105, 110, 103, 32, 98, 121, 116, 101, 45, 119, 105, 115, 101, 32, 102, 111, 114, 32, 97, 32, 110, 117, 108, 108, 32, 116, 101, 114, 109, 105, 110, 97, 116, 111, 114, 32, 111, 114, 32, 97, 32, 100, 101, 108, 105, 109, 105, 116, 101, 114, 32, 119, 105, 108, 108, 32, 100, 111, 32, 116, 104, 101, 32, 114, 105, 103, 104, 116, 32, 116, 104, 105, 110, 103, 46, 10, 10, 84, 104, 97, 110, 107, 115, 32, 116, 111, 32, 116, 104, 105, 115, 32, 99, 111, 110, 118, 101, 110, 105, 101, 110, 99, 101, 44, 32, 105, 116, 226, 128, 153, 115, 32, 114, 101, 108, 97, 116, 105, 118, 101, 108, 121, 32, 115, 105, 109, 112, 108, 101, 32, 116, 111, 32, 101, 120, 116, 101, 110, 100, 32, 108, 101, 103, 97, 99, 121, 32, 65, 83, 67, 73, 73, 32, 112, 114, 111, 103, 114, 97, 109, 115, 32, 97, 110, 100, 32, 65, 80, 73, 115, 32, 116, 111, 32, 104, 97, 110, 100, 108, 101, 32, 85, 84, 70, 45, 56, 32, 115, 116, 114, 105, 110, 103, 115, 46, 32, 85, 84, 70, 45, 56, 32, 105, 115, 32, 118, 101, 114, 121, 32, 119, 105, 100, 101, 108, 121, 32, 117, 115, 101, 100, 32, 105, 110, 32, 116, 104, 101, 32, 85, 110, 105, 120, 47, 76, 105, 110, 117, 120, 32, 97, 110, 100, 32, 87, 101, 98, 32, 119, 111, 114, 108, 100, 115, 44, 32, 97, 110, 100, 32, 109, 97, 110, 121, 32, 112, 114, 111, 103, 114, 97, 109, 109, 101, 114, 115, 32, 97, 114, 103, 117, 101, 32, 85, 84, 70, 45, 56, 32, 115, 104, 111, 117, 108, 100, 32, 98, 101, 32, 116, 104, 101, 32, 100, 101, 102, 97, 117, 108, 116, 32, 101, 110, 99, 111, 100, 105, 110, 103, 32, 101, 118, 101, 114, 121, 119, 104, 101, 114, 101, 46, 10, 10, 72, 111, 119, 101, 118, 101, 114, 44, 32, 85, 84, 70, 45, 56, 32, 105, 115, 110, 226, 128, 153, 116, 32, 97, 32, 100, 114, 111, 112, 45, 105, 110, 32, 114, 101, 112, 108, 97, 99, 101, 109, 101, 110, 116, 32, 102, 111, 114, 32, 65, 83, 67, 73, 73, 32, 115, 116, 114, 105, 110, 103, 115, 32, 105, 110, 32, 97, 108, 108, 32, 114, 101, 115, 112, 101, 99, 116, 115, 46, 32, 70, 111, 114, 32, 105, 110, 115, 116, 97, 110, 99, 101, 44, 32, 99, 111, 100, 101, 32, 116, 104, 97, 116, 32, 105, 116, 101, 114, 97, 116, 101, 115, 32, 111, 118, 101, 114, 32, 116, 104, 101, 32, 226, 128, 156, 99, 104, 97, 114, 97, 99, 116, 101, 114, 115, 226, 128, 157, 32, 105, 110, 32, 97, 32, 115, 116, 114, 105, 110, 103, 32, 119, 105, 108, 108, 32, 110, 101, 101, 100, 32, 116, 111, 32, 100, 101, 99, 111, 100, 101, 32, 85, 84, 70, 45, 56, 32, 97, 110, 100, 32, 105, 116, 101, 114, 97, 116, 101, 32, 111, 118, 101, 114, 32, 99, 111, 100, 101, 32, 112, 111, 105, 110, 116, 115, 32, 40, 111, 114, 32, 109, 97, 121, 98, 101, 32, 103, 114, 97, 112, 104, 101, 109, 101, 32, 99, 108, 117, 115, 116, 101, 114, 115, 226, 128, 148, 109, 111, 114, 101, 32, 97, 98, 111, 117, 116, 32, 116, 104, 111, 115, 101, 32, 108, 97, 116, 101, 114, 41, 44, 32, 110, 111, 116, 32, 98, 121, 116, 101, 115, 46, 32, 87, 104, 101, 110, 32, 121, 111, 117, 32, 109, 101, 97, 115, 117, 114, 101, 32, 116, 104, 101, 32, 226, 128, 156, 108, 101, 110, 103, 116, 104, 226, 128, 157, 32, 111, 102, 32, 97, 32, 115, 116, 114, 105, 110, 103, 44, 32, 121, 111, 117, 226, 128, 153, 108, 108, 32, 110, 101, 101, 100, 32, 116, 111, 32, 116, 104, 105, 110, 107, 32, 97, 98, 111, 117, 116, 32, 119, 104, 101, 116, 104, 101, 114, 32, 121, 111, 117, 32, 119, 97, 110, 116, 32, 116, 104, 101, 32, 108, 101, 110, 103, 116, 104, 32, 105, 110, 32, 98, 121, 116, 101, 115, 44, 32, 116, 104, 101, 32, 108, 101, 110, 103, 116, 104, 32, 105, 110, 32, 99, 111, 100, 101, 32, 112, 111, 105, 110, 116, 115, 44, 32, 116, 104, 101, 32, 119, 105, 100, 116, 104, 32, 111, 102, 32, 116, 104, 101, 32, 116, 101, 120, 116, 32, 119, 104, 101, 110, 32, 114, 101, 110, 100, 101, 114, 101, 100, 44, 32, 111, 114, 32, 115, 111, 109, 101, 116, 104, 105, 110, 103, 32, 101, 108, 115, 101, 46, 10, 10, 85, 84, 70, 45, 49, 54, 10, 84, 104, 101, 32, 111, 116, 104, 101, 114, 32, 101, 110, 99, 111, 100, 105, 110, 103, 32, 116, 104, 97, 116, 32, 121, 111, 117, 226, 128, 153, 114, 101, 32, 108, 105, 107, 101, 108, 121, 32, 116, 111, 32, 101, 110, 99, 111, 117, 110, 116, 101, 114, 32, 105, 115, 32, 85, 84, 70, 45, 49, 54, 46, 32, 73, 116, 32, 117, 115, 101, 115, 32, 49, 54, 45, 98, 105, 116, 32, 119, 111, 114, 100, 115, 44, 32, 119, 105, 116, 104, 32, 101, 97, 99, 104, 32, 99, 111, 100, 101, 32, 112, 111, 105, 110, 116, 32, 115, 116, 111, 114, 101, 100, 32, 97, 115, 32, 101, 105, 116, 104, 101, 114, 32, 49, 32, 111, 114, 32, 50, 32, 119, 111, 114, 100, 115, 46, 10, 10, 76, 105, 107, 101, 32, 85, 84, 70, 45, 56, 44, 32, 119, 101, 32, 99, 97, 110, 32, 101, 120, 112, 114, 101, 115, 115, 32, 116, 104, 101, 32, 85, 84, 70, 45, 49, 54, 32, 101, 110, 99, 111, 100, 105, 110, 103, 32, 114, 117, 108, 101, 115, 32, 105, 110, 32, 116, 104, 101, 32, 102, 111, 114, 109, 32, 111, 102, 32, 98, 105, 110, 97, 114, 121, 32, 112, 114, 101, 102, 105, 120, 101, 115, 58, 10, 10, 85, 84, 70, 45, 49, 54, 32, 40, 98, 105, 110, 97, 114, 121, 41, 9, 67, 111, 100, 101, 32, 112, 111, 105, 110, 116, 32, 40, 98, 105, 110, 97, 114, 121, 41, 9, 82, 97, 110, 103, 101, 10, 120, 120, 120, 120, 120, 120, 120, 120, 120, 120, 120, 120, 120, 120, 120, 120, 9, 120, 120, 120, 120, 120, 120, 120, 120, 120, 120, 120, 120, 120, 120, 120, 120, 9, 85, 43, 48, 48, 48, 48, 226, 128, 147, 85, 43, 70, 70, 70, 70, 10, 49, 49, 48, 49, 49, 48, 120, 120, 120, 120, 120, 120, 120, 120, 120, 120, 32, 49, 49, 48, 49, 49, 49, 121, 121, 121, 121, 121, 121, 121, 121, 121, 121, 9, 120, 120, 120, 120, 120, 120, 120, 120, 120, 120, 121, 121, 121, 121, 121, 121, 121, 121, 121, 121, 32, 43, 32, 48, 120, 49, 48, 48, 48, 48, 9, 85, 43, 49, 48, 48, 48, 48, 226, 128, 147, 85, 43, 49, 48, 70, 70, 70, 70, 10, 65, 32, 109, 111, 114, 101, 32, 99, 111, 109, 109, 111, 110, 32, 119, 97, 121, 32, 116, 104, 97, 116, 32, 112, 101, 111, 112, 108, 101, 32, 116, 97, 108, 107, 32, 97, 98, 111, 117, 116, 32, 85, 84, 70, 45, 49, 54, 32, 101, 110, 99, 111, 100, 105, 110, 103, 44, 32, 116, 104, 111, 117, 103, 104, 44, 32, 105, 115, 32, 105, 110, 32, 116, 101, 114, 109, 115, 32, 111, 102, 32, 99, 111, 100, 101, 32, 112, 111, 105, 110, 116, 115, 32, 99, 97, 108, 108, 101, 100, 32, 226, 128, 156, 115, 117, 114, 114, 111, 103, 97, 116, 101, 115, 226, 128, 157, 46, 32, 65, 108, 108, 32, 116, 104, 101, 32, 99, 111, 100, 101, 32, 112, 111, 105, 110, 116, 115, 32, 105, 110, 32, 116, 104, 101, 32, 114, 97, 110, 103, 101, 32, 85, 43, 68, 56, 48, 48, 226, 128, 147, 85, 43, 68, 70, 70, 70, 226, 128, 148, 111, 114, 32, 105, 110, 32, 111, 116, 104, 101, 114, 32, 119, 111, 114, 100, 115, 44, 32, 116, 104, 101, 32, 99, 111, 100, 101, 32, 112, 111, 105, 110, 116, 115, 32, 116, 104, 97, 116, 32, 109, 97, 116, 99, 104, 32, 116, 104, 101, 32, 98, 105, 110, 97, 114, 121, 32, 112, 114, 101, 102, 105, 120, 101, 115, 32, 49, 49, 48, 49, 49, 48, 32, 97, 110, 100, 32, 49, 49, 48, 49, 49, 49, 32, 105, 110, 32, 116, 104, 101, 32, 116, 97, 98, 108, 101, 32, 97, 98, 111, 118, 101, 226, 128, 148, 97, 114, 101, 32, 114, 101, 115, 101, 114, 118, 101, 100, 32, 115, 112, 101, 99, 105, 102, 105, 99, 97, 108, 108, 121, 32, 102, 111, 114, 32, 85, 84, 70, 45, 49, 54, 32, 101, 110, 99, 111, 100, 105, 110, 103, 44, 32, 97, 110, 100, 32, 100, 111, 110, 226, 128, 153, 116, 32, 114, 101, 112, 114, 101, 115, 101, 110, 116, 32, 97, 110, 121, 32, 118, 97, 108, 105, 100, 32, 99, 104, 97, 114, 97, 99, 116, 101, 114, 115, 32, 111, 110, 32, 116, 104, 101, 105, 114, 32, 111, 119, 110, 46, 32, 84, 104, 101, 121, 226, 128, 153, 114, 101, 32, 111, 110, 108, 121, 32, 109, 101, 97, 110, 116, 32, 116, 111, 32, 111, 99, 99, 117, 114, 32, 105, 110, 32, 116, 104, 101, 32, 50, 45, 119, 111, 114, 100, 32, 101, 110, 99, 111, 100, 105, 110, 103, 32, 112, 97, 116, 116, 101, 114, 110, 32, 97, 98, 111, 118, 101, 44, 32, 119, 104, 105, 99, 104, 32, 105, 115, 32, 99, 97, 108, 108, 101, 100, 32, 97, 32, 226, 128, 156, 115, 117, 114, 114, 111, 103, 97, 116, 101, 32, 112, 97, 105, 114, 226, 128, 157, 46, 32, 83, 117, 114, 114, 111, 103, 97, 116, 101, 32, 99, 111, 100, 101, 32, 112, 111, 105, 110, 116, 115, 32, 97, 114, 101, 32, 105, 108, 108, 101, 103, 97, 108, 32, 105, 110, 32, 97, 110, 121, 32, 111, 116, 104, 101, 114, 32, 99, 111, 110, 116, 101, 120, 116, 33, 32, 84, 104, 101, 121, 226, 128, 153, 114, 101, 32, 110, 111, 116, 32, 97, 108, 108, 111, 119, 101, 100, 32, 105, 110, 32, 85, 84, 70, 45, 56, 32, 111, 114, 32, 85, 84, 70, 45, 51, 50, 32, 97, 116, 32, 97, 108, 108, 46, 10, 10, 72, 105, 115, 116, 111, 114, 105, 99, 97, 108, 108, 121, 44, 32, 85, 84, 70, 45, 49, 54, 32, 105, 115, 32, 97, 32, 100, 101, 115, 99, 101, 110, 100, 97, 110, 116, 32, 111, 102, 32, 116, 104, 101, 32, 111, 114, 105, 103, 105, 110, 97, 108, 44, 32, 112, 114, 101, 45, 49, 57, 57, 54, 32, 118, 101, 114, 115, 105, 111, 110, 115, 32, 111, 102, 32, 85, 110, 105, 99, 111, 100, 101, 44, 32, 105, 110, 32, 119, 104, 105, 99, 104, 32, 116, 104, 101, 114, 101, 32, 119, 101, 114, 101, 32, 111, 110, 108, 121, 32, 54, 53, 44, 53, 51, 54, 32, 99, 111, 100, 101, 32, 112, 111, 105, 110, 116, 115, 46, 32, 84, 104, 101, 32, 111, 114, 105, 103, 105, 110, 97, 108, 32, 105, 110, 116, 101, 110, 116, 105, 111, 110, 32, 119, 97, 115, 32, 116, 104, 97, 116, 32, 116, 104, 101, 114, 101, 32, 119, 111, 117, 108, 100, 32, 98, 101, 32, 110, 111, 32, 100, 105, 102, 102, 101, 114, 101, 110, 116, 32, 226, 128, 156, 101, 110, 99, 111, 100, 105, 110, 103, 115, 226, 128, 157, 59, 32, 85, 110, 105, 99, 111, 100, 101, 32, 119, 97, 115, 32, 115, 117, 112, 112, 111, 115, 101, 100, 32, 116, 111, 32, 98, 101, 32, 97, 32, 115, 116, 114, 97, 105, 103, 104, 116, 102, 111, 114, 119, 97, 114, 100, 32, 49, 54, 45, 98, 105, 116, 32, 99, 104, 97, 114, 97, 99, 116, 101, 114, 32, 115, 101, 116, 46, 32, 76, 97, 116, 101, 114, 44, 32, 116, 104, 101, 32, 99, 111, 100, 101, 115, 112, 97, 99, 101, 32, 119, 97, 115, 32, 101, 120, 112, 97, 110, 100, 101, 100, 32, 116, 111, 32, 109, 97, 107, 101, 32, 114, 111, 111, 109, 32, 102, 111, 114, 32, 97, 32, 108, 111, 110, 103, 32, 116, 97, 105, 108, 32, 111, 102, 32, 108, 101, 115, 115, 45, 99, 111, 109, 109, 111, 110, 32, 40, 98, 117, 116, 32, 115, 116, 105, 108, 108, 32, 105, 109, 112, 111, 114, 116, 97, 110, 116, 41, 32, 72, 97, 110, 32, 99, 104, 97, 114, 97, 99, 116, 101, 114, 115, 44, 32, 119, 104, 105, 99, 104, 32, 116, 104, 101, 32, 85, 110, 105, 99, 111, 100, 101, 32, 100, 101, 115, 105, 103, 110, 101, 114, 115, 32, 100, 105, 100, 110, 226, 128, 153, 116, 32, 111, 114, 105, 103, 105, 110, 97, 108, 108, 121, 32, 112, 108, 97, 110, 32, 102, 111, 114, 46, 32, 83, 117, 114, 114, 111, 103, 97, 116, 101, 115, 32, 119, 101, 114, 101, 32, 116, 104, 101, 110, 32, 105, 110, 116, 114, 111, 100, 117, 99, 101, 100, 44, 32, 97, 115, 226, 128, 148, 116, 111, 32, 112, 117, 116, 32, 105, 116, 32, 98, 108, 117, 110, 116, 108, 121, 226, 128, 148, 97, 32, 107, 108, 117, 100, 103, 101, 44, 32, 97, 108, 108, 111, 119, 105, 110, 103, 32, 49, 54, 45, 98, 105, 116, 32, 101, 110, 99, 111, 100, 105, 110, 103, 115, 32, 116, 111, 32, 97, 99, 99, 101, 115, 115, 32, 116, 104, 101, 32, 110, 101, 119, 32, 99, 111, 100, 101, 32, 112, 111, 105, 110, 116, 115, 46, 10, 10, 84, 111, 100, 97, 121, 44, 32, 74, 97, 118, 97, 115, 99, 114, 105, 112, 116, 32, 117, 115, 101, 115, 32, 85, 84, 70, 45, 49, 54, 32, 97, 115, 32, 105, 116, 115, 32, 115, 116, 97, 110, 100, 97, 114, 100, 32, 115, 116, 114, 105, 110, 103, 32, 114, 101, 112, 114, 101, 115, 101, 110, 116, 97, 116, 105, 111, 110, 58, 32, 105, 102, 32, 121, 111, 117, 32, 97, 115, 107, 32, 102, 111, 114, 32, 116, 104, 101, 32, 108, 101, 110, 103, 116, 104, 32, 111, 102, 32, 97, 32, 115, 116, 114, 105, 110, 103, 44, 32, 111, 114, 32, 105, 116, 101, 114, 97, 116, 101, 32, 111, 118, 101, 114, 32, 105, 116, 44, 32, 101, 116, 99, 46, 44, 32, 116, 104, 101, 32, 114, 101, 115, 117, 108, 116, 32, 119, 105, 108, 108, 32, 98, 101, 32, 105, 110, 32, 85, 84, 70, 45, 49, 54, 32, 119, 111, 114, 100, 115, 44, 32, 119, 105, 116, 104, 32, 97, 110, 121, 32, 99, 111, 100, 101, 32, 112, 111, 105, 110, 116, 115, 32, 111, 117, 116, 115, 105, 100, 101, 32, 116, 104, 101, 32, 66, 77, 80, 32, 101, 120, 112, 114, 101, 115, 115, 101, 100, 32, 97, 115, 32, 115, 117, 114, 114, 111, 103, 97, 116, 101, 32, 112, 97, 105, 114, 115, 46, 32, 85, 84, 70, 45, 49, 54, 32, 105, 115, 32, 97, 108, 115, 111, 32, 117, 115, 101, 100, 32, 98, 121, 32, 116, 104, 101, 32, 77, 105, 99, 114, 111, 115, 111, 102, 116, 32, 87, 105, 110, 51, 50, 32, 65, 80, 73, 115, 59, 32, 116, 104, 111, 117, 103, 104, 32, 87, 105, 110, 51, 50, 32, 115, 117, 112, 112, 111, 114, 116, 115, 32, 101, 105, 116, 104, 101, 114, 32, 56, 45, 98, 105, 116, 32, 111, 114, 32, 49, 54, 45, 98, 105, 116, 32, 115, 116, 114, 105, 110, 103, 115, 44, 32, 116, 104, 101, 32, 56, 45, 98, 105, 116, 32, 118, 101, 114, 115, 105, 111, 110, 32, 117, 110, 97, 99, 99, 111, 117, 110, 116, 97, 98, 108, 121, 32, 115, 116, 105, 108, 108, 32, 100, 111, 101, 115, 110, 226, 128, 153, 116, 32, 115, 117, 112, 112, 111, 114, 116, 32, 85, 84, 70, 45, 56, 226, 128, 148, 111, 110, 108, 121, 32, 108, 101, 103, 97, 99, 121, 32, 99, 111, 100, 101, 45, 112, 97, 103, 101, 32, 101, 110, 99, 111, 100, 105, 110, 103, 115, 44, 32, 108, 105, 107, 101, 32, 65, 78, 83, 73, 46, 32, 84, 104, 105, 115, 32, 108, 101, 97, 118, 101, 115, 32, 85, 84, 70, 45, 49, 54, 32, 97, 115, 32, 116, 104, 101, 32, 111, 110, 108, 121, 32, 119, 97, 121, 32, 116, 111, 32, 103, 101, 116, 32, 112, 114, 111, 112, 101, 114, 32, 85, 110, 105, 99, 111, 100, 101, 32, 115, 117, 112, 112, 111, 114, 116, 32, 105, 110, 32, 87, 105, 110, 100, 111, 119, 115, 46, 32, 40, 85, 112, 100, 97, 116, 101, 58, 32, 105, 110, 32, 87, 105, 110, 49, 48, 32, 118, 101, 114, 115, 105, 111, 110, 32, 49, 57, 48, 51, 44, 32, 116, 104, 101, 121, 32, 102, 105, 110, 97, 108, 108, 121, 32, 97, 100, 100, 101, 100, 32, 85, 84, 70, 45, 56, 32, 115, 117, 112, 112, 111, 114, 116, 32, 116, 111, 32, 116, 104, 101, 32, 56, 45, 98, 105, 116, 32, 65, 80, 73, 115, 33, 32, 240, 159, 152, 138, 41, 10, 10, 66, 121, 32, 116, 104, 101, 32, 119, 97, 121, 44, 32, 85, 84, 70, 45, 49, 54, 226, 128, 153, 115, 32, 119, 111, 114, 100, 115, 32, 99, 97, 110, 32, 98, 101, 32, 115, 116, 111, 114, 101, 100, 32, 101, 105, 116, 104, 101, 114, 32, 108, 105, 116, 116, 108, 101, 45, 101, 110, 100, 105, 97, 110, 32, 111, 114, 32, 98, 105, 103, 45, 101, 110, 100, 105, 97, 110, 46, 32, 85, 110, 105, 99, 111, 100, 101, 32, 104, 97, 115, 32, 110, 111, 32, 111, 112, 105, 110, 105, 111, 110, 32, 111, 110, 32, 116, 104, 97, 116, 32, 105, 115, 115, 117, 101, 44, 32, 116, 104, 111, 117, 103, 104, 32, 105, 116, 32, 100, 111, 101, 115, 32, 101, 110, 99, 111, 117, 114, 97, 103, 101, 32, 116, 104, 101, 32, 99, 111, 110, 118, 101, 110, 116, 105, 111, 110, 32, 111, 102, 32, 112, 117, 116, 116, 105, 110, 103, 32, 85, 43, 70, 69, 70, 70, 32, 122, 101, 114, 111, 32, 119, 105, 100, 116, 104, 32, 110, 111, 45, 98, 114, 101, 97, 107, 32, 115, 112, 97, 99, 101, 32, 97, 116, 32, 116, 104, 101, 32, 116, 111, 112, 32, 111, 102, 32, 97, 32, 85, 84, 70, 45, 49, 54, 32, 102, 105, 108, 101, 32, 97, 115, 32, 97, 32, 98, 121, 116, 101, 45, 111, 114, 100, 101, 114, 32, 109, 97, 114, 107, 44, 32, 116, 111, 32, 100, 105, 115, 97, 109, 98, 105, 103, 117, 97, 116, 101, 32, 116, 104, 101, 32, 101, 110, 100, 105, 97, 110, 110, 101, 115, 115, 46, 32, 40, 73, 102, 32, 116, 104, 101, 32, 102, 105, 108, 101, 32, 100, 111, 101, 115, 110, 226, 128, 153, 116, 32, 109, 97, 116, 99, 104, 32, 116, 104, 101, 32, 115, 121, 115, 116, 101, 109, 226, 128, 153, 115, 32, 101, 110, 100, 105, 97, 110, 110, 101, 115, 115, 44, 32, 116, 104, 101, 32, 66, 79, 77, 32, 119, 105, 108, 108, 32, 98, 101, 32, 100, 101, 99, 111, 100, 101, 100, 32, 97, 115, 32, 85, 43, 70, 70, 70, 69, 44, 32, 119, 104, 105, 99, 104, 32, 105, 115, 110, 226, 128, 153, 116, 32, 97, 32, 118, 97, 108, 105, 100, 32, 99, 111, 100, 101, 32, 112, 111, 105, 110, 116, 46, 41, 10, 10, 67, 111, 109, 98, 105, 110, 105, 110, 103, 32, 77, 97, 114, 107, 115, 10, 73, 110, 32, 116, 104, 101, 32, 115, 116, 111, 114, 121, 32, 115, 111, 32, 102, 97, 114, 44, 32, 119, 101, 226, 128, 153, 118, 101, 32, 98, 101, 101, 110, 32, 102, 111, 99, 117, 115, 105, 110, 103, 32, 111, 110, 32, 99, 111, 100, 101, 32, 112, 111, 105, 110, 116, 115, 46, 32, 66, 117, 116, 32, 105, 110, 32, 85, 110, 105, 99, 111, 100, 101, 44, 32, 97, 32, 226, 128, 156, 99, 104, 97, 114, 97, 99, 116, 101, 114, 226, 128, 157, 32, 99, 97, 110, 32, 98, 101, 32, 109, 111, 114, 101, 32, 99, 111, 109, 112, 108, 105, 99, 97, 116, 101, 100, 32, 116, 104, 97, 110, 32, 106, 117, 115, 116, 32, 97, 110, 32, 105, 110, 100, 105, 118, 105, 100, 117, 97, 108, 32, 99, 111, 100, 101, 32, 112, 111, 105, 110, 116, 33, 10, 10, 85, 110, 105, 99, 111, 100, 101, 32, 105, 110, 99, 108, 117, 100, 101, 115, 32, 97, 32, 115, 121, 115, 116, 101, 109, 32, 102, 111, 114, 32, 100, 121, 110, 97, 109, 105, 99, 97, 108, 108, 121, 32, 99, 111, 109, 112, 111, 115, 105, 110, 103, 32, 99, 104, 97, 114, 97, 99, 116, 101, 114, 115, 44, 32, 98, 121, 32, 99, 111, 109, 98, 105, 110, 105, 110, 103, 32, 109, 117, 108, 116, 105, 112, 108, 101, 32, 99, 111, 100, 101, 32, 112, 111, 105, 110, 116, 115, 32, 116, 111, 103, 101, 116, 104, 101, 114, 46, 32, 84, 104, 105, 115, 32, 105, 115, 32, 117, 115, 101, 100, 32, 105, 110, 32, 118, 97, 114, 105, 111, 117, 115, 32, 119, 97, 121, 115, 32, 116, 111, 32, 103, 97, 105, 110, 32, 102, 108, 101, 120, 105, 98, 105, 108, 105, 116, 121, 32, 119, 105, 116, 104, 111, 117, 116, 32, 99, 97, 117, 115, 105, 110, 103, 32, 97, 32, 104, 117, 103, 101, 32, 99, 111, 109, 98, 105, 110, 97, 116, 111, 114, 105, 97, 108, 32, 101, 120, 112, 108, 111, 115, 105, 111, 110, 32, 105, 110, 32, 116, 104, 101, 32, 110, 117, 109, 98, 101, 114, 32, 111, 102, 32, 99, 111, 100, 101, 32, 112, 111, 105, 110, 116, 115, 46, 10, 10, 73, 110, 32, 69, 117, 114, 111, 112, 101, 97, 110, 32, 108, 97, 110, 103, 117, 97, 103, 101, 115, 44, 32, 102, 111, 114, 32, 101, 120, 97, 109, 112, 108, 101, 44, 32, 116, 104, 105, 115, 32, 115, 104, 111, 119, 115, 32, 117, 112, 32, 105, 110, 32, 116, 104, 101, 32, 97, 112, 112, 108, 105, 99, 97, 116, 105, 111, 110, 32, 111, 102, 32, 100, 105, 97, 99, 114, 105, 116, 105, 99, 115, 32, 116, 111, 32, 108, 101, 116, 116, 101, 114, 115, 46, 32, 85, 110, 105, 99, 111, 100, 101, 32, 115, 117, 112, 112, 111, 114, 116, 115, 32, 97, 32, 119, 105, 100, 101, 32, 114, 97, 110, 103, 101, 32, 111, 102, 32, 100, 105, 97, 99, 114, 105, 116, 105, 99, 115, 44, 32, 105, 110, 99, 108, 117, 100, 105, 110, 103, 32, 97, 99, 117, 116, 101, 32, 97, 110, 100, 32, 103, 114, 97, 118, 101, 32, 97, 99, 99, 101, 110, 116, 115, 44, 32, 117, 109, 108, 97, 117, 116, 115, 44, 32, 99, 101, 100, 105, 108, 108, 97, 115, 44, 32, 97, 110, 100, 32, 109, 97, 110, 121, 32, 109, 111, 114, 101, 46, 32, 65, 108, 108, 32, 116, 104, 101, 115, 101, 32, 100, 105, 97, 99, 114, 105, 116, 105, 99, 115, 32, 99, 97, 110, 32, 98, 101, 32, 97, 112, 112, 108, 105, 101, 100, 32, 116, 111, 32, 97, 110, 121, 32, 108, 101, 116, 116, 101, 114, 32, 111, 102, 32, 97, 110, 121, 32, 97, 108, 112, 104, 97, 98, 101, 116, 226, 128, 148, 97, 110, 100, 32, 105, 110, 32, 102, 97, 99, 116, 44, 32, 109, 117, 108, 116, 105, 112, 108, 101, 32, 100, 105, 97, 99, 114, 105, 116, 105, 99, 115, 32, 99, 97, 110, 32, 98, 101, 32, 117, 115, 101, 100, 32, 111, 110, 32, 97, 32, 115, 105, 110, 103, 108, 101, 32, 108, 101, 116, 116, 101, 114, 46, 10, 10, 73, 102, 32, 85, 110, 105, 99, 111, 100, 101, 32, 116, 114, 105, 101, 100, 32, 116, 111, 32, 97, 115, 115, 105, 103, 110, 32, 97, 32, 100, 105, 115, 116, 105, 110, 99, 116, 32, 99, 111, 100, 101, 32, 112, 111, 105, 110, 116, 32, 116, 111, 32, 101, 118, 101, 114, 121, 32, 112, 111, 115, 115, 105, 98, 108, 101, 32, 99, 111, 109, 98, 105, 110, 97, 116, 105, 111, 110, 32, 111, 102, 32, 108, 101, 116, 116, 101, 114, 32, 97, 110, 100, 32, 100, 105, 97, 99, 114, 105, 116, 105, 99, 115, 44, 32, 116, 104, 105, 110, 103, 115, 32, 119, 111, 117, 108, 100, 32, 114, 97, 112, 105, 100, 108, 121, 32, 103, 101, 116, 32, 111, 117, 116, 32, 111, 102, 32, 104, 97, 110, 100, 46, 32, 73, 110, 115, 116, 101, 97, 100, 44, 32, 116, 104, 101, 32, 100, 121, 110, 97, 109, 105, 99, 32, 99, 111, 109, 112, 111, 115, 105, 116, 105, 111, 110, 32, 115, 121, 115, 116, 101, 109, 32, 101, 110, 97, 98, 108, 101, 115, 32, 121, 111, 117, 32, 116, 111, 32, 99, 111, 110, 115, 116, 114, 117, 99, 116, 32, 116, 104, 101, 32, 99, 104, 97, 114, 97, 99, 116, 101, 114, 32, 121, 111, 117, 32, 119, 97, 110, 116, 44, 32, 98, 121, 32, 115, 116, 97, 114, 116, 105, 110, 103, 32, 119, 105, 116, 104, 32, 97, 32, 98, 97, 115, 101, 32, 99, 111, 100, 101, 32, 112, 111, 105, 110, 116, 32, 40, 116, 104, 101, 32, 108, 101, 116, 116, 101, 114, 41, 32, 97, 110, 100, 32, 97, 112, 112, 101, 110, 100, 105, 110, 103, 32, 97, 100, 100, 105, 116, 105, 111, 110, 97, 108, 32, 99, 111, 100, 101, 32, 112, 111, 105, 110, 116, 115, 44, 32, 99, 97, 108, 108, 101, 100, 32, 226, 128, 156, 99, 111, 109, 98, 105, 110, 105, 110, 103, 32, 109, 97, 114, 107, 115, 226, 128, 157, 44, 32, 116, 111, 32, 115, 112, 101, 99, 105, 102, 121, 32, 116, 104, 101, 32, 100, 105, 97, 99, 114, 105, 116, 105, 99, 115, 46, 32, 87, 104, 101, 110, 32, 97, 32, 116, 101, 120, 116, 32, 114, 101, 110, 100, 101, 114, 101, 114, 32, 115, 101, 101, 115, 32, 97, 32, 115, 101, 113, 117, 101, 110, 99, 101, 32, 108, 105, 107, 101, 32, 116, 104, 105, 115, 32, 105, 110, 32, 97, 32, 115, 116, 114, 105, 110, 103, 44, 32, 105, 116, 32, 97, 117, 116, 111, 109, 97, 116, 105, 99, 97, 108, 108, 121, 32, 115, 116, 97, 99, 107, 115, 32, 116, 104, 101, 32, 100, 105, 97, 99, 114, 105, 116, 105, 99, 115, 32, 111, 118, 101, 114, 32, 111, 114, 32, 117, 110, 100, 101, 114, 32, 116, 104, 101, 32, 98, 97, 115, 101, 32, 108, 101, 116, 116, 101, 114, 32, 116, 111, 32, 99, 114, 101, 97, 116, 101, 32, 97, 32, 99, 111, 109, 112, 111, 115, 101, 100, 32, 99, 104, 97, 114, 97, 99, 116, 101, 114, 46, 10, 10, 70, 111, 114, 32, 101, 120, 97, 109, 112, 108, 101, 44, 32, 116, 104, 101, 32, 97, 99, 99, 101, 110, 116, 101, 100, 32, 99, 104, 97, 114, 97, 99, 116, 101, 114, 32, 226, 128, 156, 195, 129, 226, 128, 157, 32, 99, 97, 110, 32, 98, 101, 32, 101, 120, 112, 114, 101, 115, 115, 101, 100, 32, 97, 115, 32, 97, 32, 115, 116, 114, 105, 110, 103, 32, 111, 102, 32, 116, 119, 111, 32, 99, 111, 100, 101, 32, 112, 111, 105, 110, 116, 115, 58, 32, 85, 43, 48, 48, 52, 49, 32, 226, 128, 156, 65, 226, 128, 157, 32, 108, 97, 116, 105, 110, 32, 99, 97, 112, 105, 116, 97, 108, 32, 108, 101, 116, 116, 101, 114, 32, 97, 32, 112, 108, 117, 115, 32, 85, 43, 48, 51, 48, 49, 32, 226, 128, 156, 226, 151, 140, 204, 129, 226, 128, 157, 32, 99, 111, 109, 98, 105, 110, 105, 110, 103, 32, 97, 99, 117, 116, 101, 32, 97, 99, 99, 101, 110, 116, 46, 32, 84, 104, 105, 115, 32, 115, 116, 114, 105, 110, 103, 32, 97, 117, 116, 111, 109, 97, 116, 105, 99, 97, 108, 108, 121, 32, 103, 101, 116, 115, 32, 114, 101, 110, 100, 101, 114, 101, 100, 32, 97, 115, 32, 97, 32, 115, 105, 110, 103, 108, 101, 32, 99, 104, 97, 114, 97, 99, 116, 101, 114, 58, 32, 226, 128, 156, 65, 204, 129, 226, 128, 157, 46, 10, 10, 78, 111, 119, 44, 32, 85, 110, 105, 99, 111, 100, 101, 32, 100, 111, 101, 115, 32, 97, 108, 115, 111, 32, 105, 110, 99, 108, 117, 100, 101, 32, 109, 97, 110, 121, 32, 226, 128, 156, 112, 114, 101, 99, 111, 109, 112, 111, 115, 101, 100, 226, 128, 157, 32, 99, 111, 100, 101, 32, 112, 111, 105, 110, 116, 115, 44, 32, 101, 97, 99, 104, 32, 114, 101, 112, 114, 101, 115, 101, 110, 116, 105, 110, 103, 32, 97, 32, 108, 101, 116, 116, 101, 114, 32, 119, 105, 116, 104, 32, 115, 111, 109, 101, 32, 99, 111, 109, 98, 105, 110, 97, 116, 105, 111, 110, 32, 111, 102, 32, 100, 105, 97, 99, 114, 105, 116, 105, 99, 115, 32, 97, 108, 114, 101, 97, 100, 121, 32, 97, 112, 112, 108, 105, 101, 100, 44, 32, 115, 117, 99, 104, 32, 97, 115, 32, 85, 43, 48, 48, 67, 49, 32, 226, 128, 156, 195, 129, 226, 128, 157, 32, 108, 97, 116, 105, 110, 32, 99, 97, 112, 105, 116, 97, 108, 32, 108, 101, 116, 116, 101, 114, 32, 97, 32, 119, 105, 116, 104, 32, 97, 99, 117, 116, 101, 32, 111, 114, 32, 85, 43, 49, 69, 67, 55, 32, 226, 128, 156, 225, 187, 135, 226, 128, 157, 32, 108, 97, 116, 105, 110, 32, 115, 109, 97, 108, 108, 32, 108, 101, 116, 116, 101, 114, 32, 101, 32, 119, 105, 116, 104, 32, 99, 105, 114, 99, 117, 109, 102, 108, 101, 120, 32, 97, 110, 100, 32, 100, 111, 116, 32, 98, 101, 108, 111, 119, 46, 32, 73, 32, 115, 117, 115, 112, 101, 99, 116, 32, 116, 104, 101, 115, 101, 32, 97, 114, 101, 32, 109, 111, 115, 116, 108, 121, 32, 105, 110, 104, 101, 114, 105, 116, 101, 100, 32, 102, 114, 111, 109, 32, 111, 108, 100, 101, 114, 32, 101, 110, 99, 111, 100, 105, 110, 103, 115, 32, 116, 104, 97, 116, 32, 119, 101, 114, 101, 32, 97, 115, 115, 105, 109, 105, 108, 97, 116, 101, 100, 32, 105, 110, 116, 111, 32, 85, 110, 105, 99, 111, 100, 101, 44, 32, 97, 110, 100, 32, 107, 101, 112, 116, 32, 97, 114, 111, 117, 110, 100, 32, 102, 111, 114, 32, 99, 111, 109, 112, 97, 116, 105, 98, 105, 108, 105, 116, 121, 46, 32, 73, 110, 32, 112, 114, 97, 99, 116, 105, 99, 101, 44, 32, 116, 104, 101, 114, 101, 32, 97, 114, 101, 32, 112, 114, 101, 99, 111, 109, 112, 111, 115, 101, 100, 32, 99, 111, 100, 101, 32, 112, 111, 105, 110, 116, 115, 32, 102, 111, 114, 32, 109, 111, 115, 116, 32, 111, 102, 32, 116, 104, 101, 32, 99, 111, 109, 109, 111, 110, 32, 108, 101, 116, 116, 101, 114, 45, 119, 105, 116, 104, 45, 100, 105, 97, 99, 114, 105, 116, 105, 99, 32, 99, 111, 109, 98, 105, 110, 97, 116, 105, 111, 110, 115, 32, 105, 110, 32, 69, 117, 114, 111, 112, 101, 97, 110, 45, 115, 99, 114, 105, 112, 116, 32, 108, 97, 110, 103, 117, 97, 103, 101, 115, 44, 32, 115, 111, 32, 116, 104, 101, 121, 32, 100, 111, 110, 226, 128, 153, 116, 32, 117, 115, 101, 32, 100, 121, 110, 97, 109, 105, 99, 32, 99, 111, 109, 112, 111, 115, 105, 116, 105, 111, 110, 32, 116, 104, 97, 116, 32, 109, 117, 99, 104, 32, 105, 110, 32, 116, 121, 112, 105, 99, 97, 108, 32, 116, 101, 120, 116, 46, 10, 10, 83, 116, 105, 108, 108, 44, 32, 116, 104, 101, 32, 115, 121, 115, 116, 101, 109, 32, 111, 102, 32, 99, 111, 109, 98, 105, 110, 105, 110, 103, 32, 109, 97, 114, 107, 115, 32, 100, 111, 101, 115, 32, 97, 108, 108, 111, 119, 32, 102, 111, 114, 32, 97, 110, 32, 97, 114, 98, 105, 116, 114, 97, 114, 121, 32, 110, 117, 109, 98, 101, 114, 32, 111, 102, 32, 100, 105, 97, 99, 114, 105, 116, 105, 99, 115, 32, 116, 111, 32, 98, 101, 32, 115, 116, 97, 99, 107, 101, 100, 32, 111, 110, 32, 97, 110, 121, 32, 98, 97, 115, 101, 32, 99, 104, 97, 114, 97, 99, 116, 101, 114, 46, 32, 84, 104, 101, 32, 114, 101, 100, 117, 99, 116, 105, 111, 45, 97, 100, 45, 97, 98, 115, 117, 114, 100, 117, 109, 32, 111, 102, 32, 116, 104, 105, 115, 32, 105, 115, 32, 90, 97, 108, 103, 111, 32, 116, 101, 120, 116, 44, 32, 119, 104, 105, 99, 104, 32, 119, 111, 114, 107, 115, 32, 98, 121, 32, 205, 159, 205, 133, 205, 150, 114, 205, 158, 97, 110, 204, 173, 204, 171, 204, 160, 204, 150, 205, 136, 204, 151, 100, 205, 150, 204, 187, 204, 185, 111, 205, 129, 109, 204, 170, 205, 153, 205, 149, 204, 151, 204, 157, 108, 204, 167, 205, 135, 204, 176, 205, 147, 204, 179, 204, 171, 121, 205, 129, 205, 147, 204, 165, 204, 159, 205, 141, 32, 204, 149, 115, 204, 171, 116, 205, 156, 204, 171, 204, 177, 205, 149, 204, 151, 204, 176, 204, 188, 204, 152, 97, 205, 157, 204, 188, 204, 169, 205, 150, 205, 135, 204, 160, 205, 136, 204, 163, 99, 204, 153, 205, 141, 107, 205, 152, 204, 150, 204, 177, 204, 185, 205, 141, 105, 204, 162, 110, 204, 168, 204, 186, 204, 157, 205, 135, 205, 135, 204, 159, 205, 153, 103, 204, 167, 204, 171, 204, 174, 205, 142, 205, 133, 204, 187, 204, 159, 32, 204, 149, 110, 205, 158, 204, 188, 204, 186, 205, 136, 117, 204, 174, 205, 153, 109, 205, 158, 204, 186, 204, 173, 204, 159, 204, 151, 101, 204, 158, 205, 147, 204, 176, 204, 164, 205, 147, 204, 171, 114, 204, 181, 111, 204, 150, 117, 204, 173, 115, 210, 137, 204, 170, 205, 141, 204, 173, 204, 172, 204, 157, 204, 164, 32, 205, 160, 204, 174, 205, 137, 204, 157, 204, 158, 204, 151, 204, 159, 100, 204, 180, 204, 159, 204, 156, 204, 177, 205, 149, 205, 154, 105, 205, 161, 205, 135, 204, 171, 204, 188, 204, 175, 204, 173, 204, 156, 97, 204, 165, 205, 153, 204, 187, 204, 188, 99, 204, 178, 204, 178, 204, 185, 114, 204, 168, 204, 160, 204, 185, 204, 163, 204, 176, 204, 166, 105, 204, 177, 116, 204, 149, 204, 164, 204, 187, 204, 164, 205, 141, 205, 153, 204, 152, 105, 204, 181, 204, 156, 204, 173, 204, 164, 204, 177, 205, 142, 99, 204, 181, 115, 32, 205, 152, 111, 205, 162, 204, 177, 204, 178, 205, 136, 204, 153, 205, 150, 205, 135, 204, 178, 110, 205, 152, 32, 204, 156, 205, 136, 101, 204, 172, 204, 178, 204, 160, 204, 169, 97, 99, 205, 149, 204, 186, 204, 160, 205, 137, 104, 204, 183, 204, 170, 32, 204, 186, 204, 163, 205, 150, 204, 177, 108, 204, 177, 204, 171, 204, 172, 204, 157, 204, 185, 101, 204, 173, 204, 153, 204, 186, 205, 153, 204, 173, 205, 147, 204, 178, 116, 204, 158, 204, 158, 205, 135, 204, 178, 205, 137, 205, 141, 116, 204, 183, 205, 148, 204, 170, 205, 137, 204, 178, 204, 187, 204, 160, 205, 153, 101, 204, 166, 204, 187, 205, 136, 205, 137, 205, 135, 114, 205, 135, 204, 173, 204, 173, 204, 172, 205, 150, 44, 205, 129, 204, 150, 32, 204, 156, 205, 153, 205, 147, 204, 163, 204, 173, 115, 204, 152, 204, 152, 205, 136, 111, 204, 177, 204, 176, 205, 133, 204, 164, 204, 178, 32, 204, 155, 204, 172, 204, 156, 204, 153, 116, 204, 188, 204, 166, 205, 149, 204, 177, 204, 185, 205, 149, 204, 165, 104, 205, 157, 204, 179, 204, 178, 205, 136, 205, 133, 97, 204, 166, 116, 204, 187, 204, 178, 32, 204, 187, 204, 159, 204, 173, 204, 166, 204, 150, 116, 204, 155, 204, 176, 204, 169, 104, 204, 160, 205, 149, 204, 179, 204, 157, 204, 171, 205, 149, 101, 205, 152, 205, 136, 204, 164, 204, 152, 205, 150, 204, 158, 121, 210, 137, 204, 157, 205, 153, 32, 204, 183, 205, 137, 205, 148, 204, 176, 204, 160, 111, 204, 158, 204, 176, 118, 205, 156, 205, 136, 205, 136, 204, 179, 204, 152, 101, 114, 204, 182, 102, 204, 176, 205, 136, 205, 148, 108, 204, 177, 205, 149, 204, 152, 204, 171, 204, 186, 204, 178, 111, 205, 160, 204, 178, 205, 133, 204, 173, 205, 153, 119, 204, 177, 204, 179, 204, 186, 32, 205, 156, 116, 204, 184, 104, 205, 135, 204, 173, 205, 149, 204, 179, 205, 141, 101, 204, 150, 204, 175, 204, 159, 204, 160, 32, 205, 156, 205, 141, 204, 158, 204, 156, 205, 148, 204, 169, 204, 170, 108, 204, 167, 205, 142, 204, 170, 204, 178, 205, 154, 105, 204, 157, 204, 178, 204, 185, 204, 153, 204, 169, 204, 185, 110, 204, 168, 204, 166, 204, 169, 204, 150, 101, 205, 162, 204, 173, 204, 188, 205, 133, 204, 178, 204, 188, 32, 205, 157, 204, 172, 115, 205, 157, 204, 188, 205, 154, 204, 152, 204, 158, 112, 205, 153, 204, 152, 204, 187, 97, 204, 153, 99, 210, 137, 205, 137, 204, 156, 204, 164, 205, 136, 204, 175, 204, 150, 105, 205, 161, 204, 165, 110, 205, 159, 204, 166, 204, 160, 204, 177, 103, 204, 184, 205, 133, 204, 151, 204, 187, 204, 166, 204, 173, 204, 174, 204, 159, 32, 204, 149, 204, 179, 204, 170, 204, 160, 205, 150, 204, 179, 204, 175, 97, 205, 156, 204, 171, 110, 205, 157, 100, 205, 161, 32, 204, 163, 204, 166, 205, 133, 204, 153, 99, 204, 170, 204, 151, 114, 204, 180, 205, 153, 204, 174, 204, 166, 204, 185, 204, 179, 101, 205, 159, 205, 135, 205, 154, 204, 158, 205, 148, 204, 185, 204, 171, 97, 204, 153, 204, 186, 204, 153, 116, 204, 166, 205, 148, 205, 142, 205, 133, 204, 152, 204, 185, 101, 204, 165, 204, 169, 205, 141, 32, 97, 205, 150, 204, 170, 204, 156, 204, 174, 205, 153, 204, 185, 110, 204, 162, 205, 137, 204, 157, 32, 205, 129, 205, 135, 205, 137, 205, 147, 204, 166, 204, 188, 97, 204, 179, 205, 150, 204, 170, 204, 164, 204, 177, 112, 205, 160, 204, 150, 205, 148, 205, 148, 204, 159, 205, 135, 205, 142, 112, 204, 177, 205, 141, 204, 186, 101, 204, 168, 204, 178, 205, 142, 205, 136, 204, 176, 204, 178, 204, 164, 204, 171, 97, 205, 156, 204, 175, 114, 204, 168, 204, 174, 204, 171, 204, 163, 204, 152, 97, 204, 169, 204, 175, 205, 150, 110, 204, 185, 204, 166, 204, 176, 205, 142, 204, 163, 204, 158, 204, 158, 99, 204, 168, 204, 166, 204, 177, 205, 148, 205, 142, 205, 141, 205, 150, 101, 205, 152, 204, 172, 205, 147, 32, 204, 164, 204, 176, 204, 169, 205, 153, 204, 164, 204, 172, 205, 153, 111, 204, 181, 204, 188, 204, 187, 204, 172, 204, 187, 205, 135, 204, 174, 204, 170, 102, 204, 180, 32, 204, 161, 204, 153, 204, 173, 205, 147, 205, 150, 204, 170, 204, 164, 226, 128, 156, 204, 184, 205, 153, 204, 160, 204, 188, 99, 205, 156, 204, 179, 204, 151, 111, 205, 143, 204, 188, 205, 153, 205, 148, 204, 174, 114, 204, 158, 204, 171, 204, 186, 204, 158, 204, 165, 204, 172, 114, 117, 204, 186, 204, 187, 204, 175, 205, 137, 204, 173, 204, 187, 204, 175, 112, 205, 162, 204, 176, 204, 165, 205, 147, 204, 163, 204, 171, 204, 153, 204, 164, 116, 205, 133, 204, 179, 205, 141, 204, 179, 204, 150, 105, 204, 182, 205, 136, 204, 157, 205, 153, 204, 188, 204, 153, 204, 185, 111, 204, 161, 205, 148, 110, 205, 157, 205, 133, 204, 153, 204, 186, 204, 185, 204, 150, 204, 169, 226, 128, 157, 204, 168, 204, 151, 205, 150, 205, 154, 204, 169, 46, 204, 175, 205, 147, 10, 10, 65, 32, 102, 101, 119, 32, 111, 116, 104, 101, 114, 32, 112, 108, 97, 99, 101, 115, 32, 119, 104, 101, 114, 101, 32, 100, 121, 110, 97, 109, 105, 99, 32, 99, 104, 97, 114, 97, 99, 116, 101, 114, 32, 99, 111, 109, 112, 111, 115, 105, 116, 105, 111, 110, 32, 115, 104, 111, 119, 115, 32, 117, 112, 32, 105, 110, 32, 85, 110, 105, 99, 111, 100, 101, 58, 10, 10, 86, 111, 119, 101, 108, 45, 112, 111, 105, 110, 116, 105, 110, 103, 32, 110, 111, 116, 97, 116, 105, 111, 110, 32, 105, 110, 32, 65, 114, 97, 98, 105, 99, 32, 97, 110, 100, 32, 72, 101, 98, 114, 101, 119, 46, 32, 73, 110, 32, 116, 104, 101, 115, 101, 32, 108, 97, 110, 103, 117, 97, 103, 101, 115, 44, 32, 119, 111, 114, 100, 115, 32, 97, 114, 101, 32, 110, 111, 114, 109, 97, 108, 108, 121, 32, 115, 112, 101, 108, 108, 101, 100, 32, 119, 105, 116, 104, 32, 115, 111, 109, 101, 32, 111, 102, 32, 116, 104, 101, 105, 114, 32, 118, 111, 119, 101, 108, 115, 32, 108, 101, 102, 116, 32, 111, 117, 116, 46, 32, 84, 104, 101, 121, 32, 116, 104, 101, 110, 32, 104, 97, 118, 101, 32, 100, 105, 97, 99, 114, 105, 116, 105, 99, 32, 110, 111, 116, 97, 116, 105, 111, 110, 32, 116, 111, 32, 105, 110, 100, 105, 99, 97, 116, 101, 32, 116, 104, 101, 32, 118, 111, 119, 101, 108, 115, 32, 40, 117, 115, 101, 100, 32, 105, 110, 32, 100, 105, 99, 116, 105, 111, 110, 97, 114, 105, 101, 115, 44, 32, 108, 97, 110, 103, 117, 97, 103, 101, 45, 116, 101, 97, 99, 104, 105, 110, 103, 32, 109, 97, 116, 101, 114, 105, 97, 108, 115, 44, 32, 99, 104, 105, 108, 100, 114, 101, 110, 226, 128, 153, 115, 32, 98, 111, 111, 107, 115, 44, 32, 97, 110, 100, 32, 115, 117, 99, 104, 41, 46, 32, 84, 104, 101, 115, 101, 32, 100, 105, 97, 99, 114, 105, 116, 105, 99, 115, 32, 97, 114, 101, 32, 101, 120, 112, 114, 101, 115, 115, 101, 100, 32, 119, 105, 116, 104, 32, 99, 111, 109, 98, 105, 110, 105, 110, 103, 32, 109, 97, 114, 107, 115, 46, 10, 10, 65, 32, 72, 101, 98, 114, 101, 119, 32, 101, 120, 97, 109, 112, 108, 101, 44, 32, 119, 105, 116, 104, 32, 110, 105, 113, 113, 117, 100, 58, 9, 215, 144, 214, 182, 215, 170, 32, 215, 147, 214, 183, 215, 156, 214, 176, 215, 170, 214, 180, 214, 188, 215, 153, 32, 215, 148, 214, 181, 215, 150, 214, 180, 215, 153, 215, 150, 32, 215, 148, 214, 181, 215, 160, 214, 180, 215, 153, 215, 162, 214, 183, 44, 32, 215, 167, 214, 182, 215, 152, 214, 182, 215, 145, 32, 215, 156, 214, 180, 215, 169, 214, 176, 215, 129, 215, 155, 214, 183, 214, 188, 215, 170, 214, 180, 214, 188, 215, 153, 32, 215, 153, 214, 184, 215, 169, 215, 129, 215, 149, 214, 185, 215, 147, 10, 78, 111, 114, 109, 97, 108, 32, 119, 114, 105, 116, 105, 110, 103, 32, 40, 110, 111, 32, 110, 105, 113, 113, 117, 100, 41, 58, 9, 215, 144, 215, 170, 32, 215, 147, 215, 156, 215, 170, 215, 153, 32, 215, 148, 215, 150, 215, 153, 215, 150, 32, 215, 148, 215, 160, 215, 153, 215, 162, 44, 32, 215, 167, 215, 152, 215, 145, 32, 215, 156, 215, 169, 215, 155, 215, 170, 215, 153, 32, 215, 153, 215, 169, 215, 149, 215, 147, 10, 68, 101, 118, 97, 110, 97, 103, 97, 114, 105, 44, 32, 116, 104, 101, 32, 115, 99, 114, 105, 112, 116, 32, 117, 115, 101, 100, 32, 116, 111, 32, 119, 114, 105, 116, 101, 32, 72, 105, 110, 100, 105, 44, 32, 83, 97, 110, 115, 107, 114, 105, 116, 44, 32, 97, 110, 100, 32, 109, 97, 110, 121, 32, 111, 116, 104, 101, 114, 32, 83, 111, 117, 116, 104, 32, 65, 115, 105, 97, 110, 32, 108, 97, 110, 103, 117, 97, 103, 101, 115, 44, 32, 101, 120, 112, 114, 101, 115, 115, 101, 115, 32, 99, 101, 114, 116, 97, 105, 110, 32, 118, 111, 119, 101, 108, 115, 32, 97, 115, 32, 99, 111, 109, 98, 105, 110, 105, 110, 103, 32, 109, 97, 114, 107, 115, 32, 97, 116, 116, 97, 99, 104, 101, 100, 32, 116, 111, 32, 99, 111, 110, 115, 111, 110, 97, 110, 116, 32, 108, 101, 116, 116, 101, 114, 115, 46, 32, 70, 111, 114, 32, 101, 120, 97, 109, 112, 108, 101, 44, 32, 226, 128, 156, 224, 164, 185, 226, 128, 157, 32, 43, 32, 226, 128, 156, 226, 128, 139, 224, 164, 191, 226, 128, 157, 32, 61, 32, 226, 128, 156, 224, 164, 185, 224, 164, 191, 226, 128, 157, 32, 40, 226, 128, 156, 104, 226, 128, 157, 32, 43, 32, 226, 128, 156, 105, 226, 128, 157, 32, 61, 32, 226, 128, 156, 104, 105, 226, 128, 157, 41, 46, 10, 10, 75, 111, 114, 101, 97, 110, 32, 99, 104, 97, 114, 97, 99, 116, 101, 114, 115, 32, 115, 116, 97, 110, 100, 32, 102, 111, 114, 32, 115, 121, 108, 108, 97, 98, 108, 101, 115, 44, 32, 98, 117, 116, 32, 116, 104, 101, 121, 32, 97, 114, 101, 32, 99, 111, 109, 112, 111, 115, 101, 100, 32, 111, 102, 32, 108, 101, 116, 116, 101, 114, 115, 32, 99, 97, 108, 108, 101, 100, 32, 106, 97, 109, 111, 32, 116, 104, 97, 116, 32, 115, 116, 97, 110, 100, 32, 102, 111, 114, 32, 116, 104, 101, 32, 118, 111, 119, 101, 108, 115, 32, 97, 110, 100, 32, 99, 111, 110, 115, 111, 110, 97, 110, 116, 115, 32, 105, 110, 32, 116, 104, 101, 32, 115, 121, 108, 108, 97, 98, 108, 101, 46, 32, 87, 104, 105, 108, 101, 32, 116, 104, 101, 114, 101, 32, 97, 114, 101, 32, 99, 111, 100, 101, 32, 112, 111, 105, 110, 116, 115, 32, 102, 111, 114, 32, 112, 114, 101, 99, 111, 109, 112, 111, 115, 101, 100, 32, 75, 111, 114, 101, 97, 110, 32, 115, 121, 108, 108, 97, 98, 108, 101, 115, 44, 32, 105, 116, 226, 128, 153, 115, 32, 97, 108, 115, 111, 32, 112, 111, 115, 115, 105, 98, 108, 101, 32, 116, 111, 32, 100, 121, 110, 97, 109, 105, 99, 97, 108, 108, 121, 32, 99, 111, 109, 112, 111, 115, 101, 32, 116, 104, 101, 109, 32, 98, 121, 32, 99, 111, 110, 99, 97, 116, 101, 110, 97, 116, 105, 110, 103, 32, 116, 104, 101, 105, 114, 32, 106, 97, 109, 111, 46, 32, 70, 111, 114, 32, 101, 120, 97, 109, 112, 108, 101, 44, 32, 226, 128, 156, 225, 132, 146, 226, 128, 157, 32, 43, 32, 226, 128, 156, 225, 133, 161, 226, 128, 157, 32, 43, 32, 226, 128, 156, 225, 134, 171, 226, 128, 157, 32, 61, 32, 226, 128, 156, 225, 132, 146, 225, 133, 161, 225, 134, 171, 226, 128, 157, 32, 40, 226, 128, 156, 104, 226, 128, 157, 32, 43, 32, 226, 128, 156, 97, 226, 128, 157, 32, 43, 32, 226, 128, 156, 110, 226, 128, 157, 32, 61, 32, 226, 128, 156, 104, 97, 110, 226, 128, 157, 41, 46, 10, 10, 67, 97, 110, 111, 110, 105, 99, 97, 108, 32, 69, 113, 117, 105, 118, 97, 108, 101, 110, 99, 101, 10, 73, 110, 32, 85, 110, 105, 99, 111, 100, 101, 44, 32, 112, 114, 101, 99, 111, 109, 112, 111, 115, 101, 100, 32, 99, 104, 97, 114, 97, 99, 116, 101, 114, 115, 32, 101, 120, 105, 115, 116, 32, 97, 108, 111, 110, 103, 115, 105, 100, 101, 32, 116, 104, 101, 32, 100, 121, 110, 97, 109, 105, 99, 32, 99, 111, 109, 112, 111, 115, 105, 116, 105, 111, 110, 32, 115, 121, 115, 116, 101, 109, 46, 32, 65, 32, 99, 111, 110, 115, 101, 113, 117, 101, 110, 99, 101, 32, 111, 102, 32, 116, 104, 105, 115, 32, 105, 115, 32, 116, 104, 97, 116, 32, 116, 104, 101, 114, 101, 32, 97, 114, 101, 32, 109, 117, 108, 116, 105, 112, 108, 101, 32, 119, 97, 121, 115, 32, 116, 111, 32, 101, 120, 112, 114, 101, 115, 115, 32, 226, 128, 156, 116, 104, 101, 32, 115, 97, 109, 101, 226, 128, 157, 32, 115, 116, 114, 105, 110, 103, 226, 128, 148, 100, 105, 102, 102, 101, 114, 101, 110, 116, 32, 115, 101, 113, 117, 101, 110, 99, 101, 115, 32, 111, 102, 32, 99, 111, 100, 101, 32, 112, 111, 105, 110, 116, 115, 32, 116, 104, 97, 116, 32, 114, 101, 115, 117, 108, 116, 32, 105, 110, 32, 116, 104, 101, 32, 115, 97, 109, 101, 32, 117, 115, 101, 114, 45, 112, 101, 114, 99, 101, 105, 118, 101, 100, 32, 99, 104, 97, 114, 97, 99, 116, 101, 114, 115, 46, 32, 70, 111, 114, 32, 101, 120, 97, 109, 112, 108, 101, 44, 32, 97, 115, 32, 119, 101, 32, 115, 97, 119, 32, 101, 97, 114, 108, 105, 101, 114, 44, 32, 119, 101, 32, 99, 97, 110, 32, 101, 120, 112, 114, 101, 115, 115, 32, 116, 104, 101, 32, 99, 104, 97, 114, 97, 99, 116, 101, 114, 32, 226, 128, 156, 195, 129, 226, 128, 157, 32, 101, 105, 116, 104, 101, 114, 32, 97, 115, 32, 116, 104, 101, 32, 115, 105, 110, 103, 108, 101, 32, 99, 111, 100, 101, 32, 112, 111, 105, 110, 116, 32, 85, 43, 48, 48, 67, 49, 44, 32, 111, 114, 32, 97, 115, 32, 116, 104, 101, 32, 115, 116, 114, 105, 110, 103, 32, 111, 102, 32, 116, 119, 111, 32, 99, 111, 100, 101, 32, 112, 111, 105, 110, 116, 115, 32, 85, 43, 48, 48, 52, 49, 32, 85, 43, 48, 51, 48, 49, 46, 10, 10, 65, 110, 111, 116, 104, 101, 114, 32, 115, 111, 117, 114, 99, 101, 32, 111, 102, 32, 97, 109, 98, 105, 103, 117, 105, 116, 121, 32, 105, 115, 32, 116, 104, 101, 32, 111, 114, 100, 101, 114, 105, 110, 103, 32, 111, 102, 32, 109, 117, 108, 116, 105, 112, 108, 101, 32, 100, 105, 97, 99, 114, 105, 116, 105, 99, 115, 32, 105, 110, 32, 97, 32, 115, 105, 110, 103, 108, 101, 32, 99, 104, 97, 114, 97, 99, 116, 101, 114, 46, 32, 68, 105, 97, 99, 114, 105, 116, 105, 99, 32, 111, 114, 100, 101, 114, 32, 109, 97, 116, 116, 101, 114, 115, 32, 118, 105, 115, 117, 97, 108, 108, 121, 32, 119, 104, 101, 110, 32, 116, 119, 111, 32, 100, 105, 97, 99, 114, 105, 116, 105, 99, 115, 32, 97, 112, 112, 108, 121, 32, 116, 111, 32, 116, 104, 101, 32, 115, 97, 109, 101, 32, 115, 105, 100, 101, 32, 111, 102, 32, 116, 104, 101, 32, 98, 97, 115, 101, 32, 99, 104, 97, 114, 97, 99, 116, 101, 114, 44, 32, 101, 46, 103, 46, 32, 98, 111, 116, 104, 32, 97, 98, 111, 118, 101, 58, 32, 226, 128, 156, 199, 161, 226, 128, 157, 32, 40, 100, 111, 116, 44, 32, 116, 104, 101, 110, 32, 109, 97, 99, 114, 111, 110, 41, 32, 105, 115, 32, 100, 105, 102, 102, 101, 114, 101, 110, 116, 32, 102, 114, 111, 109, 32, 226, 128, 156, 196, 129, 204, 135, 226, 128, 157, 32, 40, 109, 97, 99, 114, 111, 110, 44, 32, 116, 104, 101, 110, 32, 100, 111, 116, 41, 46, 32, 72, 111, 119, 101, 118, 101, 114, 44, 32, 119, 104, 101, 110, 32, 100, 105, 97, 99, 114, 105, 116, 105, 99, 115, 32, 97, 112, 112, 108, 121, 32, 116, 111, 32, 100, 105, 102, 102, 101, 114, 101, 110, 116, 32, 115, 105, 100, 101, 115, 32, 111, 102, 32, 116, 104, 101, 32, 99, 104, 97, 114, 97, 99, 116, 101, 114, 44, 32, 101, 46, 103, 46, 32, 111, 110, 101, 32, 97, 98, 111, 118, 101, 32, 97, 110, 100, 32, 111, 110, 101, 32, 98, 101, 108, 111, 119, 44, 32, 116, 104, 101, 110, 32, 116, 104, 101, 32, 111, 114, 100, 101, 114, 32, 100, 111, 101, 115, 110, 226, 128, 153, 116, 32, 97, 102, 102, 101, 99, 116, 32, 114, 101, 110, 100, 101, 114, 105, 110, 103, 46, 32, 77, 111, 114, 101, 111, 118, 101, 114, 44, 32, 97, 32, 99, 104, 97, 114, 97, 99, 116, 101, 114, 32, 119, 105, 116, 104, 32, 109, 117, 108, 116, 105, 112, 108, 101, 32, 100, 105, 97, 99, 114, 105, 116, 105, 99, 115, 32, 109, 105, 103, 104, 116, 32, 104, 97, 118, 101, 32, 111, 110, 101, 32, 111, 102, 32, 116, 104, 101, 32, 100, 105, 97, 99, 114, 105, 116, 105, 99, 115, 32, 112, 114, 101, 99, 111, 109, 112, 111, 115, 101, 100, 32, 97, 110, 100, 32, 111, 116, 104, 101, 114, 115, 32, 101, 120, 112, 114, 101, 115, 115, 101, 100, 32, 97, 115, 32, 99, 111, 109, 98, 105, 110, 105, 110, 103, 32, 109, 97, 114, 107, 115, 46, 10, 10, 70, 111, 114, 32, 101, 120, 97, 109, 112, 108, 101, 44, 32, 116, 104, 101, 32, 86, 105, 101, 116, 110, 97, 109, 101, 115, 101, 32, 108, 101, 116, 116, 101, 114, 32, 226, 128, 156, 225, 187, 135, 226, 128, 157, 32, 99, 97, 110, 32, 98, 101, 32, 101, 120, 112, 114, 101, 115, 115, 101, 100, 32, 105, 110, 32, 102, 105, 118, 101, 32, 100, 105, 102, 102, 101, 114, 101, 110, 116, 32, 119, 97, 121, 115, 58, 10, 10, 70, 117, 108, 108, 121, 32, 112, 114, 101, 99, 111, 109, 112, 111, 115, 101, 100, 58, 32, 85, 43, 49, 69, 67, 55, 32, 226, 128, 156, 225, 187, 135, 226, 128, 157, 10, 80, 97, 114, 116, 105, 97, 108, 108, 121, 32, 112, 114, 101, 99, 111, 109, 112, 111, 115, 101, 100, 58, 32, 85, 43, 49, 69, 66, 57, 32, 226, 128, 156, 225, 186, 185, 226, 128, 157, 32, 43, 32, 85, 43, 48, 51, 48, 50, 32, 226, 128, 156, 226, 151, 140, 204, 130, 226, 128, 157, 10, 80, 97, 114, 116, 105, 97, 108, 108, 121, 32, 112, 114, 101, 99, 111, 109, 112, 111, 115, 101, 100, 58, 32, 85, 43, 48, 48, 69, 65, 32, 226, 128, 156, 195, 170, 226, 128, 157, 32, 43, 32, 85, 43, 48, 51, 50, 51, 32, 226, 128, 156, 226, 151, 140, 204, 163, 226, 128, 157, 10, 70, 117, 108, 108, 121, 32, 100, 101, 99, 111, 109, 112, 111, 115, 101, 100, 58, 32, 85, 43, 48, 48, 54, 53, 32, 226, 128, 156, 101, 226, 128, 157, 32, 43, 32, 85, 43, 48, 51, 50, 51, 32, 226, 128, 156, 226, 151, 140, 204, 163, 226, 128, 157, 32, 43, 32, 85, 43, 48, 51, 48, 50, 32, 226, 128, 156, 226, 151, 140, 204, 130, 226, 128, 157, 10, 70, 117, 108, 108, 121, 32, 100, 101, 99, 111, 109, 112, 111, 115, 101, 100, 58, 32, 85, 43, 48, 48, 54, 53, 32, 226, 128, 156, 101, 226, 128, 157, 32, 43, 32, 85, 43, 48, 51, 48, 50, 32, 226, 128, 156, 226, 151, 140, 204, 130, 226, 128, 157, 32, 43, 32, 85, 43, 48, 51, 50, 51, 32, 226, 128, 156, 226, 151, 140, 204, 163, 226, 128, 157, 10, 85, 110, 105, 99, 111, 100, 101, 32, 114, 101, 102, 101, 114, 115, 32, 116, 111, 32, 115, 101, 116, 32, 111, 102, 32, 115, 116, 114, 105, 110, 103, 115, 32, 108, 105, 107, 101, 32, 116, 104, 105, 115, 32, 97, 115, 32, 226, 128, 156, 99, 97, 110, 111, 110, 105, 99, 97, 108, 108, 121, 32, 101, 113, 117, 105, 118, 97, 108, 101, 110, 116, 226, 128, 157, 46, 32, 67, 97, 110, 111, 110, 105, 99, 97, 108, 108, 121, 32, 101, 113, 117, 105, 118, 97, 108, 101, 110, 116, 32, 115, 116, 114, 105, 110, 103, 115, 32, 97, 114, 101, 32, 115, 117, 112, 112, 111, 115, 101, 100, 32, 116, 111, 32, 98, 101, 32, 116, 114, 101, 97, 116, 101, 100, 32, 97, 115, 32, 105, 100, 101, 110, 116, 105, 99, 97, 108, 32, 102, 111, 114, 32, 112, 117, 114, 112, 111, 115, 101, 115, 32, 111, 102, 32, 115, 101, 97, 114, 99, 104, 105, 110, 103, 44, 32, 115, 111, 114, 116, 105, 110, 103, 44, 32, 114, 101, 110, 100, 101, 114, 105, 110, 103, 44, 32, 116, 101, 120, 116, 32, 115, 101, 108, 101, 99, 116, 105, 111, 110, 44, 32, 97, 110, 100, 32, 115, 111, 32, 111, 110, 46, 32, 84, 104, 105, 115, 32, 104, 97, 115, 32, 105, 109, 112, 108, 105, 99, 97, 116, 105, 111, 110, 115, 32, 102, 111, 114, 32, 104, 111, 119, 32, 121, 111, 117, 32, 105, 109, 112, 108, 101, 109, 101, 110, 116, 32, 111, 112, 101, 114, 97, 116, 105, 111, 110, 115, 32, 111, 110, 32, 116, 101, 120, 116, 46, 32, 70, 111, 114, 32, 101, 120, 97, 109, 112, 108, 101, 44, 32, 105, 102, 32, 97, 110, 32, 97, 112, 112, 32, 104, 97, 115, 32, 97, 32, 226, 128, 156, 102, 105, 110, 100, 32, 105, 110, 32, 102, 105, 108, 101, 226, 128, 157, 32, 111, 112, 101, 114, 97, 116, 105, 111, 110, 32, 97, 110, 100, 32, 116, 104, 101, 32, 117, 115, 101, 114, 32, 115, 101, 97, 114, 99, 104, 101, 115, 32, 102, 111, 114, 32, 226, 128, 156, 225, 187, 135, 226, 128, 157, 44, 32, 105, 116, 32, 115, 104, 111, 117, 108, 100, 44, 32, 98, 121, 32, 100, 101, 102, 97, 117, 108, 116, 44, 32, 102, 105, 110, 100, 32, 111, 99, 99, 117, 114, 114, 101, 110, 99, 101, 115, 32, 111, 102, 32, 97, 110, 121, 32, 111, 102, 32, 116, 104, 101, 32, 102, 105, 118, 101, 32, 118, 101, 114, 115, 105, 111, 110, 115, 32, 111, 102, 32, 226, 128, 156, 225, 187, 135, 226, 128, 157, 32, 97, 98, 111, 118, 101, 33, 10, 10, 78, 111, 114, 109, 97, 108, 105, 122, 97, 116, 105, 111, 110, 32, 70, 111, 114, 109, 115, 10, 84, 111, 32, 97, 100, 100, 114, 101, 115, 115, 32, 116, 104, 101, 32, 112, 114, 111, 98, 108, 101, 109, 32, 111, 102, 32, 226, 128, 156, 104, 111, 119, 32, 116, 111, 32, 104, 97, 110, 100, 108, 101, 32, 99, 97, 110, 111, 110, 105, 99, 97, 108, 108, 121, 32, 101, 113, 117, 105, 118, 97, 108, 101, 110, 116, 32, 115, 116, 114, 105, 110, 103, 115, 226, 128, 157, 44, 32, 85, 110, 105, 99, 111, 100, 101, 32, 100, 101, 102, 105, 110, 101, 115, 32, 115, 101, 118, 101, 114, 97, 108, 32, 110, 111, 114, 109, 97, 108, 105, 122, 97, 116, 105, 111, 110, 32, 102, 111, 114, 109, 115, 58, 32, 119, 97, 121, 115, 32, 111, 102, 32, 99, 111, 110, 118, 101, 114, 116, 105, 110, 103, 32, 115, 116, 114, 105, 110, 103, 115, 32, 105, 110, 116, 111, 32, 97, 32, 99, 97, 110, 111, 110, 105, 99, 97, 108, 32, 102, 111, 114, 109, 32, 115, 111, 32, 116, 104, 97, 116, 32, 116, 104, 101, 121, 32, 99, 97, 110, 32, 98, 101, 32, 99, 111, 109, 112, 97, 114, 101, 100, 32, 99, 111, 100, 101, 45, 112, 111, 105, 110, 116, 45, 98, 121, 45, 99, 111, 100, 101, 45, 112, 111, 105, 110, 116, 32, 40, 111, 114, 32, 98, 121, 116, 101, 45, 98, 121, 45, 98, 121, 116, 101, 41, 46, 10, 10, 84, 104, 101, 32, 226, 128, 156, 78, 70, 68, 226, 128, 157, 32, 110, 111, 114, 109, 97, 108, 105, 122, 97, 116, 105, 111, 110, 32, 102, 111, 114, 109, 32, 102, 117, 108, 108, 121, 32, 100, 101, 99, 111, 109, 112, 111, 115, 101, 115, 32, 101, 118, 101, 114, 121, 32, 99, 104, 97, 114, 97, 99, 116, 101, 114, 32, 100, 111, 119, 110, 32, 116, 111, 32, 105, 116, 115, 32, 99, 111, 109, 112, 111, 110, 101, 110, 116, 32, 98, 97, 115, 101, 32, 97, 110, 100, 32, 99, 111, 109, 98, 105, 110, 105, 110, 103, 32, 109, 97, 114, 107, 115, 44, 32, 116, 97, 107, 105, 110, 103, 32, 97, 112, 97, 114, 116, 32, 97, 110, 121, 32, 112, 114, 101, 99, 111, 109, 112, 111, 115, 101, 100, 32, 99, 111, 100, 101, 32, 112, 111, 105, 110, 116, 115, 32, 105, 110, 32, 116, 104, 101, 32, 115, 116, 114, 105, 110, 103, 46, 32, 73, 116, 32, 97, 108, 115, 111, 32, 115, 111, 114, 116, 115, 32, 116, 104, 101, 32, 99, 111, 109, 98, 105, 110, 105, 110, 103, 32, 109, 97, 114, 107, 115, 32, 105, 110, 32, 101, 97, 99, 104, 32, 99, 104, 97, 114, 97, 99, 116, 101, 114, 32, 97, 99, 99, 111, 114, 100, 105, 110, 103, 32, 116, 111, 32, 116, 104, 101, 105, 114, 32, 114, 101, 110, 100, 101, 114, 101, 100, 32, 112, 111, 115, 105, 116, 105, 111, 110, 44, 32, 115, 111, 32, 101, 46, 103, 46, 32, 100, 105, 97, 99, 114, 105, 116, 105, 99, 115, 32, 116, 104, 97, 116, 32, 103, 111, 32, 98, 101, 108, 111, 119, 32, 116, 104, 101, 32, 99, 104, 97, 114, 97, 99, 116, 101, 114, 32, 99, 111, 109, 101, 32, 98, 101, 102, 111, 114, 101, 32, 116, 104, 101, 32, 111, 110, 101, 115, 32, 116, 104, 97, 116, 32, 103, 111, 32, 97, 98, 111, 118, 101, 32, 116, 104, 101, 32, 99, 104, 97, 114, 97, 99, 116, 101, 114, 46, 32, 40, 73, 116, 32, 100, 111, 101, 115, 110, 226, 128, 153, 116, 32, 114, 101, 111, 114, 100, 101, 114, 32, 100, 105, 97, 99, 114, 105, 116, 105, 99, 115, 32, 105, 110, 32, 116, 104, 101, 32, 115, 97, 109, 101, 32, 114, 101, 110, 100, 101, 114, 101, 100, 32, 112, 111, 115, 105, 116, 105, 111, 110, 44, 32, 115, 105, 110, 99, 101, 32, 116, 104, 101, 105, 114, 32, 111, 114, 100, 101, 114, 32, 109, 97, 116, 116, 101, 114, 115, 32, 118, 105, 115, 117, 97, 108, 108, 121, 44, 32, 97, 115, 32, 112, 114, 101, 118, 105, 111, 117, 115, 108, 121, 32, 109, 101, 110, 116, 105, 111, 110, 101, 100, 46, 41, 10, 10, 84, 104, 101, 32, 226, 128, 156, 78, 70, 67, 226, 128, 157, 32, 102, 111, 114, 109, 44, 32, 99, 111, 110, 118, 101, 114, 115, 101, 108, 121, 44, 32, 112, 117, 116, 115, 32, 116, 104, 105, 110, 103, 115, 32, 98, 97, 99, 107, 32, 116, 111, 103, 101, 116, 104, 101, 114, 32, 105, 110, 116, 111, 32, 112, 114, 101, 99, 111, 109, 112, 111, 115, 101, 100, 32, 99, 111, 100, 101, 32, 112, 111, 105, 110, 116, 115, 32, 97, 115, 32, 109, 117, 99, 104, 32, 97, 115, 32, 112, 111, 115, 115, 105, 98, 108, 101, 46, 32, 73, 102, 32, 97, 110, 32, 117, 110, 117, 115, 117, 97, 108, 32, 99, 111, 109, 98, 105, 110, 97, 116, 105, 111, 110, 32, 111, 102, 32, 100, 105, 97, 99, 114, 105, 116, 105, 99, 115, 32, 105, 115, 32, 99, 97, 108, 108, 101, 100, 32, 102, 111, 114, 44, 32, 116, 104, 101, 114, 101, 32, 109, 97, 121, 32, 110, 111, 116, 32, 98, 101, 32, 97, 110, 121, 32, 112, 114, 101, 99, 111, 109, 112, 111, 115, 101, 100, 32, 99, 111, 100, 101, 32, 112, 111, 105, 110, 116, 32, 102, 111, 114, 32, 105, 116, 44, 32, 105, 110, 32, 119, 104, 105, 99, 104, 32, 99, 97, 115, 101, 32, 78, 70, 67, 32, 115, 116, 105, 108, 108, 32, 112, 114, 101, 99, 111, 109, 112, 111, 115, 101, 115, 32, 119, 104, 97, 116, 32, 105, 116, 32, 99, 97, 110, 32, 97, 110, 100, 32, 108, 101, 97, 118, 101, 115, 32, 97, 110, 121, 32, 114, 101, 109, 97, 105, 110, 105, 110, 103, 32, 99, 111, 109, 98, 105, 110, 105, 110, 103, 32, 109, 97, 114, 107, 115, 32, 105, 110, 32, 112, 108, 97, 99, 101, 32, 40, 97, 103, 97, 105, 110, 32, 111, 114, 100, 101, 114, 101, 100, 32, 98, 121, 32, 114, 101, 110, 100, 101, 114, 101, 100, 32, 112, 111, 115, 105, 116, 105, 111, 110, 44, 32, 97, 115, 32, 105, 110, 32, 78, 70, 68, 41, 46, 10, 10, 84, 104, 101, 114, 101, 32, 97, 114, 101, 32, 97, 108, 115, 111, 32, 102, 111, 114, 109, 115, 32, 99, 97, 108, 108, 101, 100, 32, 78, 70, 75, 68, 32, 97, 110, 100, 32, 78, 70, 75, 67, 46, 32, 84, 104, 101, 32, 226, 128, 156, 75, 226, 128, 157, 32, 104, 101, 114, 101, 32, 114, 101, 102, 101, 114, 115, 32, 116, 111, 32, 99, 111, 109, 112, 97, 116, 105, 98, 105, 108, 105, 116, 121, 32, 100, 101, 99, 111, 109, 112, 111, 115, 105, 116, 105, 111, 110, 115, 44, 32, 119, 104, 105, 99, 104, 32, 99, 111, 118, 101, 114, 32, 99, 104, 97, 114, 97, 99, 116, 101, 114, 115, 32, 116, 104, 97, 116, 32, 97, 114, 101, 32, 226, 128, 156, 115, 105, 109, 105, 108, 97, 114, 226, 128, 157, 32, 105, 110, 32, 115, 111, 109, 101, 32, 115, 101, 110, 115, 101, 32, 98, 117, 116, 32, 110, 111, 116, 32, 118, 105, 115, 117, 97, 108, 108, 121, 32, 105, 100, 101, 110, 116, 105, 99, 97, 108, 46, 32, 72, 111, 119, 101, 118, 101, 114, 44, 32, 73, 226, 128, 153, 109, 32, 110, 111, 116, 32, 103, 111, 105, 110, 103, 32, 116, 111, 32, 99, 111, 118, 101, 114, 32, 116, 104, 97, 116, 32, 104, 101, 114, 101, 46, 10, 10, 71, 114, 97, 112, 104, 101, 109, 101, 32, 67, 108, 117, 115, 116, 101, 114, 115, 10, 65, 115, 32, 119, 101, 226, 128, 153, 118, 101, 32, 115, 101, 101, 110, 44, 32, 85, 110, 105, 99, 111, 100, 101, 32, 99, 111, 110, 116, 97, 105, 110, 115, 32, 118, 97, 114, 105, 111, 117, 115, 32, 99, 97, 115, 101, 115, 32, 119, 104, 101, 114, 101, 32, 97, 32, 116, 104, 105, 110, 103, 32, 116, 104, 97, 116, 32, 97, 32, 117, 115, 101, 114, 32, 116, 104, 105, 110, 107, 115, 32, 111, 102, 32, 97, 115, 32, 97, 32, 115, 105, 110, 103, 108, 101, 32, 226, 128, 156, 99, 104, 97, 114, 97, 99, 116, 101, 114, 226, 128, 157, 32, 109, 105, 103, 104, 116, 32, 97, 99, 116, 117, 97, 108, 108, 121, 32, 98, 101, 32, 109, 97, 100, 101, 32, 117, 112, 32, 111, 102, 32, 109, 117, 108, 116, 105, 112, 108, 101, 32, 99, 111, 100, 101, 32, 112, 111, 105, 110, 116, 115, 32, 117, 110, 100, 101, 114, 32, 116, 104, 101, 32, 104, 111, 111, 100, 46, 32, 85, 110, 105, 99, 111, 100, 101, 32, 102, 111, 114, 109, 97, 108, 105, 122, 101, 115, 32, 116, 104, 105, 115, 32, 117, 115, 105, 110, 103, 32, 116, 104, 101, 32, 110, 111, 116, 105, 111, 110, 32, 111, 102, 32, 97, 32, 103, 114, 97, 112, 104, 101, 109, 101, 32, 99, 108, 117, 115, 116, 101, 114, 58, 32, 97, 32, 115, 116, 114, 105, 110, 103, 32, 111, 102, 32, 111, 110, 101, 32, 111, 114, 32, 109, 111, 114, 101, 32, 99, 111, 100, 101, 32, 112, 111, 105, 110, 116, 115, 32, 116, 104, 97, 116, 32, 99, 111, 110, 115, 116, 105, 116, 117, 116, 101, 32, 97, 32, 115, 105, 110, 103, 108, 101, 32, 226, 128, 156, 117, 115, 101, 114, 45, 112, 101, 114, 99, 101, 105, 118, 101, 100, 32, 99, 104, 97, 114, 97, 99, 116, 101, 114, 226, 128, 157, 46, 10, 10, 85, 65, 88, 32, 35, 50, 57, 32, 100, 101, 102, 105, 110, 101, 115, 32, 116, 104, 101, 32, 114, 117, 108, 101, 115, 32, 102, 111, 114, 32, 119, 104, 97, 116, 44, 32, 112, 114, 101, 99, 105, 115, 101, 108, 121, 44, 32, 113, 117, 97, 108, 105, 102, 105, 101, 115, 32, 97, 115, 32, 97, 32, 103, 114, 97, 112, 104, 101, 109, 101, 32, 99, 108, 117, 115, 116, 101, 114, 46, 32, 73, 116, 226, 128, 153, 115, 32, 97, 112, 112, 114, 111, 120, 105, 109, 97, 116, 101, 108, 121, 32, 226, 128, 156, 97, 32, 98, 97, 115, 101, 32, 99, 111, 100, 101, 32, 112, 111, 105, 110, 116, 32, 102, 111, 108, 108, 111, 119, 101, 100, 32, 98, 121, 32, 97, 110, 121, 32, 110, 117, 109, 98, 101, 114, 32, 111, 102, 32, 99, 111, 109, 98, 105, 110, 105, 110, 103, 32, 109, 97, 114, 107, 115, 226, 128, 157, 44, 32, 98, 117, 116, 32, 116, 104, 101, 32, 97, 99, 116, 117, 97, 108, 32, 100, 101, 102, 105, 110, 105, 116, 105, 111, 110, 32, 105, 115, 32, 97, 32, 98, 105, 116, 32, 109, 111, 114, 101, 32, 99, 111, 109, 112, 108, 105, 99, 97, 116, 101, 100, 59, 32, 105, 116, 32, 97, 99, 99, 111, 117, 110, 116, 115, 32, 102, 111, 114, 32, 116, 104, 105, 110, 103, 115, 32, 108, 105, 107, 101, 32, 75, 111, 114, 101, 97, 110, 32, 106, 97, 109, 111, 44, 32, 97, 110, 100, 32, 101, 109, 111, 106, 105, 32, 90, 87, 74, 32, 115, 101, 113, 117, 101, 110, 99, 101, 115, 46, 10, 10, 84, 104, 101, 32, 109, 97, 105, 110, 32, 116, 104, 105, 110, 103, 32, 103, 114, 97, 112, 104, 101, 109, 101, 32, 99, 108, 117, 115, 116, 101, 114, 115, 32, 97, 114, 101, 32, 117, 115, 101, 100, 32, 102, 111, 114, 32, 105, 115, 32, 116, 101, 120, 116, 32, 101, 100, 105, 116, 105, 110, 103, 58, 32, 116, 104, 101, 121, 226, 128, 153, 114, 101, 32, 111, 102, 116, 101, 110, 32, 116, 104, 101, 32, 109, 111, 115, 116, 32, 115, 101, 110, 115, 105, 98, 108, 101, 32, 117, 110, 105, 116, 32, 102, 111, 114, 32, 99, 117, 114, 115, 111, 114, 32, 112, 108, 97, 99, 101, 109, 101, 110, 116, 32, 97, 110, 100, 32, 116, 101, 120, 116, 32, 115, 101, 108, 101, 99, 116, 105, 111, 110, 32, 98, 111, 117, 110, 100, 97, 114, 105, 101, 115, 46, 32, 85, 115, 105, 110, 103, 32, 103, 114, 97, 112, 104, 101, 109, 101, 32, 99, 108, 117, 115, 116, 101, 114, 115, 32, 102, 111, 114, 32, 116, 104, 101, 115, 101, 32, 112, 117, 114, 112, 111, 115, 101, 115, 32, 101, 110, 115, 117, 114, 101, 115, 32, 116, 104, 97, 116, 32, 121, 111, 117, 32, 99, 97, 110, 226, 128, 153, 116, 32, 97, 99, 99, 105, 100, 101, 110, 116, 97, 108, 108, 121, 32, 99, 104, 111, 112, 32, 111, 102, 102, 32, 115, 111, 109, 101, 32, 100, 105, 97, 99, 114, 105, 116, 105, 99, 115, 32, 119, 104, 101, 110, 32, 121, 111, 117, 32, 99, 111, 112, 121, 45, 97, 110, 100, 45, 112, 97, 115, 116, 101, 32, 116, 101, 120, 116, 44, 32, 116, 104, 97, 116, 32, 108, 101, 102, 116, 47, 114, 105, 103, 104, 116, 32, 97, 114, 114, 111, 119, 32, 107, 101, 121, 115, 32, 97, 108, 119, 97, 121, 115, 32, 109, 111, 118, 101, 32, 116, 104, 101, 32, 99, 117, 114, 115, 111, 114, 32, 98, 121, 32, 111, 110, 101, 32, 118, 105, 115, 105, 98, 108, 101, 32, 99, 104, 97, 114, 97, 99, 116, 101, 114, 44, 32, 97, 110, 100, 32, 115, 111, 32, 111, 110, 46, 10, 10, 65, 110, 111, 116, 104, 101, 114, 32, 112, 108, 97, 99, 101, 32, 119, 104, 101, 114, 101, 32, 103, 114, 97, 112, 104, 101, 109, 101, 32, 99, 108, 117, 115, 116, 101, 114, 115, 32, 97, 114, 101, 32, 117, 115, 101, 102, 117, 108, 32, 105, 115, 32, 105, 110, 32, 101, 110, 102, 111, 114, 99, 105, 110, 103, 32, 97, 32, 115, 116, 114, 105, 110, 103, 32, 108, 101, 110, 103, 116, 104, 32, 108, 105, 109, 105, 116, 226, 128, 148, 115, 97, 121, 44, 32, 111, 110, 32, 97, 32, 100, 97, 116, 97, 98, 97, 115, 101, 32, 102, 105, 101, 108, 100, 46, 32, 87, 104, 105, 108, 101, 32, 116, 104, 101, 32, 116, 114, 117, 101, 44, 32, 117, 110, 100, 101, 114, 108, 121, 105, 110, 103, 32, 108, 105, 109, 105, 116, 32, 109, 105, 103, 104, 116, 32, 98, 101, 32, 115, 111, 109, 101, 116, 104, 105, 110, 103, 32, 108, 105, 107, 101, 32, 116, 104, 101, 32, 98, 121, 116, 101, 32, 108, 101, 110, 103, 116, 104, 32, 111, 102, 32, 116, 104, 101, 32, 115, 116, 114, 105, 110, 103, 32, 105, 110, 32, 85, 84, 70, 45, 56, 44, 32, 121, 111, 117, 32, 119, 111, 117, 108, 100, 110, 226, 128, 153, 116, 32, 119, 97, 110, 116, 32, 116, 111, 32, 101, 110, 102, 111, 114, 99, 101, 32, 116, 104, 97, 116, 32, 98, 121, 32, 106, 117, 115, 116, 32, 116, 114, 117, 110, 99, 97, 116, 105, 110, 103, 32, 98, 121, 116, 101, 115, 46, 32, 65, 116, 32, 97, 32, 109, 105, 110, 105, 109, 117, 109, 44, 32, 121, 111, 117, 226, 128, 153, 100, 32, 119, 97, 110, 116, 32, 116, 111, 32, 226, 128, 156, 114, 111, 117, 110, 100, 32, 100, 111, 119, 110, 226, 128, 157, 32, 116, 111, 32, 116, 104, 101, 32, 110, 101, 97, 114, 101, 115, 116, 32, 99, 111, 100, 101, 32, 112, 111, 105, 110, 116, 32, 98, 111, 117, 110, 100, 97, 114, 121, 59, 32, 98, 117, 116, 32, 101, 118, 101, 110, 32, 98, 101, 116, 116, 101, 114, 44, 32, 114, 111, 117, 110, 100, 32, 100, 111, 119, 110, 32, 116, 111, 32, 116, 104, 101, 32, 110, 101, 97, 114, 101, 115, 116, 32, 103, 114, 97, 112, 104, 101, 109, 101, 32, 99, 108, 117, 115, 116, 101, 114, 32, 98, 111, 117, 110, 100, 97, 114, 121, 46, 32, 79, 116, 104, 101, 114, 119, 105, 115, 101, 44, 32, 121, 111, 117, 32, 109, 105, 103, 104, 116, 32, 98, 101, 32, 99, 111, 114, 114, 117, 112, 116, 105, 110, 103, 32, 116, 104, 101, 32, 108, 97, 115, 116, 32, 99, 104, 97, 114, 97, 99, 116, 101, 114, 32, 98, 121, 32, 99, 117, 116, 116, 105, 110, 103, 32, 111, 102, 102, 32, 97, 32, 100, 105, 97, 99, 114, 105, 116, 105, 99, 44, 32, 111, 114, 32, 105, 110, 116, 101, 114, 114, 117, 112, 116, 105, 110, 103, 32, 97, 32, 106, 97, 109, 111, 32, 115, 101, 113, 117, 101, 110, 99, 101, 32, 111, 114, 32, 90, 87, 74, 32, 115, 101, 113, 117, 101, 110, 99, 101, 46, 10, 10, 65, 110, 100, 32, 77, 111, 114, 101, 226, 128, 166, 10, 84, 104, 101, 114, 101, 226, 128, 153, 115, 32, 109, 117, 99, 104, 32, 109, 111, 114, 101, 32, 116, 104, 97, 116, 32, 99, 111, 117, 108, 100, 32, 98, 101, 32, 115, 97, 105, 100, 32, 97, 98, 111, 117, 116, 32, 85, 110, 105, 99, 111, 100, 101, 32, 102, 114, 111, 109, 32, 97, 32, 112, 114, 111, 103, 114, 97, 109, 109, 101, 114, 226, 128, 153, 115, 32, 112, 101, 114, 115, 112, 101, 99, 116, 105, 118, 101, 33, 32, 73, 32, 104, 97, 118, 101, 110, 226, 128, 153, 116, 32, 103, 111, 116, 116, 101, 110, 32, 105, 110, 116, 111, 32, 115, 117, 99, 104, 32, 102, 117, 110, 32, 116, 111, 112, 105, 99, 115, 32, 97, 115, 32, 99, 97, 115, 101, 32, 109, 97, 112, 112, 105, 110, 103, 44, 32, 99, 111, 108, 108, 97, 116, 105, 111, 110, 44, 32, 99, 111, 109, 112, 97, 116, 105, 98, 105, 108, 105, 116, 121, 32, 100, 101, 99, 111, 109, 112, 111, 115, 105, 116, 105, 111, 110, 115, 32, 97, 110, 100, 32, 99, 111, 110, 102, 117, 115, 97, 98, 108, 101, 115, 44, 32, 85, 110, 105, 99, 111, 100, 101, 45, 97, 119, 97, 114, 101, 32, 114, 101, 103, 101, 120, 101, 115, 44, 32, 111, 114, 32, 98, 105, 100, 105, 114, 101, 99, 116, 105, 111, 110, 97, 108, 32, 116, 101, 120, 116, 46, 32, 78, 111, 114, 32, 104, 97, 118, 101, 32, 73, 32, 115, 97, 105, 100, 32, 97, 110, 121, 116, 104, 105, 110, 103, 32, 121, 101, 116, 32, 97, 98, 111, 117, 116, 32, 105, 109, 112, 108, 101, 109, 101, 110, 116, 97, 116, 105, 111, 110, 32, 105, 115, 115, 117, 101, 115, 226, 128, 148, 104, 111, 119, 32, 116, 111, 32, 101, 102, 102, 105, 99, 105, 101, 110, 116, 108, 121, 32, 115, 116, 111, 114, 101, 32, 97, 110, 100, 32, 108, 111, 111, 107, 45, 117, 112, 32, 100, 97, 116, 97, 32, 97, 98, 111, 117, 116, 32, 116, 104, 101, 32, 115, 112, 97, 114, 115, 101, 108, 121, 45, 97, 115, 115, 105, 103, 110, 101, 100, 32, 99, 111, 100, 101, 32, 112, 111, 105, 110, 116, 115, 44, 32, 111, 114, 32, 104, 111, 119, 32, 116, 111, 32, 111, 112, 116, 105, 109, 105, 122, 101, 32, 85, 84, 70, 45, 56, 32, 100, 101, 99, 111, 100, 105, 110, 103, 44, 32, 115, 116, 114, 105, 110, 103, 32, 99, 111, 109, 112, 97, 114, 105, 115, 111, 110, 44, 32, 111, 114, 32, 78, 70, 67, 32, 110, 111, 114, 109, 97, 108, 105, 122, 97, 116, 105, 111, 110, 46, 32, 80, 101, 114, 104, 97, 112, 115, 32, 73, 226, 128, 153, 108, 108, 32, 114, 101, 116, 117, 114, 110, 32, 116, 111, 32, 115, 111, 109, 101, 32, 111, 102, 32, 116, 104, 111, 115, 101, 32, 116, 104, 105, 110, 103, 115, 32, 105, 110, 32, 102, 117, 116, 117, 114, 101, 32, 112, 111, 115, 116, 115, 46, 10, 10, 85, 110, 105, 99, 111, 100, 101, 32, 105, 115, 32, 97, 32, 102, 97, 115, 99, 105, 110, 97, 116, 105, 110, 103, 32, 97, 110, 100, 32, 99, 111, 109, 112, 108, 101, 120, 32, 115, 121, 115, 116, 101, 109, 46, 32, 73, 116, 32, 104, 97, 115, 32, 97, 32, 109, 97, 110, 121, 45, 116, 111, 45, 111, 110, 101, 32, 109, 97, 112, 112, 105, 110, 103, 32, 98, 101, 116, 119, 101, 101, 110, 32, 98, 121, 116, 101, 115, 32, 97, 110, 100, 32, 99, 111, 100, 101, 32, 112, 111, 105, 110, 116, 115, 44, 32, 97, 110, 100, 32, 111, 110, 32, 116, 111, 112, 32, 111, 102, 32, 116, 104, 97, 116, 32, 97, 32, 109, 97, 110, 121, 45, 116, 111, 45, 111, 110, 101, 32, 40, 111, 114, 44, 32, 117, 110, 100, 101, 114, 32, 115, 111, 109, 101, 32, 99, 105, 114, 99, 117, 109, 115, 116, 97, 110, 99, 101, 115, 44, 32, 109, 97, 110, 121, 45, 116, 111, 45, 109, 97, 110, 121, 41, 32, 109, 97, 112, 112, 105, 110, 103, 32, 98, 101, 116, 119, 101, 101, 110, 32, 99, 111, 100, 101, 32, 112, 111, 105, 110, 116, 115, 32, 97, 110, 100, 32, 226, 128, 156, 99, 104, 97, 114, 97, 99, 116, 101, 114, 115, 226, 128, 157, 46, 32, 73, 116, 32, 104, 97, 115, 32, 111, 100, 100, 98, 97, 108, 108, 32, 115, 112, 101, 99, 105, 97, 108, 32, 99, 97, 115, 101, 115, 32, 105, 110, 32, 101, 118, 101, 114, 121, 32, 99, 111, 114, 110, 101, 114, 46, 32, 66, 117, 116, 32, 110, 111, 32, 111, 110, 101, 32, 101, 118, 101, 114, 32, 99, 108, 97, 105, 109, 101, 100, 32, 116, 104, 97, 116, 32, 114, 101, 112, 114, 101, 115, 101, 110, 116, 105, 110, 103, 32, 97, 108, 108, 32, 119, 114, 105, 116, 116, 101, 110, 32, 108, 97, 110, 103, 117, 97, 103, 101, 115, 32, 119, 97, 115, 32, 103, 111, 105, 110, 103, 32, 116, 111, 32, 98, 101, 32, 101, 97, 115, 121, 44, 32, 97, 110, 100, 32, 105, 116, 226, 128, 153, 115, 32, 99, 108, 101, 97, 114, 32, 116, 104, 97, 116, 32, 119, 101, 226, 128, 153, 114, 101, 32, 110, 101, 118, 101, 114, 32, 103, 111, 105, 110, 103, 32, 98, 97, 99, 107, 32, 116, 111, 32, 116, 104, 101, 32, 98, 97, 100, 32, 111, 108, 100, 32, 100, 97, 121, 115, 32, 111, 102, 32, 97, 32, 112, 97, 116, 99, 104, 119, 111, 114, 107, 32, 111, 102, 32, 105, 110, 99, 111, 109, 112, 97, 116, 105, 98, 108, 101, 32, 101, 110, 99, 111, 100, 105, 110, 103, 115, 46, 10, 10, 70, 117, 114, 116, 104, 101, 114, 32, 114, 101, 97, 100, 105, 110, 103, 58, 10, 10, 84, 104, 101, 32, 85, 110, 105, 99, 111, 100, 101, 32, 83, 116, 97, 110, 100, 97, 114, 100, 10, 85, 84, 70, 45, 56, 32, 69, 118, 101, 114, 121, 119, 104, 101, 114, 101, 32, 77, 97, 110, 105, 102, 101, 115, 116, 111, 10, 68, 97, 114, 107, 32, 99, 111, 114, 110, 101, 114, 115, 32, 111, 102, 32, 85, 110, 105, 99, 111, 100, 101, 32, 98, 121, 32, 69, 101, 118, 101, 101, 10, 73, 67, 85, 32, 40, 73, 110, 116, 101, 114, 110, 97, 116, 105, 111, 110, 97, 108, 32, 67, 111, 109, 112, 111, 110, 101, 110, 116, 115, 32, 102, 111, 114, 32, 85, 110, 105, 99, 111, 100, 101, 41, 226, 128, 148, 67, 47, 67, 43, 43, 47, 74, 97, 118, 97, 32, 108, 105, 98, 114, 97, 114, 105, 101, 115, 32, 105, 109, 112, 108, 101, 109, 101, 110, 116, 105, 110, 103, 32, 109, 97, 110, 121, 32, 85, 110, 105, 99, 111, 100, 101, 32, 97, 108, 103, 111, 114, 105, 116, 104, 109, 115, 32, 97, 110, 100, 32, 114, 101, 108, 97, 116, 101, 100, 32, 116, 104, 105, 110, 103, 115, 10, 80, 121, 116, 104, 111, 110, 32, 51, 32, 85, 110, 105, 99, 111, 100, 101, 32, 72, 111, 119, 116, 111, 10, 71, 111, 111, 103, 108, 101, 32, 78, 111, 116, 111, 32, 70, 111, 110, 116, 115, 226, 128, 148, 115, 101, 116, 32, 111, 102, 32, 102, 111, 110, 116, 115, 32, 105, 110, 116, 101, 110, 100, 101, 100, 32, 116, 111, 32, 99, 111, 118, 101, 114, 32, 97, 108, 108, 32, 97, 115, 115, 105, 103, 110, 101, 100, 32, 99, 111, 100, 101, 32, 112, 111, 105, 110, 116, 115]\n"
          ]
        }
      ]
    },
    {
      "cell_type": "code",
      "source": [
        "len(tokens), len(text)"
      ],
      "metadata": {
        "colab": {
          "base_uri": "https://localhost:8080/"
        },
        "id": "4MOiVBqSM5Gq",
        "outputId": "93e4907c-f08b-4a5d-c6f0-0fd1fdaabe32"
      },
      "execution_count": null,
      "outputs": [
        {
          "output_type": "execute_result",
          "data": {
            "text/plain": [
              "(24613, 23347)"
            ]
          },
          "metadata": {},
          "execution_count": 58
        }
      ]
    },
    {
      "cell_type": "code",
      "source": [],
      "metadata": {
        "id": "mfvZwMutNG8_"
      },
      "execution_count": null,
      "outputs": []
    },
    {
      "cell_type": "code",
      "source": [
        "def get_stats(ids):\n",
        "\n",
        "  counts = {}\n",
        "  for pair in zip(ids, ids[1:]):\n",
        "    counts[pair] = counts.get(pair, 0) + 1\n",
        "  return counts\n",
        "\n",
        "def merge(ids, pair, idx):\n",
        "\n",
        "  newids = []\n",
        "  i = 0\n",
        "  while i < len(ids):\n",
        "\n",
        "    if i < len(ids) - 1 and ids[i] == pair[0] and ids[i+1] == pair[1]:\n",
        "      newids.append(idx)\n",
        "      i+=2\n",
        "    else:\n",
        "      newids.append(ids[i])\n",
        "      i+=1\n",
        "  return newids\n",
        "\n",
        "vocab_size = 276\n",
        "num_merges = vocab_size - 256\n",
        "ids = list(tokens)\n",
        "\n",
        "merges = {}\n",
        "for i in range(num_merges):\n",
        "  stats = get_stats(ids)\n",
        "  pair = max(stats, key = stats.get)\n",
        "  idx = 256 + i\n",
        "\n",
        "  print(\"Serial num:\",i+1,\"merging {}\".format(pair) ,\"into new token {}\".format(idx) )\n",
        "  ids = merge(ids, pair, idx)\n",
        "  merges[pair] = idx\n"
      ],
      "metadata": {
        "colab": {
          "base_uri": "https://localhost:8080/"
        },
        "outputId": "350ebb99-e852-4f6b-9fb9-96495f0512ef",
        "id": "kJahOqjFNMZg"
      },
      "execution_count": null,
      "outputs": [
        {
          "output_type": "stream",
          "name": "stdout",
          "text": [
            "Serial num: 1 merging (101, 32) into new token 256\n",
            "Serial num: 2 merging (105, 110) into new token 257\n",
            "Serial num: 3 merging (115, 32) into new token 258\n",
            "Serial num: 4 merging (116, 104) into new token 259\n",
            "Serial num: 5 merging (101, 114) into new token 260\n",
            "Serial num: 6 merging (99, 111) into new token 261\n",
            "Serial num: 7 merging (116, 32) into new token 262\n",
            "Serial num: 8 merging (226, 128) into new token 263\n",
            "Serial num: 9 merging (44, 32) into new token 264\n",
            "Serial num: 10 merging (97, 110) into new token 265\n",
            "Serial num: 11 merging (111, 114) into new token 266\n",
            "Serial num: 12 merging (100, 32) into new token 267\n",
            "Serial num: 13 merging (97, 114) into new token 268\n",
            "Serial num: 14 merging (101, 110) into new token 269\n",
            "Serial num: 15 merging (257, 103) into new token 270\n",
            "Serial num: 16 merging (261, 100) into new token 271\n",
            "Serial num: 17 merging (121, 32) into new token 272\n",
            "Serial num: 18 merging (97, 108) into new token 273\n",
            "Serial num: 19 merging (259, 256) into new token 274\n",
            "Serial num: 20 merging (111, 110) into new token 275\n"
          ]
        }
      ]
    },
    {
      "cell_type": "code",
      "source": [
        "len(tokens), len(ids)"
      ],
      "metadata": {
        "colab": {
          "base_uri": "https://localhost:8080/"
        },
        "id": "L8jZcfp2Ndey",
        "outputId": "3b9d8d87-43a3-4458-cd18-574911ab338c"
      },
      "execution_count": null,
      "outputs": [
        {
          "output_type": "execute_result",
          "data": {
            "text/plain": [
              "(24613, 19489)"
            ]
          },
          "metadata": {},
          "execution_count": 73
        }
      ]
    },
    {
      "cell_type": "code",
      "source": [
        "print(f\"Compression rate: {len(tokens)/len(ids):.2f}X\")"
      ],
      "metadata": {
        "colab": {
          "base_uri": "https://localhost:8080/"
        },
        "id": "OtR2TC8pNkiZ",
        "outputId": "45ff3700-4c9c-40d8-b011-70841b8c4086"
      },
      "execution_count": null,
      "outputs": [
        {
          "output_type": "stream",
          "name": "stdout",
          "text": [
            "Compression rate: 1.26X\n"
          ]
        }
      ]
    },
    {
      "cell_type": "markdown",
      "source": [
        "### **Decoding**"
      ],
      "metadata": {
        "id": "iso00puqN97Y"
      }
    },
    {
      "cell_type": "code",
      "source": [
        "vocab = {idx:bytes([idx]) for idx in range(256)}\n",
        "for (p0, p1), idx in merges.items():\n",
        "  vocab[idx] = vocab[p0] + vocab[p1]\n",
        "\n",
        "def decode(ids):\n",
        "  tokens = b\"\".join(vocab[idx] for idx in ids)\n",
        "  text = tokens.decode('utf-8', errors='replace')\n",
        "  return text\n",
        "\n",
        "text = decode([128, 69, 56, 25])\n",
        "text2 = decode([69])\n",
        "text, text2"
      ],
      "metadata": {
        "colab": {
          "base_uri": "https://localhost:8080/"
        },
        "id": "WZPN9CbjN8DP",
        "outputId": "a7f866c0-6f1b-48bd-8769-e576b6b86a3f"
      },
      "execution_count": null,
      "outputs": [
        {
          "output_type": "execute_result",
          "data": {
            "text/plain": [
              "('�E8\\x19', 'E')"
            ]
          },
          "metadata": {},
          "execution_count": 85
        }
      ]
    },
    {
      "cell_type": "code",
      "source": [
        "merges"
      ],
      "metadata": {
        "colab": {
          "base_uri": "https://localhost:8080/"
        },
        "id": "VEU_AE8iQ2DM",
        "outputId": "cfd71a4d-a061-4b80-e668-22e6d1afd60b"
      },
      "execution_count": null,
      "outputs": [
        {
          "output_type": "execute_result",
          "data": {
            "text/plain": [
              "{(101, 32): 256,\n",
              " (105, 110): 257,\n",
              " (115, 32): 258,\n",
              " (116, 104): 259,\n",
              " (101, 114): 260,\n",
              " (99, 111): 261,\n",
              " (116, 32): 262,\n",
              " (226, 128): 263,\n",
              " (44, 32): 264,\n",
              " (97, 110): 265,\n",
              " (111, 114): 266,\n",
              " (100, 32): 267,\n",
              " (97, 114): 268,\n",
              " (101, 110): 269,\n",
              " (257, 103): 270,\n",
              " (261, 100): 271,\n",
              " (121, 32): 272,\n",
              " (97, 108): 273,\n",
              " (259, 256): 274,\n",
              " (111, 110): 275}"
            ]
          },
          "metadata": {},
          "execution_count": 90
        }
      ]
    },
    {
      "cell_type": "markdown",
      "source": [
        "### **Encoding**"
      ],
      "metadata": {
        "id": "ZVr25B0-SH27"
      }
    },
    {
      "cell_type": "code",
      "source": [
        "def encode(text):\n",
        "  tokens = list (text.encode('utf-8')) #return list of int(tokens)\n",
        "  while len(tokens) >= 2:\n",
        "    stats = get_stats(tokens)\n",
        "    pair = min(stats, key = lambda  p : merges.get(p, float('inf')))\n",
        "    if pair not in merges:\n",
        "      break\n",
        "\n",
        "    idx = merges[pair]\n",
        "    tokens = merge(tokens, pair, idx)\n",
        "  return tokens\n",
        "\n",
        "print(encode(\"\"))\n",
        "\n"
      ],
      "metadata": {
        "colab": {
          "base_uri": "https://localhost:8080/"
        },
        "id": "4XTJz5S5SLY4",
        "outputId": "4b84314a-b820-4ba3-bc31-13fe71c89e5d"
      },
      "execution_count": null,
      "outputs": [
        {
          "output_type": "stream",
          "name": "stdout",
          "text": [
            "[]\n"
          ]
        }
      ]
    },
    {
      "cell_type": "code",
      "source": [
        "str1 = \"Hello World\""
      ],
      "metadata": {
        "id": "Q72W-1hQWpUB"
      },
      "execution_count": null,
      "outputs": []
    },
    {
      "cell_type": "code",
      "source": [
        "encode(str1)"
      ],
      "metadata": {
        "colab": {
          "base_uri": "https://localhost:8080/"
        },
        "id": "H9wa4ee7WswT",
        "outputId": "6c9368e5-ec3c-4039-fae5-0c061f7cfee1"
      },
      "execution_count": null,
      "outputs": [
        {
          "output_type": "execute_result",
          "data": {
            "text/plain": [
              "[72, 101, 108, 108, 111, 32, 87, 266, 108, 100]"
            ]
          },
          "metadata": {},
          "execution_count": 129
        }
      ]
    },
    {
      "cell_type": "code",
      "source": [
        "decode(encode(str1))"
      ],
      "metadata": {
        "colab": {
          "base_uri": "https://localhost:8080/",
          "height": 36
        },
        "id": "X3UAusfyWvZE",
        "outputId": "44156159-24d0-42c5-8359-4cf0212d9094"
      },
      "execution_count": null,
      "outputs": [
        {
          "output_type": "execute_result",
          "data": {
            "text/plain": [
              "'Hello World'"
            ],
            "application/vnd.google.colaboratory.intrinsic+json": {
              "type": "string"
            }
          },
          "metadata": {},
          "execution_count": 131
        }
      ]
    },
    {
      "cell_type": "code",
      "source": [
        "print(encode(\"Hello\"))"
      ],
      "metadata": {
        "colab": {
          "base_uri": "https://localhost:8080/"
        },
        "id": "wX5owgisWM-u",
        "outputId": "698b10c5-d38c-45ad-d09a-175648279e1b"
      },
      "execution_count": null,
      "outputs": [
        {
          "output_type": "stream",
          "name": "stdout",
          "text": [
            "[72, 101, 108, 108, 111]\n"
          ]
        }
      ]
    },
    {
      "cell_type": "code",
      "source": [
        "decode(encode(\"Hello\"))"
      ],
      "metadata": {
        "colab": {
          "base_uri": "https://localhost:8080/",
          "height": 36
        },
        "id": "7nQVhtTOWX_3",
        "outputId": "772fb336-29e1-43b8-9a4e-ca0e2fd21358"
      },
      "execution_count": null,
      "outputs": [
        {
          "output_type": "execute_result",
          "data": {
            "text/plain": [
              "'Hello'"
            ],
            "application/vnd.google.colaboratory.intrinsic+json": {
              "type": "string"
            }
          },
          "metadata": {},
          "execution_count": 134
        }
      ]
    },
    {
      "cell_type": "code",
      "source": [
        "text2 = decode(encode(text))\n",
        "print(text2 == text)"
      ],
      "metadata": {
        "colab": {
          "base_uri": "https://localhost:8080/"
        },
        "id": "aGHTUakXWc6w",
        "outputId": "385e30dc-ed29-4cab-d264-d58b299f0843"
      },
      "execution_count": null,
      "outputs": [
        {
          "output_type": "stream",
          "name": "stdout",
          "text": [
            "True\n"
          ]
        }
      ]
    },
    {
      "cell_type": "code",
      "source": [
        "valtext = \"Many common characters, including numerals, punctuation, and other symbols, are unified within the standard and are not treated as specific to any given writing system. Unicode encodes thousands of emoji, with the continued development thereof conducted by the Consortium as a part of the standard.[4] Moreover, the widespread adoption of Unicode was in large part responsible for the initial popularization of emoji outside of Japan. Unicode is ultimately capable of encoding more than 1.1 million characters.\"\n",
        "valtext2 = decode(encode(valtext))\n",
        "print(valtext2 == valtext)"
      ],
      "metadata": {
        "colab": {
          "base_uri": "https://localhost:8080/"
        },
        "id": "-xuNvmUIXO3t",
        "outputId": "09abe435-7cf8-4cff-f303-9db5f89acf0b"
      },
      "execution_count": null,
      "outputs": [
        {
          "output_type": "stream",
          "name": "stdout",
          "text": [
            "True\n"
          ]
        }
      ]
    },
    {
      "cell_type": "markdown",
      "source": [
        "GPT series (Regex)"
      ],
      "metadata": {
        "id": "QYtT21dSoLXB"
      }
    },
    {
      "cell_type": "code",
      "source": [
        "import regex as re\n",
        "gpt2pat = re.compile(r\"\"\"'s|'t|'re|'ve|'m|'ll|'d| ?\\p{L}+| ?\\p{N}+| ?[^\\s\\p{L}\\p{N}]+|\\s+(?!\\S)|\\s+\"\"\")\n",
        "print(re.findall(gpt2pat, \"Hello've world123 how's are you!!!?\"))"
      ],
      "metadata": {
        "id": "_0ztXDjBoJSg",
        "colab": {
          "base_uri": "https://localhost:8080/"
        },
        "outputId": "ce5b9191-f752-47c6-e22d-16891dc1249a"
      },
      "execution_count": 2,
      "outputs": [
        {
          "output_type": "stream",
          "name": "stdout",
          "text": [
            "['Hello', \"'ve\", ' world', '123', ' how', \"'s\", ' are', ' you', '!!!?']\n"
          ]
        }
      ]
    },
    {
      "cell_type": "code",
      "source": [
        "example = \"\"\"\n",
        "def find_nth_largest(data, n):\n",
        "  if len(data) < n:\n",
        "    return None\n",
        "  data.sort(reverse=True)\n",
        "  return data[n-1]\n",
        "\n",
        "my_list = [10, 5, 20, 15, 8, 12]\n",
        "nth_largest = find_nth_largest(my_list, 4)\n",
        "\n",
        "if nth_largest is not None:\n",
        "  print(\"The 4th largest element is:\", nth_largest)\n",
        "else:\n",
        "  print(\"The list is too short to find the 4th largest element.\")\n",
        "\n",
        "\"\"\"\n",
        "\n",
        "print(re.findall(gpt2pat, example))"
      ],
      "metadata": {
        "colab": {
          "base_uri": "https://localhost:8080/"
        },
        "id": "5mV17a34tIWL",
        "outputId": "8a657ce6-05bf-4037-e19e-33d84dbab87f"
      },
      "execution_count": 7,
      "outputs": [
        {
          "output_type": "stream",
          "name": "stdout",
          "text": [
            "['\\n', 'def', ' find', '_', 'nth', '_', 'largest', '(', 'data', ',', ' n', '):', '\\n ', ' if', ' len', '(', 'data', ')', ' <', ' n', ':', '\\n   ', ' return', ' None', '\\n ', ' data', '.', 'sort', '(', 'reverse', '=', 'True', ')', '\\n ', ' return', ' data', '[', 'n', '-', '1', ']', '\\n', '\\n', 'my', '_', 'list', ' =', ' [', '10', ',', ' 5', ',', ' 20', ',', ' 15', ',', ' 8', ',', ' 12', ']', '\\n', 'nth', '_', 'largest', ' =', ' find', '_', 'nth', '_', 'largest', '(', 'my', '_', 'list', ',', ' 4', ')', '\\n', '\\n', 'if', ' nth', '_', 'largest', ' is', ' not', ' None', ':', '\\n ', ' print', '(\"', 'The', ' 4', 'th', ' largest', ' element', ' is', ':\",', ' nth', '_', 'largest', ')', '\\n', 'else', ':', '\\n ', ' print', '(\"', 'The', ' list', ' is', ' too', ' short', ' to', ' find', ' the', ' 4', 'th', ' largest', ' element', '.\")', ' \\n\\n']\n"
          ]
        }
      ]
    },
    {
      "cell_type": "code",
      "source": [
        "import tiktoken as tk\n",
        "\n",
        "enc = tk.get_encoding(\"gpt2\")\n",
        "print(enc.encode(\"   Hello've World : \\n\"))\n"
      ],
      "metadata": {
        "colab": {
          "base_uri": "https://localhost:8080/"
        },
        "id": "6TLaK4e_uD3m",
        "outputId": "5d83dfa8-0cf5-44f7-8f23-0656f8c48cb9"
      },
      "execution_count": 22,
      "outputs": [
        {
          "output_type": "stream",
          "name": "stdout",
          "text": [
            "[220, 220, 18435, 1053, 2159, 1058, 220, 198]\n"
          ]
        }
      ]
    },
    {
      "cell_type": "code",
      "source": [
        "!wget https://openaipublic.blob.core.windows.net/gpt-2/models/1558M/vocab.bpe\n",
        "!wget https://openaipublic.blob.core.windows.net/gpt-2/models/1558M/encoder.json"
      ],
      "metadata": {
        "colab": {
          "base_uri": "https://localhost:8080/"
        },
        "id": "kq2JuXdiyZ27",
        "outputId": "3d022dd5-583c-42f4-e27e-2273b8d1d1e2"
      },
      "execution_count": 23,
      "outputs": [
        {
          "output_type": "stream",
          "name": "stdout",
          "text": [
            "--2024-10-20 07:17:23--  https://openaipublic.blob.core.windows.net/gpt-2/models/1558M/vocab.bpe\n",
            "Resolving openaipublic.blob.core.windows.net (openaipublic.blob.core.windows.net)... 57.150.97.129\n",
            "Connecting to openaipublic.blob.core.windows.net (openaipublic.blob.core.windows.net)|57.150.97.129|:443... connected.\n",
            "HTTP request sent, awaiting response... 200 OK\n",
            "Length: 456318 (446K) [application/octet-stream]\n",
            "Saving to: ‘vocab.bpe’\n",
            "\n",
            "vocab.bpe           100%[===================>] 445.62K  1.68MB/s    in 0.3s    \n",
            "\n",
            "2024-10-20 07:17:24 (1.68 MB/s) - ‘vocab.bpe’ saved [456318/456318]\n",
            "\n",
            "--2024-10-20 07:17:24--  https://openaipublic.blob.core.windows.net/gpt-2/models/1558M/encoder.json\n",
            "Resolving openaipublic.blob.core.windows.net (openaipublic.blob.core.windows.net)... 57.150.97.129\n",
            "Connecting to openaipublic.blob.core.windows.net (openaipublic.blob.core.windows.net)|57.150.97.129|:443... connected.\n",
            "HTTP request sent, awaiting response... 200 OK\n",
            "Length: 1042301 (1018K) [application/json]\n",
            "Saving to: ‘encoder.json’\n",
            "\n",
            "encoder.json        100%[===================>]   1018K  4.02MB/s    in 0.2s    \n",
            "\n",
            "2024-10-20 07:17:24 (4.02 MB/s) - ‘encoder.json’ saved [1042301/1042301]\n",
            "\n"
          ]
        }
      ]
    },
    {
      "cell_type": "code",
      "source": [
        "import os, json\n",
        "\n",
        "with open(\"encoder.json\", 'r') as f:\n",
        "  encoder = json.load(f)\n",
        "\n",
        "with open(\"vocab.bpe\", 'r', encoding='utf-8') as f:\n",
        "  bpe_data = f.read()\n",
        "\n",
        "bpe_merges = [tuple(merge_str.split()) for merge_str in bpe_data.split('\\n')[1:-1]]\n",
        "\n",
        "print(len(encoder), len(bpe_data))"
      ],
      "metadata": {
        "colab": {
          "base_uri": "https://localhost:8080/"
        },
        "id": "mjKSNg_8yE7W",
        "outputId": "4b5cb25d-5284-4446-fecb-0590108a7d40"
      },
      "execution_count": 26,
      "outputs": [
        {
          "output_type": "stream",
          "name": "stdout",
          "text": [
            "50257 420572\n"
          ]
        }
      ]
    },
    {
      "cell_type": "code",
      "source": [
        "len(encoder)"
      ],
      "metadata": {
        "colab": {
          "base_uri": "https://localhost:8080/"
        },
        "id": "HmiuWHxSyyz5",
        "outputId": "4c4096e3-3253-4e99-ad29-f1c9861c88d6"
      },
      "execution_count": 27,
      "outputs": [
        {
          "output_type": "execute_result",
          "data": {
            "text/plain": [
              "50257"
            ]
          },
          "metadata": {},
          "execution_count": 27
        }
      ]
    },
    {
      "cell_type": "code",
      "source": [
        "encoder['<|endoftext|>']"
      ],
      "metadata": {
        "colab": {
          "base_uri": "https://localhost:8080/"
        },
        "id": "iXyqU2cByyt1",
        "outputId": "52dfbf22-619b-464e-ba8d-ef200a135a96"
      },
      "execution_count": 33,
      "outputs": [
        {
          "output_type": "execute_result",
          "data": {
            "text/plain": [
              "50256"
            ]
          },
          "metadata": {},
          "execution_count": 33
        }
      ]
    },
    {
      "cell_type": "code",
      "source": [
        "#minbpe\n",
        "import tiktoken as tk\n",
        "\n",
        "enc = tk.get_encoding(\"cl100k_base\")\n",
        "print(enc.encode(\"   Hello've World : \\n\"))\n",
        "print(enc.decode(enc.encode(\"   Hello've World : \\n\")) == \"   Hello've World : \\n\" )\n"
      ],
      "metadata": {
        "colab": {
          "base_uri": "https://localhost:8080/"
        },
        "id": "Bw3rds2B1otO",
        "outputId": "95af36f9-f3e0-46e6-99ff-3cb0af3c3e1f"
      },
      "execution_count": 34,
      "outputs": [
        {
          "output_type": "stream",
          "name": "stdout",
          "text": [
            "[256, 22691, 3077, 4435, 551, 720]\n",
            "True\n"
          ]
        }
      ]
    },
    {
      "cell_type": "markdown",
      "source": [
        "### SentencePiece"
      ],
      "metadata": {
        "id": "OdEwUcbz1gnk"
      }
    },
    {
      "cell_type": "code",
      "source": [
        "import sentencepiece as spm\n",
        "\n",
        "with open(\"toy.txt\", \"w\", encoding=\"utf-8\") as f: #random texted file\n",
        "  f.write(\"SentencePiece is an unsupervised text tokenizer and detokenizer mainly for Neural Network-based text generation systems where the vocabulary size is predetermined prior to the neural model training. SentencePiece implements subword units (e.g., byte-pair-encoding (BPE) [Sennrich et al.]) and unigram language model [Kudo.]) with the extension of direct training from raw sentences. SentencePiece allows us to make a purely end-to-end system that does not depend on language-specific pre/postprocessing.\")\n"
      ],
      "metadata": {
        "id": "D0v0uZFyzJKZ"
      },
      "execution_count": 35,
      "outputs": []
    },
    {
      "cell_type": "code",
      "source": [
        "import os\n",
        "\n",
        "options = dict(\n",
        "\n",
        "      input = \"toy.txt\",\n",
        "      input_format = \"text\",\n",
        "\n",
        "      model_prefix = \"tok400\",\n",
        "      model_type = \"bpe\",\n",
        "      vocab_size = \"400\",\n",
        "\n",
        "      normalization_rule_name = \"identity\",\n",
        "      remove_extra_whitespaces = False,\n",
        "      input_sentence_size = 200000000,\n",
        "      max_sentence_length = 4192,\n",
        "      seed_sentencepiece_size = 1000000,\n",
        "      shuffle_input_sentence = True,\n",
        "\n",
        "      character_coverage = 0.99995,\n",
        "      byte_fallback = True,\n",
        "\n",
        "      split_digits = True,\n",
        "      split_by_unicode_script = True,\n",
        "      split_by_whitespace = True,\n",
        "      split_by_number = True,\n",
        "      max_sentencepiece_length = 16,\n",
        "      add_dummy_prefix = True,\n",
        "      allow_whitespace_only_pieces = True,\n",
        "\n",
        "      unk_id = 0,\n",
        "      bos_id = 1,\n",
        "      eos_id = 2,\n",
        "      pad_id = -1,\n",
        "\n",
        "      num_threads = os.cpu_count(),\n",
        "\n",
        "\n",
        ")\n",
        "\n",
        "\n",
        "spm.SentencePieceTrainer.train(**options)"
      ],
      "metadata": {
        "id": "V5KQZlcs2vFY"
      },
      "execution_count": 37,
      "outputs": []
    },
    {
      "cell_type": "code",
      "source": [
        "sp = spm.SentencePieceProcessor()\n",
        "sp.load(\"tok400.model\")\n",
        "vocab =[[sp.id_to_piece(idx), idx] for idx in range (sp.get_piece_size())]\n",
        "vocab\n"
      ],
      "metadata": {
        "colab": {
          "base_uri": "https://localhost:8080/"
        },
        "id": "fUkjVcXI73qs",
        "outputId": "549b2cc0-e46d-4bf8-9b71-1ee09535c3c7"
      },
      "execution_count": 40,
      "outputs": [
        {
          "output_type": "execute_result",
          "data": {
            "text/plain": [
              "[['<unk>', 0],\n",
              " ['<s>', 1],\n",
              " ['</s>', 2],\n",
              " ['<0x00>', 3],\n",
              " ['<0x01>', 4],\n",
              " ['<0x02>', 5],\n",
              " ['<0x03>', 6],\n",
              " ['<0x04>', 7],\n",
              " ['<0x05>', 8],\n",
              " ['<0x06>', 9],\n",
              " ['<0x07>', 10],\n",
              " ['<0x08>', 11],\n",
              " ['<0x09>', 12],\n",
              " ['<0x0A>', 13],\n",
              " ['<0x0B>', 14],\n",
              " ['<0x0C>', 15],\n",
              " ['<0x0D>', 16],\n",
              " ['<0x0E>', 17],\n",
              " ['<0x0F>', 18],\n",
              " ['<0x10>', 19],\n",
              " ['<0x11>', 20],\n",
              " ['<0x12>', 21],\n",
              " ['<0x13>', 22],\n",
              " ['<0x14>', 23],\n",
              " ['<0x15>', 24],\n",
              " ['<0x16>', 25],\n",
              " ['<0x17>', 26],\n",
              " ['<0x18>', 27],\n",
              " ['<0x19>', 28],\n",
              " ['<0x1A>', 29],\n",
              " ['<0x1B>', 30],\n",
              " ['<0x1C>', 31],\n",
              " ['<0x1D>', 32],\n",
              " ['<0x1E>', 33],\n",
              " ['<0x1F>', 34],\n",
              " ['<0x20>', 35],\n",
              " ['<0x21>', 36],\n",
              " ['<0x22>', 37],\n",
              " ['<0x23>', 38],\n",
              " ['<0x24>', 39],\n",
              " ['<0x25>', 40],\n",
              " ['<0x26>', 41],\n",
              " ['<0x27>', 42],\n",
              " ['<0x28>', 43],\n",
              " ['<0x29>', 44],\n",
              " ['<0x2A>', 45],\n",
              " ['<0x2B>', 46],\n",
              " ['<0x2C>', 47],\n",
              " ['<0x2D>', 48],\n",
              " ['<0x2E>', 49],\n",
              " ['<0x2F>', 50],\n",
              " ['<0x30>', 51],\n",
              " ['<0x31>', 52],\n",
              " ['<0x32>', 53],\n",
              " ['<0x33>', 54],\n",
              " ['<0x34>', 55],\n",
              " ['<0x35>', 56],\n",
              " ['<0x36>', 57],\n",
              " ['<0x37>', 58],\n",
              " ['<0x38>', 59],\n",
              " ['<0x39>', 60],\n",
              " ['<0x3A>', 61],\n",
              " ['<0x3B>', 62],\n",
              " ['<0x3C>', 63],\n",
              " ['<0x3D>', 64],\n",
              " ['<0x3E>', 65],\n",
              " ['<0x3F>', 66],\n",
              " ['<0x40>', 67],\n",
              " ['<0x41>', 68],\n",
              " ['<0x42>', 69],\n",
              " ['<0x43>', 70],\n",
              " ['<0x44>', 71],\n",
              " ['<0x45>', 72],\n",
              " ['<0x46>', 73],\n",
              " ['<0x47>', 74],\n",
              " ['<0x48>', 75],\n",
              " ['<0x49>', 76],\n",
              " ['<0x4A>', 77],\n",
              " ['<0x4B>', 78],\n",
              " ['<0x4C>', 79],\n",
              " ['<0x4D>', 80],\n",
              " ['<0x4E>', 81],\n",
              " ['<0x4F>', 82],\n",
              " ['<0x50>', 83],\n",
              " ['<0x51>', 84],\n",
              " ['<0x52>', 85],\n",
              " ['<0x53>', 86],\n",
              " ['<0x54>', 87],\n",
              " ['<0x55>', 88],\n",
              " ['<0x56>', 89],\n",
              " ['<0x57>', 90],\n",
              " ['<0x58>', 91],\n",
              " ['<0x59>', 92],\n",
              " ['<0x5A>', 93],\n",
              " ['<0x5B>', 94],\n",
              " ['<0x5C>', 95],\n",
              " ['<0x5D>', 96],\n",
              " ['<0x5E>', 97],\n",
              " ['<0x5F>', 98],\n",
              " ['<0x60>', 99],\n",
              " ['<0x61>', 100],\n",
              " ['<0x62>', 101],\n",
              " ['<0x63>', 102],\n",
              " ['<0x64>', 103],\n",
              " ['<0x65>', 104],\n",
              " ['<0x66>', 105],\n",
              " ['<0x67>', 106],\n",
              " ['<0x68>', 107],\n",
              " ['<0x69>', 108],\n",
              " ['<0x6A>', 109],\n",
              " ['<0x6B>', 110],\n",
              " ['<0x6C>', 111],\n",
              " ['<0x6D>', 112],\n",
              " ['<0x6E>', 113],\n",
              " ['<0x6F>', 114],\n",
              " ['<0x70>', 115],\n",
              " ['<0x71>', 116],\n",
              " ['<0x72>', 117],\n",
              " ['<0x73>', 118],\n",
              " ['<0x74>', 119],\n",
              " ['<0x75>', 120],\n",
              " ['<0x76>', 121],\n",
              " ['<0x77>', 122],\n",
              " ['<0x78>', 123],\n",
              " ['<0x79>', 124],\n",
              " ['<0x7A>', 125],\n",
              " ['<0x7B>', 126],\n",
              " ['<0x7C>', 127],\n",
              " ['<0x7D>', 128],\n",
              " ['<0x7E>', 129],\n",
              " ['<0x7F>', 130],\n",
              " ['<0x80>', 131],\n",
              " ['<0x81>', 132],\n",
              " ['<0x82>', 133],\n",
              " ['<0x83>', 134],\n",
              " ['<0x84>', 135],\n",
              " ['<0x85>', 136],\n",
              " ['<0x86>', 137],\n",
              " ['<0x87>', 138],\n",
              " ['<0x88>', 139],\n",
              " ['<0x89>', 140],\n",
              " ['<0x8A>', 141],\n",
              " ['<0x8B>', 142],\n",
              " ['<0x8C>', 143],\n",
              " ['<0x8D>', 144],\n",
              " ['<0x8E>', 145],\n",
              " ['<0x8F>', 146],\n",
              " ['<0x90>', 147],\n",
              " ['<0x91>', 148],\n",
              " ['<0x92>', 149],\n",
              " ['<0x93>', 150],\n",
              " ['<0x94>', 151],\n",
              " ['<0x95>', 152],\n",
              " ['<0x96>', 153],\n",
              " ['<0x97>', 154],\n",
              " ['<0x98>', 155],\n",
              " ['<0x99>', 156],\n",
              " ['<0x9A>', 157],\n",
              " ['<0x9B>', 158],\n",
              " ['<0x9C>', 159],\n",
              " ['<0x9D>', 160],\n",
              " ['<0x9E>', 161],\n",
              " ['<0x9F>', 162],\n",
              " ['<0xA0>', 163],\n",
              " ['<0xA1>', 164],\n",
              " ['<0xA2>', 165],\n",
              " ['<0xA3>', 166],\n",
              " ['<0xA4>', 167],\n",
              " ['<0xA5>', 168],\n",
              " ['<0xA6>', 169],\n",
              " ['<0xA7>', 170],\n",
              " ['<0xA8>', 171],\n",
              " ['<0xA9>', 172],\n",
              " ['<0xAA>', 173],\n",
              " ['<0xAB>', 174],\n",
              " ['<0xAC>', 175],\n",
              " ['<0xAD>', 176],\n",
              " ['<0xAE>', 177],\n",
              " ['<0xAF>', 178],\n",
              " ['<0xB0>', 179],\n",
              " ['<0xB1>', 180],\n",
              " ['<0xB2>', 181],\n",
              " ['<0xB3>', 182],\n",
              " ['<0xB4>', 183],\n",
              " ['<0xB5>', 184],\n",
              " ['<0xB6>', 185],\n",
              " ['<0xB7>', 186],\n",
              " ['<0xB8>', 187],\n",
              " ['<0xB9>', 188],\n",
              " ['<0xBA>', 189],\n",
              " ['<0xBB>', 190],\n",
              " ['<0xBC>', 191],\n",
              " ['<0xBD>', 192],\n",
              " ['<0xBE>', 193],\n",
              " ['<0xBF>', 194],\n",
              " ['<0xC0>', 195],\n",
              " ['<0xC1>', 196],\n",
              " ['<0xC2>', 197],\n",
              " ['<0xC3>', 198],\n",
              " ['<0xC4>', 199],\n",
              " ['<0xC5>', 200],\n",
              " ['<0xC6>', 201],\n",
              " ['<0xC7>', 202],\n",
              " ['<0xC8>', 203],\n",
              " ['<0xC9>', 204],\n",
              " ['<0xCA>', 205],\n",
              " ['<0xCB>', 206],\n",
              " ['<0xCC>', 207],\n",
              " ['<0xCD>', 208],\n",
              " ['<0xCE>', 209],\n",
              " ['<0xCF>', 210],\n",
              " ['<0xD0>', 211],\n",
              " ['<0xD1>', 212],\n",
              " ['<0xD2>', 213],\n",
              " ['<0xD3>', 214],\n",
              " ['<0xD4>', 215],\n",
              " ['<0xD5>', 216],\n",
              " ['<0xD6>', 217],\n",
              " ['<0xD7>', 218],\n",
              " ['<0xD8>', 219],\n",
              " ['<0xD9>', 220],\n",
              " ['<0xDA>', 221],\n",
              " ['<0xDB>', 222],\n",
              " ['<0xDC>', 223],\n",
              " ['<0xDD>', 224],\n",
              " ['<0xDE>', 225],\n",
              " ['<0xDF>', 226],\n",
              " ['<0xE0>', 227],\n",
              " ['<0xE1>', 228],\n",
              " ['<0xE2>', 229],\n",
              " ['<0xE3>', 230],\n",
              " ['<0xE4>', 231],\n",
              " ['<0xE5>', 232],\n",
              " ['<0xE6>', 233],\n",
              " ['<0xE7>', 234],\n",
              " ['<0xE8>', 235],\n",
              " ['<0xE9>', 236],\n",
              " ['<0xEA>', 237],\n",
              " ['<0xEB>', 238],\n",
              " ['<0xEC>', 239],\n",
              " ['<0xED>', 240],\n",
              " ['<0xEE>', 241],\n",
              " ['<0xEF>', 242],\n",
              " ['<0xF0>', 243],\n",
              " ['<0xF1>', 244],\n",
              " ['<0xF2>', 245],\n",
              " ['<0xF3>', 246],\n",
              " ['<0xF4>', 247],\n",
              " ['<0xF5>', 248],\n",
              " ['<0xF6>', 249],\n",
              " ['<0xF7>', 250],\n",
              " ['<0xF8>', 251],\n",
              " ['<0xF9>', 252],\n",
              " ['<0xFA>', 253],\n",
              " ['<0xFB>', 254],\n",
              " ['<0xFC>', 255],\n",
              " ['<0xFD>', 256],\n",
              " ['<0xFE>', 257],\n",
              " ['<0xFF>', 258],\n",
              " ['en', 259],\n",
              " ['▁t', 260],\n",
              " ['ce', 261],\n",
              " ['in', 262],\n",
              " ['ra', 263],\n",
              " ['▁a', 264],\n",
              " ['de', 265],\n",
              " ['er', 266],\n",
              " ['▁s', 267],\n",
              " ['ent', 268],\n",
              " ['or', 269],\n",
              " ['pr', 270],\n",
              " ['▁m', 271],\n",
              " ['▁u', 272],\n",
              " ['ing', 273],\n",
              " ['▁th', 274],\n",
              " ['ence', 275],\n",
              " ['entence', 276],\n",
              " ['Pi', 277],\n",
              " ['ed', 278],\n",
              " ['em', 279],\n",
              " ['ex', 280],\n",
              " ['is', 281],\n",
              " ['iz', 282],\n",
              " ['la', 283],\n",
              " ['on', 284],\n",
              " ['st', 285],\n",
              " ['▁S', 286],\n",
              " ['Pie', 287],\n",
              " ['end', 288],\n",
              " ['ext', 289],\n",
              " ['▁an', 290],\n",
              " ['▁pr', 291],\n",
              " ['▁to', 292],\n",
              " ['▁un', 293],\n",
              " ['▁the', 294],\n",
              " ['Piece', 295],\n",
              " ['▁Sentence', 296],\n",
              " ['▁SentencePiece', 297],\n",
              " ['.]', 298],\n",
              " ['Ne', 299],\n",
              " ['ag', 300],\n",
              " ['do', 301],\n",
              " ['ec', 302],\n",
              " ['gu', 303],\n",
              " ['ic', 304],\n",
              " ['ir', 305],\n",
              " ['it', 306],\n",
              " ['ly', 307],\n",
              " ['to', 308],\n",
              " ['▁(', 309],\n",
              " ['▁[', 310],\n",
              " ['▁f', 311],\n",
              " ['▁n', 312],\n",
              " ['▁w', 313],\n",
              " ['.])', 314],\n",
              " ['age', 315],\n",
              " ['del', 316],\n",
              " ['ion', 317],\n",
              " ['ken', 318],\n",
              " ['lan', 319],\n",
              " ['ral', 320],\n",
              " ['wor', 321],\n",
              " ['yst', 322],\n",
              " ['▁Ne', 323],\n",
              " ['▁al', 324],\n",
              " ['▁de', 325],\n",
              " ['▁is', 326],\n",
              " ['▁ma', 327],\n",
              " ['▁mo', 328],\n",
              " ['izer', 329],\n",
              " ['rain', 330],\n",
              " ['ural', 331],\n",
              " ['▁and', 332],\n",
              " ['▁lan', 333],\n",
              " ['▁pre', 334],\n",
              " ['guage', 335],\n",
              " ['ystem', 336],\n",
              " ['▁text', 337],\n",
              " ['▁model', 338],\n",
              " ['▁train', 339],\n",
              " ['kenizer', 340],\n",
              " ['▁system', 341],\n",
              " ['▁language', 342],\n",
              " ['▁training', 343],\n",
              " ['.,', 344],\n",
              " ['BP', 345],\n",
              " ['Ku', 346],\n",
              " ['ab', 347],\n",
              " ['as', 348],\n",
              " ['at', 349],\n",
              " ['by', 350],\n",
              " ['co', 351],\n",
              " ['es', 352],\n",
              " ['et', 353],\n",
              " ['if', 354],\n",
              " ['ig', 355],\n",
              " ['im', 356],\n",
              " ['ke', 357],\n",
              " ['lo', 358],\n",
              " ['nr', 359],\n",
              " ['oc', 360],\n",
              " ['e', 361],\n",
              " ['▁', 362],\n",
              " ['n', 363],\n",
              " ['t', 364],\n",
              " ['i', 365],\n",
              " ['r', 366],\n",
              " ['a', 367],\n",
              " ['o', 368],\n",
              " ['s', 369],\n",
              " ['d', 370],\n",
              " ['c', 371],\n",
              " ['l', 372],\n",
              " ['u', 373],\n",
              " ['g', 374],\n",
              " ['m', 375],\n",
              " ['p', 376],\n",
              " ['.', 377],\n",
              " ['h', 378],\n",
              " ['-', 379],\n",
              " ['w', 380],\n",
              " ['y', 381],\n",
              " ['P', 382],\n",
              " ['S', 383],\n",
              " ['b', 384],\n",
              " ['f', 385],\n",
              " ['k', 386],\n",
              " [')', 387],\n",
              " ['x', 388],\n",
              " ['z', 389],\n",
              " ['(', 390],\n",
              " ['N', 391],\n",
              " ['[', 392],\n",
              " [']', 393],\n",
              " ['v', 394],\n",
              " [',', 395],\n",
              " ['/', 396],\n",
              " ['B', 397],\n",
              " ['E', 398],\n",
              " ['K', 399]]"
            ]
          },
          "metadata": {},
          "execution_count": 40
        }
      ]
    },
    {
      "cell_type": "code",
      "source": [
        "ids = sp.encode(\"hello 안녕하세요\")\n",
        "print(ids)"
      ],
      "metadata": {
        "colab": {
          "base_uri": "https://localhost:8080/"
        },
        "id": "si4vchay8jWg",
        "outputId": "5b57403e-37b2-410c-e9d2-accc710556e2"
      },
      "execution_count": 41,
      "outputs": [
        {
          "output_type": "stream",
          "name": "stdout",
          "text": [
            "[362, 378, 361, 372, 358, 362, 239, 152, 139, 238, 136, 152, 240, 152, 155, 239, 135, 187, 239, 157, 151]\n"
          ]
        }
      ]
    },
    {
      "cell_type": "code",
      "source": [
        "print([sp.id_to_piece(idx) for idx in ids])"
      ],
      "metadata": {
        "colab": {
          "base_uri": "https://localhost:8080/"
        },
        "id": "leNbRkYC-eWD",
        "outputId": "17258138-39d6-4459-8ac3-48a49458a9ac"
      },
      "execution_count": 42,
      "outputs": [
        {
          "output_type": "stream",
          "name": "stdout",
          "text": [
            "['▁', 'h', 'e', 'l', 'lo', '▁', '<0xEC>', '<0x95>', '<0x88>', '<0xEB>', '<0x85>', '<0x95>', '<0xED>', '<0x95>', '<0x98>', '<0xEC>', '<0x84>', '<0xB8>', '<0xEC>', '<0x9A>', '<0x94>']\n"
          ]
        }
      ]
    },
    {
      "cell_type": "code",
      "source": [
        "texto = \"\"\"A Programmer’s Introduction to Unicode\n",
        "March 3, 2017 · Coding · 25 Comments\n",
        "\n",
        "Ｕｎｉｃｏｄｅ! 🅤🅝🅘🅒🅞🅓🅔‽ 🇺‌🇳‌🇮‌🇨‌🇴‌🇩‌🇪! 😄 The very name strikes fear and awe into the hearts of programmers worldwide. We all know we ought to “support Unicode” in our software (whatever that means—like using wchar_t for all the strings, right?). But Unicode can be abstruse, and diving into the thousand-page Unicode Standard plus its dozens of supplementary annexes, reports, and notes can be more than a little intimidating. I don’t blame programmers for still finding the whole thing mysterious, even 30 years after Unicode’s inception.\n",
        "\n",
        "A few months ago, I got interested in Unicode and decided to spend some time learning more about it in detail. In this article, I’ll give an introduction to it from a programmer’s point of view.\n",
        "\n",
        "I’m going to focus on the character set and what’s involved in working with strings and files of Unicode text. However, in this article I’m not going to talk about fonts, text layout/shaping/rendering, or localization in detail—those are separate issues, beyond my scope (and knowledge) here.\n",
        "\n",
        "Diversity and Inherent Complexity\n",
        "The Unicode Codespace\n",
        "Codespace Allocation\n",
        "Scripts\n",
        "Usage Frequency\n",
        "Encodings\n",
        "UTF-8\n",
        "UTF-16\n",
        "Combining Marks\n",
        "Canonical Equivalence\n",
        "Normalization Forms\n",
        "Grapheme Clusters\n",
        "And More…\n",
        "Diversity and Inherent Complexity\n",
        "As soon as you start to study Unicode, it becomes clear that it represents a large jump in complexity over character sets like ASCII that you may be more familiar with. It’s not just that Unicode contains a much larger number of characters, although that’s part of it. Unicode also has a great deal of internal structure, features, and special cases, making it much more than what one might expect a mere “character set” to be. We’ll see some of that later in this article.\n",
        "\n",
        "When confronting all this complexity, especially as an engineer, it’s hard not to find oneself asking, “Why do we need all this? Is this really necessary? Couldn’t it be simplified?”\n",
        "\n",
        "However, Unicode aims to faithfully represent the entire world’s writing systems. The Unicode Consortium’s stated goal is “enabling people around the world to use computers in any language”. And as you might imagine, the diversity of written languages is immense! To date, Unicode supports 135 different scripts, covering some 1100 languages, and there’s still a long tail of over 100 unsupported scripts, both modern and historical, which people are still working to add.\n",
        "\n",
        "Given this enormous diversity, it’s inevitable that representing it is a complicated project. Unicode embraces that diversity, and accepts the complexity inherent in its mission to include all human writing systems. It doesn’t make a lot of trade-offs in the name of simplification, and it makes exceptions to its own rules where necessary to further its mission.\n",
        "\n",
        "Moreover, Unicode is committed not just to supporting texts in any single language, but also to letting multiple languages coexist within one text—which introduces even more complexity.\n",
        "\n",
        "Most programming languages have libraries available to handle the gory low-level details of text manipulation, but as a programmer, you’ll still need to know about certain Unicode features in order to know when and how to apply them. It may take some time to wrap your head around it all, but don’t be discouraged—think about the billions of people for whom your software will be more accessible through supporting text in their language. Embrace the complexity!\n",
        "\n",
        "The Unicode Codespace\n",
        "Let’s start with some general orientation. The basic elements of Unicode—its “characters”, although that term isn’t quite right—are called code points. Code points are identified by number, customarily written in hexadecimal with the prefix “U+”, such as U+0041 “A” latin capital letter a or U+03B8 “θ” greek small letter theta. Each code point also has a short name, and quite a few other properties, specified in the Unicode Character Database.\n",
        "\n",
        "The set of all possible code points is called the codespace. The Unicode codespace consists of 1,114,112 code points. However, only 128,237 of them—about 12% of the codespace—are actually assigned, to date. There’s plenty of room for growth! Unicode also reserves an additional 137,468 code points as “private use” areas, which have no standardized meaning and are available for individual applications to define for their own purposes.\n",
        "\n",
        "Codespace Allocation\n",
        "To get a feel for how the codespace is laid out, it’s helpful to visualize it. Below is a map of the entire codespace, with one pixel per code point. It’s arranged in tiles for visual coherence; each small square is 16×16 = 256 code points, and each large square is a “plane” of 65,536 code points. There are 17 planes altogether.\n",
        "\n",
        "Map of the Unicode codespace (click to zoom)\n",
        "\n",
        "White represents unassigned space. Blue is assigned code points, green is private-use areas, and the small red area is surrogates (more about those later). As you can see, the assigned code points are distributed somewhat sparsely, but concentrated in the first three planes.\n",
        "\n",
        "Plane 0 is also known as the “Basic Multilingual Plane”, or BMP. The BMP contains essentially all the characters needed for modern text in any script, including Latin, Cyrillic, Greek, Han (Chinese), Japanese, Korean, Arabic, Hebrew, Devanagari (Indian), and many more.\n",
        "\n",
        "(In the past, the codespace was just the BMP and no more—Unicode was originally conceived as a straightforward 16-bit encoding, with only 65,536 code points. It was expanded to its current size in 1996. However, the vast majority of code points in modern text belong to the BMP.)\n",
        "\n",
        "Plane 1 contains historical scripts, such as Sumerian cuneiform and Egyptian hieroglyphs, as well as emoji and various other symbols. Plane 2 contains a large block of less-common and historical Han characters. The remaining planes are empty, except for a small number of rarely-used formatting characters in Plane 14; planes 15–16 are reserved entirely for private use.\n",
        "\n",
        "Scripts\n",
        "Let’s zoom in on the first three planes, since that’s where the action is:\n",
        "\n",
        "Map of scripts in Unicode planes 0–2 (click to zoom)\n",
        "\n",
        "This map color-codes the 135 different scripts in Unicode. You can see how Han () and Korean () take up most of the range of the BMP (the left large square). By contrast, all of the European, Middle Eastern, and South Asian scripts fit into the first row of the BMP in this diagram.\n",
        "\n",
        "Many areas of the codespace are adapted or copied from earlier encodings. For example, the first 128 code points of Unicode are just a copy of ASCII. This has clear benefits for compatibility—it’s easy to losslessly convert texts from smaller encodings into Unicode (and the other direction too, as long as no characters outside the smaller encoding are used).\n",
        "\n",
        "Usage Frequency\n",
        "One more interesting way to visualize the codespace is to look at the distribution of usage—in other words, how often each code point is actually used in real-world texts. Below is a heat map of planes 0–2 based on a large sample of text from Wikipedia and Twitter (all languages). Frequency increases from black (never seen) through red and yellow to white.\n",
        "\n",
        "Heat map of code point usage frequency in Unicode planes 0–2 (click to zoom)\n",
        "\n",
        "You can see that the vast majority of this text sample lies in the BMP, with only scattered usage of code points from planes 1–2. The biggest exception is emoji, which show up here as the several bright squares in the bottom row of plane 1.\n",
        "\n",
        "Encodings\n",
        "We’ve seen that Unicode code points are abstractly identified by their index in the codespace, ranging from U+0000 to U+10FFFF. But how do code points get represented as bytes, in memory or in a file?\n",
        "\n",
        "The most convenient, computer-friendliest (and programmer-friendliest) thing to do would be to just store the code point index as a 32-bit integer. This works, but it consumes 4 bytes per code point, which is sort of a lot. Using 32-bit ints for Unicode will cost you a bunch of extra storage, memory, and performance in bandwidth-bound scenarios, if you work with a lot of text.\n",
        "\n",
        "Consequently, there are several more-compact encodings for Unicode. The 32-bit integer encoding is officially called UTF-32 (UTF = “Unicode Transformation Format”), but it’s rarely used for storage. At most, it comes up sometimes as a temporary internal representation, for examining or operating on the code points in a string.\n",
        "\n",
        "Much more commonly, you’ll see Unicode text encoded as either UTF-8 or UTF-16. These are both variable-length encodings, made up of 8-bit or 16-bit units, respectively. In these schemes, code points with smaller index values take up fewer bytes, which saves a lot of memory for typical texts. The trade-off is that processing UTF-8/16 texts is more programmatically involved, and likely slower.\n",
        "\n",
        "UTF-8\n",
        "In UTF-8, each code point is stored using 1 to 4 bytes, based on its index value.\n",
        "\n",
        "UTF-8 uses a system of binary prefixes, in which the high bits of each byte mark whether it’s a single byte, the beginning of a multi-byte sequence, or a continuation byte; the remaining bits, concatenated, give the code point index. This table shows how it works:\n",
        "\n",
        "UTF-8 (binary)\tCode point (binary)\tRange\n",
        "0xxxxxxx\txxxxxxx\tU+0000–U+007F\n",
        "110xxxxx 10yyyyyy\txxxxxyyyyyy\tU+0080–U+07FF\n",
        "1110xxxx 10yyyyyy 10zzzzzz\txxxxyyyyyyzzzzzz\tU+0800–U+FFFF\n",
        "11110xxx 10yyyyyy 10zzzzzz 10wwwwww\txxxyyyyyyzzzzzzwwwwww\tU+10000–U+10FFFF\n",
        "A handy property of UTF-8 is that code points below 128 (ASCII characters) are encoded as single bytes, and all non-ASCII code points are encoded using sequences of bytes 128–255. This has a couple of nice consequences. First, any strings or files out there that are already in ASCII can also be interpreted as UTF-8 without any conversion. Second, lots of widely-used string programming idioms—such as null termination, or delimiters (newlines, tabs, commas, slashes, etc.)—will just work on UTF-8 strings. ASCII bytes never occur inside the encoding of non-ASCII code points, so searching byte-wise for a null terminator or a delimiter will do the right thing.\n",
        "\n",
        "Thanks to this convenience, it’s relatively simple to extend legacy ASCII programs and APIs to handle UTF-8 strings. UTF-8 is very widely used in the Unix/Linux and Web worlds, and many programmers argue UTF-8 should be the default encoding everywhere.\n",
        "\n",
        "However, UTF-8 isn’t a drop-in replacement for ASCII strings in all respects. For instance, code that iterates over the “characters” in a string will need to decode UTF-8 and iterate over code points (or maybe grapheme clusters—more about those later), not bytes. When you measure the “length” of a string, you’ll need to think about whether you want the length in bytes, the length in code points, the width of the text when rendered, or something else.\n",
        "\n",
        "UTF-16\n",
        "The other encoding that you’re likely to encounter is UTF-16. It uses 16-bit words, with each code point stored as either 1 or 2 words.\n",
        "\n",
        "Like UTF-8, we can express the UTF-16 encoding rules in the form of binary prefixes:\n",
        "\n",
        "UTF-16 (binary)\tCode point (binary)\tRange\n",
        "xxxxxxxxxxxxxxxx\txxxxxxxxxxxxxxxx\tU+0000–U+FFFF\n",
        "110110xxxxxxxxxx 110111yyyyyyyyyy\txxxxxxxxxxyyyyyyyyyy + 0x10000\tU+10000–U+10FFFF\n",
        "A more common way that people talk about UTF-16 encoding, though, is in terms of code points called “surrogates”. All the code points in the range U+D800–U+DFFF—or in other words, the code points that match the binary prefixes 110110 and 110111 in the table above—are reserved specifically for UTF-16 encoding, and don’t represent any valid characters on their own. They’re only meant to occur in the 2-word encoding pattern above, which is called a “surrogate pair”. Surrogate code points are illegal in any other context! They’re not allowed in UTF-8 or UTF-32 at all.\n",
        "\n",
        "Historically, UTF-16 is a descendant of the original, pre-1996 versions of Unicode, in which there were only 65,536 code points. The original intention was that there would be no different “encodings”; Unicode was supposed to be a straightforward 16-bit character set. Later, the codespace was expanded to make room for a long tail of less-common (but still important) Han characters, which the Unicode designers didn’t originally plan for. Surrogates were then introduced, as—to put it bluntly—a kludge, allowing 16-bit encodings to access the new code points.\n",
        "\n",
        "Today, Javascript uses UTF-16 as its standard string representation: if you ask for the length of a string, or iterate over it, etc., the result will be in UTF-16 words, with any code points outside the BMP expressed as surrogate pairs. UTF-16 is also used by the Microsoft Win32 APIs; though Win32 supports either 8-bit or 16-bit strings, the 8-bit version unaccountably still doesn’t support UTF-8—only legacy code-page encodings, like ANSI. This leaves UTF-16 as the only way to get proper Unicode support in Windows. (Update: in Win10 version 1903, they finally added UTF-8 support to the 8-bit APIs! 😊)\n",
        "\n",
        "By the way, UTF-16’s words can be stored either little-endian or big-endian. Unicode has no opinion on that issue, though it does encourage the convention of putting U+FEFF zero width no-break space at the top of a UTF-16 file as a byte-order mark, to disambiguate the endianness. (If the file doesn’t match the system’s endianness, the BOM will be decoded as U+FFFE, which isn’t a valid code point.)\n",
        "\n",
        "Combining Marks\n",
        "In the story so far, we’ve been focusing on code points. But in Unicode, a “character” can be more complicated than just an individual code point!\n",
        "\n",
        "Unicode includes a system for dynamically composing characters, by combining multiple code points together. This is used in various ways to gain flexibility without causing a huge combinatorial explosion in the number of code points.\n",
        "\n",
        "In European languages, for example, this shows up in the application of diacritics to letters. Unicode supports a wide range of diacritics, including acute and grave accents, umlauts, cedillas, and many more. All these diacritics can be applied to any letter of any alphabet—and in fact, multiple diacritics can be used on a single letter.\n",
        "\n",
        "If Unicode tried to assign a distinct code point to every possible combination of letter and diacritics, things would rapidly get out of hand. Instead, the dynamic composition system enables you to construct the character you want, by starting with a base code point (the letter) and appending additional code points, called “combining marks”, to specify the diacritics. When a text renderer sees a sequence like this in a string, it automatically stacks the diacritics over or under the base letter to create a composed character.\n",
        "\n",
        "For example, the accented character “Á” can be expressed as a string of two code points: U+0041 “A” latin capital letter a plus U+0301 “◌́” combining acute accent. This string automatically gets rendered as a single character: “Á”.\n",
        "\n",
        "Now, Unicode does also include many “precomposed” code points, each representing a letter with some combination of diacritics already applied, such as U+00C1 “Á” latin capital letter a with acute or U+1EC7 “ệ” latin small letter e with circumflex and dot below. I suspect these are mostly inherited from older encodings that were assimilated into Unicode, and kept around for compatibility. In practice, there are precomposed code points for most of the common letter-with-diacritic combinations in European-script languages, so they don’t use dynamic composition that much in typical text.\n",
        "\n",
        "Still, the system of combining marks does allow for an arbitrary number of diacritics to be stacked on any base character. The reductio-ad-absurdum of this is Zalgo text, which works by ͖͟ͅr͞aṋ̫̠̖͈̗d͖̻̹óm̪͙͕̗̝ļ͇̰͓̳̫ý͓̥̟͍ ̕s̫t̫̱͕̗̰̼̘͜a̼̩͖͇̠͈̣͝c̙͍k̖̱̹͍͘i̢n̨̺̝͇͇̟͙ģ̫̮͎̻̟ͅ ̕n̼̺͈͞u̮͙m̺̭̟̗͞e̞͓̰̤͓̫r̵o̖ṷs҉̪͍̭̬̝̤ ̮͉̝̞̗̟͠d̴̟̜̱͕͚i͇̫̼̯̭̜͡ḁ͙̻̼c̲̲̹r̨̠̹̣̰̦i̱t̤̻̤͍͙̘̕i̵̜̭̤̱͎c̵s ͘o̱̲͈̙͖͇̲͢n͘ ̜͈e̬̲̠̩ac͕̺̠͉h̷̪ ̺̣͖̱ḻ̫̬̝̹ḙ̙̺͙̭͓̲t̞̞͇̲͉͍t̷͔̪͉̲̻̠͙e̦̻͈͉͇r͇̭̭̬͖,̖́ ̜͙͓̣̭s̘̘͈o̱̰̤̲ͅ ̛̬̜̙t̼̦͕̱̹͕̥h̳̲͈͝ͅa̦t̻̲ ̻̟̭̦̖t̛̰̩h̠͕̳̝̫͕e͈̤̘͖̞͘y҉̝͙ ̷͉͔̰̠o̞̰v͈͈̳̘͜er̶f̰͈͔ḻ͕̘̫̺̲o̲̭͙͠ͅw̱̳̺ ͜t̸h͇̭͕̳͍e̖̯̟̠ ͍̞̜͔̩̪͜ļ͎̪̲͚i̝̲̹̙̩̹n̨̦̩̖ḙ̼̲̼͢ͅ ̬͝s̼͚̘̞͝p͙̘̻a̙c҉͉̜̤͈̯̖i̥͡n̦̠̱͟g̸̗̻̦̭̮̟ͅ ̳̪̠͖̳̯̕a̫͜n͝d͡ ̣̦̙ͅc̪̗r̴͙̮̦̹̳e͇͚̞͔̹̫͟a̙̺̙ț͔͎̘̹ͅe̥̩͍ a͖̪̜̮͙̹n̢͉̝ ͇͉͓̦̼́a̳͖̪̤̱p̖͔͔̟͇͎͠p̱͍̺ę̲͎͈̰̲̤̫a̯͜r̨̮̫̣̘a̩̯͖n̹̦̰͎̣̞̞c̨̦̱͔͎͍͖e̬͓͘ ̤̰̩͙̤̬͙o̵̼̻̬̻͇̮̪f̴ ̡̙̭͓͖̪̤“̸͙̠̼c̳̗͜o͏̼͙͔̮r̞̫̺̞̥̬ru̺̻̯͉̭̻̯p̰̥͓̣̫̙̤͢t̳͍̳̖ͅi̶͈̝͙̼̙̹o̡͔n̙̺̹̖̩͝ͅ”̨̗͖͚̩.̯͓\n",
        "\n",
        "A few other places where dynamic character composition shows up in Unicode:\n",
        "\n",
        "Vowel-pointing notation in Arabic and Hebrew. In these languages, words are normally spelled with some of their vowels left out. They then have diacritic notation to indicate the vowels (used in dictionaries, language-teaching materials, children’s books, and such). These diacritics are expressed with combining marks.\n",
        "\n",
        "A Hebrew example, with niqqud:\tאֶת דַלְתִּי הֵזִיז הֵנִיעַ, קֶטֶב לִשְׁכַּתִּי יָשׁוֹד\n",
        "Normal writing (no niqqud):\tאת דלתי הזיז הניע, קטב לשכתי ישוד\n",
        "Devanagari, the script used to write Hindi, Sanskrit, and many other South Asian languages, expresses certain vowels as combining marks attached to consonant letters. For example, “ह” + “​ि” = “हि” (“h” + “i” = “hi”).\n",
        "\n",
        "Korean characters stand for syllables, but they are composed of letters called jamo that stand for the vowels and consonants in the syllable. While there are code points for precomposed Korean syllables, it’s also possible to dynamically compose them by concatenating their jamo. For example, “ᄒ” + “ᅡ” + “ᆫ” = “한” (“h” + “a” + “n” = “han”).\n",
        "\n",
        "Canonical Equivalence\n",
        "In Unicode, precomposed characters exist alongside the dynamic composition system. A consequence of this is that there are multiple ways to express “the same” string—different sequences of code points that result in the same user-perceived characters. For example, as we saw earlier, we can express the character “Á” either as the single code point U+00C1, or as the string of two code points U+0041 U+0301.\n",
        "\n",
        "Another source of ambiguity is the ordering of multiple diacritics in a single character. Diacritic order matters visually when two diacritics apply to the same side of the base character, e.g. both above: “ǡ” (dot, then macron) is different from “ā̇” (macron, then dot). However, when diacritics apply to different sides of the character, e.g. one above and one below, then the order doesn’t affect rendering. Moreover, a character with multiple diacritics might have one of the diacritics precomposed and others expressed as combining marks.\n",
        "\n",
        "For example, the Vietnamese letter “ệ” can be expressed in five different ways:\n",
        "\n",
        "Fully precomposed: U+1EC7 “ệ”\n",
        "Partially precomposed: U+1EB9 “ẹ” + U+0302 “◌̂”\n",
        "Partially precomposed: U+00EA “ê” + U+0323 “◌̣”\n",
        "Fully decomposed: U+0065 “e” + U+0323 “◌̣” + U+0302 “◌̂”\n",
        "Fully decomposed: U+0065 “e” + U+0302 “◌̂” + U+0323 “◌̣”\n",
        "Unicode refers to set of strings like this as “canonically equivalent”. Canonically equivalent strings are supposed to be treated as identical for purposes of searching, sorting, rendering, text selection, and so on. This has implications for how you implement operations on text. For example, if an app has a “find in file” operation and the user searches for “ệ”, it should, by default, find occurrences of any of the five versions of “ệ” above!\n",
        "\n",
        "Normalization Forms\n",
        "To address the problem of “how to handle canonically equivalent strings”, Unicode defines several normalization forms: ways of converting strings into a canonical form so that they can be compared code-point-by-code-point (or byte-by-byte).\n",
        "\n",
        "The “NFD” normalization form fully decomposes every character down to its component base and combining marks, taking apart any precomposed code points in the string. It also sorts the combining marks in each character according to their rendered position, so e.g. diacritics that go below the character come before the ones that go above the character. (It doesn’t reorder diacritics in the same rendered position, since their order matters visually, as previously mentioned.)\n",
        "\n",
        "The “NFC” form, conversely, puts things back together into precomposed code points as much as possible. If an unusual combination of diacritics is called for, there may not be any precomposed code point for it, in which case NFC still precomposes what it can and leaves any remaining combining marks in place (again ordered by rendered position, as in NFD).\n",
        "\n",
        "There are also forms called NFKD and NFKC. The “K” here refers to compatibility decompositions, which cover characters that are “similar” in some sense but not visually identical. However, I’m not going to cover that here.\n",
        "\n",
        "Grapheme Clusters\n",
        "As we’ve seen, Unicode contains various cases where a thing that a user thinks of as a single “character” might actually be made up of multiple code points under the hood. Unicode formalizes this using the notion of a grapheme cluster: a string of one or more code points that constitute a single “user-perceived character”.\n",
        "\n",
        "UAX #29 defines the rules for what, precisely, qualifies as a grapheme cluster. It’s approximately “a base code point followed by any number of combining marks”, but the actual definition is a bit more complicated; it accounts for things like Korean jamo, and emoji ZWJ sequences.\n",
        "\n",
        "The main thing grapheme clusters are used for is text editing: they’re often the most sensible unit for cursor placement and text selection boundaries. Using grapheme clusters for these purposes ensures that you can’t accidentally chop off some diacritics when you copy-and-paste text, that left/right arrow keys always move the cursor by one visible character, and so on.\n",
        "\n",
        "Another place where grapheme clusters are useful is in enforcing a string length limit—say, on a database field. While the true, underlying limit might be something like the byte length of the string in UTF-8, you wouldn’t want to enforce that by just truncating bytes. At a minimum, you’d want to “round down” to the nearest code point boundary; but even better, round down to the nearest grapheme cluster boundary. Otherwise, you might be corrupting the last character by cutting off a diacritic, or interrupting a jamo sequence or ZWJ sequence.\n",
        "\n",
        "And More…\n",
        "There’s much more that could be said about Unicode from a programmer’s perspective! I haven’t gotten into such fun topics as case mapping, collation, compatibility decompositions and confusables, Unicode-aware regexes, or bidirectional text. Nor have I said anything yet about implementation issues—how to efficiently store and look-up data about the sparsely-assigned code points, or how to optimize UTF-8 decoding, string comparison, or NFC normalization. Perhaps I’ll return to some of those things in future posts.\n",
        "\n",
        "Unicode is a fascinating and complex system. It has a many-to-one mapping between bytes and code points, and on top of that a many-to-one (or, under some circumstances, many-to-many) mapping between code points and “characters”. It has oddball special cases in every corner. But no one ever claimed that representing all written languages was going to be easy, and it’s clear that we’re never going back to the bad old days of a patchwork of incompatible encodings.\n",
        "\n",
        "Further reading:\n",
        "\n",
        "The Unicode Standard\n",
        "UTF-8 Everywhere Manifesto\n",
        "Dark corners of Unicode by Eevee\n",
        "ICU (International Components for Unicode)—C/C++/Java libraries implementing many Unicode algorithms and related things\n",
        "Python 3 Unicode Howto\n",
        "Google Noto Fonts—set of fonts intended to cover all assigned code points\"\"\"\n",
        "\n",
        "isd1 = sp.encode(texto)\n",
        "print(isd1)"
      ],
      "metadata": {
        "colab": {
          "base_uri": "https://localhost:8080/"
        },
        "id": "PDt1gmLn-i8g",
        "outputId": "09914965-6736-4fbd-dd9a-99a00b3dc63b"
      },
      "execution_count": 49,
      "outputs": [
        {
          "output_type": "stream",
          "name": "stdout",
          "text": [
            "[362, 68, 362, 382, 366, 368, 374, 263, 375, 375, 266, 229, 131, 156, 369, 362, 76, 363, 364, 366, 368, 370, 373, 371, 364, 317, 292, 362, 88, 363, 304, 368, 265, 13, 80, 367, 366, 371, 378, 362, 54, 395, 362, 53, 51, 52, 58, 362, 197, 186, 362, 70, 368, 370, 273, 362, 197, 186, 362, 53, 56, 362, 70, 368, 375, 375, 268, 369, 13, 13, 242, 191, 184, 242, 192, 145, 242, 192, 140, 242, 192, 134, 242, 192, 146, 242, 192, 135, 242, 192, 136, 36, 362, 243, 162, 136, 167, 243, 162, 136, 160, 243, 162, 136, 155, 243, 162, 136, 149, 243, 162, 136, 161, 243, 162, 136, 150, 243, 162, 136, 151, 229, 131, 192, 362, 243, 162, 138, 189, 229, 131, 143, 243, 162, 138, 182, 229, 131, 143, 243, 162, 138, 177, 229, 131, 143, 243, 162, 138, 171, 229, 131, 143, 243, 162, 138, 183, 229, 131, 143, 243, 162, 138, 172, 229, 131, 143, 243, 162, 138, 173, 36, 362, 243, 162, 155, 135, 362, 87, 378, 361, 362, 394, 266, 381, 312, 367, 375, 361, 267, 364, 366, 365, 386, 352, 311, 361, 367, 366, 332, 264, 380, 361, 362, 262, 308, 294, 362, 378, 361, 367, 366, 364, 369, 362, 368, 385, 291, 368, 374, 263, 375, 375, 266, 369, 313, 269, 372, 370, 380, 365, 265, 377, 362, 90, 361, 324, 372, 362, 386, 363, 368, 380, 313, 361, 362, 368, 373, 374, 378, 364, 292, 362, 229, 131, 159, 369, 373, 376, 376, 269, 364, 362, 88, 363, 304, 368, 265, 229, 131, 160, 362, 262, 362, 368, 373, 366, 267, 368, 385, 364, 380, 367, 366, 361, 309, 380, 378, 349, 361, 394, 266, 274, 349, 271, 361, 367, 363, 369, 229, 131, 151, 372, 365, 357, 272, 369, 273, 313, 371, 378, 367, 366, 98, 364, 311, 269, 324, 372, 294, 267, 364, 366, 273, 369, 395, 362, 366, 355, 378, 364, 66, 387, 377, 362, 397, 373, 364, 362, 88, 363, 304, 368, 265, 362, 371, 367, 363, 362, 384, 361, 264, 384, 285, 366, 373, 369, 361, 395, 332, 362, 370, 365, 394, 273, 362, 262, 308, 294, 274, 368, 373, 369, 367, 363, 370, 379, 376, 315, 362, 88, 363, 304, 368, 265, 286, 364, 367, 363, 370, 367, 366, 370, 362, 376, 372, 373, 369, 362, 306, 369, 362, 301, 389, 259, 369, 362, 368, 385, 267, 373, 376, 376, 372, 279, 268, 367, 366, 381, 290, 363, 280, 352, 395, 362, 366, 361, 376, 269, 364, 369, 395, 332, 312, 368, 364, 352, 362, 371, 367, 363, 362, 384, 361, 271, 269, 361, 274, 367, 363, 264, 362, 372, 306, 364, 372, 361, 362, 262, 364, 356, 365, 370, 349, 273, 377, 362, 76, 362, 370, 284, 229, 131, 156, 364, 362, 384, 283, 375, 361, 291, 368, 374, 263, 375, 375, 266, 369, 311, 269, 267, 364, 365, 372, 372, 311, 262, 370, 273, 294, 313, 378, 368, 372, 361, 274, 273, 271, 322, 266, 365, 368, 373, 369, 395, 362, 361, 394, 259, 362, 54, 51, 362, 381, 361, 367, 366, 369, 264, 385, 364, 266, 362, 88, 363, 304, 368, 265, 229, 131, 156, 369, 362, 262, 261, 376, 364, 317, 377, 13, 13, 68, 311, 361, 380, 271, 284, 364, 378, 369, 264, 374, 368, 395, 362, 76, 362, 374, 368, 364, 362, 262, 364, 266, 361, 285, 278, 362, 262, 362, 88, 363, 304, 368, 265, 332, 325, 371, 365, 265, 370, 292, 267, 376, 288, 267, 368, 375, 361, 260, 356, 361, 362, 372, 361, 367, 366, 363, 273, 271, 269, 361, 264, 384, 368, 373, 364, 362, 306, 362, 262, 325, 364, 367, 365, 372, 377, 362, 76, 363, 274, 281, 264, 366, 364, 304, 372, 361, 395, 362, 76, 229, 131, 156, 372, 372, 362, 374, 365, 394, 361, 290, 362, 262, 364, 366, 368, 370, 373, 371, 364, 317, 292, 362, 306, 311, 366, 368, 375, 264, 291, 368, 374, 263, 375, 375, 266, 229, 131, 156, 369, 362, 376, 368, 262, 364, 362, 368, 385, 362, 394, 365, 361, 380, 377, 13, 13, 76, 229, 131, 156, 375, 362, 374, 368, 273, 292, 311, 360, 373, 369, 362, 284, 294, 362, 371, 378, 367, 263, 371, 364, 266, 267, 353, 332, 313, 378, 349, 229, 131, 156, 369, 362, 262, 394, 368, 372, 394, 278, 362, 262, 313, 269, 386, 273, 313, 306, 378, 267, 364, 366, 273, 369, 332, 311, 365, 372, 352, 362, 368, 385, 362, 88, 363, 304, 368, 265, 337, 377, 362, 75, 368, 380, 361, 394, 266, 395, 362, 262, 274, 281, 264, 366, 364, 304, 372, 361, 362, 76, 229, 131, 156, 375, 312, 368, 364, 362, 374, 368, 273, 292, 260, 367, 372, 386, 264, 384, 368, 373, 364, 311, 284, 364, 369, 395, 337, 362, 283, 381, 368, 373, 364, 396, 369, 378, 367, 376, 273, 396, 366, 259, 265, 366, 273, 395, 362, 269, 362, 358, 371, 367, 372, 282, 349, 317, 362, 262, 325, 364, 367, 365, 372, 229, 131, 151, 364, 378, 368, 369, 361, 264, 366, 361, 267, 361, 376, 367, 263, 364, 361, 326, 369, 373, 352, 395, 362, 384, 361, 381, 284, 370, 271, 381, 267, 351, 376, 361, 309, 367, 363, 370, 362, 386, 363, 368, 380, 372, 278, 374, 361, 387, 362, 378, 266, 361, 377, 13, 13, 71, 365, 394, 266, 369, 306, 381, 332, 362, 76, 363, 378, 266, 268, 362, 70, 368, 375, 376, 372, 280, 306, 381, 13, 87, 378, 361, 362, 88, 363, 304, 368, 265, 362, 70, 368, 265, 369, 376, 367, 261, 13, 70, 368, 265, 369, 376, 367, 261, 362, 68, 372, 358, 371, 349, 317, 13, 383, 371, 366, 365, 376, 364, 369, 13, 88, 369, 315, 362, 73, 366, 361, 116, 373, 259, 371, 381, 13, 398, 363, 351, 370, 273, 369, 13, 88, 87, 73, 379, 59, 13, 88, 87, 73, 379, 52, 57, 13, 70, 368, 375, 384, 262, 273, 362, 80, 367, 366, 386, 369, 13, 70, 367, 363, 284, 304, 367, 372, 362, 398, 116, 373, 365, 394, 367, 372, 275, 13, 391, 269, 375, 367, 372, 282, 349, 317, 362, 73, 269, 375, 369, 13, 74, 263, 376, 378, 279, 361, 362, 70, 372, 373, 285, 266, 369, 13, 68, 363, 370, 362, 80, 269, 361, 229, 131, 169, 13, 71, 365, 394, 266, 369, 306, 381, 332, 362, 76, 363, 378, 266, 268, 362, 70, 368, 375, 376, 372, 280, 306, 381, 13, 68, 369, 267, 368, 284, 264, 369, 362, 381, 368, 373, 267, 364, 367, 366, 364, 292, 267, 364, 373, 370, 381, 362, 88, 363, 304, 368, 265, 395, 362, 306, 362, 384, 302, 368, 375, 352, 362, 371, 372, 361, 367, 366, 274, 349, 362, 306, 362, 366, 361, 270, 352, 268, 369, 264, 362, 283, 366, 374, 361, 362, 109, 373, 375, 376, 362, 262, 362, 351, 375, 376, 372, 280, 306, 381, 362, 368, 394, 266, 362, 371, 378, 367, 263, 371, 364, 266, 267, 353, 369, 362, 372, 365, 357, 362, 68, 383, 70, 76, 76, 274, 349, 362, 381, 368, 373, 327, 381, 362, 384, 361, 271, 269, 361, 311, 367, 375, 365, 372, 365, 367, 366, 313, 306, 378, 377, 362, 76, 364, 229, 131, 156, 369, 312, 368, 364, 362, 109, 373, 285, 274, 349, 362, 88, 363, 304, 368, 265, 362, 371, 284, 364, 367, 262, 369, 264, 271, 373, 371, 378, 362, 283, 366, 374, 266, 312, 373, 375, 384, 266, 362, 368, 385, 362, 371, 378, 367, 263, 371, 364, 266, 369, 395, 324, 364, 378, 368, 373, 374, 378, 274, 349, 229, 131, 156, 369, 362, 376, 367, 366, 364, 362, 368, 385, 362, 306, 377, 362, 88, 363, 304, 368, 265, 324, 369, 368, 362, 378, 348, 264, 362, 374, 366, 361, 349, 325, 367, 372, 362, 368, 385, 362, 262, 364, 266, 363, 367, 372, 267, 364, 366, 373, 371, 364, 373, 366, 361, 395, 311, 361, 349, 373, 366, 352, 395, 332, 267, 376, 302, 365, 367, 372, 362, 371, 348, 352, 395, 327, 386, 273, 362, 306, 271, 373, 371, 378, 271, 269, 361, 274, 367, 363, 313, 378, 349, 362, 284, 361, 271, 355, 378, 364, 362, 280, 376, 302, 364, 264, 271, 266, 361, 362, 229, 131, 159, 371, 378, 367, 263, 371, 364, 266, 267, 353, 229, 131, 160, 292, 362, 384, 361, 377, 362, 90, 361, 229, 131, 156, 372, 372, 267, 361, 361, 267, 368, 375, 361, 362, 368, 385, 274, 349, 362, 283, 364, 266, 362, 262, 274, 281, 264, 366, 364, 304, 372, 361, 377, 13, 13, 90, 378, 259, 362, 371, 284, 385, 366, 284, 364, 273, 324, 372, 274, 281, 362, 351, 375, 376, 372, 280, 306, 381, 395, 362, 352, 376, 302, 365, 367, 372, 307, 264, 369, 290, 362, 259, 374, 262, 361, 266, 395, 362, 306, 229, 131, 156, 369, 362, 378, 367, 366, 370, 312, 368, 364, 292, 311, 262, 370, 362, 284, 352, 361, 372, 385, 264, 369, 386, 273, 395, 362, 229, 131, 159, 90, 378, 381, 362, 301, 313, 361, 312, 361, 278, 324, 372, 274, 281, 66, 362, 76, 369, 274, 281, 362, 366, 361, 367, 372, 307, 312, 361, 261, 369, 369, 367, 366, 381, 66, 362, 70, 368, 373, 372, 370, 363, 229, 131, 156, 364, 362, 306, 362, 384, 361, 267, 356, 376, 372, 354, 365, 278, 66, 229, 131, 160, 13, 13, 75, 368, 380, 361, 394, 266, 395, 362, 88, 363, 304, 368, 265, 264, 356, 369, 292, 311, 367, 306, 378, 385, 373, 372, 307, 362, 366, 361, 270, 352, 268, 294, 362, 268, 305, 361, 313, 269, 372, 370, 229, 131, 156, 369, 313, 366, 306, 273, 341, 369, 377, 362, 87, 378, 361, 362, 88, 363, 304, 368, 265, 362, 70, 284, 369, 269, 364, 365, 373, 375, 229, 131, 156, 369, 267, 364, 349, 278, 362, 374, 368, 367, 372, 326, 362, 229, 131, 159, 259, 347, 372, 273, 362, 376, 361, 368, 376, 372, 361, 264, 366, 368, 373, 363, 370, 294, 313, 269, 372, 370, 292, 272, 369, 361, 362, 351, 375, 376, 373, 364, 266, 369, 362, 262, 290, 381, 342, 229, 131, 160, 377, 362, 68, 363, 370, 264, 369, 362, 381, 368, 373, 271, 355, 378, 364, 362, 356, 300, 262, 361, 395, 294, 362, 370, 365, 394, 266, 369, 306, 381, 362, 368, 385, 313, 366, 306, 364, 259, 342, 369, 326, 362, 356, 375, 259, 369, 361, 36, 362, 87, 368, 362, 370, 349, 361, 395, 362, 88, 363, 304, 368, 265, 267, 373, 376, 376, 269, 364, 369, 362, 52, 54, 56, 362, 370, 354, 385, 266, 268, 267, 371, 366, 365, 376, 364, 369, 395, 362, 351, 394, 266, 273, 267, 368, 375, 361, 362, 52, 52, 51, 51, 342, 369, 395, 332, 274, 266, 361, 229, 131, 156, 369, 267, 364, 365, 372, 372, 264, 362, 372, 284, 374, 260, 367, 365, 372, 362, 368, 385, 362, 368, 394, 266, 362, 52, 51, 51, 293, 369, 373, 376, 376, 269, 364, 278, 267, 371, 366, 365, 376, 364, 369, 395, 362, 384, 368, 364, 378, 328, 265, 366, 363, 332, 362, 378, 281, 364, 269, 304, 367, 372, 395, 313, 378, 304, 378, 362, 376, 361, 368, 376, 372, 361, 264, 366, 361, 267, 364, 365, 372, 372, 313, 269, 386, 273, 292, 264, 370, 370, 377, 13, 13, 74, 365, 394, 259, 274, 281, 362, 259, 269, 375, 368, 373, 369, 362, 370, 365, 394, 266, 369, 306, 381, 395, 362, 306, 229, 131, 156, 369, 362, 262, 361, 394, 306, 347, 372, 361, 274, 349, 362, 366, 361, 270, 352, 268, 273, 362, 306, 326, 264, 362, 351, 375, 376, 372, 304, 349, 278, 291, 368, 109, 302, 364, 377, 362, 88, 363, 304, 368, 265, 362, 279, 384, 263, 261, 369, 274, 349, 362, 370, 365, 394, 266, 369, 306, 381, 395, 332, 264, 371, 261, 376, 364, 369, 294, 362, 351, 375, 376, 372, 280, 306, 381, 362, 262, 378, 266, 268, 362, 262, 362, 306, 369, 271, 281, 369, 317, 292, 362, 262, 371, 372, 373, 265, 324, 372, 362, 378, 373, 375, 367, 363, 313, 366, 306, 273, 341, 369, 377, 362, 76, 364, 362, 301, 352, 363, 229, 131, 156, 364, 327, 357, 264, 362, 358, 364, 362, 368, 385, 260, 263, 265, 379, 368, 385, 385, 369, 362, 262, 294, 312, 367, 375, 361, 362, 368, 385, 267, 356, 376, 372, 354, 304, 349, 317, 395, 332, 362, 306, 327, 386, 352, 362, 280, 261, 376, 364, 317, 369, 292, 362, 306, 369, 362, 368, 380, 363, 362, 366, 373, 372, 352, 313, 378, 266, 361, 312, 361, 261, 369, 369, 367, 366, 381, 292, 311, 373, 366, 364, 378, 266, 362, 306, 369, 271, 281, 369, 317, 377, 13, 13, 80, 269, 361, 368, 394, 266, 395, 362, 88, 363, 304, 368, 265, 326, 362, 351, 375, 375, 306, 364, 278, 312, 368, 364, 362, 109, 373, 285, 292, 267, 373, 376, 376, 269, 364, 273, 337, 369, 362, 262, 290, 381, 267, 273, 372, 361, 342, 395, 362, 384, 373, 364, 324, 369, 368, 292, 362, 372, 353, 364, 273, 271, 373, 372, 364, 365, 376, 372, 361, 342, 369, 362, 351, 280, 281, 364, 313, 306, 378, 262, 362, 284, 361, 337, 229, 131, 151, 380, 378, 304, 378, 362, 262, 364, 366, 368, 370, 373, 261, 369, 362, 361, 394, 259, 271, 269, 361, 362, 351, 375, 376, 372, 280, 306, 381, 377, 13, 13, 80, 368, 285, 291, 368, 374, 263, 375, 375, 273, 342, 369, 362, 378, 367, 394, 361, 362, 372, 365, 384, 263, 366, 365, 352, 264, 394, 367, 365, 283, 384, 372, 361, 292, 362, 378, 367, 363, 370, 372, 361, 294, 362, 374, 269, 381, 362, 358, 380, 379, 372, 361, 394, 361, 372, 325, 364, 367, 365, 372, 369, 362, 368, 385, 337, 327, 363, 365, 376, 373, 283, 364, 317, 395, 362, 384, 373, 364, 264, 369, 264, 291, 368, 374, 263, 375, 375, 266, 395, 362, 381, 368, 373, 229, 131, 156, 372, 372, 267, 364, 365, 372, 372, 312, 361, 278, 292, 362, 386, 363, 368, 380, 264, 384, 368, 373, 364, 362, 261, 366, 364, 367, 262, 362, 88, 363, 304, 368, 265, 311, 361, 349, 373, 366, 352, 362, 262, 362, 269, 265, 366, 292, 362, 386, 363, 368, 380, 313, 378, 259, 332, 362, 378, 368, 380, 292, 264, 376, 376, 307, 274, 279, 377, 362, 76, 364, 327, 381, 260, 367, 357, 267, 368, 375, 361, 260, 356, 361, 292, 313, 263, 376, 362, 381, 368, 373, 366, 362, 378, 361, 367, 370, 264, 366, 368, 373, 363, 370, 362, 306, 324, 372, 395, 362, 384, 373, 364, 362, 370, 284, 229, 131, 156, 364, 362, 384, 361, 362, 370, 281, 351, 373, 263, 374, 278, 229, 131, 151, 364, 378, 262, 386, 264, 384, 368, 373, 364, 294, 362, 384, 365, 372, 372, 317, 369, 362, 368, 385, 362, 376, 361, 368, 376, 372, 361, 311, 269, 313, 378, 368, 375, 362, 381, 368, 373, 366, 267, 368, 385, 364, 380, 367, 366, 361, 313, 365, 372, 372, 362, 384, 361, 271, 269, 361, 264, 371, 261, 369, 369, 365, 384, 372, 361, 274, 366, 368, 373, 374, 378, 267, 373, 376, 376, 269, 364, 273, 337, 362, 262, 294, 305, 342, 377, 362, 398, 375, 384, 263, 261, 294, 362, 351, 375, 376, 372, 280, 306, 381, 36, 13, 13, 87, 378, 361, 362, 88, 363, 304, 368, 265, 362, 70, 368, 265, 369, 376, 367, 261, 13, 79, 353, 229, 131, 156, 369, 267, 364, 367, 366, 364, 313, 306, 378, 267, 368, 375, 361, 362, 374, 259, 361, 320, 362, 269, 365, 268, 349, 317, 377, 362, 87, 378, 361, 362, 384, 348, 304, 362, 361, 372, 279, 268, 369, 362, 368, 385, 362, 88, 363, 304, 368, 265, 229, 131, 151, 306, 369, 362, 229, 131, 159, 371, 378, 367, 263, 371, 364, 266, 369, 229, 131, 160, 395, 324, 364, 378, 368, 373, 374, 378, 274, 349, 260, 266, 375, 326, 363, 229, 131, 156, 364, 362, 116, 373, 306, 361, 362, 366, 355, 378, 364, 229, 131, 151, 367, 366, 361, 362, 371, 367, 372, 372, 278, 362, 351, 265, 362, 376, 368, 262, 364, 369, 377, 362, 70, 368, 265, 362, 376, 368, 262, 364, 369, 264, 366, 361, 362, 365, 370, 268, 354, 365, 278, 362, 350, 312, 373, 375, 384, 266, 395, 362, 371, 373, 285, 368, 375, 367, 366, 365, 307, 313, 366, 306, 364, 259, 362, 262, 362, 378, 280, 367, 265, 371, 356, 367, 372, 313, 306, 378, 294, 334, 385, 365, 388, 362, 229, 131, 159, 88, 46, 229, 131, 160, 395, 267, 373, 371, 378, 264, 369, 362, 88, 46, 51, 51, 55, 52, 362, 229, 131, 159, 68, 229, 131, 160, 362, 283, 364, 262, 362, 371, 367, 376, 306, 367, 372, 362, 372, 353, 364, 266, 264, 362, 269, 362, 88, 46, 51, 54, 397, 59, 362, 229, 131, 159, 209, 187, 229, 131, 160, 362, 374, 366, 361, 361, 386, 267, 375, 367, 372, 372, 362, 372, 353, 364, 266, 294, 364, 367, 377, 362, 398, 367, 371, 378, 362, 351, 265, 362, 376, 368, 262, 364, 324, 369, 368, 362, 378, 348, 264, 267, 378, 269, 364, 312, 367, 375, 361, 395, 332, 362, 116, 373, 306, 361, 264, 311, 361, 380, 362, 368, 364, 378, 266, 291, 368, 376, 266, 364, 365, 352, 395, 267, 376, 302, 354, 365, 278, 362, 262, 294, 362, 88, 363, 304, 368, 265, 362, 70, 378, 367, 263, 371, 364, 266, 362, 71, 349, 347, 348, 361, 377, 13, 13, 87, 378, 361, 267, 353, 362, 368, 385, 324, 372, 362, 376, 368, 369, 369, 365, 384, 372, 361, 362, 351, 265, 362, 376, 368, 262, 364, 369, 326, 362, 371, 367, 372, 372, 278, 294, 362, 351, 265, 369, 376, 367, 261, 377, 362, 87, 378, 361, 362, 88, 363, 304, 368, 265, 362, 351, 265, 369, 376, 367, 261, 362, 371, 284, 369, 281, 364, 369, 362, 368, 385, 362, 52, 395, 52, 52, 55, 395, 52, 52, 53, 362, 351, 265, 362, 376, 368, 262, 364, 369, 377, 362, 75, 368, 380, 361, 394, 266, 395, 362, 284, 307, 362, 52, 53, 59, 395, 53, 54, 58, 362, 368, 385, 274, 279, 229, 131, 151, 347, 368, 373, 364, 362, 52, 53, 40, 362, 368, 385, 294, 362, 351, 265, 369, 376, 367, 261, 229, 131, 151, 367, 366, 361, 264, 371, 364, 373, 367, 372, 307, 264, 369, 369, 355, 363, 278, 395, 292, 362, 370, 349, 361, 377, 362, 87, 378, 266, 361, 229, 131, 156, 369, 362, 376, 372, 268, 381, 362, 368, 385, 362, 366, 368, 368, 375, 311, 269, 362, 374, 366, 368, 380, 364, 378, 36, 362, 88, 363, 304, 368, 265, 324, 369, 368, 362, 366, 352, 266, 394, 352, 290, 264, 370, 370, 306, 317, 367, 372, 362, 52, 54, 58, 395, 55, 57, 59, 362, 351, 265, 362, 376, 368, 262, 364, 369, 264, 369, 362, 229, 131, 159, 270, 365, 394, 349, 361, 272, 369, 361, 229, 131, 160, 264, 366, 361, 348, 395, 313, 378, 304, 378, 362, 378, 367, 394, 361, 312, 368, 267, 364, 367, 363, 370, 367, 366, 370, 282, 278, 271, 361, 367, 363, 273, 332, 264, 366, 361, 264, 394, 367, 365, 283, 384, 372, 361, 311, 269, 362, 262, 370, 365, 394, 365, 370, 373, 367, 372, 264, 376, 376, 372, 304, 349, 317, 369, 292, 325, 385, 262, 361, 311, 269, 294, 305, 362, 368, 380, 363, 362, 376, 373, 366, 376, 368, 369, 352, 377, 13, 13, 70, 368, 265, 369, 376, 367, 261, 362, 68, 372, 358, 371, 349, 317, 13, 87, 368, 362, 374, 353, 264, 311, 361, 361, 372, 311, 269, 362, 378, 368, 380, 294, 362, 351, 265, 369, 376, 367, 261, 326, 362, 283, 365, 370, 362, 368, 373, 364, 395, 362, 306, 229, 131, 156, 369, 362, 378, 361, 372, 376, 385, 373, 372, 292, 362, 394, 281, 373, 367, 372, 282, 361, 362, 306, 377, 362, 397, 361, 358, 380, 326, 264, 327, 376, 362, 368, 385, 294, 362, 268, 305, 361, 362, 351, 265, 369, 376, 367, 261, 395, 313, 306, 378, 362, 284, 361, 362, 376, 365, 388, 361, 372, 362, 376, 266, 362, 351, 265, 362, 376, 368, 262, 364, 377, 362, 76, 364, 229, 131, 156, 369, 264, 366, 263, 363, 374, 278, 362, 262, 260, 365, 372, 352, 311, 269, 362, 394, 281, 373, 367, 372, 362, 351, 378, 266, 275, 62, 362, 361, 367, 371, 378, 267, 375, 367, 372, 372, 267, 116, 373, 367, 366, 361, 326, 362, 52, 57, 198, 154, 52, 57, 362, 64, 362, 53, 56, 57, 362, 351, 265, 362, 376, 368, 262, 364, 369, 395, 332, 362, 361, 367, 371, 378, 362, 283, 366, 374, 361, 267, 116, 373, 367, 366, 361, 326, 264, 362, 229, 131, 159, 376, 319, 361, 229, 131, 160, 362, 368, 385, 362, 57, 56, 395, 56, 54, 57, 362, 351, 265, 362, 376, 368, 262, 364, 369, 377, 362, 87, 378, 266, 361, 264, 366, 361, 362, 52, 58, 362, 376, 319, 352, 324, 308, 374, 353, 378, 266, 377, 13, 13, 80, 367, 376, 362, 368, 385, 294, 362, 88, 363, 304, 368, 265, 362, 351, 265, 369, 376, 367, 261, 309, 371, 372, 304, 386, 292, 362, 389, 368, 368, 375, 387, 13, 13, 90, 378, 306, 361, 362, 366, 361, 270, 352, 268, 369, 293, 348, 369, 355, 363, 278, 267, 376, 367, 261, 377, 362, 397, 372, 373, 361, 326, 264, 369, 369, 355, 363, 278, 362, 351, 265, 362, 376, 368, 262, 364, 369, 395, 362, 374, 366, 361, 259, 326, 291, 365, 394, 349, 361, 379, 373, 369, 361, 264, 366, 361, 348, 395, 332, 294, 267, 375, 367, 372, 372, 362, 366, 278, 264, 366, 361, 367, 326, 267, 373, 366, 366, 368, 374, 349, 352, 309, 375, 269, 361, 264, 384, 368, 373, 364, 274, 368, 369, 361, 362, 283, 364, 266, 387, 377, 362, 68, 369, 362, 381, 368, 373, 362, 371, 367, 363, 267, 361, 361, 395, 294, 264, 369, 369, 355, 363, 278, 362, 351, 265, 362, 376, 368, 262, 364, 369, 264, 366, 361, 362, 370, 281, 364, 366, 365, 384, 373, 364, 278, 267, 368, 375, 361, 380, 378, 349, 267, 376, 367, 366, 369, 361, 307, 395, 362, 384, 373, 364, 362, 371, 284, 371, 268, 263, 364, 278, 362, 262, 294, 311, 305, 285, 274, 366, 361, 361, 362, 376, 319, 352, 377, 13, 13, 382, 319, 361, 362, 51, 326, 324, 369, 368, 362, 386, 363, 368, 380, 363, 264, 369, 294, 362, 229, 131, 159, 397, 348, 304, 362, 80, 373, 372, 364, 365, 372, 273, 373, 367, 372, 362, 382, 319, 361, 229, 131, 160, 395, 362, 269, 362, 397, 80, 382, 377, 362, 87, 378, 361, 362, 397, 80, 382, 362, 371, 284, 364, 367, 262, 369, 362, 352, 369, 268, 365, 367, 372, 307, 324, 372, 294, 362, 371, 378, 367, 263, 371, 364, 266, 369, 312, 361, 361, 265, 370, 311, 269, 328, 265, 366, 363, 337, 362, 262, 290, 381, 267, 371, 366, 365, 376, 364, 395, 362, 262, 371, 372, 373, 370, 273, 362, 79, 349, 262, 395, 362, 70, 381, 366, 365, 372, 372, 304, 395, 362, 74, 366, 361, 361, 386, 395, 362, 75, 367, 363, 309, 70, 378, 262, 352, 361, 387, 395, 362, 77, 367, 376, 367, 363, 352, 361, 395, 362, 399, 269, 361, 367, 363, 395, 362, 68, 263, 384, 304, 395, 362, 75, 361, 384, 366, 361, 380, 395, 362, 71, 361, 394, 367, 363, 300, 367, 366, 365, 309, 76, 363, 370, 365, 367, 363, 387, 395, 332, 327, 363, 381, 271, 269, 361, 377, 13, 13, 390, 76, 363, 294, 362, 376, 367, 285, 395, 294, 362, 351, 265, 369, 376, 367, 261, 313, 348, 362, 109, 373, 285, 294, 362, 397, 80, 382, 332, 312, 368, 271, 269, 361, 229, 131, 151, 88, 363, 304, 368, 265, 313, 348, 362, 269, 355, 262, 367, 372, 307, 362, 371, 284, 261, 365, 394, 278, 264, 369, 264, 267, 364, 263, 355, 378, 364, 385, 269, 380, 367, 366, 370, 362, 52, 57, 379, 384, 306, 362, 259, 351, 370, 273, 395, 313, 306, 378, 362, 284, 307, 362, 57, 56, 395, 56, 54, 57, 362, 351, 265, 362, 376, 368, 262, 364, 369, 377, 362, 76, 364, 313, 348, 362, 280, 376, 367, 363, 265, 370, 292, 362, 306, 369, 362, 371, 373, 366, 366, 268, 267, 282, 361, 362, 262, 362, 52, 60, 60, 57, 377, 362, 75, 368, 380, 361, 394, 266, 395, 294, 362, 394, 367, 285, 327, 109, 269, 306, 381, 362, 368, 385, 362, 351, 265, 362, 376, 368, 262, 364, 369, 362, 262, 328, 265, 366, 363, 337, 362, 384, 361, 372, 284, 374, 292, 294, 362, 397, 80, 382, 377, 387, 13, 13, 382, 319, 361, 362, 52, 362, 371, 284, 364, 367, 262, 369, 362, 378, 281, 364, 269, 304, 367, 372, 267, 371, 366, 365, 376, 364, 369, 395, 267, 373, 371, 378, 264, 369, 286, 373, 375, 266, 365, 367, 363, 362, 371, 373, 363, 361, 354, 269, 375, 332, 362, 398, 374, 381, 376, 364, 365, 367, 363, 362, 378, 365, 266, 368, 374, 307, 376, 378, 369, 395, 264, 369, 313, 361, 372, 372, 264, 369, 362, 279, 368, 109, 365, 332, 362, 394, 367, 366, 365, 368, 373, 369, 362, 368, 364, 378, 266, 267, 381, 375, 384, 368, 372, 369, 377, 362, 382, 319, 361, 362, 53, 362, 371, 284, 364, 367, 262, 369, 264, 362, 283, 366, 374, 361, 362, 384, 358, 371, 386, 362, 368, 385, 362, 372, 352, 369, 379, 351, 375, 375, 284, 332, 362, 378, 281, 364, 269, 304, 367, 372, 362, 75, 367, 363, 362, 371, 378, 367, 263, 371, 364, 266, 369, 377, 362, 87, 378, 361, 362, 366, 279, 367, 262, 273, 362, 376, 319, 352, 264, 366, 361, 362, 279, 376, 364, 381, 395, 362, 280, 261, 376, 364, 311, 269, 264, 267, 375, 367, 372, 372, 312, 373, 375, 384, 266, 362, 368, 385, 362, 263, 366, 361, 307, 379, 373, 369, 278, 311, 269, 375, 349, 364, 273, 362, 371, 378, 367, 263, 371, 364, 266, 369, 362, 262, 362, 382, 319, 361, 362, 52, 55, 62, 362, 376, 319, 352, 362, 52, 56, 229, 131, 150, 52, 57, 264, 366, 361, 362, 366, 352, 266, 394, 278, 362, 268, 305, 361, 307, 311, 269, 291, 365, 394, 349, 361, 272, 369, 361, 377, 13, 13, 383, 371, 366, 365, 376, 364, 369, 13, 79, 353, 229, 131, 156, 369, 362, 389, 368, 368, 375, 362, 262, 362, 284, 294, 311, 305, 285, 274, 366, 361, 361, 362, 376, 319, 352, 395, 267, 262, 261, 274, 349, 229, 131, 156, 369, 313, 378, 266, 361, 294, 264, 371, 364, 317, 326, 61, 13, 13, 80, 367, 376, 362, 368, 385, 267, 371, 366, 365, 376, 364, 369, 362, 262, 362, 88, 363, 304, 368, 265, 362, 376, 319, 352, 362, 51, 229, 131, 150, 53, 309, 371, 372, 304, 386, 292, 362, 389, 368, 368, 375, 387, 13, 13, 87, 378, 281, 327, 376, 362, 351, 372, 269, 379, 351, 265, 369, 294, 362, 52, 54, 56, 362, 370, 354, 385, 266, 268, 267, 371, 366, 365, 376, 364, 369, 362, 262, 362, 88, 363, 304, 368, 265, 377, 362, 92, 368, 373, 362, 371, 367, 363, 267, 361, 361, 362, 378, 368, 380, 362, 75, 367, 363, 309, 387, 332, 362, 399, 269, 361, 367, 363, 309, 387, 260, 367, 357, 272, 376, 328, 285, 362, 368, 385, 294, 362, 263, 363, 374, 361, 362, 368, 385, 294, 362, 397, 80, 382, 309, 364, 378, 361, 362, 372, 361, 385, 364, 362, 283, 366, 374, 361, 267, 116, 373, 367, 366, 361, 387, 377, 362, 397, 381, 362, 371, 284, 364, 263, 285, 395, 324, 372, 362, 368, 385, 294, 362, 398, 373, 366, 368, 376, 361, 367, 363, 395, 362, 80, 365, 370, 370, 372, 361, 362, 398, 367, 285, 266, 363, 395, 332, 286, 368, 373, 364, 378, 362, 68, 369, 365, 367, 363, 267, 371, 366, 365, 376, 364, 369, 311, 306, 362, 262, 308, 294, 311, 305, 285, 362, 366, 368, 380, 362, 368, 385, 294, 362, 397, 80, 382, 362, 262, 274, 281, 362, 370, 365, 300, 263, 375, 377, 13, 13, 80, 367, 363, 381, 264, 366, 361, 348, 362, 368, 385, 294, 362, 351, 265, 369, 376, 367, 261, 264, 366, 361, 264, 370, 367, 376, 364, 278, 362, 269, 362, 351, 376, 365, 278, 311, 366, 368, 375, 362, 361, 367, 366, 372, 365, 266, 362, 259, 351, 370, 273, 369, 377, 362, 73, 269, 362, 280, 367, 375, 376, 372, 361, 395, 294, 311, 305, 285, 362, 52, 53, 59, 362, 351, 265, 362, 376, 368, 262, 364, 369, 362, 368, 385, 362, 88, 363, 304, 368, 265, 264, 366, 361, 362, 109, 373, 285, 264, 362, 351, 376, 381, 362, 368, 385, 362, 68, 383, 70, 76, 76, 377, 362, 87, 378, 281, 362, 378, 348, 362, 371, 372, 361, 367, 366, 362, 384, 259, 361, 385, 306, 369, 311, 269, 362, 351, 375, 376, 349, 365, 384, 365, 372, 306, 381, 229, 131, 151, 306, 229, 131, 156, 369, 362, 361, 348, 381, 292, 362, 358, 369, 369, 372, 352, 369, 307, 362, 371, 284, 394, 266, 364, 337, 369, 311, 366, 368, 375, 267, 375, 367, 372, 372, 266, 362, 259, 351, 370, 273, 369, 362, 262, 308, 362, 88, 363, 304, 368, 265, 309, 367, 363, 370, 294, 362, 368, 364, 378, 266, 362, 370, 305, 302, 364, 317, 292, 368, 395, 264, 369, 362, 372, 284, 374, 264, 369, 312, 368, 362, 371, 378, 367, 263, 371, 364, 266, 369, 362, 368, 373, 364, 369, 365, 265, 294, 267, 375, 367, 372, 372, 266, 362, 259, 351, 370, 273, 264, 366, 361, 272, 369, 278, 387, 377, 13, 13, 88, 369, 315, 362, 73, 366, 361, 116, 373, 259, 371, 381, 13, 82, 363, 361, 271, 269, 361, 362, 262, 364, 266, 361, 285, 273, 313, 367, 381, 292, 362, 394, 281, 373, 367, 372, 282, 361, 294, 362, 351, 265, 369, 376, 367, 261, 326, 292, 362, 358, 368, 386, 264, 364, 294, 362, 370, 281, 364, 366, 365, 384, 373, 364, 317, 362, 368, 385, 272, 369, 315, 229, 131, 151, 262, 362, 368, 364, 378, 266, 313, 269, 370, 369, 395, 362, 378, 368, 380, 362, 368, 385, 364, 259, 362, 361, 367, 371, 378, 362, 351, 265, 362, 376, 368, 262, 364, 326, 264, 371, 364, 373, 367, 372, 307, 272, 369, 278, 362, 262, 362, 366, 361, 367, 372, 379, 321, 372, 370, 337, 369, 377, 362, 397, 361, 358, 380, 326, 264, 362, 378, 361, 349, 327, 376, 362, 368, 385, 362, 376, 319, 352, 362, 51, 229, 131, 150, 53, 362, 384, 348, 278, 362, 284, 264, 362, 283, 366, 374, 361, 267, 367, 375, 376, 372, 361, 362, 368, 385, 337, 311, 366, 368, 375, 362, 90, 365, 386, 365, 376, 278, 365, 367, 332, 362, 87, 380, 306, 364, 266, 309, 367, 372, 372, 342, 369, 387, 377, 362, 73, 366, 361, 116, 373, 259, 371, 381, 362, 262, 371, 366, 361, 348, 352, 311, 366, 368, 375, 362, 384, 283, 371, 386, 309, 363, 361, 394, 266, 267, 361, 259, 387, 274, 366, 368, 373, 374, 378, 362, 366, 278, 332, 362, 381, 361, 372, 358, 380, 292, 313, 378, 306, 361, 377, 13, 13, 75, 361, 349, 327, 376, 362, 368, 385, 362, 351, 265, 362, 376, 368, 262, 364, 272, 369, 315, 311, 366, 361, 116, 373, 259, 371, 381, 362, 262, 362, 88, 363, 304, 368, 265, 362, 376, 319, 352, 362, 51, 229, 131, 150, 53, 309, 371, 372, 304, 386, 292, 362, 389, 368, 368, 375, 387, 13, 13, 92, 368, 373, 362, 371, 367, 363, 267, 361, 361, 274, 349, 294, 362, 394, 367, 285, 327, 109, 269, 306, 381, 362, 368, 385, 274, 281, 337, 267, 367, 375, 376, 372, 361, 362, 372, 365, 352, 362, 262, 294, 362, 397, 80, 382, 395, 313, 306, 378, 362, 284, 307, 267, 371, 349, 364, 266, 278, 272, 369, 315, 362, 368, 385, 362, 351, 265, 362, 376, 368, 262, 364, 369, 311, 366, 368, 375, 362, 376, 319, 352, 362, 52, 229, 131, 150, 53, 377, 362, 87, 378, 361, 362, 384, 355, 374, 361, 285, 362, 280, 261, 376, 364, 317, 326, 362, 279, 368, 109, 365, 395, 313, 378, 304, 378, 267, 378, 368, 380, 272, 376, 362, 378, 266, 361, 264, 369, 294, 267, 361, 394, 361, 320, 362, 384, 366, 355, 378, 364, 267, 116, 373, 367, 366, 352, 362, 262, 294, 362, 384, 368, 364, 308, 375, 362, 366, 368, 380, 362, 368, 385, 362, 376, 319, 361, 362, 52, 377, 13, 13, 398, 363, 351, 370, 273, 369, 13, 90, 361, 229, 131, 156, 394, 361, 267, 361, 259, 274, 349, 362, 88, 363, 304, 368, 265, 362, 351, 265, 362, 376, 368, 262, 364, 369, 264, 366, 361, 264, 384, 285, 263, 371, 364, 307, 362, 365, 370, 268, 354, 365, 278, 362, 350, 294, 305, 362, 262, 265, 388, 362, 262, 294, 362, 351, 265, 369, 376, 367, 261, 395, 362, 263, 363, 374, 273, 311, 366, 368, 375, 362, 88, 46, 51, 51, 51, 51, 292, 362, 88, 46, 52, 51, 73, 73, 73, 73, 377, 362, 397, 373, 364, 362, 378, 368, 380, 362, 301, 362, 351, 265, 362, 376, 368, 262, 364, 369, 362, 374, 353, 362, 366, 361, 270, 352, 268, 278, 264, 369, 362, 350, 364, 352, 395, 362, 262, 271, 279, 269, 381, 362, 269, 362, 262, 264, 311, 365, 372, 361, 66, 13, 13, 87, 378, 361, 328, 285, 362, 371, 284, 394, 259, 365, 268, 395, 362, 351, 375, 376, 373, 364, 266, 379, 385, 366, 365, 288, 372, 365, 361, 285, 309, 367, 363, 370, 291, 368, 374, 263, 375, 375, 266, 379, 385, 366, 365, 288, 372, 365, 361, 285, 387, 274, 273, 292, 362, 301, 313, 368, 373, 372, 370, 362, 384, 361, 292, 362, 109, 373, 285, 267, 364, 269, 361, 294, 362, 351, 265, 362, 376, 368, 262, 364, 362, 262, 265, 388, 264, 369, 264, 362, 54, 53, 379, 384, 306, 362, 262, 364, 361, 374, 266, 377, 362, 87, 378, 281, 313, 269, 386, 369, 395, 362, 384, 373, 364, 362, 306, 362, 371, 284, 369, 373, 375, 352, 362, 55, 362, 350, 364, 352, 362, 376, 266, 362, 351, 265, 362, 376, 368, 262, 364, 395, 313, 378, 304, 378, 326, 267, 269, 364, 362, 368, 385, 264, 362, 358, 364, 377, 362, 88, 369, 273, 362, 54, 53, 379, 384, 306, 362, 262, 364, 369, 311, 269, 362, 88, 363, 304, 368, 265, 313, 365, 372, 372, 362, 351, 285, 362, 381, 368, 373, 264, 362, 384, 373, 363, 371, 378, 362, 368, 385, 362, 289, 263, 267, 308, 263, 374, 361, 395, 271, 279, 269, 381, 395, 332, 362, 376, 266, 385, 269, 375, 367, 363, 261, 362, 262, 362, 384, 367, 363, 370, 380, 365, 370, 364, 378, 379, 384, 368, 373, 363, 370, 267, 371, 259, 367, 366, 365, 368, 369, 395, 362, 354, 362, 381, 368, 373, 313, 269, 386, 313, 306, 378, 264, 362, 358, 364, 362, 368, 385, 337, 377, 13, 13, 70, 284, 369, 361, 116, 373, 268, 307, 395, 274, 266, 361, 264, 366, 361, 267, 361, 394, 361, 320, 271, 269, 361, 379, 351, 375, 376, 367, 371, 364, 362, 259, 351, 370, 273, 369, 311, 269, 362, 88, 363, 304, 368, 265, 377, 362, 87, 378, 361, 362, 54, 53, 379, 384, 306, 362, 262, 364, 361, 374, 266, 362, 259, 351, 370, 273, 326, 362, 368, 385, 385, 304, 365, 367, 372, 307, 362, 371, 367, 372, 372, 278, 362, 88, 87, 73, 379, 54, 53, 309, 88, 87, 73, 362, 64, 362, 229, 131, 159, 88, 363, 304, 368, 265, 362, 87, 263, 363, 369, 385, 269, 375, 349, 317, 362, 73, 269, 375, 349, 229, 131, 160, 387, 395, 362, 384, 373, 364, 362, 306, 229, 131, 156, 369, 362, 263, 366, 361, 307, 272, 369, 278, 311, 269, 267, 308, 263, 374, 361, 377, 362, 68, 364, 328, 285, 395, 362, 306, 362, 351, 375, 352, 272, 376, 267, 368, 375, 353, 356, 352, 264, 369, 264, 260, 279, 376, 368, 263, 366, 381, 362, 262, 364, 266, 363, 367, 372, 362, 366, 361, 270, 352, 268, 349, 317, 395, 311, 269, 362, 280, 367, 375, 262, 273, 362, 269, 362, 368, 376, 361, 263, 364, 273, 362, 284, 294, 362, 351, 265, 362, 376, 368, 262, 364, 369, 362, 262, 264, 267, 364, 366, 273, 377, 13, 13, 80, 373, 371, 378, 271, 269, 361, 362, 351, 375, 375, 284, 307, 395, 362, 381, 368, 373, 229, 131, 156, 372, 372, 267, 361, 361, 362, 88, 363, 304, 368, 265, 337, 362, 259, 351, 265, 370, 264, 369, 362, 361, 306, 378, 266, 362, 88, 87, 73, 379, 59, 362, 269, 362, 88, 87, 73, 379, 52, 57, 377, 362, 87, 378, 352, 361, 264, 366, 361, 362, 384, 368, 364, 378, 362, 394, 367, 366, 365, 347, 372, 361, 379, 372, 259, 374, 364, 378, 362, 259, 351, 370, 273, 369, 395, 327, 265, 272, 376, 362, 368, 385, 362, 59, 379, 384, 306, 362, 269, 362, 52, 57, 379, 384, 306, 293, 306, 369, 395, 362, 366, 352, 376, 302, 364, 365, 394, 361, 307, 377, 362, 76, 363, 294, 369, 361, 267, 371, 378, 279, 352, 395, 362, 351, 265, 362, 376, 368, 262, 364, 369, 313, 306, 378, 267, 375, 367, 372, 372, 266, 362, 262, 265, 388, 362, 394, 367, 372, 373, 352, 260, 367, 357, 272, 376, 311, 361, 380, 266, 362, 350, 364, 352, 395, 313, 378, 304, 378, 267, 367, 394, 352, 264, 362, 358, 364, 362, 368, 385, 271, 279, 269, 381, 311, 269, 260, 381, 376, 304, 367, 372, 337, 369, 377, 362, 87, 378, 361, 260, 263, 265, 379, 368, 385, 385, 326, 274, 349, 291, 368, 261, 369, 369, 273, 362, 88, 87, 73, 379, 59, 396, 52, 57, 337, 369, 326, 271, 269, 361, 291, 368, 374, 263, 375, 375, 349, 304, 367, 372, 307, 362, 262, 394, 368, 372, 394, 278, 395, 332, 362, 372, 365, 357, 307, 267, 358, 380, 266, 377, 13, 13, 88, 87, 73, 379, 59, 13, 76, 363, 362, 88, 87, 73, 379, 59, 395, 362, 361, 367, 371, 378, 362, 351, 265, 362, 376, 368, 262, 364, 326, 267, 364, 269, 278, 272, 369, 273, 362, 52, 292, 362, 55, 362, 350, 364, 352, 395, 362, 384, 348, 278, 362, 284, 362, 306, 369, 362, 262, 265, 388, 362, 394, 367, 372, 373, 361, 377, 13, 13, 88, 87, 73, 379, 59, 272, 369, 352, 264, 341, 362, 368, 385, 362, 384, 262, 367, 366, 381, 334, 385, 365, 388, 352, 395, 362, 262, 313, 378, 304, 378, 294, 362, 378, 355, 378, 362, 384, 306, 369, 362, 368, 385, 362, 361, 367, 371, 378, 362, 350, 364, 361, 327, 366, 386, 313, 378, 353, 378, 266, 362, 306, 229, 131, 156, 369, 264, 267, 273, 372, 361, 362, 350, 364, 361, 395, 294, 362, 384, 361, 374, 262, 363, 273, 362, 368, 385, 264, 271, 373, 372, 364, 365, 379, 350, 364, 361, 267, 361, 116, 373, 275, 395, 362, 269, 264, 362, 371, 284, 364, 262, 373, 349, 317, 362, 350, 364, 361, 62, 294, 362, 366, 279, 367, 262, 273, 362, 384, 306, 369, 395, 362, 371, 284, 371, 349, 259, 349, 278, 395, 362, 374, 365, 394, 361, 294, 362, 351, 265, 362, 376, 368, 262, 364, 362, 262, 265, 388, 377, 362, 87, 378, 281, 260, 347, 372, 361, 267, 378, 368, 380, 369, 362, 378, 368, 380, 362, 306, 313, 269, 386, 369, 61, 13, 13, 88, 87, 73, 379, 59, 309, 384, 262, 367, 366, 381, 387, 12, 70, 368, 265, 362, 376, 368, 262, 364, 309, 384, 262, 367, 366, 381, 387, 12, 85, 367, 363, 374, 361, 13, 51, 388, 388, 388, 388, 388, 388, 388, 12, 388, 388, 388, 388, 388, 388, 388, 12, 88, 46, 51, 51, 51, 51, 229, 131, 150, 88, 46, 51, 51, 58, 73, 13, 52, 52, 51, 388, 388, 388, 388, 388, 362, 52, 51, 381, 381, 381, 381, 381, 381, 12, 388, 388, 388, 388, 388, 381, 381, 381, 381, 381, 381, 12, 88, 46, 51, 51, 59, 51, 229, 131, 150, 88, 46, 51, 58, 73, 73, 13, 52, 52, 52, 51, 388, 388, 388, 388, 362, 52, 51, 381, 381, 381, 381, 381, 381, 362, 52, 51, 389, 389, 389, 389, 389, 389, 12, 388, 388, 388, 388, 381, 381, 381, 381, 381, 381, 389, 389, 389, 389, 389, 389, 12, 88, 46, 51, 59, 51, 51, 229, 131, 150, 88, 46, 73, 73, 73, 73, 13, 52, 52, 52, 52, 51, 388, 388, 388, 362, 52, 51, 381, 381, 381, 381, 381, 381, 362, 52, 51, 389, 389, 389, 389, 389, 389, 362, 52, 51, 380, 380, 380, 380, 380, 380, 12, 388, 388, 388, 381, 381, 381, 381, 381, 381, 389, 389, 389, 389, 389, 389, 380, 380, 380, 380, 380, 380, 12, 88, 46, 52, 51, 51, 51, 51, 229, 131, 150, 88, 46, 52, 51, 73, 73, 73, 73, 13, 68, 362, 378, 367, 363, 370, 381, 291, 368, 376, 266, 364, 381, 362, 368, 385, 362, 88, 87, 73, 379, 59, 326, 274, 349, 362, 351, 265, 362, 376, 368, 262, 364, 369, 362, 384, 361, 358, 380, 362, 52, 53, 59, 309, 68, 383, 70, 76, 76, 362, 371, 378, 367, 263, 371, 364, 266, 369, 387, 264, 366, 361, 362, 259, 351, 265, 370, 264, 369, 267, 273, 372, 361, 362, 350, 364, 352, 395, 332, 324, 372, 312, 284, 379, 68, 383, 70, 76, 76, 362, 351, 265, 362, 376, 368, 262, 364, 369, 264, 366, 361, 362, 259, 351, 265, 370, 272, 369, 273, 267, 361, 116, 373, 275, 369, 362, 368, 385, 362, 350, 364, 352, 362, 52, 53, 59, 229, 131, 150, 53, 56, 56, 377, 362, 87, 378, 281, 362, 378, 348, 264, 362, 351, 373, 376, 372, 361, 362, 368, 385, 312, 365, 261, 362, 371, 284, 369, 361, 116, 373, 275, 369, 377, 362, 73, 305, 285, 395, 290, 381, 267, 364, 366, 273, 369, 362, 269, 311, 365, 372, 352, 362, 368, 373, 364, 274, 266, 361, 274, 349, 264, 366, 361, 324, 366, 361, 367, 370, 381, 362, 262, 362, 68, 383, 70, 76, 76, 362, 371, 367, 363, 324, 369, 368, 362, 384, 361, 362, 262, 364, 266, 270, 353, 278, 264, 369, 362, 88, 87, 73, 379, 59, 313, 306, 378, 368, 373, 364, 290, 381, 362, 371, 284, 394, 266, 369, 317, 377, 286, 302, 284, 370, 395, 362, 358, 364, 369, 362, 368, 385, 313, 365, 265, 307, 379, 373, 369, 278, 267, 364, 366, 273, 291, 368, 374, 263, 375, 375, 273, 362, 365, 370, 365, 368, 375, 369, 229, 131, 151, 369, 373, 371, 378, 264, 369, 312, 373, 372, 372, 260, 266, 375, 262, 349, 317, 395, 362, 269, 362, 316, 356, 306, 266, 369, 309, 363, 361, 380, 372, 262, 352, 395, 260, 347, 369, 395, 362, 351, 375, 375, 348, 395, 267, 283, 369, 378, 352, 395, 362, 353, 371, 377, 387, 229, 131, 151, 380, 365, 372, 372, 362, 109, 373, 285, 313, 269, 386, 362, 284, 362, 88, 87, 73, 379, 59, 267, 364, 366, 273, 369, 377, 362, 68, 383, 70, 76, 76, 362, 350, 364, 352, 312, 361, 394, 266, 362, 360, 371, 373, 366, 362, 262, 369, 365, 265, 294, 362, 259, 351, 370, 273, 362, 368, 385, 312, 284, 379, 68, 383, 70, 76, 76, 362, 351, 265, 362, 376, 368, 262, 364, 369, 395, 267, 368, 267, 361, 367, 366, 371, 378, 273, 362, 350, 364, 361, 379, 380, 281, 361, 311, 269, 264, 312, 373, 372, 372, 260, 266, 375, 262, 349, 269, 362, 269, 264, 362, 316, 356, 306, 266, 313, 365, 372, 372, 362, 301, 294, 362, 366, 355, 378, 364, 274, 273, 377, 13, 13, 87, 378, 367, 363, 386, 369, 292, 274, 281, 362, 371, 284, 394, 259, 365, 275, 395, 362, 306, 229, 131, 156, 369, 362, 366, 361, 283, 364, 365, 394, 361, 307, 267, 356, 376, 372, 361, 292, 362, 289, 288, 362, 372, 361, 374, 367, 371, 381, 362, 68, 383, 70, 76, 76, 291, 368, 374, 263, 375, 369, 332, 362, 68, 382, 76, 369, 292, 362, 378, 367, 363, 370, 372, 361, 362, 88, 87, 73, 379, 59, 267, 364, 366, 273, 369, 377, 362, 88, 87, 73, 379, 59, 326, 362, 394, 266, 381, 313, 365, 265, 307, 272, 369, 278, 362, 262, 294, 362, 88, 363, 365, 388, 396, 79, 262, 373, 388, 332, 362, 90, 361, 384, 313, 269, 372, 370, 369, 395, 332, 327, 363, 381, 291, 368, 374, 263, 375, 375, 266, 369, 264, 366, 303, 361, 362, 88, 87, 73, 379, 59, 267, 378, 368, 373, 372, 370, 362, 384, 361, 294, 325, 385, 367, 373, 372, 364, 362, 259, 351, 370, 273, 362, 361, 394, 266, 381, 380, 378, 266, 361, 377, 13, 13, 75, 368, 380, 361, 394, 266, 395, 362, 88, 87, 73, 379, 59, 326, 363, 229, 131, 156, 364, 264, 362, 370, 366, 368, 376, 379, 262, 362, 366, 361, 376, 283, 261, 375, 268, 311, 269, 362, 68, 383, 70, 76, 76, 267, 364, 366, 273, 369, 362, 262, 324, 372, 362, 366, 352, 376, 302, 364, 369, 377, 362, 73, 269, 362, 262, 285, 367, 363, 261, 395, 362, 351, 265, 274, 349, 362, 306, 361, 263, 364, 352, 362, 368, 394, 266, 294, 362, 229, 131, 159, 371, 378, 367, 263, 371, 364, 266, 369, 229, 131, 160, 362, 262, 264, 267, 364, 366, 273, 313, 365, 372, 372, 312, 361, 278, 292, 325, 351, 265, 362, 88, 87, 73, 379, 59, 332, 362, 306, 361, 263, 364, 361, 362, 368, 394, 266, 362, 351, 265, 362, 376, 368, 262, 364, 369, 309, 269, 327, 381, 384, 361, 362, 374, 263, 376, 378, 279, 361, 362, 371, 372, 373, 285, 266, 369, 229, 131, 151, 375, 269, 361, 264, 384, 368, 373, 364, 274, 368, 369, 361, 362, 283, 364, 266, 387, 395, 312, 368, 364, 362, 350, 364, 352, 377, 362, 90, 378, 259, 362, 381, 368, 373, 271, 361, 348, 373, 366, 361, 294, 362, 229, 131, 159, 372, 259, 374, 364, 378, 229, 131, 160, 362, 368, 385, 264, 267, 364, 366, 273, 395, 362, 381, 368, 373, 229, 131, 156, 372, 372, 312, 361, 278, 292, 274, 262, 386, 264, 384, 368, 373, 364, 313, 378, 353, 378, 266, 362, 381, 368, 373, 313, 367, 363, 364, 294, 362, 372, 259, 374, 364, 378, 362, 262, 362, 350, 364, 352, 395, 294, 362, 372, 259, 374, 364, 378, 362, 262, 362, 351, 265, 362, 376, 368, 262, 364, 369, 395, 294, 313, 365, 370, 364, 378, 362, 368, 385, 294, 337, 313, 378, 259, 362, 366, 259, 265, 366, 278, 395, 362, 269, 267, 368, 375, 353, 378, 273, 362, 361, 372, 369, 361, 377, 13, 13, 88, 87, 73, 379, 52, 57, 13, 87, 378, 361, 362, 368, 364, 378, 266, 362, 259, 351, 370, 273, 274, 349, 362, 381, 368, 373, 229, 131, 156, 366, 361, 362, 372, 365, 357, 307, 292, 362, 259, 351, 373, 363, 364, 266, 326, 362, 88, 87, 73, 379, 52, 57, 377, 362, 76, 364, 272, 369, 352, 362, 52, 57, 379, 384, 306, 313, 269, 370, 369, 395, 313, 306, 378, 362, 361, 367, 371, 378, 362, 351, 265, 362, 376, 368, 262, 364, 267, 364, 269, 278, 264, 369, 362, 361, 306, 378, 266, 362, 52, 362, 269, 362, 53, 313, 269, 370, 369, 377, 13, 13, 79, 365, 357, 362, 88, 87, 73, 379, 59, 395, 313, 361, 362, 371, 367, 363, 362, 280, 270, 352, 369, 294, 362, 88, 87, 73, 379, 52, 57, 362, 259, 351, 370, 273, 362, 366, 373, 372, 352, 362, 262, 294, 311, 269, 375, 362, 368, 385, 362, 384, 262, 367, 366, 381, 334, 385, 365, 388, 352, 61, 13, 13, 88, 87, 73, 379, 52, 57, 309, 384, 262, 367, 366, 381, 387, 12, 70, 368, 265, 362, 376, 368, 262, 364, 309, 384, 262, 367, 366, 381, 387, 12, 85, 367, 363, 374, 361, 13, 388, 388, 388, 388, 388, 388, 388, 388, 388, 388, 388, 388, 388, 388, 388, 388, 12, 388, 388, 388, 388, 388, 388, 388, 388, 388, 388, 388, 388, 388, 388, 388, 388, 12, 88, 46, 51, 51, 51, 51, 229, 131, 150, 88, 46, 73, 73, 73, 73, 13, 52, 52, 51, 52, 52, 51, 388, 388, 388, 388, 388, 388, 388, 388, 388, 388, 362, 52, 52, 51, 52, 52, 52, 381, 381, 381, 381, 381, 381, 381, 381, 381, 381, 12, 388, 388, 388, 388, 388, 388, 388, 388, 388, 388, 381, 381, 381, 381, 381, 381, 381, 381, 381, 381, 362, 46, 362, 51, 388, 52, 51, 51, 51, 51, 12, 88, 46, 52, 51, 51, 51, 51, 229, 131, 150, 88, 46, 52, 51, 73, 73, 73, 73, 13, 68, 271, 269, 361, 362, 351, 375, 375, 284, 313, 367, 381, 274, 349, 362, 376, 361, 368, 376, 372, 361, 260, 367, 372, 386, 264, 384, 368, 373, 364, 362, 88, 87, 73, 379, 52, 57, 362, 259, 351, 370, 273, 395, 274, 368, 373, 374, 378, 395, 326, 362, 262, 260, 266, 375, 369, 362, 368, 385, 362, 351, 265, 362, 376, 368, 262, 364, 369, 362, 371, 367, 372, 372, 278, 362, 229, 131, 159, 369, 373, 366, 366, 368, 374, 349, 352, 229, 131, 160, 377, 362, 68, 372, 372, 294, 362, 351, 265, 362, 376, 368, 262, 364, 369, 362, 262, 294, 362, 263, 363, 374, 361, 362, 88, 46, 71, 59, 51, 51, 229, 131, 150, 88, 46, 71, 73, 73, 73, 229, 131, 151, 269, 362, 262, 362, 368, 364, 378, 266, 313, 269, 370, 369, 395, 294, 362, 351, 265, 362, 376, 368, 262, 364, 369, 274, 349, 327, 364, 371, 378, 294, 362, 384, 262, 367, 366, 381, 334, 385, 365, 388, 352, 362, 52, 52, 51, 52, 52, 51, 332, 362, 52, 52, 51, 52, 52, 52, 362, 262, 294, 260, 347, 372, 361, 264, 384, 368, 394, 361, 229, 131, 151, 367, 366, 361, 362, 366, 352, 266, 394, 278, 267, 376, 302, 354, 304, 367, 372, 307, 311, 269, 362, 88, 87, 73, 379, 52, 57, 362, 259, 351, 370, 273, 395, 332, 362, 370, 284, 229, 131, 156, 364, 362, 366, 361, 270, 352, 268, 290, 381, 362, 394, 367, 372, 365, 370, 362, 371, 378, 367, 263, 371, 364, 266, 369, 362, 284, 294, 305, 362, 368, 380, 363, 377, 362, 87, 378, 361, 381, 229, 131, 156, 366, 361, 362, 284, 307, 271, 361, 367, 363, 364, 292, 362, 360, 371, 373, 366, 362, 262, 294, 362, 53, 379, 321, 370, 362, 259, 351, 370, 273, 362, 376, 349, 364, 266, 363, 264, 384, 368, 394, 361, 395, 313, 378, 304, 378, 326, 362, 371, 367, 372, 372, 278, 264, 362, 229, 131, 159, 369, 373, 366, 366, 368, 374, 349, 361, 362, 376, 367, 305, 229, 131, 160, 377, 286, 373, 366, 366, 368, 374, 349, 361, 362, 351, 265, 362, 376, 368, 262, 364, 369, 264, 366, 361, 362, 365, 372, 372, 361, 374, 367, 372, 362, 262, 290, 381, 362, 368, 364, 378, 266, 362, 371, 284, 364, 289, 36, 362, 87, 378, 361, 381, 229, 131, 156, 366, 361, 312, 368, 364, 324, 358, 380, 278, 362, 262, 362, 88, 87, 73, 379, 59, 362, 269, 362, 88, 87, 73, 379, 54, 53, 264, 364, 324, 372, 377, 13, 13, 75, 281, 364, 269, 304, 367, 372, 307, 395, 362, 88, 87, 73, 379, 52, 57, 326, 264, 325, 369, 371, 288, 367, 363, 364, 362, 368, 385, 294, 362, 269, 355, 262, 367, 372, 395, 334, 379, 52, 60, 60, 57, 362, 394, 266, 369, 317, 369, 362, 368, 385, 362, 88, 363, 304, 368, 265, 395, 362, 262, 313, 378, 304, 378, 274, 266, 361, 313, 266, 361, 362, 284, 307, 362, 57, 56, 395, 56, 54, 57, 362, 351, 265, 362, 376, 368, 262, 364, 369, 377, 362, 87, 378, 361, 362, 269, 355, 262, 367, 372, 362, 262, 364, 268, 317, 313, 348, 274, 349, 274, 266, 361, 313, 368, 373, 372, 370, 362, 384, 361, 312, 368, 362, 370, 354, 385, 266, 268, 362, 229, 131, 159, 259, 351, 370, 273, 369, 229, 131, 160, 62, 362, 88, 363, 304, 368, 265, 313, 348, 267, 373, 376, 376, 368, 369, 278, 292, 362, 384, 361, 264, 267, 364, 263, 355, 378, 364, 385, 269, 380, 367, 366, 370, 362, 52, 57, 379, 384, 306, 362, 371, 378, 367, 263, 371, 364, 266, 267, 353, 377, 362, 79, 349, 266, 395, 294, 362, 351, 265, 369, 376, 367, 261, 313, 348, 362, 280, 376, 367, 363, 265, 370, 292, 327, 357, 362, 366, 368, 368, 375, 311, 269, 264, 362, 372, 284, 374, 260, 367, 365, 372, 362, 368, 385, 362, 372, 352, 369, 379, 351, 375, 375, 284, 309, 384, 373, 364, 267, 364, 365, 372, 372, 362, 356, 376, 269, 364, 367, 363, 364, 387, 362, 75, 367, 363, 362, 371, 378, 367, 263, 371, 364, 266, 369, 395, 313, 378, 304, 378, 294, 362, 88, 363, 304, 368, 265, 325, 369, 355, 363, 266, 369, 362, 370, 365, 370, 363, 229, 131, 156, 364, 362, 269, 355, 262, 367, 372, 307, 362, 376, 319, 311, 269, 377, 286, 373, 366, 366, 368, 374, 349, 352, 313, 266, 361, 274, 259, 362, 262, 364, 366, 368, 370, 373, 261, 370, 395, 264, 369, 229, 131, 151, 308, 362, 376, 373, 364, 362, 306, 362, 384, 372, 373, 363, 364, 307, 229, 131, 151, 367, 362, 386, 372, 373, 370, 374, 361, 395, 324, 358, 380, 273, 362, 52, 57, 379, 384, 306, 362, 259, 351, 370, 273, 369, 292, 264, 371, 261, 369, 369, 294, 312, 361, 380, 362, 351, 265, 362, 376, 368, 262, 364, 369, 377, 13, 13, 87, 368, 370, 367, 381, 395, 362, 77, 367, 394, 348, 371, 366, 365, 376, 364, 272, 369, 352, 362, 88, 87, 73, 379, 52, 57, 264, 369, 362, 306, 369, 267, 364, 367, 363, 370, 367, 366, 370, 267, 364, 366, 273, 362, 366, 361, 270, 352, 268, 349, 317, 61, 362, 354, 362, 381, 368, 373, 264, 369, 386, 311, 269, 294, 362, 372, 259, 374, 364, 378, 362, 368, 385, 264, 267, 364, 366, 273, 395, 362, 269, 362, 306, 361, 263, 364, 361, 362, 368, 394, 266, 362, 306, 395, 362, 353, 371, 344, 294, 362, 366, 352, 373, 372, 364, 313, 365, 372, 372, 362, 384, 361, 362, 262, 362, 88, 87, 73, 379, 52, 57, 313, 269, 370, 369, 395, 313, 306, 378, 290, 381, 362, 351, 265, 362, 376, 368, 262, 364, 369, 362, 368, 373, 364, 369, 365, 265, 294, 362, 397, 80, 382, 362, 280, 270, 352, 369, 278, 264, 369, 267, 373, 366, 366, 368, 374, 349, 361, 362, 376, 367, 305, 369, 377, 362, 88, 87, 73, 379, 52, 57, 326, 324, 369, 368, 272, 369, 278, 362, 350, 294, 362, 80, 304, 366, 368, 369, 368, 385, 364, 362, 90, 262, 54, 53, 362, 68, 382, 76, 369, 62, 274, 368, 373, 374, 378, 362, 90, 262, 54, 53, 267, 373, 376, 376, 269, 364, 369, 362, 361, 306, 378, 266, 362, 59, 379, 384, 306, 362, 269, 362, 52, 57, 379, 384, 306, 267, 364, 366, 273, 369, 395, 294, 362, 59, 379, 384, 306, 362, 394, 266, 369, 317, 293, 367, 371, 351, 373, 363, 364, 347, 307, 267, 364, 365, 372, 372, 362, 301, 352, 363, 229, 131, 156, 364, 267, 373, 376, 376, 269, 364, 362, 88, 87, 73, 379, 59, 229, 131, 151, 284, 307, 362, 372, 361, 374, 367, 371, 381, 362, 351, 265, 379, 376, 315, 362, 259, 351, 370, 273, 369, 395, 362, 372, 365, 357, 362, 68, 391, 383, 76, 377, 362, 87, 378, 281, 362, 372, 361, 367, 394, 352, 362, 88, 87, 73, 379, 52, 57, 264, 369, 294, 362, 284, 307, 313, 367, 381, 292, 362, 374, 353, 291, 368, 376, 266, 362, 88, 363, 304, 368, 265, 267, 373, 376, 376, 269, 364, 362, 262, 362, 90, 262, 301, 380, 369, 377, 309, 88, 376, 370, 349, 361, 61, 362, 262, 362, 90, 262, 52, 51, 362, 394, 266, 369, 317, 362, 52, 60, 51, 54, 395, 294, 381, 311, 262, 367, 372, 307, 264, 370, 265, 370, 362, 88, 87, 73, 379, 59, 267, 373, 376, 376, 269, 364, 292, 294, 362, 59, 379, 384, 306, 362, 68, 382, 76, 369, 36, 362, 243, 162, 155, 141, 387, 13, 13, 397, 381, 294, 313, 367, 381, 395, 362, 88, 87, 73, 379, 52, 57, 229, 131, 156, 369, 313, 269, 370, 369, 362, 371, 367, 363, 362, 384, 361, 267, 364, 269, 278, 362, 361, 306, 378, 266, 362, 372, 306, 364, 372, 361, 379, 288, 365, 367, 363, 362, 269, 362, 384, 355, 379, 288, 365, 367, 363, 377, 362, 88, 363, 304, 368, 265, 362, 378, 348, 312, 368, 362, 368, 376, 262, 317, 362, 284, 274, 349, 326, 369, 373, 361, 395, 274, 368, 373, 374, 378, 362, 306, 362, 301, 352, 362, 259, 351, 373, 263, 374, 361, 294, 362, 371, 284, 394, 268, 317, 362, 368, 385, 362, 376, 373, 364, 364, 273, 362, 88, 46, 73, 398, 73, 73, 362, 389, 266, 368, 313, 365, 370, 364, 378, 312, 368, 379, 384, 366, 361, 367, 386, 267, 376, 367, 261, 264, 364, 294, 292, 376, 362, 368, 385, 264, 362, 88, 87, 73, 379, 52, 57, 311, 365, 372, 361, 264, 369, 264, 362, 350, 364, 361, 379, 269, 265, 366, 327, 366, 386, 395, 292, 362, 370, 281, 367, 375, 384, 365, 303, 349, 361, 294, 362, 288, 365, 367, 363, 363, 352, 369, 377, 309, 76, 385, 294, 311, 365, 372, 361, 362, 301, 352, 363, 229, 131, 156, 364, 327, 364, 371, 378, 294, 341, 229, 131, 156, 369, 362, 288, 365, 367, 363, 363, 352, 369, 395, 294, 362, 397, 82, 80, 313, 365, 372, 372, 362, 384, 361, 325, 351, 265, 370, 264, 369, 362, 88, 46, 73, 73, 73, 398, 395, 313, 378, 304, 378, 326, 363, 229, 131, 156, 364, 264, 362, 394, 367, 372, 365, 370, 362, 351, 265, 362, 376, 368, 262, 364, 377, 387, 13, 13, 70, 368, 375, 384, 262, 273, 362, 80, 367, 366, 386, 369, 13, 76, 363, 294, 267, 364, 269, 381, 267, 368, 311, 367, 366, 395, 313, 361, 229, 131, 156, 394, 361, 362, 384, 361, 259, 311, 360, 373, 369, 273, 362, 284, 362, 351, 265, 362, 376, 368, 262, 364, 369, 377, 362, 397, 373, 364, 362, 262, 362, 88, 363, 304, 368, 265, 395, 264, 362, 229, 131, 159, 371, 378, 367, 263, 371, 364, 266, 229, 131, 160, 362, 371, 367, 363, 362, 384, 361, 271, 269, 361, 362, 351, 375, 376, 372, 304, 349, 278, 274, 367, 363, 362, 109, 373, 285, 290, 362, 262, 370, 365, 394, 365, 370, 373, 367, 372, 362, 351, 265, 362, 376, 368, 262, 364, 36, 13, 13, 88, 363, 304, 368, 265, 362, 262, 371, 372, 373, 265, 369, 264, 341, 311, 269, 362, 370, 381, 363, 367, 375, 304, 367, 372, 307, 362, 351, 375, 376, 368, 369, 273, 362, 371, 378, 367, 263, 371, 364, 266, 369, 395, 362, 350, 362, 351, 375, 384, 262, 273, 271, 373, 372, 364, 365, 376, 372, 361, 362, 351, 265, 362, 376, 368, 262, 364, 369, 292, 374, 353, 378, 266, 377, 362, 87, 378, 281, 326, 272, 369, 278, 362, 262, 362, 394, 367, 366, 365, 368, 373, 369, 313, 367, 381, 369, 292, 362, 374, 367, 262, 311, 372, 280, 365, 384, 365, 372, 306, 381, 313, 306, 378, 368, 373, 364, 362, 371, 367, 373, 369, 273, 264, 362, 378, 373, 374, 361, 362, 351, 375, 384, 262, 349, 269, 365, 367, 372, 362, 280, 376, 358, 369, 317, 362, 262, 294, 312, 373, 375, 384, 266, 362, 368, 385, 362, 351, 265, 362, 376, 368, 262, 364, 369, 377, 13, 13, 76, 363, 362, 398, 373, 366, 368, 376, 361, 367, 363, 342, 369, 395, 311, 269, 362, 280, 367, 375, 376, 372, 361, 395, 274, 281, 267, 378, 368, 380, 369, 272, 376, 362, 262, 294, 264, 376, 376, 372, 304, 349, 317, 362, 368, 385, 362, 370, 365, 367, 371, 366, 306, 304, 369, 292, 362, 372, 353, 364, 266, 369, 377, 362, 88, 363, 304, 368, 265, 267, 373, 376, 376, 269, 364, 369, 264, 313, 365, 265, 362, 263, 363, 374, 361, 362, 368, 385, 362, 370, 365, 367, 371, 366, 306, 304, 369, 395, 362, 262, 371, 372, 373, 370, 273, 264, 371, 373, 364, 361, 332, 362, 374, 263, 394, 361, 264, 371, 371, 268, 369, 395, 272, 375, 283, 373, 364, 369, 395, 362, 261, 370, 365, 372, 283, 369, 395, 332, 327, 363, 381, 271, 269, 361, 377, 362, 68, 372, 372, 294, 369, 361, 362, 370, 365, 367, 371, 366, 306, 304, 369, 362, 371, 367, 363, 362, 384, 361, 264, 376, 376, 372, 365, 278, 292, 290, 381, 362, 372, 353, 364, 266, 362, 368, 385, 290, 381, 324, 376, 378, 347, 353, 229, 131, 151, 367, 363, 370, 362, 262, 311, 367, 371, 364, 395, 271, 373, 372, 364, 365, 376, 372, 361, 362, 370, 365, 367, 371, 366, 306, 304, 369, 362, 371, 367, 363, 362, 384, 361, 272, 369, 278, 362, 284, 264, 267, 273, 372, 361, 362, 372, 353, 364, 266, 377, 13, 13, 76, 385, 362, 88, 363, 304, 368, 265, 260, 366, 365, 278, 292, 264, 369, 369, 355, 363, 264, 362, 370, 281, 364, 262, 371, 364, 362, 351, 265, 362, 376, 368, 262, 364, 292, 362, 361, 394, 266, 381, 362, 376, 368, 369, 369, 365, 384, 372, 361, 362, 351, 375, 384, 262, 349, 317, 362, 368, 385, 362, 372, 353, 364, 266, 332, 362, 370, 365, 367, 371, 366, 306, 304, 369, 395, 274, 273, 369, 313, 368, 373, 372, 370, 362, 263, 376, 365, 370, 307, 362, 374, 353, 362, 368, 373, 364, 362, 368, 385, 362, 378, 367, 363, 370, 377, 362, 76, 363, 285, 361, 367, 370, 395, 294, 362, 370, 381, 363, 367, 375, 304, 362, 351, 375, 376, 368, 369, 306, 317, 341, 362, 259, 347, 372, 352, 362, 381, 368, 373, 292, 362, 371, 284, 285, 366, 373, 371, 364, 294, 362, 371, 378, 367, 263, 371, 364, 266, 362, 381, 368, 373, 313, 367, 363, 364, 395, 362, 350, 267, 364, 367, 366, 364, 273, 313, 306, 378, 264, 362, 384, 348, 361, 362, 351, 265, 362, 376, 368, 262, 364, 309, 364, 378, 361, 362, 372, 353, 364, 266, 387, 332, 264, 376, 376, 288, 273, 264, 370, 370, 306, 317, 367, 372, 362, 351, 265, 362, 376, 368, 262, 364, 369, 395, 362, 371, 367, 372, 372, 278, 362, 229, 131, 159, 351, 375, 384, 262, 273, 327, 366, 386, 369, 229, 131, 160, 395, 292, 267, 376, 302, 354, 381, 294, 362, 370, 365, 367, 371, 366, 306, 304, 369, 377, 362, 90, 378, 259, 264, 337, 362, 366, 259, 265, 366, 266, 267, 361, 352, 264, 267, 361, 116, 373, 275, 362, 372, 365, 357, 274, 281, 362, 262, 264, 267, 364, 366, 273, 395, 362, 306, 264, 373, 308, 375, 349, 304, 367, 372, 307, 267, 364, 367, 371, 386, 369, 294, 362, 370, 365, 367, 371, 366, 306, 304, 369, 362, 368, 394, 266, 362, 269, 293, 265, 366, 294, 362, 384, 348, 361, 362, 372, 353, 364, 266, 292, 362, 371, 366, 361, 349, 361, 264, 362, 351, 375, 376, 368, 369, 278, 362, 371, 378, 367, 263, 371, 364, 266, 377, 13, 13, 73, 269, 362, 280, 367, 375, 376, 372, 361, 395, 294, 264, 371, 371, 268, 278, 362, 371, 378, 367, 263, 371, 364, 266, 362, 229, 131, 159, 198, 132, 229, 131, 160, 362, 371, 367, 363, 362, 384, 361, 362, 280, 270, 352, 369, 278, 264, 369, 264, 267, 364, 366, 273, 362, 368, 385, 260, 380, 368, 362, 351, 265, 362, 376, 368, 262, 364, 369, 61, 362, 88, 46, 51, 51, 55, 52, 362, 229, 131, 159, 68, 229, 131, 160, 362, 283, 364, 262, 362, 371, 367, 376, 306, 367, 372, 362, 372, 353, 364, 266, 264, 362, 376, 372, 373, 369, 362, 88, 46, 51, 54, 51, 52, 362, 229, 131, 159, 229, 154, 143, 207, 132, 229, 131, 160, 362, 351, 375, 384, 262, 273, 264, 371, 373, 364, 361, 264, 371, 371, 268, 377, 362, 87, 378, 281, 267, 364, 366, 273, 264, 373, 308, 375, 349, 304, 367, 372, 307, 362, 374, 353, 369, 362, 366, 259, 265, 366, 278, 264, 369, 264, 267, 273, 372, 361, 362, 371, 378, 367, 263, 371, 364, 266, 61, 362, 229, 131, 159, 68, 207, 132, 229, 131, 160, 377, 13, 13, 391, 368, 380, 395, 362, 88, 363, 304, 368, 265, 362, 301, 352, 324, 369, 368, 362, 262, 371, 372, 373, 265, 327, 363, 381, 362, 229, 131, 159, 270, 302, 368, 375, 376, 368, 369, 278, 229, 131, 160, 362, 351, 265, 362, 376, 368, 262, 364, 369, 395, 362, 361, 367, 371, 378, 362, 366, 361, 270, 352, 268, 273, 264, 362, 372, 353, 364, 266, 313, 306, 378, 267, 368, 375, 361, 362, 351, 375, 384, 262, 349, 317, 362, 368, 385, 362, 370, 365, 367, 371, 366, 306, 304, 369, 324, 366, 361, 367, 370, 381, 264, 376, 376, 372, 365, 278, 395, 267, 373, 371, 378, 264, 369, 362, 88, 46, 51, 51, 70, 52, 362, 229, 131, 159, 198, 132, 229, 131, 160, 362, 283, 364, 262, 362, 371, 367, 376, 306, 367, 372, 362, 372, 353, 364, 266, 264, 313, 306, 378, 264, 371, 373, 364, 361, 362, 269, 362, 88, 46, 52, 398, 70, 58, 362, 229, 131, 159, 228, 190, 138, 229, 131, 160, 362, 283, 364, 262, 267, 375, 367, 372, 372, 362, 372, 353, 364, 266, 362, 361, 313, 306, 378, 362, 371, 305, 371, 373, 375, 385, 372, 280, 332, 362, 301, 364, 362, 384, 361, 358, 380, 377, 362, 76, 267, 373, 369, 376, 302, 364, 294, 369, 361, 264, 366, 361, 328, 285, 307, 362, 262, 378, 266, 306, 278, 311, 366, 368, 375, 362, 368, 372, 265, 366, 362, 259, 351, 370, 273, 369, 274, 349, 313, 266, 361, 264, 369, 369, 356, 365, 283, 364, 278, 362, 262, 308, 362, 88, 363, 304, 368, 265, 395, 332, 362, 357, 376, 364, 264, 366, 368, 373, 363, 370, 311, 269, 362, 351, 375, 376, 349, 365, 384, 365, 372, 306, 381, 377, 362, 76, 363, 362, 376, 263, 371, 364, 365, 261, 395, 274, 266, 361, 264, 366, 361, 291, 302, 368, 375, 376, 368, 369, 278, 362, 351, 265, 362, 376, 368, 262, 364, 369, 311, 269, 328, 285, 362, 368, 385, 294, 362, 351, 375, 375, 284, 362, 372, 353, 364, 266, 379, 380, 306, 378, 379, 370, 365, 367, 371, 366, 306, 304, 362, 351, 375, 384, 262, 349, 317, 369, 362, 262, 362, 398, 373, 366, 368, 376, 361, 367, 363, 379, 369, 371, 366, 365, 376, 364, 342, 369, 395, 267, 368, 294, 381, 362, 370, 284, 229, 131, 156, 364, 272, 369, 361, 362, 370, 381, 363, 367, 375, 304, 362, 351, 375, 376, 368, 369, 306, 317, 274, 349, 271, 373, 371, 378, 362, 262, 260, 381, 376, 304, 367, 372, 337, 377, 13, 13, 383, 364, 365, 372, 372, 395, 294, 341, 362, 368, 385, 362, 351, 375, 384, 262, 273, 327, 366, 386, 369, 362, 301, 352, 324, 358, 380, 311, 269, 290, 264, 366, 384, 306, 263, 366, 381, 312, 373, 375, 384, 266, 362, 368, 385, 362, 370, 365, 367, 371, 366, 306, 304, 369, 292, 362, 384, 361, 267, 364, 367, 371, 386, 278, 362, 284, 290, 381, 362, 384, 348, 361, 362, 371, 378, 367, 263, 371, 364, 266, 377, 362, 87, 378, 361, 362, 366, 278, 373, 371, 364, 365, 368, 379, 367, 370, 379, 347, 369, 373, 366, 370, 373, 375, 362, 368, 385, 274, 281, 326, 362, 93, 367, 372, 374, 368, 337, 395, 313, 378, 304, 378, 313, 269, 386, 369, 362, 350, 362, 208, 162, 208, 136, 208, 153, 366, 208, 161, 367, 363, 207, 176, 207, 174, 207, 163, 207, 153, 208, 139, 207, 154, 370, 208, 153, 207, 190, 207, 188, 368, 208, 132, 375, 207, 173, 208, 156, 208, 152, 207, 154, 207, 160, 372, 207, 170, 208, 138, 207, 179, 208, 150, 207, 182, 207, 174, 381, 208, 132, 208, 150, 207, 168, 207, 162, 208, 144, 362, 207, 152, 369, 207, 174, 364, 208, 159, 207, 174, 207, 180, 208, 152, 207, 154, 207, 179, 207, 191, 207, 155, 367, 208, 160, 207, 191, 207, 172, 208, 153, 208, 138, 207, 163, 208, 139, 207, 166, 371, 207, 156, 208, 144, 386, 208, 155, 207, 153, 207, 180, 207, 188, 208, 144, 365, 207, 165, 363, 207, 171, 207, 189, 207, 160, 208, 138, 208, 138, 207, 162, 208, 156, 374, 207, 170, 207, 174, 207, 177, 208, 145, 208, 136, 207, 190, 207, 162, 362, 207, 152, 363, 208, 161, 207, 191, 207, 189, 208, 139, 373, 207, 177, 208, 156, 375, 208, 161, 207, 189, 207, 176, 207, 162, 207, 154, 361, 207, 161, 208, 150, 207, 179, 207, 167, 208, 150, 207, 174, 366, 207, 184, 368, 207, 153, 373, 207, 176, 369, 213, 140, 207, 173, 208, 144, 207, 176, 207, 175, 207, 160, 207, 167, 362, 208, 163, 207, 177, 208, 140, 207, 160, 207, 161, 207, 154, 207, 162, 370, 207, 183, 207, 162, 207, 159, 207, 180, 208, 152, 208, 157, 365, 208, 164, 208, 138, 207, 174, 207, 191, 207, 178, 207, 176, 207, 159, 367, 207, 168, 208, 156, 207, 190, 207, 191, 371, 207, 181, 207, 181, 207, 188, 366, 207, 171, 207, 163, 207, 188, 207, 166, 207, 179, 207, 169, 365, 207, 180, 364, 207, 152, 207, 167, 207, 190, 207, 167, 208, 144, 208, 156, 207, 155, 365, 207, 184, 207, 159, 207, 176, 207, 167, 207, 180, 208, 145, 371, 207, 184, 369, 362, 208, 155, 368, 208, 165, 207, 180, 207, 181, 208, 139, 207, 156, 208, 153, 208, 138, 207, 181, 363, 208, 155, 362, 207, 159, 208, 139, 361, 207, 175, 207, 181, 207, 163, 207, 172, 367, 371, 208, 152, 207, 189, 207, 163, 208, 140, 378, 207, 186, 207, 173, 362, 207, 189, 207, 166, 208, 153, 207, 180, 372, 207, 180, 207, 174, 207, 175, 207, 160, 207, 188, 361, 207, 176, 207, 156, 207, 189, 208, 156, 207, 176, 208, 150, 207, 181, 364, 207, 161, 207, 161, 208, 138, 207, 181, 208, 140, 208, 144, 364, 207, 186, 208, 151, 207, 173, 208, 140, 207, 181, 207, 190, 207, 163, 208, 156, 361, 207, 169, 207, 190, 208, 139, 208, 140, 208, 138, 366, 208, 138, 207, 176, 207, 176, 207, 175, 208, 153, 395, 208, 132, 207, 153, 362, 207, 159, 208, 156, 208, 150, 207, 166, 207, 176, 369, 207, 155, 207, 155, 208, 139, 368, 207, 180, 207, 179, 208, 136, 207, 167, 207, 181, 362, 207, 158, 207, 175, 207, 159, 207, 156, 364, 207, 191, 207, 169, 208, 152, 207, 180, 207, 188, 208, 152, 207, 168, 378, 208, 160, 207, 182, 207, 181, 208, 139, 208, 136, 367, 207, 169, 364, 207, 190, 207, 181, 362, 207, 190, 207, 162, 207, 176, 207, 169, 207, 153, 364, 207, 158, 207, 179, 207, 172, 378, 207, 163, 208, 152, 207, 182, 207, 160, 207, 174, 208, 152, 361, 208, 155, 208, 139, 207, 167, 207, 155, 208, 153, 207, 161, 381, 213, 140, 207, 160, 208, 156, 362, 207, 186, 208, 140, 208, 151, 207, 179, 207, 163, 368, 207, 161, 207, 179, 394, 208, 159, 208, 139, 208, 139, 207, 182, 207, 155, 266, 207, 185, 385, 207, 179, 208, 139, 208, 151, 372, 207, 180, 208, 152, 207, 155, 207, 174, 207, 189, 207, 181, 368, 208, 163, 207, 181, 208, 136, 207, 176, 208, 156, 380, 207, 180, 207, 182, 207, 189, 362, 208, 159, 364, 207, 187, 378, 208, 138, 207, 176, 208, 152, 207, 182, 208, 144, 361, 207, 153, 207, 178, 207, 162, 207, 163, 362, 208, 159, 208, 144, 207, 161, 207, 159, 208, 151, 207, 172, 207, 173, 372, 207, 170, 208, 145, 207, 173, 207, 181, 208, 157, 365, 207, 160, 207, 181, 207, 188, 207, 156, 207, 172, 207, 188, 363, 207, 171, 207, 169, 207, 172, 207, 153, 361, 208, 165, 207, 176, 207, 191, 208, 136, 207, 181, 207, 191, 362, 208, 160, 207, 175, 369, 208, 160, 207, 191, 208, 157, 207, 155, 207, 161, 376, 208, 156, 207, 155, 207, 190, 367, 207, 156, 371, 213, 140, 208, 140, 207, 159, 207, 167, 208, 139, 207, 178, 207, 153, 365, 208, 164, 207, 168, 363, 208, 162, 207, 169, 207, 163, 207, 180, 374, 207, 187, 208, 136, 207, 154, 207, 190, 207, 169, 207, 176, 207, 177, 207, 162, 362, 207, 152, 207, 182, 207, 173, 207, 163, 208, 153, 207, 182, 207, 178, 367, 208, 159, 207, 174, 363, 208, 160, 370, 208, 164, 362, 207, 166, 207, 169, 208, 136, 207, 156, 371, 207, 173, 207, 154, 366, 207, 183, 208, 156, 207, 177, 207, 169, 207, 188, 207, 182, 361, 208, 162, 208, 138, 208, 157, 207, 161, 208, 151, 207, 188, 207, 174, 367, 207, 156, 207, 189, 207, 156, 364, 207, 169, 208, 151, 208, 145, 208, 136, 207, 155, 207, 188, 361, 207, 168, 207, 172, 208, 144, 264, 208, 153, 207, 173, 207, 159, 207, 177, 208, 156, 207, 188, 363, 207, 165, 208, 140, 207, 160, 362, 208, 132, 208, 138, 208, 140, 208, 150, 207, 169, 207, 191, 367, 207, 182, 208, 153, 207, 173, 207, 167, 207, 180, 376, 208, 163, 207, 153, 208, 151, 208, 151, 207, 162, 208, 138, 208, 145, 376, 207, 180, 208, 144, 207, 189, 361, 207, 171, 207, 181, 208, 145, 208, 139, 207, 179, 207, 181, 207, 167, 207, 174, 367, 208, 159, 207, 178, 366, 207, 171, 207, 177, 207, 174, 207, 166, 207, 155, 367, 207, 172, 207, 178, 208, 153, 363, 207, 188, 207, 169, 207, 179, 208, 145, 207, 166, 207, 161, 207, 161, 371, 207, 171, 207, 169, 207, 180, 208, 151, 208, 145, 208, 144, 208, 153, 361, 208, 155, 207, 175, 208, 150, 362, 207, 167, 207, 179, 207, 172, 208, 156, 207, 167, 207, 175, 208, 156, 368, 207, 184, 207, 191, 207, 190, 207, 175, 207, 190, 208, 138, 207, 177, 207, 173, 385, 207, 183, 362, 207, 164, 207, 156, 207, 176, 208, 150, 208, 153, 207, 173, 207, 167, 229, 131, 159, 207, 187, 208, 156, 207, 163, 207, 191, 371, 208, 159, 207, 182, 207, 154, 368, 208, 146, 207, 191, 208, 156, 208, 151, 207, 177, 366, 207, 161, 207, 174, 207, 189, 207, 161, 207, 168, 207, 175, 366, 373, 207, 189, 207, 190, 207, 178, 208, 140, 207, 176, 207, 190, 207, 178, 376, 208, 165, 207, 179, 207, 168, 208, 150, 207, 166, 207, 174, 207, 156, 207, 167, 364, 208, 136, 207, 182, 208, 144, 207, 182, 207, 153, 365, 207, 185, 208, 139, 207, 160, 208, 156, 207, 191, 207, 156, 207, 188, 368, 207, 164, 208, 151, 363, 208, 160, 208, 136, 207, 156, 207, 189, 207, 188, 207, 153, 207, 172, 229, 131, 160, 207, 171, 207, 154, 208, 153, 208, 157, 207, 172, 377, 207, 178, 208, 150, 13, 13, 68, 311, 361, 380, 362, 368, 364, 378, 266, 362, 376, 283, 261, 369, 313, 378, 266, 361, 362, 370, 381, 363, 367, 375, 304, 362, 371, 378, 367, 263, 371, 364, 266, 362, 351, 375, 376, 368, 369, 306, 317, 267, 378, 368, 380, 369, 272, 376, 362, 262, 362, 88, 363, 304, 368, 265, 61, 13, 13, 89, 368, 380, 361, 372, 379, 376, 368, 262, 364, 273, 312, 368, 364, 349, 317, 362, 262, 362, 68, 263, 384, 304, 332, 362, 75, 361, 384, 366, 361, 380, 377, 362, 76, 363, 294, 369, 361, 342, 369, 395, 313, 269, 370, 369, 264, 366, 361, 312, 269, 375, 367, 372, 307, 267, 376, 361, 372, 372, 278, 313, 306, 378, 267, 368, 375, 361, 362, 368, 385, 294, 305, 362, 394, 368, 380, 361, 372, 369, 362, 372, 361, 385, 364, 362, 368, 373, 364, 377, 362, 87, 378, 361, 381, 274, 259, 362, 378, 367, 394, 361, 362, 370, 365, 367, 371, 366, 306, 304, 312, 368, 364, 349, 317, 292, 362, 262, 370, 304, 349, 361, 294, 362, 394, 368, 380, 361, 372, 369, 309, 373, 369, 278, 362, 262, 362, 370, 304, 364, 317, 367, 366, 365, 352, 395, 342, 379, 364, 361, 367, 371, 378, 273, 327, 364, 266, 365, 367, 372, 369, 395, 362, 371, 378, 365, 372, 370, 366, 259, 229, 131, 156, 369, 362, 384, 368, 368, 386, 369, 395, 332, 267, 373, 371, 378, 387, 377, 362, 87, 378, 352, 361, 362, 370, 365, 367, 371, 366, 306, 304, 369, 264, 366, 361, 362, 280, 270, 352, 369, 278, 313, 306, 378, 362, 351, 375, 384, 262, 273, 327, 366, 386, 369, 377, 13, 13, 68, 362, 75, 361, 384, 366, 361, 380, 362, 280, 367, 375, 376, 372, 361, 395, 313, 306, 378, 312, 365, 116, 116, 373, 370, 61, 12, 218, 147, 217, 185, 218, 173, 362, 218, 150, 217, 186, 218, 159, 217, 179, 218, 173, 217, 183, 217, 191, 218, 156, 362, 218, 151, 217, 184, 218, 153, 217, 183, 218, 156, 218, 153, 362, 218, 151, 217, 184, 218, 163, 217, 183, 218, 156, 218, 165, 217, 186, 395, 362, 218, 170, 217, 185, 218, 155, 217, 185, 218, 148, 362, 218, 159, 217, 183, 218, 172, 217, 179, 218, 132, 218, 158, 217, 186, 217, 191, 218, 173, 217, 183, 217, 191, 218, 156, 362, 218, 156, 217, 187, 218, 172, 218, 132, 218, 152, 217, 188, 218, 150, 13, 391, 269, 375, 367, 372, 313, 366, 306, 273, 309, 363, 368, 312, 365, 116, 116, 373, 370, 387, 61, 12, 218, 147, 218, 173, 362, 218, 150, 218, 159, 218, 173, 218, 156, 362, 218, 151, 218, 153, 218, 156, 218, 153, 362, 218, 151, 218, 163, 218, 156, 218, 165, 395, 362, 218, 170, 218, 155, 218, 148, 362, 218, 159, 218, 172, 218, 158, 218, 173, 218, 156, 362, 218, 156, 218, 172, 218, 152, 218, 150, 13, 71, 361, 394, 367, 363, 300, 367, 366, 365, 395, 294, 267, 371, 366, 365, 376, 364, 272, 369, 278, 292, 313, 366, 306, 361, 362, 75, 262, 370, 365, 395, 286, 367, 363, 369, 386, 366, 306, 395, 332, 327, 363, 381, 362, 368, 364, 378, 266, 286, 368, 373, 364, 378, 362, 68, 369, 365, 367, 363, 342, 369, 395, 362, 280, 270, 352, 369, 352, 362, 261, 366, 364, 367, 262, 362, 394, 368, 380, 361, 372, 369, 264, 369, 362, 351, 375, 384, 262, 273, 327, 366, 386, 369, 264, 364, 364, 367, 371, 378, 278, 292, 362, 371, 284, 369, 284, 367, 363, 364, 362, 372, 353, 364, 266, 369, 377, 362, 73, 269, 362, 280, 367, 375, 376, 372, 361, 395, 362, 229, 131, 159, 227, 167, 188, 229, 131, 160, 362, 46, 362, 229, 131, 159, 229, 131, 142, 227, 167, 194, 229, 131, 160, 362, 64, 362, 229, 131, 159, 227, 167, 188, 227, 167, 194, 229, 131, 160, 309, 229, 131, 159, 378, 229, 131, 160, 362, 46, 362, 229, 131, 159, 365, 229, 131, 160, 362, 64, 362, 229, 131, 159, 378, 365, 229, 131, 160, 387, 377, 13, 13, 399, 269, 361, 367, 363, 362, 371, 378, 367, 263, 371, 364, 266, 369, 267, 364, 367, 363, 370, 311, 269, 267, 381, 372, 283, 384, 372, 352, 395, 362, 384, 373, 364, 294, 381, 264, 366, 361, 362, 351, 375, 376, 368, 369, 278, 362, 368, 385, 362, 372, 353, 364, 266, 369, 362, 371, 367, 372, 372, 278, 362, 109, 367, 375, 368, 274, 349, 267, 364, 367, 363, 370, 311, 269, 294, 362, 394, 368, 380, 361, 372, 369, 332, 362, 371, 284, 369, 284, 367, 363, 364, 369, 362, 262, 294, 267, 381, 372, 283, 384, 372, 361, 377, 362, 90, 378, 365, 372, 361, 274, 266, 361, 264, 366, 361, 362, 351, 265, 362, 376, 368, 262, 364, 369, 311, 269, 291, 302, 368, 375, 376, 368, 369, 278, 362, 399, 269, 361, 367, 363, 267, 381, 372, 283, 384, 372, 352, 395, 362, 306, 229, 131, 156, 369, 324, 369, 368, 362, 376, 368, 369, 369, 365, 384, 372, 361, 292, 362, 370, 381, 363, 367, 375, 304, 367, 372, 307, 362, 351, 375, 376, 368, 369, 361, 274, 279, 362, 350, 362, 371, 284, 371, 349, 259, 349, 273, 294, 305, 362, 109, 367, 375, 368, 377, 362, 73, 269, 362, 280, 367, 375, 376, 372, 361, 395, 362, 229, 131, 159, 228, 135, 149, 229, 131, 160, 362, 46, 362, 229, 131, 159, 228, 136, 164, 229, 131, 160, 362, 46, 362, 229, 131, 159, 228, 137, 174, 229, 131, 160, 362, 64, 362, 229, 131, 159, 228, 135, 149, 228, 136, 164, 228, 137, 174, 229, 131, 160, 309, 229, 131, 159, 378, 229, 131, 160, 362, 46, 362, 229, 131, 159, 367, 229, 131, 160, 362, 46, 362, 229, 131, 159, 363, 229, 131, 160, 362, 64, 362, 229, 131, 159, 378, 367, 363, 229, 131, 160, 387, 377, 13, 13, 70, 367, 363, 284, 304, 367, 372, 362, 398, 116, 373, 365, 394, 367, 372, 275, 13, 76, 363, 362, 88, 363, 304, 368, 265, 395, 291, 302, 368, 375, 376, 368, 369, 278, 362, 371, 378, 367, 263, 371, 364, 266, 369, 362, 280, 281, 364, 324, 284, 374, 369, 365, 265, 294, 362, 370, 381, 363, 367, 375, 304, 362, 351, 375, 376, 368, 369, 306, 317, 341, 377, 362, 68, 362, 371, 284, 369, 361, 116, 373, 275, 362, 368, 385, 274, 281, 326, 274, 349, 274, 266, 361, 264, 366, 361, 271, 373, 372, 364, 365, 376, 372, 361, 313, 367, 381, 369, 292, 362, 280, 270, 352, 369, 362, 229, 131, 159, 364, 378, 361, 267, 367, 375, 361, 229, 131, 160, 267, 364, 366, 273, 229, 131, 151, 370, 354, 385, 266, 268, 267, 361, 116, 373, 275, 369, 362, 368, 385, 362, 351, 265, 362, 376, 368, 262, 364, 369, 274, 349, 362, 366, 352, 373, 372, 364, 362, 262, 294, 267, 367, 375, 361, 272, 369, 266, 379, 376, 266, 261, 365, 394, 278, 362, 371, 378, 367, 263, 371, 364, 266, 369, 377, 362, 73, 269, 362, 280, 367, 375, 376, 372, 361, 395, 264, 369, 313, 361, 267, 367, 380, 362, 361, 367, 366, 372, 365, 266, 395, 313, 361, 362, 371, 367, 363, 362, 280, 270, 352, 369, 294, 362, 371, 378, 367, 263, 371, 364, 266, 362, 229, 131, 159, 198, 132, 229, 131, 160, 362, 361, 306, 378, 266, 264, 369, 294, 267, 273, 372, 361, 362, 351, 265, 362, 376, 368, 262, 364, 362, 88, 46, 51, 51, 70, 52, 395, 362, 269, 264, 369, 294, 267, 364, 366, 273, 362, 368, 385, 260, 380, 368, 362, 351, 265, 362, 376, 368, 262, 364, 369, 362, 88, 46, 51, 51, 55, 52, 362, 88, 46, 51, 54, 51, 52, 377, 13, 13, 68, 363, 368, 364, 378, 266, 267, 368, 373, 366, 261, 362, 368, 385, 264, 375, 384, 365, 303, 306, 381, 326, 294, 362, 269, 265, 366, 273, 362, 368, 385, 271, 373, 372, 364, 365, 376, 372, 361, 362, 370, 365, 367, 371, 366, 306, 304, 369, 362, 262, 264, 267, 273, 372, 361, 362, 371, 378, 367, 263, 371, 364, 266, 377, 362, 71, 365, 367, 371, 366, 306, 304, 362, 269, 265, 366, 327, 364, 364, 266, 369, 362, 394, 281, 373, 367, 372, 307, 313, 378, 259, 260, 380, 368, 362, 370, 365, 367, 371, 366, 306, 304, 369, 264, 376, 376, 307, 292, 294, 267, 367, 375, 361, 267, 365, 265, 362, 368, 385, 294, 362, 384, 348, 361, 362, 371, 378, 367, 263, 371, 364, 266, 395, 362, 361, 377, 374, 377, 362, 384, 368, 364, 378, 264, 384, 368, 394, 361, 61, 362, 229, 131, 159, 202, 164, 229, 131, 160, 309, 301, 364, 395, 274, 259, 327, 371, 366, 284, 387, 326, 362, 370, 354, 385, 266, 268, 311, 366, 368, 375, 362, 229, 131, 159, 199, 132, 207, 138, 229, 131, 160, 309, 375, 367, 371, 366, 284, 395, 274, 259, 362, 301, 364, 387, 377, 362, 75, 368, 380, 361, 394, 266, 395, 313, 378, 259, 362, 370, 365, 367, 371, 366, 306, 304, 369, 264, 376, 376, 307, 292, 362, 370, 354, 385, 266, 268, 267, 365, 265, 369, 362, 368, 385, 294, 362, 371, 378, 367, 263, 371, 364, 266, 395, 362, 361, 377, 374, 377, 362, 284, 361, 264, 384, 368, 394, 361, 332, 362, 284, 361, 362, 384, 361, 358, 380, 395, 274, 259, 294, 362, 269, 265, 366, 362, 301, 352, 363, 229, 131, 156, 364, 264, 385, 385, 302, 364, 362, 366, 259, 265, 366, 273, 377, 362, 80, 269, 361, 368, 394, 266, 395, 264, 362, 371, 378, 367, 263, 371, 364, 266, 313, 306, 378, 271, 373, 372, 364, 365, 376, 372, 361, 362, 370, 365, 367, 371, 366, 306, 304, 369, 271, 355, 378, 364, 362, 378, 367, 394, 361, 362, 284, 361, 362, 368, 385, 294, 362, 370, 365, 367, 371, 366, 306, 304, 369, 291, 302, 368, 375, 376, 368, 369, 278, 332, 362, 368, 364, 378, 266, 369, 362, 280, 270, 352, 369, 278, 264, 369, 362, 351, 375, 384, 262, 273, 327, 366, 386, 369, 377, 13, 13, 73, 269, 362, 280, 367, 375, 376, 372, 361, 395, 294, 362, 89, 365, 353, 363, 367, 375, 352, 361, 362, 372, 353, 364, 266, 362, 229, 131, 159, 228, 190, 138, 229, 131, 160, 362, 371, 367, 363, 362, 384, 361, 362, 280, 270, 352, 369, 278, 362, 262, 311, 365, 394, 361, 362, 370, 354, 385, 266, 268, 313, 367, 381, 369, 61, 13, 13, 73, 373, 372, 307, 291, 302, 368, 375, 376, 368, 369, 278, 61, 362, 88, 46, 52, 398, 70, 58, 362, 229, 131, 159, 228, 190, 138, 229, 131, 160, 13, 382, 367, 366, 364, 365, 367, 372, 307, 291, 302, 368, 375, 376, 368, 369, 278, 61, 362, 88, 46, 52, 398, 397, 60, 362, 229, 131, 159, 228, 189, 188, 229, 131, 160, 362, 46, 362, 88, 46, 51, 54, 51, 53, 362, 229, 131, 159, 229, 154, 143, 207, 133, 229, 131, 160, 13, 382, 367, 366, 364, 365, 367, 372, 307, 291, 302, 368, 375, 376, 368, 369, 278, 61, 362, 88, 46, 51, 51, 398, 68, 362, 229, 131, 159, 198, 173, 229, 131, 160, 362, 46, 362, 88, 46, 51, 54, 53, 54, 362, 229, 131, 159, 229, 154, 143, 207, 166, 229, 131, 160, 13, 73, 373, 372, 307, 325, 351, 375, 376, 368, 369, 278, 61, 362, 88, 46, 51, 51, 57, 56, 362, 229, 131, 159, 361, 229, 131, 160, 362, 46, 362, 88, 46, 51, 54, 53, 54, 362, 229, 131, 159, 229, 154, 143, 207, 166, 229, 131, 160, 362, 46, 362, 88, 46, 51, 54, 51, 53, 362, 229, 131, 159, 229, 154, 143, 207, 133, 229, 131, 160, 13, 73, 373, 372, 307, 325, 351, 375, 376, 368, 369, 278, 61, 362, 88, 46, 51, 51, 57, 56, 362, 229, 131, 159, 361, 229, 131, 160, 362, 46, 362, 88, 46, 51, 54, 51, 53, 362, 229, 131, 159, 229, 154, 143, 207, 133, 229, 131, 160, 362, 46, 362, 88, 46, 51, 54, 53, 54, 362, 229, 131, 159, 229, 154, 143, 207, 166, 229, 131, 160, 13, 88, 363, 304, 368, 265, 362, 366, 361, 385, 266, 369, 292, 267, 353, 362, 368, 385, 267, 364, 366, 273, 369, 362, 372, 365, 357, 274, 281, 264, 369, 362, 229, 131, 159, 371, 367, 363, 284, 304, 367, 372, 307, 362, 361, 116, 373, 365, 394, 367, 372, 268, 229, 131, 160, 377, 362, 70, 367, 363, 284, 304, 367, 372, 307, 362, 361, 116, 373, 365, 394, 367, 372, 268, 267, 364, 366, 273, 369, 264, 366, 361, 267, 373, 376, 376, 368, 369, 278, 292, 362, 384, 361, 260, 366, 361, 349, 278, 264, 369, 362, 365, 370, 268, 304, 367, 372, 311, 269, 362, 376, 373, 366, 376, 368, 369, 352, 362, 368, 385, 267, 361, 367, 366, 371, 378, 273, 395, 267, 269, 364, 273, 395, 362, 366, 259, 265, 366, 273, 395, 337, 267, 361, 372, 302, 364, 317, 395, 332, 267, 368, 362, 284, 377, 362, 87, 378, 281, 362, 378, 348, 362, 356, 376, 372, 304, 349, 317, 369, 311, 269, 362, 378, 368, 380, 362, 381, 368, 373, 362, 356, 376, 372, 279, 268, 362, 368, 376, 361, 263, 364, 317, 369, 362, 284, 337, 377, 362, 73, 269, 362, 280, 367, 375, 376, 372, 361, 395, 362, 354, 290, 264, 376, 376, 362, 378, 348, 264, 362, 229, 131, 159, 385, 262, 370, 362, 262, 311, 365, 372, 361, 229, 131, 160, 362, 368, 376, 361, 263, 364, 317, 332, 294, 272, 369, 266, 267, 361, 367, 366, 371, 378, 352, 311, 269, 362, 229, 131, 159, 228, 190, 138, 229, 131, 160, 395, 362, 306, 267, 378, 368, 373, 372, 370, 395, 362, 350, 325, 385, 367, 373, 372, 364, 395, 311, 262, 370, 362, 360, 371, 373, 366, 366, 275, 369, 362, 368, 385, 290, 381, 362, 368, 385, 294, 311, 365, 394, 361, 362, 394, 266, 369, 317, 369, 362, 368, 385, 362, 229, 131, 159, 228, 190, 138, 229, 131, 160, 264, 384, 368, 394, 361, 36, 13, 13, 391, 269, 375, 367, 372, 282, 349, 317, 362, 73, 269, 375, 369, 13, 87, 368, 264, 370, 370, 366, 352, 369, 294, 291, 368, 384, 372, 279, 362, 368, 385, 362, 229, 131, 159, 378, 368, 380, 292, 362, 378, 367, 363, 370, 372, 361, 362, 371, 367, 363, 284, 304, 367, 372, 307, 362, 361, 116, 373, 365, 394, 367, 372, 268, 267, 364, 366, 273, 369, 229, 131, 160, 395, 362, 88, 363, 304, 368, 265, 325, 385, 262, 352, 267, 361, 394, 361, 320, 312, 269, 375, 367, 372, 282, 349, 317, 311, 269, 375, 369, 61, 313, 367, 381, 369, 362, 368, 385, 362, 371, 284, 394, 266, 364, 273, 267, 364, 366, 273, 369, 362, 262, 308, 264, 362, 371, 367, 363, 284, 304, 367, 372, 311, 269, 375, 267, 368, 274, 349, 294, 381, 362, 371, 367, 363, 362, 384, 361, 362, 351, 375, 376, 367, 366, 278, 362, 351, 265, 379, 376, 368, 262, 364, 379, 350, 379, 351, 265, 379, 376, 368, 262, 364, 309, 269, 362, 350, 364, 361, 379, 350, 379, 350, 364, 361, 387, 377, 13, 13, 87, 378, 361, 362, 229, 131, 159, 391, 73, 71, 229, 131, 160, 312, 269, 375, 367, 372, 282, 349, 317, 311, 269, 375, 311, 373, 372, 307, 325, 351, 375, 376, 368, 369, 352, 362, 361, 394, 266, 381, 362, 371, 378, 367, 263, 371, 364, 266, 362, 301, 380, 363, 292, 362, 306, 369, 362, 351, 375, 376, 284, 268, 362, 384, 348, 361, 332, 362, 351, 375, 384, 262, 273, 327, 366, 386, 369, 395, 260, 367, 386, 273, 264, 376, 367, 366, 364, 290, 381, 291, 302, 368, 375, 376, 368, 369, 278, 362, 351, 265, 362, 376, 368, 262, 364, 369, 362, 262, 294, 267, 364, 366, 273, 377, 362, 76, 364, 324, 369, 368, 267, 269, 364, 369, 294, 362, 351, 375, 384, 262, 273, 327, 366, 386, 369, 362, 262, 362, 361, 367, 371, 378, 362, 371, 378, 367, 263, 371, 364, 266, 264, 371, 371, 269, 370, 273, 292, 294, 305, 362, 366, 259, 265, 366, 278, 362, 376, 368, 369, 306, 317, 395, 267, 368, 362, 361, 377, 374, 377, 362, 370, 365, 367, 371, 366, 306, 304, 369, 274, 349, 362, 374, 368, 362, 384, 361, 358, 380, 294, 362, 371, 378, 367, 263, 371, 364, 266, 362, 351, 375, 361, 362, 384, 361, 385, 269, 361, 294, 362, 284, 352, 274, 349, 362, 374, 368, 264, 384, 368, 394, 361, 294, 362, 371, 378, 367, 263, 371, 364, 266, 377, 309, 76, 364, 362, 301, 352, 363, 229, 131, 156, 364, 362, 366, 361, 269, 265, 366, 362, 370, 365, 367, 371, 366, 306, 304, 369, 362, 262, 294, 267, 367, 375, 361, 362, 366, 259, 265, 366, 278, 362, 376, 368, 369, 306, 317, 395, 267, 262, 261, 294, 305, 362, 269, 265, 366, 327, 364, 364, 266, 369, 362, 394, 281, 373, 367, 372, 307, 395, 264, 369, 334, 394, 365, 368, 373, 369, 307, 271, 268, 317, 278, 377, 387, 13, 13, 87, 378, 361, 362, 229, 131, 159, 391, 73, 70, 229, 131, 160, 311, 269, 375, 395, 362, 371, 284, 394, 266, 369, 361, 307, 395, 362, 376, 373, 364, 369, 274, 273, 369, 362, 384, 367, 371, 386, 292, 374, 353, 378, 266, 362, 262, 308, 291, 302, 368, 375, 376, 368, 369, 278, 362, 351, 265, 362, 376, 368, 262, 364, 369, 264, 369, 271, 373, 371, 378, 264, 369, 362, 376, 368, 369, 369, 365, 384, 372, 361, 377, 362, 76, 385, 290, 293, 373, 369, 373, 367, 372, 362, 351, 375, 384, 262, 349, 317, 362, 368, 385, 362, 370, 365, 367, 371, 366, 306, 304, 369, 326, 362, 371, 367, 372, 372, 278, 311, 269, 395, 274, 266, 361, 327, 381, 312, 368, 364, 362, 384, 361, 290, 381, 291, 302, 368, 375, 376, 368, 369, 278, 362, 351, 265, 362, 376, 368, 262, 364, 311, 269, 362, 306, 395, 362, 262, 313, 378, 304, 378, 362, 371, 348, 361, 362, 391, 73, 70, 267, 364, 365, 372, 372, 291, 302, 368, 375, 376, 368, 369, 352, 313, 378, 349, 362, 306, 362, 371, 367, 363, 332, 362, 372, 361, 367, 394, 352, 290, 381, 362, 366, 279, 367, 262, 273, 362, 351, 375, 384, 262, 273, 327, 366, 386, 369, 362, 262, 362, 376, 283, 261, 309, 300, 367, 262, 362, 269, 265, 366, 278, 362, 350, 362, 366, 259, 265, 366, 278, 362, 376, 368, 369, 306, 317, 395, 264, 369, 362, 262, 362, 391, 73, 71, 387, 377, 13, 13, 87, 378, 266, 361, 264, 366, 361, 324, 369, 368, 311, 269, 375, 369, 362, 371, 367, 372, 372, 278, 362, 391, 73, 399, 71, 332, 362, 391, 73, 399, 70, 377, 362, 87, 378, 361, 362, 229, 131, 159, 399, 229, 131, 160, 362, 378, 266, 361, 362, 366, 361, 385, 266, 369, 292, 362, 351, 375, 376, 349, 365, 384, 365, 372, 306, 381, 325, 351, 375, 376, 368, 369, 306, 317, 369, 395, 313, 378, 304, 378, 362, 351, 394, 266, 362, 371, 378, 367, 263, 371, 364, 266, 369, 274, 349, 264, 366, 361, 362, 229, 131, 159, 369, 356, 365, 283, 366, 229, 131, 160, 362, 262, 267, 368, 375, 361, 267, 259, 369, 361, 362, 384, 373, 364, 312, 368, 364, 362, 394, 281, 373, 367, 372, 307, 362, 365, 370, 268, 304, 367, 372, 377, 362, 75, 368, 380, 361, 394, 266, 395, 362, 76, 229, 131, 156, 375, 312, 368, 364, 362, 374, 368, 273, 292, 362, 351, 394, 266, 274, 349, 362, 378, 266, 361, 377, 13, 13, 74, 263, 376, 378, 279, 361, 362, 70, 372, 373, 285, 266, 369, 13, 68, 369, 313, 361, 229, 131, 156, 394, 361, 267, 361, 259, 395, 362, 88, 363, 304, 368, 265, 362, 371, 284, 364, 367, 262, 369, 362, 394, 367, 366, 365, 368, 373, 369, 362, 371, 348, 352, 313, 378, 266, 361, 264, 274, 273, 274, 349, 264, 272, 369, 266, 274, 262, 386, 369, 362, 368, 385, 264, 369, 264, 267, 273, 372, 361, 362, 229, 131, 159, 371, 378, 367, 263, 371, 364, 266, 229, 131, 160, 271, 355, 378, 364, 264, 371, 364, 373, 367, 372, 307, 362, 384, 361, 327, 265, 272, 376, 362, 368, 385, 271, 373, 372, 364, 365, 376, 372, 361, 362, 351, 265, 362, 376, 368, 262, 364, 369, 293, 265, 366, 294, 362, 378, 368, 368, 370, 377, 362, 88, 363, 304, 368, 265, 311, 269, 375, 367, 372, 282, 352, 274, 281, 272, 369, 273, 294, 312, 368, 364, 317, 362, 368, 385, 264, 362, 374, 263, 376, 378, 279, 361, 362, 371, 372, 373, 285, 266, 61, 264, 267, 364, 366, 273, 362, 368, 385, 362, 284, 361, 362, 269, 271, 269, 361, 362, 351, 265, 362, 376, 368, 262, 364, 369, 274, 349, 362, 371, 284, 285, 306, 373, 364, 361, 264, 267, 273, 372, 361, 362, 229, 131, 159, 373, 369, 266, 379, 376, 266, 261, 365, 394, 278, 362, 371, 378, 367, 263, 371, 364, 266, 229, 131, 160, 377, 13, 13, 88, 68, 91, 362, 38, 53, 60, 325, 385, 262, 352, 294, 362, 366, 373, 372, 352, 311, 269, 313, 378, 349, 395, 291, 302, 281, 361, 307, 395, 362, 116, 373, 367, 372, 354, 365, 352, 264, 369, 264, 362, 374, 263, 376, 378, 279, 361, 362, 371, 372, 373, 285, 266, 377, 362, 76, 364, 229, 131, 156, 369, 264, 376, 270, 368, 388, 356, 349, 361, 307, 362, 229, 131, 159, 367, 362, 384, 348, 361, 362, 351, 265, 362, 376, 368, 262, 364, 311, 368, 372, 358, 380, 278, 362, 350, 290, 381, 312, 373, 375, 384, 266, 362, 368, 385, 362, 351, 375, 384, 262, 273, 327, 366, 386, 369, 229, 131, 160, 395, 362, 384, 373, 364, 294, 264, 371, 364, 373, 367, 372, 325, 385, 262, 306, 317, 326, 264, 362, 384, 306, 271, 269, 361, 362, 351, 375, 376, 372, 304, 349, 278, 62, 362, 306, 264, 371, 351, 373, 363, 364, 369, 311, 269, 274, 273, 369, 362, 372, 365, 357, 362, 399, 269, 361, 367, 363, 362, 109, 367, 375, 368, 395, 332, 362, 279, 368, 109, 365, 362, 93, 90, 77, 267, 361, 116, 373, 275, 369, 377, 13, 13, 87, 378, 361, 327, 262, 274, 273, 362, 374, 263, 376, 378, 279, 361, 362, 371, 372, 373, 285, 266, 369, 264, 366, 361, 272, 369, 278, 311, 269, 326, 337, 362, 278, 306, 273, 61, 294, 381, 229, 131, 156, 366, 361, 362, 368, 385, 364, 259, 294, 328, 285, 267, 259, 369, 365, 384, 372, 361, 293, 306, 311, 269, 362, 371, 373, 366, 369, 269, 362, 376, 283, 261, 375, 268, 332, 337, 267, 361, 372, 302, 364, 317, 362, 384, 368, 373, 363, 370, 367, 366, 365, 352, 377, 362, 88, 369, 273, 362, 374, 263, 376, 378, 279, 361, 362, 371, 372, 373, 285, 266, 369, 311, 269, 294, 369, 361, 362, 376, 373, 366, 376, 368, 369, 352, 362, 259, 369, 373, 366, 352, 274, 349, 362, 381, 368, 373, 362, 371, 367, 363, 229, 131, 156, 364, 264, 371, 371, 365, 370, 268, 367, 372, 307, 362, 371, 378, 368, 376, 362, 368, 385, 385, 267, 368, 375, 361, 362, 370, 365, 367, 371, 366, 306, 304, 369, 313, 378, 259, 362, 381, 368, 373, 362, 351, 376, 381, 379, 367, 363, 370, 379, 376, 367, 285, 361, 337, 395, 274, 349, 362, 372, 361, 385, 364, 396, 366, 355, 378, 364, 264, 366, 366, 368, 380, 362, 357, 381, 369, 324, 380, 367, 381, 369, 328, 394, 361, 294, 362, 371, 373, 366, 369, 269, 362, 350, 362, 284, 361, 362, 394, 281, 365, 384, 372, 361, 362, 371, 378, 367, 263, 371, 364, 266, 395, 332, 267, 368, 362, 284, 377, 13, 13, 68, 363, 368, 364, 378, 266, 362, 376, 283, 261, 313, 378, 266, 361, 362, 374, 263, 376, 378, 279, 361, 362, 371, 372, 373, 285, 266, 369, 264, 366, 361, 272, 369, 361, 385, 373, 372, 326, 362, 262, 362, 259, 385, 269, 371, 273, 264, 267, 364, 366, 273, 362, 372, 259, 374, 364, 378, 362, 372, 356, 306, 229, 131, 151, 369, 367, 381, 395, 362, 284, 264, 362, 370, 349, 347, 348, 361, 311, 365, 361, 372, 370, 377, 362, 90, 378, 365, 372, 361, 294, 260, 366, 373, 361, 395, 293, 265, 366, 307, 273, 362, 372, 356, 306, 271, 355, 378, 364, 362, 384, 361, 267, 368, 375, 353, 378, 273, 362, 372, 365, 357, 294, 362, 350, 364, 361, 362, 372, 259, 374, 364, 378, 362, 368, 385, 294, 267, 364, 366, 273, 362, 262, 362, 88, 87, 73, 379, 59, 395, 362, 381, 368, 373, 313, 368, 373, 372, 370, 363, 229, 131, 156, 364, 313, 367, 363, 364, 292, 362, 259, 385, 269, 261, 274, 349, 362, 350, 362, 109, 373, 285, 260, 366, 373, 363, 371, 349, 273, 362, 350, 364, 352, 377, 362, 68, 364, 264, 271, 262, 356, 373, 375, 395, 362, 381, 368, 373, 229, 131, 156, 370, 313, 367, 363, 364, 292, 362, 229, 131, 159, 366, 368, 373, 363, 370, 362, 301, 380, 363, 229, 131, 160, 292, 294, 312, 361, 367, 366, 361, 285, 362, 351, 265, 362, 376, 368, 262, 364, 362, 384, 368, 373, 363, 370, 367, 366, 381, 62, 362, 384, 373, 364, 362, 361, 394, 259, 362, 384, 353, 364, 266, 395, 362, 366, 368, 373, 363, 370, 362, 301, 380, 363, 292, 294, 312, 361, 367, 366, 361, 285, 362, 374, 263, 376, 378, 279, 361, 362, 371, 372, 373, 285, 266, 362, 384, 368, 373, 363, 370, 367, 366, 381, 377, 362, 82, 364, 378, 266, 380, 281, 361, 395, 362, 381, 368, 373, 271, 355, 378, 364, 362, 384, 361, 362, 371, 269, 366, 373, 376, 364, 273, 294, 362, 283, 285, 362, 371, 378, 367, 263, 371, 364, 266, 362, 350, 362, 371, 373, 364, 364, 273, 362, 368, 385, 385, 264, 362, 370, 365, 367, 371, 366, 306, 304, 395, 362, 269, 362, 262, 364, 266, 366, 373, 376, 364, 273, 264, 362, 109, 367, 375, 368, 267, 361, 116, 373, 275, 362, 269, 362, 93, 90, 77, 267, 361, 116, 373, 275, 377, 13, 13, 68, 363, 370, 362, 80, 269, 361, 229, 131, 169, 13, 87, 378, 266, 361, 229, 131, 156, 369, 271, 373, 371, 378, 271, 269, 361, 274, 349, 362, 351, 373, 372, 370, 362, 384, 361, 267, 367, 365, 370, 264, 384, 368, 373, 364, 362, 88, 363, 304, 368, 265, 311, 366, 368, 375, 264, 291, 368, 374, 263, 375, 375, 266, 229, 131, 156, 369, 362, 376, 266, 369, 376, 302, 364, 365, 394, 361, 36, 362, 76, 362, 378, 367, 394, 259, 229, 131, 156, 364, 362, 374, 368, 364, 364, 259, 362, 262, 308, 267, 373, 371, 378, 311, 373, 363, 292, 376, 304, 369, 264, 369, 362, 371, 348, 361, 327, 376, 376, 273, 395, 362, 351, 372, 283, 364, 317, 395, 362, 351, 375, 376, 349, 365, 384, 365, 372, 306, 381, 325, 351, 375, 376, 368, 369, 306, 317, 369, 332, 362, 371, 284, 385, 373, 369, 347, 372, 352, 395, 362, 88, 363, 304, 368, 265, 379, 367, 380, 367, 366, 361, 362, 366, 361, 374, 280, 352, 395, 362, 269, 362, 384, 365, 370, 305, 302, 364, 317, 367, 372, 337, 377, 362, 391, 269, 362, 378, 367, 394, 361, 362, 76, 267, 367, 365, 370, 290, 381, 364, 378, 273, 362, 381, 353, 264, 384, 368, 373, 364, 362, 356, 376, 372, 279, 268, 349, 317, 326, 369, 373, 352, 229, 131, 151, 378, 368, 380, 292, 362, 361, 385, 385, 304, 365, 268, 307, 267, 364, 269, 361, 332, 362, 358, 368, 386, 379, 373, 376, 362, 370, 349, 367, 264, 384, 368, 373, 364, 294, 267, 376, 367, 366, 369, 361, 307, 379, 348, 369, 355, 363, 278, 362, 351, 265, 362, 376, 368, 262, 364, 369, 395, 362, 269, 362, 378, 368, 380, 292, 362, 368, 376, 364, 356, 282, 361, 362, 88, 87, 73, 379, 59, 325, 351, 370, 273, 395, 267, 364, 366, 273, 362, 351, 375, 376, 367, 366, 281, 284, 395, 362, 269, 362, 391, 73, 70, 312, 269, 375, 367, 372, 282, 349, 317, 377, 362, 382, 266, 378, 367, 376, 369, 362, 76, 229, 131, 156, 372, 372, 362, 366, 353, 373, 366, 363, 292, 267, 368, 375, 361, 362, 368, 385, 274, 368, 369, 361, 274, 273, 369, 362, 262, 311, 373, 364, 373, 366, 361, 362, 376, 368, 285, 369, 377, 13, 13, 88, 363, 304, 368, 265, 326, 264, 311, 348, 371, 262, 349, 273, 332, 362, 351, 375, 376, 372, 280, 341, 377, 362, 76, 364, 362, 378, 348, 264, 327, 363, 381, 379, 308, 379, 284, 361, 327, 376, 376, 273, 362, 384, 353, 380, 361, 259, 362, 350, 364, 352, 332, 362, 351, 265, 362, 376, 368, 262, 364, 369, 395, 332, 362, 284, 292, 376, 362, 368, 385, 274, 349, 264, 327, 363, 381, 379, 308, 379, 284, 361, 309, 269, 395, 293, 265, 366, 267, 368, 375, 361, 362, 371, 305, 371, 373, 375, 285, 367, 363, 261, 369, 395, 327, 363, 381, 379, 308, 379, 375, 367, 363, 381, 387, 327, 376, 376, 273, 362, 384, 353, 380, 361, 259, 362, 351, 265, 362, 376, 368, 262, 364, 369, 332, 362, 229, 131, 159, 371, 378, 367, 263, 371, 364, 266, 369, 229, 131, 160, 377, 362, 76, 364, 362, 378, 348, 362, 368, 370, 370, 384, 367, 372, 372, 267, 376, 302, 365, 367, 372, 362, 371, 348, 352, 362, 262, 362, 361, 394, 266, 381, 362, 371, 269, 363, 266, 377, 362, 397, 373, 364, 312, 368, 362, 284, 361, 362, 361, 394, 266, 362, 371, 283, 356, 278, 274, 349, 362, 366, 361, 270, 352, 268, 273, 324, 372, 313, 366, 306, 364, 259, 342, 369, 313, 348, 362, 374, 368, 273, 292, 362, 384, 361, 362, 361, 348, 381, 395, 332, 362, 306, 229, 131, 156, 369, 362, 371, 372, 361, 367, 366, 274, 349, 313, 361, 229, 131, 156, 366, 361, 312, 361, 394, 266, 362, 374, 368, 273, 362, 384, 367, 371, 386, 292, 294, 362, 384, 367, 370, 362, 368, 372, 370, 362, 370, 367, 381, 369, 362, 368, 385, 264, 362, 376, 349, 371, 378, 321, 386, 362, 368, 385, 362, 262, 351, 375, 376, 349, 365, 384, 372, 361, 362, 259, 351, 370, 273, 369, 377, 13, 13, 73, 373, 366, 364, 378, 266, 362, 366, 361, 367, 370, 273, 61, 13, 13, 87, 378, 361, 362, 88, 363, 304, 368, 265, 286, 364, 367, 363, 370, 367, 366, 370, 13, 88, 87, 73, 379, 59, 362, 398, 394, 266, 381, 380, 378, 266, 361, 362, 80, 367, 363, 354, 361, 285, 368, 13, 71, 367, 366, 386, 362, 371, 269, 363, 266, 369, 362, 368, 385, 362, 88, 363, 304, 368, 265, 362, 350, 362, 398, 361, 394, 361, 361, 13, 76, 70, 88, 309, 76, 363, 364, 266, 363, 349, 317, 367, 372, 362, 70, 368, 375, 376, 284, 268, 369, 311, 269, 362, 88, 363, 304, 368, 265, 387, 229, 131, 151, 70, 396, 70, 46, 46, 396, 77, 367, 394, 367, 362, 372, 365, 384, 263, 366, 365, 352, 362, 356, 376, 372, 279, 268, 273, 327, 363, 381, 362, 88, 363, 304, 368, 265, 324, 374, 269, 306, 378, 375, 369, 332, 362, 366, 361, 283, 364, 278, 274, 273, 369, 13, 382, 381, 364, 378, 284, 362, 54, 362, 88, 363, 304, 368, 265, 362, 75, 368, 380, 308, 13, 74, 368, 368, 374, 372, 361, 362, 391, 368, 308, 362, 73, 284, 364, 369, 229, 131, 151, 369, 353, 362, 368, 385, 311, 284, 364, 369, 362, 262, 364, 259, 265, 370, 292, 362, 351, 394, 266, 324, 372, 264, 369, 369, 355, 363, 278, 362, 351, 265, 362, 376, 368, 262, 364, 369]\n"
          ]
        }
      ]
    },
    {
      "cell_type": "code",
      "source": [
        "print([sp.id_to_piece(id) for id in isd1])\n",
        "len(isd1), len(texto)"
      ],
      "metadata": {
        "colab": {
          "base_uri": "https://localhost:8080/"
        },
        "id": "1beGijP7_PTg",
        "outputId": "e88de3a4-c7a6-4860-cbf6-041ad33a2948"
      },
      "execution_count": 55,
      "outputs": [
        {
          "output_type": "stream",
          "name": "stdout",
          "text": [
            "['▁', '<0x41>', '▁', 'P', 'r', 'o', 'g', 'ra', 'm', 'm', 'er', '<0xE2>', '<0x80>', '<0x99>', 's', '▁', '<0x49>', 'n', 't', 'r', 'o', 'd', 'u', 'c', 't', 'ion', '▁to', '▁', '<0x55>', 'n', 'ic', 'o', 'de', '<0x0A>', '<0x4D>', 'a', 'r', 'c', 'h', '▁', '<0x33>', ',', '▁', '<0x32>', '<0x30>', '<0x31>', '<0x37>', '▁', '<0xC2>', '<0xB7>', '▁', '<0x43>', 'o', 'd', 'ing', '▁', '<0xC2>', '<0xB7>', '▁', '<0x32>', '<0x35>', '▁', '<0x43>', 'o', 'm', 'm', 'ent', 's', '<0x0A>', '<0x0A>', '<0xEF>', '<0xBC>', '<0xB5>', '<0xEF>', '<0xBD>', '<0x8E>', '<0xEF>', '<0xBD>', '<0x89>', '<0xEF>', '<0xBD>', '<0x83>', '<0xEF>', '<0xBD>', '<0x8F>', '<0xEF>', '<0xBD>', '<0x84>', '<0xEF>', '<0xBD>', '<0x85>', '<0x21>', '▁', '<0xF0>', '<0x9F>', '<0x85>', '<0xA4>', '<0xF0>', '<0x9F>', '<0x85>', '<0x9D>', '<0xF0>', '<0x9F>', '<0x85>', '<0x98>', '<0xF0>', '<0x9F>', '<0x85>', '<0x92>', '<0xF0>', '<0x9F>', '<0x85>', '<0x9E>', '<0xF0>', '<0x9F>', '<0x85>', '<0x93>', '<0xF0>', '<0x9F>', '<0x85>', '<0x94>', '<0xE2>', '<0x80>', '<0xBD>', '▁', '<0xF0>', '<0x9F>', '<0x87>', '<0xBA>', '<0xE2>', '<0x80>', '<0x8C>', '<0xF0>', '<0x9F>', '<0x87>', '<0xB3>', '<0xE2>', '<0x80>', '<0x8C>', '<0xF0>', '<0x9F>', '<0x87>', '<0xAE>', '<0xE2>', '<0x80>', '<0x8C>', '<0xF0>', '<0x9F>', '<0x87>', '<0xA8>', '<0xE2>', '<0x80>', '<0x8C>', '<0xF0>', '<0x9F>', '<0x87>', '<0xB4>', '<0xE2>', '<0x80>', '<0x8C>', '<0xF0>', '<0x9F>', '<0x87>', '<0xA9>', '<0xE2>', '<0x80>', '<0x8C>', '<0xF0>', '<0x9F>', '<0x87>', '<0xAA>', '<0x21>', '▁', '<0xF0>', '<0x9F>', '<0x98>', '<0x84>', '▁', '<0x54>', 'h', 'e', '▁', 'v', 'er', 'y', '▁n', 'a', 'm', 'e', '▁s', 't', 'r', 'i', 'k', 'es', '▁f', 'e', 'a', 'r', '▁and', '▁a', 'w', 'e', '▁', 'in', 'to', '▁the', '▁', 'h', 'e', 'a', 'r', 't', 's', '▁', 'o', 'f', '▁pr', 'o', 'g', 'ra', 'm', 'm', 'er', 's', '▁w', 'or', 'l', 'd', 'w', 'i', 'de', '.', '▁', '<0x57>', 'e', '▁al', 'l', '▁', 'k', 'n', 'o', 'w', '▁w', 'e', '▁', 'o', 'u', 'g', 'h', 't', '▁to', '▁', '<0xE2>', '<0x80>', '<0x9C>', 's', 'u', 'p', 'p', 'or', 't', '▁', '<0x55>', 'n', 'ic', 'o', 'de', '<0xE2>', '<0x80>', '<0x9D>', '▁', 'in', '▁', 'o', 'u', 'r', '▁s', 'o', 'f', 't', 'w', 'a', 'r', 'e', '▁(', 'w', 'h', 'at', 'e', 'v', 'er', '▁th', 'at', '▁m', 'e', 'a', 'n', 's', '<0xE2>', '<0x80>', '<0x94>', 'l', 'i', 'ke', '▁u', 's', 'ing', '▁w', 'c', 'h', 'a', 'r', '<0x5F>', 't', '▁f', 'or', '▁al', 'l', '▁the', '▁s', 't', 'r', 'ing', 's', ',', '▁', 'r', 'ig', 'h', 't', '<0x3F>', ')', '.', '▁', 'B', 'u', 't', '▁', '<0x55>', 'n', 'ic', 'o', 'de', '▁', 'c', 'a', 'n', '▁', 'b', 'e', '▁a', 'b', 'st', 'r', 'u', 's', 'e', ',', '▁and', '▁', 'd', 'i', 'v', 'ing', '▁', 'in', 'to', '▁the', '▁th', 'o', 'u', 's', 'a', 'n', 'd', '-', 'p', 'age', '▁', '<0x55>', 'n', 'ic', 'o', 'de', '▁S', 't', 'a', 'n', 'd', 'a', 'r', 'd', '▁', 'p', 'l', 'u', 's', '▁', 'it', 's', '▁', 'do', 'z', 'en', 's', '▁', 'o', 'f', '▁s', 'u', 'p', 'p', 'l', 'em', 'ent', 'a', 'r', 'y', '▁an', 'n', 'ex', 'es', ',', '▁', 'r', 'e', 'p', 'or', 't', 's', ',', '▁and', '▁n', 'o', 't', 'es', '▁', 'c', 'a', 'n', '▁', 'b', 'e', '▁m', 'or', 'e', '▁th', 'a', 'n', '▁a', '▁', 'l', 'it', 't', 'l', 'e', '▁', 'in', 't', 'im', 'i', 'd', 'at', 'ing', '.', '▁', '<0x49>', '▁', 'd', 'on', '<0xE2>', '<0x80>', '<0x99>', 't', '▁', 'b', 'la', 'm', 'e', '▁pr', 'o', 'g', 'ra', 'm', 'm', 'er', 's', '▁f', 'or', '▁s', 't', 'i', 'l', 'l', '▁f', 'in', 'd', 'ing', '▁the', '▁w', 'h', 'o', 'l', 'e', '▁th', 'ing', '▁m', 'yst', 'er', 'i', 'o', 'u', 's', ',', '▁', 'e', 'v', 'en', '▁', '<0x33>', '<0x30>', '▁', 'y', 'e', 'a', 'r', 's', '▁a', 'f', 't', 'er', '▁', '<0x55>', 'n', 'ic', 'o', 'de', '<0xE2>', '<0x80>', '<0x99>', 's', '▁', 'in', 'ce', 'p', 't', 'ion', '.', '<0x0A>', '<0x0A>', '<0x41>', '▁f', 'e', 'w', '▁m', 'on', 't', 'h', 's', '▁a', 'g', 'o', ',', '▁', '<0x49>', '▁', 'g', 'o', 't', '▁', 'in', 't', 'er', 'e', 'st', 'ed', '▁', 'in', '▁', '<0x55>', 'n', 'ic', 'o', 'de', '▁and', '▁de', 'c', 'i', 'de', 'd', '▁to', '▁s', 'p', 'end', '▁s', 'o', 'm', 'e', '▁t', 'im', 'e', '▁', 'l', 'e', 'a', 'r', 'n', 'ing', '▁m', 'or', 'e', '▁a', 'b', 'o', 'u', 't', '▁', 'it', '▁', 'in', '▁de', 't', 'a', 'i', 'l', '.', '▁', '<0x49>', 'n', '▁th', 'is', '▁a', 'r', 't', 'ic', 'l', 'e', ',', '▁', '<0x49>', '<0xE2>', '<0x80>', '<0x99>', 'l', 'l', '▁', 'g', 'i', 'v', 'e', '▁an', '▁', 'in', 't', 'r', 'o', 'd', 'u', 'c', 't', 'ion', '▁to', '▁', 'it', '▁f', 'r', 'o', 'm', '▁a', '▁pr', 'o', 'g', 'ra', 'm', 'm', 'er', '<0xE2>', '<0x80>', '<0x99>', 's', '▁', 'p', 'o', 'in', 't', '▁', 'o', 'f', '▁', 'v', 'i', 'e', 'w', '.', '<0x0A>', '<0x0A>', '<0x49>', '<0xE2>', '<0x80>', '<0x99>', 'm', '▁', 'g', 'o', 'ing', '▁to', '▁f', 'oc', 'u', 's', '▁', 'on', '▁the', '▁', 'c', 'h', 'a', 'ra', 'c', 't', 'er', '▁s', 'et', '▁and', '▁w', 'h', 'at', '<0xE2>', '<0x80>', '<0x99>', 's', '▁', 'in', 'v', 'o', 'l', 'v', 'ed', '▁', 'in', '▁w', 'or', 'k', 'ing', '▁w', 'it', 'h', '▁s', 't', 'r', 'ing', 's', '▁and', '▁f', 'i', 'l', 'es', '▁', 'o', 'f', '▁', '<0x55>', 'n', 'ic', 'o', 'de', '▁text', '.', '▁', '<0x48>', 'o', 'w', 'e', 'v', 'er', ',', '▁', 'in', '▁th', 'is', '▁a', 'r', 't', 'ic', 'l', 'e', '▁', '<0x49>', '<0xE2>', '<0x80>', '<0x99>', 'm', '▁n', 'o', 't', '▁', 'g', 'o', 'ing', '▁to', '▁t', 'a', 'l', 'k', '▁a', 'b', 'o', 'u', 't', '▁f', 'on', 't', 's', ',', '▁text', '▁', 'la', 'y', 'o', 'u', 't', '/', 's', 'h', 'a', 'p', 'ing', '/', 'r', 'en', 'de', 'r', 'ing', ',', '▁', 'or', '▁', 'lo', 'c', 'a', 'l', 'iz', 'at', 'ion', '▁', 'in', '▁de', 't', 'a', 'i', 'l', '<0xE2>', '<0x80>', '<0x94>', 't', 'h', 'o', 's', 'e', '▁a', 'r', 'e', '▁s', 'e', 'p', 'a', 'ra', 't', 'e', '▁is', 's', 'u', 'es', ',', '▁', 'b', 'e', 'y', 'on', 'd', '▁m', 'y', '▁s', 'co', 'p', 'e', '▁(', 'a', 'n', 'd', '▁', 'k', 'n', 'o', 'w', 'l', 'ed', 'g', 'e', ')', '▁', 'h', 'er', 'e', '.', '<0x0A>', '<0x0A>', '<0x44>', 'i', 'v', 'er', 's', 'it', 'y', '▁and', '▁', '<0x49>', 'n', 'h', 'er', 'ent', '▁', '<0x43>', 'o', 'm', 'p', 'l', 'ex', 'it', 'y', '<0x0A>', '<0x54>', 'h', 'e', '▁', '<0x55>', 'n', 'ic', 'o', 'de', '▁', '<0x43>', 'o', 'de', 's', 'p', 'a', 'ce', '<0x0A>', '<0x43>', 'o', 'de', 's', 'p', 'a', 'ce', '▁', '<0x41>', 'l', 'lo', 'c', 'at', 'ion', '<0x0A>', 'S', 'c', 'r', 'i', 'p', 't', 's', '<0x0A>', '<0x55>', 's', 'age', '▁', '<0x46>', 'r', 'e', '<0x71>', 'u', 'en', 'c', 'y', '<0x0A>', 'E', 'n', 'co', 'd', 'ing', 's', '<0x0A>', '<0x55>', '<0x54>', '<0x46>', '-', '<0x38>', '<0x0A>', '<0x55>', '<0x54>', '<0x46>', '-', '<0x31>', '<0x36>', '<0x0A>', '<0x43>', 'o', 'm', 'b', 'in', 'ing', '▁', '<0x4D>', 'a', 'r', 'k', 's', '<0x0A>', '<0x43>', 'a', 'n', 'on', 'ic', 'a', 'l', '▁', 'E', '<0x71>', 'u', 'i', 'v', 'a', 'l', 'ence', '<0x0A>', 'N', 'or', 'm', 'a', 'l', 'iz', 'at', 'ion', '▁', '<0x46>', 'or', 'm', 's', '<0x0A>', '<0x47>', 'ra', 'p', 'h', 'em', 'e', '▁', '<0x43>', 'l', 'u', 'st', 'er', 's', '<0x0A>', '<0x41>', 'n', 'd', '▁', '<0x4D>', 'or', 'e', '<0xE2>', '<0x80>', '<0xA6>', '<0x0A>', '<0x44>', 'i', 'v', 'er', 's', 'it', 'y', '▁and', '▁', '<0x49>', 'n', 'h', 'er', 'ent', '▁', '<0x43>', 'o', 'm', 'p', 'l', 'ex', 'it', 'y', '<0x0A>', '<0x41>', 's', '▁s', 'o', 'on', '▁a', 's', '▁', 'y', 'o', 'u', '▁s', 't', 'a', 'r', 't', '▁to', '▁s', 't', 'u', 'd', 'y', '▁', '<0x55>', 'n', 'ic', 'o', 'de', ',', '▁', 'it', '▁', 'b', 'ec', 'o', 'm', 'es', '▁', 'c', 'l', 'e', 'a', 'r', '▁th', 'at', '▁', 'it', '▁', 'r', 'e', 'pr', 'es', 'ent', 's', '▁a', '▁', 'la', 'r', 'g', 'e', '▁', '<0x6A>', 'u', 'm', 'p', '▁', 'in', '▁', 'co', 'm', 'p', 'l', 'ex', 'it', 'y', '▁', 'o', 'v', 'er', '▁', 'c', 'h', 'a', 'ra', 'c', 't', 'er', '▁s', 'et', 's', '▁', 'l', 'i', 'ke', '▁', '<0x41>', 'S', '<0x43>', '<0x49>', '<0x49>', '▁th', 'at', '▁', 'y', 'o', 'u', '▁ma', 'y', '▁', 'b', 'e', '▁m', 'or', 'e', '▁f', 'a', 'm', 'i', 'l', 'i', 'a', 'r', '▁w', 'it', 'h', '.', '▁', '<0x49>', 't', '<0xE2>', '<0x80>', '<0x99>', 's', '▁n', 'o', 't', '▁', '<0x6A>', 'u', 'st', '▁th', 'at', '▁', '<0x55>', 'n', 'ic', 'o', 'de', '▁', 'c', 'on', 't', 'a', 'in', 's', '▁a', '▁m', 'u', 'c', 'h', '▁', 'la', 'r', 'g', 'er', '▁n', 'u', 'm', 'b', 'er', '▁', 'o', 'f', '▁', 'c', 'h', 'a', 'ra', 'c', 't', 'er', 's', ',', '▁al', 't', 'h', 'o', 'u', 'g', 'h', '▁th', 'at', '<0xE2>', '<0x80>', '<0x99>', 's', '▁', 'p', 'a', 'r', 't', '▁', 'o', 'f', '▁', 'it', '.', '▁', '<0x55>', 'n', 'ic', 'o', 'de', '▁al', 's', 'o', '▁', 'h', 'as', '▁a', '▁', 'g', 'r', 'e', 'at', '▁de', 'a', 'l', '▁', 'o', 'f', '▁', 'in', 't', 'er', 'n', 'a', 'l', '▁s', 't', 'r', 'u', 'c', 't', 'u', 'r', 'e', ',', '▁f', 'e', 'at', 'u', 'r', 'es', ',', '▁and', '▁s', 'p', 'ec', 'i', 'a', 'l', '▁', 'c', 'as', 'es', ',', '▁ma', 'k', 'ing', '▁', 'it', '▁m', 'u', 'c', 'h', '▁m', 'or', 'e', '▁th', 'a', 'n', '▁w', 'h', 'at', '▁', 'on', 'e', '▁m', 'ig', 'h', 't', '▁', 'ex', 'p', 'ec', 't', '▁a', '▁m', 'er', 'e', '▁', '<0xE2>', '<0x80>', '<0x9C>', 'c', 'h', 'a', 'ra', 'c', 't', 'er', '▁s', 'et', '<0xE2>', '<0x80>', '<0x9D>', '▁to', '▁', 'b', 'e', '.', '▁', '<0x57>', 'e', '<0xE2>', '<0x80>', '<0x99>', 'l', 'l', '▁s', 'e', 'e', '▁s', 'o', 'm', 'e', '▁', 'o', 'f', '▁th', 'at', '▁', 'la', 't', 'er', '▁', 'in', '▁th', 'is', '▁a', 'r', 't', 'ic', 'l', 'e', '.', '<0x0A>', '<0x0A>', '<0x57>', 'h', 'en', '▁', 'c', 'on', 'f', 'r', 'on', 't', 'ing', '▁al', 'l', '▁th', 'is', '▁', 'co', 'm', 'p', 'l', 'ex', 'it', 'y', ',', '▁', 'es', 'p', 'ec', 'i', 'a', 'l', 'ly', '▁a', 's', '▁an', '▁', 'en', 'g', 'in', 'e', 'er', ',', '▁', 'it', '<0xE2>', '<0x80>', '<0x99>', 's', '▁', 'h', 'a', 'r', 'd', '▁n', 'o', 't', '▁to', '▁f', 'in', 'd', '▁', 'on', 'es', 'e', 'l', 'f', '▁a', 's', 'k', 'ing', ',', '▁', '<0xE2>', '<0x80>', '<0x9C>', '<0x57>', 'h', 'y', '▁', 'do', '▁w', 'e', '▁n', 'e', 'ed', '▁al', 'l', '▁th', 'is', '<0x3F>', '▁', '<0x49>', 's', '▁th', 'is', '▁', 'r', 'e', 'a', 'l', 'ly', '▁n', 'e', 'ce', 's', 's', 'a', 'r', 'y', '<0x3F>', '▁', '<0x43>', 'o', 'u', 'l', 'd', 'n', '<0xE2>', '<0x80>', '<0x99>', 't', '▁', 'it', '▁', 'b', 'e', '▁s', 'im', 'p', 'l', 'if', 'i', 'ed', '<0x3F>', '<0xE2>', '<0x80>', '<0x9D>', '<0x0A>', '<0x0A>', '<0x48>', 'o', 'w', 'e', 'v', 'er', ',', '▁', '<0x55>', 'n', 'ic', 'o', 'de', '▁a', 'im', 's', '▁to', '▁f', 'a', 'it', 'h', 'f', 'u', 'l', 'ly', '▁', 'r', 'e', 'pr', 'es', 'ent', '▁the', '▁', 'ent', 'ir', 'e', '▁w', 'or', 'l', 'd', '<0xE2>', '<0x80>', '<0x99>', 's', '▁w', 'r', 'it', 'ing', '▁system', 's', '.', '▁', '<0x54>', 'h', 'e', '▁', '<0x55>', 'n', 'ic', 'o', 'de', '▁', '<0x43>', 'on', 's', 'or', 't', 'i', 'u', 'm', '<0xE2>', '<0x80>', '<0x99>', 's', '▁s', 't', 'at', 'ed', '▁', 'g', 'o', 'a', 'l', '▁is', '▁', '<0xE2>', '<0x80>', '<0x9C>', 'en', 'ab', 'l', 'ing', '▁', 'p', 'e', 'o', 'p', 'l', 'e', '▁a', 'r', 'o', 'u', 'n', 'd', '▁the', '▁w', 'or', 'l', 'd', '▁to', '▁u', 's', 'e', '▁', 'co', 'm', 'p', 'u', 't', 'er', 's', '▁', 'in', '▁an', 'y', '▁language', '<0xE2>', '<0x80>', '<0x9D>', '.', '▁', '<0x41>', 'n', 'd', '▁a', 's', '▁', 'y', 'o', 'u', '▁m', 'ig', 'h', 't', '▁', 'im', 'ag', 'in', 'e', ',', '▁the', '▁', 'd', 'i', 'v', 'er', 's', 'it', 'y', '▁', 'o', 'f', '▁w', 'r', 'it', 't', 'en', '▁language', 's', '▁is', '▁', 'im', 'm', 'en', 's', 'e', '<0x21>', '▁', '<0x54>', 'o', '▁', 'd', 'at', 'e', ',', '▁', '<0x55>', 'n', 'ic', 'o', 'de', '▁s', 'u', 'p', 'p', 'or', 't', 's', '▁', '<0x31>', '<0x33>', '<0x35>', '▁', 'd', 'if', 'f', 'er', 'ent', '▁s', 'c', 'r', 'i', 'p', 't', 's', ',', '▁', 'co', 'v', 'er', 'ing', '▁s', 'o', 'm', 'e', '▁', '<0x31>', '<0x31>', '<0x30>', '<0x30>', '▁language', 's', ',', '▁and', '▁th', 'er', 'e', '<0xE2>', '<0x80>', '<0x99>', 's', '▁s', 't', 'i', 'l', 'l', '▁a', '▁', 'l', 'on', 'g', '▁t', 'a', 'i', 'l', '▁', 'o', 'f', '▁', 'o', 'v', 'er', '▁', '<0x31>', '<0x30>', '<0x30>', '▁un', 's', 'u', 'p', 'p', 'or', 't', 'ed', '▁s', 'c', 'r', 'i', 'p', 't', 's', ',', '▁', 'b', 'o', 't', 'h', '▁mo', 'de', 'r', 'n', '▁and', '▁', 'h', 'is', 't', 'or', 'ic', 'a', 'l', ',', '▁w', 'h', 'ic', 'h', '▁', 'p', 'e', 'o', 'p', 'l', 'e', '▁a', 'r', 'e', '▁s', 't', 'i', 'l', 'l', '▁w', 'or', 'k', 'ing', '▁to', '▁a', 'd', 'd', '.', '<0x0A>', '<0x0A>', '<0x47>', 'i', 'v', 'en', '▁th', 'is', '▁', 'en', 'or', 'm', 'o', 'u', 's', '▁', 'd', 'i', 'v', 'er', 's', 'it', 'y', ',', '▁', 'it', '<0xE2>', '<0x80>', '<0x99>', 's', '▁', 'in', 'e', 'v', 'it', 'ab', 'l', 'e', '▁th', 'at', '▁', 'r', 'e', 'pr', 'es', 'ent', 'ing', '▁', 'it', '▁is', '▁a', '▁', 'co', 'm', 'p', 'l', 'ic', 'at', 'ed', '▁pr', 'o', '<0x6A>', 'ec', 't', '.', '▁', '<0x55>', 'n', 'ic', 'o', 'de', '▁', 'em', 'b', 'ra', 'ce', 's', '▁th', 'at', '▁', 'd', 'i', 'v', 'er', 's', 'it', 'y', ',', '▁and', '▁a', 'c', 'ce', 'p', 't', 's', '▁the', '▁', 'co', 'm', 'p', 'l', 'ex', 'it', 'y', '▁', 'in', 'h', 'er', 'ent', '▁', 'in', '▁', 'it', 's', '▁m', 'is', 's', 'ion', '▁to', '▁', 'in', 'c', 'l', 'u', 'de', '▁al', 'l', '▁', 'h', 'u', 'm', 'a', 'n', '▁w', 'r', 'it', 'ing', '▁system', 's', '.', '▁', '<0x49>', 't', '▁', 'do', 'es', 'n', '<0xE2>', '<0x80>', '<0x99>', 't', '▁ma', 'ke', '▁a', '▁', 'lo', 't', '▁', 'o', 'f', '▁t', 'ra', 'de', '-', 'o', 'f', 'f', 's', '▁', 'in', '▁the', '▁n', 'a', 'm', 'e', '▁', 'o', 'f', '▁s', 'im', 'p', 'l', 'if', 'ic', 'at', 'ion', ',', '▁and', '▁', 'it', '▁ma', 'k', 'es', '▁', 'ex', 'ce', 'p', 't', 'ion', 's', '▁to', '▁', 'it', 's', '▁', 'o', 'w', 'n', '▁', 'r', 'u', 'l', 'es', '▁w', 'h', 'er', 'e', '▁n', 'e', 'ce', 's', 's', 'a', 'r', 'y', '▁to', '▁f', 'u', 'r', 't', 'h', 'er', '▁', 'it', 's', '▁m', 'is', 's', 'ion', '.', '<0x0A>', '<0x0A>', '<0x4D>', 'or', 'e', 'o', 'v', 'er', ',', '▁', '<0x55>', 'n', 'ic', 'o', 'de', '▁is', '▁', 'co', 'm', 'm', 'it', 't', 'ed', '▁n', 'o', 't', '▁', '<0x6A>', 'u', 'st', '▁to', '▁s', 'u', 'p', 'p', 'or', 't', 'ing', '▁text', 's', '▁', 'in', '▁an', 'y', '▁s', 'ing', 'l', 'e', '▁language', ',', '▁', 'b', 'u', 't', '▁al', 's', 'o', '▁to', '▁', 'l', 'et', 't', 'ing', '▁m', 'u', 'l', 't', 'i', 'p', 'l', 'e', '▁language', 's', '▁', 'co', 'ex', 'is', 't', '▁w', 'it', 'h', 'in', '▁', 'on', 'e', '▁text', '<0xE2>', '<0x80>', '<0x94>', 'w', 'h', 'ic', 'h', '▁', 'in', 't', 'r', 'o', 'd', 'u', 'ce', 's', '▁', 'e', 'v', 'en', '▁m', 'or', 'e', '▁', 'co', 'm', 'p', 'l', 'ex', 'it', 'y', '.', '<0x0A>', '<0x0A>', '<0x4D>', 'o', 'st', '▁pr', 'o', 'g', 'ra', 'm', 'm', 'ing', '▁language', 's', '▁', 'h', 'a', 'v', 'e', '▁', 'l', 'i', 'b', 'ra', 'r', 'i', 'es', '▁a', 'v', 'a', 'i', 'la', 'b', 'l', 'e', '▁to', '▁', 'h', 'a', 'n', 'd', 'l', 'e', '▁the', '▁', 'g', 'or', 'y', '▁', 'lo', 'w', '-', 'l', 'e', 'v', 'e', 'l', '▁de', 't', 'a', 'i', 'l', 's', '▁', 'o', 'f', '▁text', '▁ma', 'n', 'i', 'p', 'u', 'la', 't', 'ion', ',', '▁', 'b', 'u', 't', '▁a', 's', '▁a', '▁pr', 'o', 'g', 'ra', 'm', 'm', 'er', ',', '▁', 'y', 'o', 'u', '<0xE2>', '<0x80>', '<0x99>', 'l', 'l', '▁s', 't', 'i', 'l', 'l', '▁n', 'e', 'ed', '▁to', '▁', 'k', 'n', 'o', 'w', '▁a', 'b', 'o', 'u', 't', '▁', 'ce', 'r', 't', 'a', 'in', '▁', '<0x55>', 'n', 'ic', 'o', 'de', '▁f', 'e', 'at', 'u', 'r', 'es', '▁', 'in', '▁', 'or', 'de', 'r', '▁to', '▁', 'k', 'n', 'o', 'w', '▁w', 'h', 'en', '▁and', '▁', 'h', 'o', 'w', '▁to', '▁a', 'p', 'p', 'ly', '▁th', 'em', '.', '▁', '<0x49>', 't', '▁ma', 'y', '▁t', 'a', 'ke', '▁s', 'o', 'm', 'e', '▁t', 'im', 'e', '▁to', '▁w', 'ra', 'p', '▁', 'y', 'o', 'u', 'r', '▁', 'h', 'e', 'a', 'd', '▁a', 'r', 'o', 'u', 'n', 'd', '▁', 'it', '▁al', 'l', ',', '▁', 'b', 'u', 't', '▁', 'd', 'on', '<0xE2>', '<0x80>', '<0x99>', 't', '▁', 'b', 'e', '▁', 'd', 'is', 'co', 'u', 'ra', 'g', 'ed', '<0xE2>', '<0x80>', '<0x94>', 't', 'h', 'in', 'k', '▁a', 'b', 'o', 'u', 't', '▁the', '▁', 'b', 'i', 'l', 'l', 'ion', 's', '▁', 'o', 'f', '▁', 'p', 'e', 'o', 'p', 'l', 'e', '▁f', 'or', '▁w', 'h', 'o', 'm', '▁', 'y', 'o', 'u', 'r', '▁s', 'o', 'f', 't', 'w', 'a', 'r', 'e', '▁w', 'i', 'l', 'l', '▁', 'b', 'e', '▁m', 'or', 'e', '▁a', 'c', 'ce', 's', 's', 'i', 'b', 'l', 'e', '▁th', 'r', 'o', 'u', 'g', 'h', '▁s', 'u', 'p', 'p', 'or', 't', 'ing', '▁text', '▁', 'in', '▁the', 'ir', '▁language', '.', '▁', 'E', 'm', 'b', 'ra', 'ce', '▁the', '▁', 'co', 'm', 'p', 'l', 'ex', 'it', 'y', '<0x21>', '<0x0A>', '<0x0A>', '<0x54>', 'h', 'e', '▁', '<0x55>', 'n', 'ic', 'o', 'de', '▁', '<0x43>', 'o', 'de', 's', 'p', 'a', 'ce', '<0x0A>', '<0x4C>', 'et', '<0xE2>', '<0x80>', '<0x99>', 's', '▁s', 't', 'a', 'r', 't', '▁w', 'it', 'h', '▁s', 'o', 'm', 'e', '▁', 'g', 'en', 'e', 'ral', '▁', 'or', 'i', 'ent', 'at', 'ion', '.', '▁', '<0x54>', 'h', 'e', '▁', 'b', 'as', 'ic', '▁', 'e', 'l', 'em', 'ent', 's', '▁', 'o', 'f', '▁', '<0x55>', 'n', 'ic', 'o', 'de', '<0xE2>', '<0x80>', '<0x94>', 'it', 's', '▁', '<0xE2>', '<0x80>', '<0x9C>', 'c', 'h', 'a', 'ra', 'c', 't', 'er', 's', '<0xE2>', '<0x80>', '<0x9D>', ',', '▁al', 't', 'h', 'o', 'u', 'g', 'h', '▁th', 'at', '▁t', 'er', 'm', '▁is', 'n', '<0xE2>', '<0x80>', '<0x99>', 't', '▁', '<0x71>', 'u', 'it', 'e', '▁', 'r', 'ig', 'h', 't', '<0xE2>', '<0x80>', '<0x94>', 'a', 'r', 'e', '▁', 'c', 'a', 'l', 'l', 'ed', '▁', 'co', 'de', '▁', 'p', 'o', 'in', 't', 's', '.', '▁', '<0x43>', 'o', 'de', '▁', 'p', 'o', 'in', 't', 's', '▁a', 'r', 'e', '▁', 'i', 'd', 'ent', 'if', 'i', 'ed', '▁', 'by', '▁n', 'u', 'm', 'b', 'er', ',', '▁', 'c', 'u', 'st', 'o', 'm', 'a', 'r', 'i', 'ly', '▁w', 'r', 'it', 't', 'en', '▁', 'in', '▁', 'h', 'ex', 'a', 'de', 'c', 'im', 'a', 'l', '▁w', 'it', 'h', '▁the', '▁pre', 'f', 'i', 'x', '▁', '<0xE2>', '<0x80>', '<0x9C>', '<0x55>', '<0x2B>', '<0xE2>', '<0x80>', '<0x9D>', ',', '▁s', 'u', 'c', 'h', '▁a', 's', '▁', '<0x55>', '<0x2B>', '<0x30>', '<0x30>', '<0x34>', '<0x31>', '▁', '<0xE2>', '<0x80>', '<0x9C>', '<0x41>', '<0xE2>', '<0x80>', '<0x9D>', '▁', 'la', 't', 'in', '▁', 'c', 'a', 'p', 'it', 'a', 'l', '▁', 'l', 'et', 't', 'er', '▁a', '▁', 'or', '▁', '<0x55>', '<0x2B>', '<0x30>', '<0x33>', 'B', '<0x38>', '▁', '<0xE2>', '<0x80>', '<0x9C>', '<0xCE>', '<0xB8>', '<0xE2>', '<0x80>', '<0x9D>', '▁', 'g', 'r', 'e', 'e', 'k', '▁s', 'm', 'a', 'l', 'l', '▁', 'l', 'et', 't', 'er', '▁the', 't', 'a', '.', '▁', 'E', 'a', 'c', 'h', '▁', 'co', 'de', '▁', 'p', 'o', 'in', 't', '▁al', 's', 'o', '▁', 'h', 'as', '▁a', '▁s', 'h', 'or', 't', '▁n', 'a', 'm', 'e', ',', '▁and', '▁', '<0x71>', 'u', 'it', 'e', '▁a', '▁f', 'e', 'w', '▁', 'o', 't', 'h', 'er', '▁pr', 'o', 'p', 'er', 't', 'i', 'es', ',', '▁s', 'p', 'ec', 'if', 'i', 'ed', '▁', 'in', '▁the', '▁', '<0x55>', 'n', 'ic', 'o', 'de', '▁', '<0x43>', 'h', 'a', 'ra', 'c', 't', 'er', '▁', '<0x44>', 'at', 'ab', 'as', 'e', '.', '<0x0A>', '<0x0A>', '<0x54>', 'h', 'e', '▁s', 'et', '▁', 'o', 'f', '▁al', 'l', '▁', 'p', 'o', 's', 's', 'i', 'b', 'l', 'e', '▁', 'co', 'de', '▁', 'p', 'o', 'in', 't', 's', '▁is', '▁', 'c', 'a', 'l', 'l', 'ed', '▁the', '▁', 'co', 'de', 's', 'p', 'a', 'ce', '.', '▁', '<0x54>', 'h', 'e', '▁', '<0x55>', 'n', 'ic', 'o', 'de', '▁', 'co', 'de', 's', 'p', 'a', 'ce', '▁', 'c', 'on', 's', 'is', 't', 's', '▁', 'o', 'f', '▁', '<0x31>', ',', '<0x31>', '<0x31>', '<0x34>', ',', '<0x31>', '<0x31>', '<0x32>', '▁', 'co', 'de', '▁', 'p', 'o', 'in', 't', 's', '.', '▁', '<0x48>', 'o', 'w', 'e', 'v', 'er', ',', '▁', 'on', 'ly', '▁', '<0x31>', '<0x32>', '<0x38>', ',', '<0x32>', '<0x33>', '<0x37>', '▁', 'o', 'f', '▁th', 'em', '<0xE2>', '<0x80>', '<0x94>', 'ab', 'o', 'u', 't', '▁', '<0x31>', '<0x32>', '<0x25>', '▁', 'o', 'f', '▁the', '▁', 'co', 'de', 's', 'p', 'a', 'ce', '<0xE2>', '<0x80>', '<0x94>', 'a', 'r', 'e', '▁a', 'c', 't', 'u', 'a', 'l', 'ly', '▁a', 's', 's', 'ig', 'n', 'ed', ',', '▁to', '▁', 'd', 'at', 'e', '.', '▁', '<0x54>', 'h', 'er', 'e', '<0xE2>', '<0x80>', '<0x99>', 's', '▁', 'p', 'l', 'ent', 'y', '▁', 'o', 'f', '▁', 'r', 'o', 'o', 'm', '▁f', 'or', '▁', 'g', 'r', 'o', 'w', 't', 'h', '<0x21>', '▁', '<0x55>', 'n', 'ic', 'o', 'de', '▁al', 's', 'o', '▁', 'r', 'es', 'er', 'v', 'es', '▁an', '▁a', 'd', 'd', 'it', 'ion', 'a', 'l', '▁', '<0x31>', '<0x33>', '<0x37>', ',', '<0x34>', '<0x36>', '<0x38>', '▁', 'co', 'de', '▁', 'p', 'o', 'in', 't', 's', '▁a', 's', '▁', '<0xE2>', '<0x80>', '<0x9C>', 'pr', 'i', 'v', 'at', 'e', '▁u', 's', 'e', '<0xE2>', '<0x80>', '<0x9D>', '▁a', 'r', 'e', 'as', ',', '▁w', 'h', 'ic', 'h', '▁', 'h', 'a', 'v', 'e', '▁n', 'o', '▁s', 't', 'a', 'n', 'd', 'a', 'r', 'd', 'iz', 'ed', '▁m', 'e', 'a', 'n', 'ing', '▁and', '▁a', 'r', 'e', '▁a', 'v', 'a', 'i', 'la', 'b', 'l', 'e', '▁f', 'or', '▁', 'in', 'd', 'i', 'v', 'i', 'd', 'u', 'a', 'l', '▁a', 'p', 'p', 'l', 'ic', 'at', 'ion', 's', '▁to', '▁de', 'f', 'in', 'e', '▁f', 'or', '▁the', 'ir', '▁', 'o', 'w', 'n', '▁', 'p', 'u', 'r', 'p', 'o', 's', 'es', '.', '<0x0A>', '<0x0A>', '<0x43>', 'o', 'de', 's', 'p', 'a', 'ce', '▁', '<0x41>', 'l', 'lo', 'c', 'at', 'ion', '<0x0A>', '<0x54>', 'o', '▁', 'g', 'et', '▁a', '▁f', 'e', 'e', 'l', '▁f', 'or', '▁', 'h', 'o', 'w', '▁the', '▁', 'co', 'de', 's', 'p', 'a', 'ce', '▁is', '▁', 'la', 'i', 'd', '▁', 'o', 'u', 't', ',', '▁', 'it', '<0xE2>', '<0x80>', '<0x99>', 's', '▁', 'h', 'e', 'l', 'p', 'f', 'u', 'l', '▁to', '▁', 'v', 'is', 'u', 'a', 'l', 'iz', 'e', '▁', 'it', '.', '▁', 'B', 'e', 'lo', 'w', '▁is', '▁a', '▁ma', 'p', '▁', 'o', 'f', '▁the', '▁', 'ent', 'ir', 'e', '▁', 'co', 'de', 's', 'p', 'a', 'ce', ',', '▁w', 'it', 'h', '▁', 'on', 'e', '▁', 'p', 'i', 'x', 'e', 'l', '▁', 'p', 'er', '▁', 'co', 'de', '▁', 'p', 'o', 'in', 't', '.', '▁', '<0x49>', 't', '<0xE2>', '<0x80>', '<0x99>', 's', '▁a', 'r', 'ra', 'n', 'g', 'ed', '▁', 'in', '▁t', 'i', 'l', 'es', '▁f', 'or', '▁', 'v', 'is', 'u', 'a', 'l', '▁', 'co', 'h', 'er', 'ence', '<0x3B>', '▁', 'e', 'a', 'c', 'h', '▁s', 'm', 'a', 'l', 'l', '▁s', '<0x71>', 'u', 'a', 'r', 'e', '▁is', '▁', '<0x31>', '<0x36>', '<0xC3>', '<0x97>', '<0x31>', '<0x36>', '▁', '<0x3D>', '▁', '<0x32>', '<0x35>', '<0x36>', '▁', 'co', 'de', '▁', 'p', 'o', 'in', 't', 's', ',', '▁and', '▁', 'e', 'a', 'c', 'h', '▁', 'la', 'r', 'g', 'e', '▁s', '<0x71>', 'u', 'a', 'r', 'e', '▁is', '▁a', '▁', '<0xE2>', '<0x80>', '<0x9C>', 'p', 'lan', 'e', '<0xE2>', '<0x80>', '<0x9D>', '▁', 'o', 'f', '▁', '<0x36>', '<0x35>', ',', '<0x35>', '<0x33>', '<0x36>', '▁', 'co', 'de', '▁', 'p', 'o', 'in', 't', 's', '.', '▁', '<0x54>', 'h', 'er', 'e', '▁a', 'r', 'e', '▁', '<0x31>', '<0x37>', '▁', 'p', 'lan', 'es', '▁al', 'to', 'g', 'et', 'h', 'er', '.', '<0x0A>', '<0x0A>', '<0x4D>', 'a', 'p', '▁', 'o', 'f', '▁the', '▁', '<0x55>', 'n', 'ic', 'o', 'de', '▁', 'co', 'de', 's', 'p', 'a', 'ce', '▁(', 'c', 'l', 'ic', 'k', '▁to', '▁', 'z', 'o', 'o', 'm', ')', '<0x0A>', '<0x0A>', '<0x57>', 'h', 'it', 'e', '▁', 'r', 'e', 'pr', 'es', 'ent', 's', '▁un', 'as', 's', 'ig', 'n', 'ed', '▁s', 'p', 'a', 'ce', '.', '▁', 'B', 'l', 'u', 'e', '▁is', '▁a', 's', 's', 'ig', 'n', 'ed', '▁', 'co', 'de', '▁', 'p', 'o', 'in', 't', 's', ',', '▁', 'g', 'r', 'e', 'en', '▁is', '▁pr', 'i', 'v', 'at', 'e', '-', 'u', 's', 'e', '▁a', 'r', 'e', 'as', ',', '▁and', '▁the', '▁s', 'm', 'a', 'l', 'l', '▁', 'r', 'ed', '▁a', 'r', 'e', 'a', '▁is', '▁s', 'u', 'r', 'r', 'o', 'g', 'at', 'es', '▁(', 'm', 'or', 'e', '▁a', 'b', 'o', 'u', 't', '▁th', 'o', 's', 'e', '▁', 'la', 't', 'er', ')', '.', '▁', '<0x41>', 's', '▁', 'y', 'o', 'u', '▁', 'c', 'a', 'n', '▁s', 'e', 'e', ',', '▁the', '▁a', 's', 's', 'ig', 'n', 'ed', '▁', 'co', 'de', '▁', 'p', 'o', 'in', 't', 's', '▁a', 'r', 'e', '▁', 'd', 'is', 't', 'r', 'i', 'b', 'u', 't', 'ed', '▁s', 'o', 'm', 'e', 'w', 'h', 'at', '▁s', 'p', 'a', 'r', 's', 'e', 'ly', ',', '▁', 'b', 'u', 't', '▁', 'c', 'on', 'c', 'ent', 'ra', 't', 'ed', '▁', 'in', '▁the', '▁f', 'ir', 'st', '▁th', 'r', 'e', 'e', '▁', 'p', 'lan', 'es', '.', '<0x0A>', '<0x0A>', 'P', 'lan', 'e', '▁', '<0x30>', '▁is', '▁al', 's', 'o', '▁', 'k', 'n', 'o', 'w', 'n', '▁a', 's', '▁the', '▁', '<0xE2>', '<0x80>', '<0x9C>', 'B', 'as', 'ic', '▁', '<0x4D>', 'u', 'l', 't', 'i', 'l', 'ing', 'u', 'a', 'l', '▁', 'P', 'lan', 'e', '<0xE2>', '<0x80>', '<0x9D>', ',', '▁', 'or', '▁', 'B', '<0x4D>', 'P', '.', '▁', '<0x54>', 'h', 'e', '▁', 'B', '<0x4D>', 'P', '▁', 'c', 'on', 't', 'a', 'in', 's', '▁', 'es', 's', 'ent', 'i', 'a', 'l', 'ly', '▁al', 'l', '▁the', '▁', 'c', 'h', 'a', 'ra', 'c', 't', 'er', 's', '▁n', 'e', 'e', 'de', 'd', '▁f', 'or', '▁mo', 'de', 'r', 'n', '▁text', '▁', 'in', '▁an', 'y', '▁s', 'c', 'r', 'i', 'p', 't', ',', '▁', 'in', 'c', 'l', 'u', 'd', 'ing', '▁', '<0x4C>', 'at', 'in', ',', '▁', '<0x43>', 'y', 'r', 'i', 'l', 'l', 'ic', ',', '▁', '<0x47>', 'r', 'e', 'e', 'k', ',', '▁', '<0x48>', 'a', 'n', '▁(', '<0x43>', 'h', 'in', 'es', 'e', ')', ',', '▁', '<0x4A>', 'a', 'p', 'a', 'n', 'es', 'e', ',', '▁', 'K', 'or', 'e', 'a', 'n', ',', '▁', '<0x41>', 'ra', 'b', 'ic', ',', '▁', '<0x48>', 'e', 'b', 'r', 'e', 'w', ',', '▁', '<0x44>', 'e', 'v', 'a', 'n', 'ag', 'a', 'r', 'i', '▁(', '<0x49>', 'n', 'd', 'i', 'a', 'n', ')', ',', '▁and', '▁ma', 'n', 'y', '▁m', 'or', 'e', '.', '<0x0A>', '<0x0A>', '(', '<0x49>', 'n', '▁the', '▁', 'p', 'a', 'st', ',', '▁the', '▁', 'co', 'de', 's', 'p', 'a', 'ce', '▁w', 'as', '▁', '<0x6A>', 'u', 'st', '▁the', '▁', 'B', '<0x4D>', 'P', '▁and', '▁n', 'o', '▁m', 'or', 'e', '<0xE2>', '<0x80>', '<0x94>', '<0x55>', 'n', 'ic', 'o', 'de', '▁w', 'as', '▁', 'or', 'ig', 'in', 'a', 'l', 'ly', '▁', 'c', 'on', 'ce', 'i', 'v', 'ed', '▁a', 's', '▁a', '▁s', 't', 'ra', 'ig', 'h', 't', 'f', 'or', 'w', 'a', 'r', 'd', '▁', '<0x31>', '<0x36>', '-', 'b', 'it', '▁', 'en', 'co', 'd', 'ing', ',', '▁w', 'it', 'h', '▁', 'on', 'ly', '▁', '<0x36>', '<0x35>', ',', '<0x35>', '<0x33>', '<0x36>', '▁', 'co', 'de', '▁', 'p', 'o', 'in', 't', 's', '.', '▁', '<0x49>', 't', '▁w', 'as', '▁', 'ex', 'p', 'a', 'n', 'de', 'd', '▁to', '▁', 'it', 's', '▁', 'c', 'u', 'r', 'r', 'ent', '▁s', 'iz', 'e', '▁', 'in', '▁', '<0x31>', '<0x39>', '<0x39>', '<0x36>', '.', '▁', '<0x48>', 'o', 'w', 'e', 'v', 'er', ',', '▁the', '▁', 'v', 'a', 'st', '▁ma', '<0x6A>', 'or', 'it', 'y', '▁', 'o', 'f', '▁', 'co', 'de', '▁', 'p', 'o', 'in', 't', 's', '▁', 'in', '▁mo', 'de', 'r', 'n', '▁text', '▁', 'b', 'e', 'l', 'on', 'g', '▁to', '▁the', '▁', 'B', '<0x4D>', 'P', '.', ')', '<0x0A>', '<0x0A>', 'P', 'lan', 'e', '▁', '<0x31>', '▁', 'c', 'on', 't', 'a', 'in', 's', '▁', 'h', 'is', 't', 'or', 'ic', 'a', 'l', '▁s', 'c', 'r', 'i', 'p', 't', 's', ',', '▁s', 'u', 'c', 'h', '▁a', 's', '▁S', 'u', 'm', 'er', 'i', 'a', 'n', '▁', 'c', 'u', 'n', 'e', 'if', 'or', 'm', '▁and', '▁', 'E', 'g', 'y', 'p', 't', 'i', 'a', 'n', '▁', 'h', 'i', 'er', 'o', 'g', 'ly', 'p', 'h', 's', ',', '▁a', 's', '▁w', 'e', 'l', 'l', '▁a', 's', '▁', 'em', 'o', '<0x6A>', 'i', '▁and', '▁', 'v', 'a', 'r', 'i', 'o', 'u', 's', '▁', 'o', 't', 'h', 'er', '▁s', 'y', 'm', 'b', 'o', 'l', 's', '.', '▁', 'P', 'lan', 'e', '▁', '<0x32>', '▁', 'c', 'on', 't', 'a', 'in', 's', '▁a', '▁', 'la', 'r', 'g', 'e', '▁', 'b', 'lo', 'c', 'k', '▁', 'o', 'f', '▁', 'l', 'es', 's', '-', 'co', 'm', 'm', 'on', '▁and', '▁', 'h', 'is', 't', 'or', 'ic', 'a', 'l', '▁', '<0x48>', 'a', 'n', '▁', 'c', 'h', 'a', 'ra', 'c', 't', 'er', 's', '.', '▁', '<0x54>', 'h', 'e', '▁', 'r', 'em', 'a', 'in', 'ing', '▁', 'p', 'lan', 'es', '▁a', 'r', 'e', '▁', 'em', 'p', 't', 'y', ',', '▁', 'ex', 'ce', 'p', 't', '▁f', 'or', '▁a', '▁s', 'm', 'a', 'l', 'l', '▁n', 'u', 'm', 'b', 'er', '▁', 'o', 'f', '▁', 'ra', 'r', 'e', 'ly', '-', 'u', 's', 'ed', '▁f', 'or', 'm', 'at', 't', 'ing', '▁', 'c', 'h', 'a', 'ra', 'c', 't', 'er', 's', '▁', 'in', '▁', 'P', 'lan', 'e', '▁', '<0x31>', '<0x34>', '<0x3B>', '▁', 'p', 'lan', 'es', '▁', '<0x31>', '<0x35>', '<0xE2>', '<0x80>', '<0x93>', '<0x31>', '<0x36>', '▁a', 'r', 'e', '▁', 'r', 'es', 'er', 'v', 'ed', '▁', 'ent', 'ir', 'e', 'ly', '▁f', 'or', '▁pr', 'i', 'v', 'at', 'e', '▁u', 's', 'e', '.', '<0x0A>', '<0x0A>', 'S', 'c', 'r', 'i', 'p', 't', 's', '<0x0A>', '<0x4C>', 'et', '<0xE2>', '<0x80>', '<0x99>', 's', '▁', 'z', 'o', 'o', 'm', '▁', 'in', '▁', 'on', '▁the', '▁f', 'ir', 'st', '▁th', 'r', 'e', 'e', '▁', 'p', 'lan', 'es', ',', '▁s', 'in', 'ce', '▁th', 'at', '<0xE2>', '<0x80>', '<0x99>', 's', '▁w', 'h', 'er', 'e', '▁the', '▁a', 'c', 't', 'ion', '▁is', '<0x3A>', '<0x0A>', '<0x0A>', '<0x4D>', 'a', 'p', '▁', 'o', 'f', '▁s', 'c', 'r', 'i', 'p', 't', 's', '▁', 'in', '▁', '<0x55>', 'n', 'ic', 'o', 'de', '▁', 'p', 'lan', 'es', '▁', '<0x30>', '<0xE2>', '<0x80>', '<0x93>', '<0x32>', '▁(', 'c', 'l', 'ic', 'k', '▁to', '▁', 'z', 'o', 'o', 'm', ')', '<0x0A>', '<0x0A>', '<0x54>', 'h', 'is', '▁ma', 'p', '▁', 'co', 'l', 'or', '-', 'co', 'de', 's', '▁the', '▁', '<0x31>', '<0x33>', '<0x35>', '▁', 'd', 'if', 'f', 'er', 'ent', '▁s', 'c', 'r', 'i', 'p', 't', 's', '▁', 'in', '▁', '<0x55>', 'n', 'ic', 'o', 'de', '.', '▁', '<0x59>', 'o', 'u', '▁', 'c', 'a', 'n', '▁s', 'e', 'e', '▁', 'h', 'o', 'w', '▁', '<0x48>', 'a', 'n', '▁(', ')', '▁and', '▁', 'K', 'or', 'e', 'a', 'n', '▁(', ')', '▁t', 'a', 'ke', '▁u', 'p', '▁mo', 'st', '▁', 'o', 'f', '▁the', '▁', 'ra', 'n', 'g', 'e', '▁', 'o', 'f', '▁the', '▁', 'B', '<0x4D>', 'P', '▁(', 't', 'h', 'e', '▁', 'l', 'e', 'f', 't', '▁', 'la', 'r', 'g', 'e', '▁s', '<0x71>', 'u', 'a', 'r', 'e', ')', '.', '▁', 'B', 'y', '▁', 'c', 'on', 't', 'ra', 'st', ',', '▁al', 'l', '▁', 'o', 'f', '▁the', '▁', 'E', 'u', 'r', 'o', 'p', 'e', 'a', 'n', ',', '▁', '<0x4D>', 'i', 'd', 'd', 'l', 'e', '▁', 'E', 'a', 'st', 'er', 'n', ',', '▁and', '▁S', 'o', 'u', 't', 'h', '▁', '<0x41>', 's', 'i', 'a', 'n', '▁s', 'c', 'r', 'i', 'p', 't', 's', '▁f', 'it', '▁', 'in', 'to', '▁the', '▁f', 'ir', 'st', '▁', 'r', 'o', 'w', '▁', 'o', 'f', '▁the', '▁', 'B', '<0x4D>', 'P', '▁', 'in', '▁th', 'is', '▁', 'd', 'i', 'ag', 'ra', 'm', '.', '<0x0A>', '<0x0A>', '<0x4D>', 'a', 'n', 'y', '▁a', 'r', 'e', 'as', '▁', 'o', 'f', '▁the', '▁', 'co', 'de', 's', 'p', 'a', 'ce', '▁a', 'r', 'e', '▁a', 'd', 'a', 'p', 't', 'ed', '▁', 'or', '▁', 'co', 'p', 'i', 'ed', '▁f', 'r', 'o', 'm', '▁', 'e', 'a', 'r', 'l', 'i', 'er', '▁', 'en', 'co', 'd', 'ing', 's', '.', '▁', '<0x46>', 'or', '▁', 'ex', 'a', 'm', 'p', 'l', 'e', ',', '▁the', '▁f', 'ir', 'st', '▁', '<0x31>', '<0x32>', '<0x38>', '▁', 'co', 'de', '▁', 'p', 'o', 'in', 't', 's', '▁', 'o', 'f', '▁', '<0x55>', 'n', 'ic', 'o', 'de', '▁a', 'r', 'e', '▁', '<0x6A>', 'u', 'st', '▁a', '▁', 'co', 'p', 'y', '▁', 'o', 'f', '▁', '<0x41>', 'S', '<0x43>', '<0x49>', '<0x49>', '.', '▁', '<0x54>', 'h', 'is', '▁', 'h', 'as', '▁', 'c', 'l', 'e', 'a', 'r', '▁', 'b', 'en', 'e', 'f', 'it', 's', '▁f', 'or', '▁', 'co', 'm', 'p', 'at', 'i', 'b', 'i', 'l', 'it', 'y', '<0xE2>', '<0x80>', '<0x94>', 'it', '<0xE2>', '<0x80>', '<0x99>', 's', '▁', 'e', 'as', 'y', '▁to', '▁', 'lo', 's', 's', 'l', 'es', 's', 'ly', '▁', 'c', 'on', 'v', 'er', 't', '▁text', 's', '▁f', 'r', 'o', 'm', '▁s', 'm', 'a', 'l', 'l', 'er', '▁', 'en', 'co', 'd', 'ing', 's', '▁', 'in', 'to', '▁', '<0x55>', 'n', 'ic', 'o', 'de', '▁(', 'a', 'n', 'd', '▁the', '▁', 'o', 't', 'h', 'er', '▁', 'd', 'ir', 'ec', 't', 'ion', '▁to', 'o', ',', '▁a', 's', '▁', 'l', 'on', 'g', '▁a', 's', '▁n', 'o', '▁', 'c', 'h', 'a', 'ra', 'c', 't', 'er', 's', '▁', 'o', 'u', 't', 's', 'i', 'de', '▁the', '▁s', 'm', 'a', 'l', 'l', 'er', '▁', 'en', 'co', 'd', 'ing', '▁a', 'r', 'e', '▁u', 's', 'ed', ')', '.', '<0x0A>', '<0x0A>', '<0x55>', 's', 'age', '▁', '<0x46>', 'r', 'e', '<0x71>', 'u', 'en', 'c', 'y', '<0x0A>', '<0x4F>', 'n', 'e', '▁m', 'or', 'e', '▁', 'in', 't', 'er', 'e', 'st', 'ing', '▁w', 'a', 'y', '▁to', '▁', 'v', 'is', 'u', 'a', 'l', 'iz', 'e', '▁the', '▁', 'co', 'de', 's', 'p', 'a', 'ce', '▁is', '▁to', '▁', 'lo', 'o', 'k', '▁a', 't', '▁the', '▁', 'd', 'is', 't', 'r', 'i', 'b', 'u', 't', 'ion', '▁', 'o', 'f', '▁u', 's', 'age', '<0xE2>', '<0x80>', '<0x94>', 'in', '▁', 'o', 't', 'h', 'er', '▁w', 'or', 'd', 's', ',', '▁', 'h', 'o', 'w', '▁', 'o', 'f', 't', 'en', '▁', 'e', 'a', 'c', 'h', '▁', 'co', 'de', '▁', 'p', 'o', 'in', 't', '▁is', '▁a', 'c', 't', 'u', 'a', 'l', 'ly', '▁u', 's', 'ed', '▁', 'in', '▁', 'r', 'e', 'a', 'l', '-', 'wor', 'l', 'd', '▁text', 's', '.', '▁', 'B', 'e', 'lo', 'w', '▁is', '▁a', '▁', 'h', 'e', 'at', '▁ma', 'p', '▁', 'o', 'f', '▁', 'p', 'lan', 'es', '▁', '<0x30>', '<0xE2>', '<0x80>', '<0x93>', '<0x32>', '▁', 'b', 'as', 'ed', '▁', 'on', '▁a', '▁', 'la', 'r', 'g', 'e', '▁s', 'a', 'm', 'p', 'l', 'e', '▁', 'o', 'f', '▁text', '▁f', 'r', 'o', 'm', '▁', '<0x57>', 'i', 'k', 'i', 'p', 'ed', 'i', 'a', '▁and', '▁', '<0x54>', 'w', 'it', 't', 'er', '▁(', 'a', 'l', 'l', '▁language', 's', ')', '.', '▁', '<0x46>', 'r', 'e', '<0x71>', 'u', 'en', 'c', 'y', '▁', 'in', 'c', 'r', 'e', 'as', 'es', '▁f', 'r', 'o', 'm', '▁', 'b', 'la', 'c', 'k', '▁(', 'n', 'e', 'v', 'er', '▁s', 'e', 'en', ')', '▁th', 'r', 'o', 'u', 'g', 'h', '▁', 'r', 'ed', '▁and', '▁', 'y', 'e', 'l', 'lo', 'w', '▁to', '▁w', 'h', 'it', 'e', '.', '<0x0A>', '<0x0A>', '<0x48>', 'e', 'at', '▁ma', 'p', '▁', 'o', 'f', '▁', 'co', 'de', '▁', 'p', 'o', 'in', 't', '▁u', 's', 'age', '▁f', 'r', 'e', '<0x71>', 'u', 'en', 'c', 'y', '▁', 'in', '▁', '<0x55>', 'n', 'ic', 'o', 'de', '▁', 'p', 'lan', 'es', '▁', '<0x30>', '<0xE2>', '<0x80>', '<0x93>', '<0x32>', '▁(', 'c', 'l', 'ic', 'k', '▁to', '▁', 'z', 'o', 'o', 'm', ')', '<0x0A>', '<0x0A>', '<0x59>', 'o', 'u', '▁', 'c', 'a', 'n', '▁s', 'e', 'e', '▁th', 'at', '▁the', '▁', 'v', 'a', 'st', '▁ma', '<0x6A>', 'or', 'it', 'y', '▁', 'o', 'f', '▁th', 'is', '▁text', '▁s', 'a', 'm', 'p', 'l', 'e', '▁', 'l', 'i', 'es', '▁', 'in', '▁the', '▁', 'B', '<0x4D>', 'P', ',', '▁w', 'it', 'h', '▁', 'on', 'ly', '▁s', 'c', 'at', 't', 'er', 'ed', '▁u', 's', 'age', '▁', 'o', 'f', '▁', 'co', 'de', '▁', 'p', 'o', 'in', 't', 's', '▁f', 'r', 'o', 'm', '▁', 'p', 'lan', 'es', '▁', '<0x31>', '<0xE2>', '<0x80>', '<0x93>', '<0x32>', '.', '▁', '<0x54>', 'h', 'e', '▁', 'b', 'ig', 'g', 'e', 'st', '▁', 'ex', 'ce', 'p', 't', 'ion', '▁is', '▁', 'em', 'o', '<0x6A>', 'i', ',', '▁w', 'h', 'ic', 'h', '▁s', 'h', 'o', 'w', '▁u', 'p', '▁', 'h', 'er', 'e', '▁a', 's', '▁the', '▁s', 'e', 'v', 'e', 'ral', '▁', 'b', 'r', 'ig', 'h', 't', '▁s', '<0x71>', 'u', 'a', 'r', 'es', '▁', 'in', '▁the', '▁', 'b', 'o', 't', 'to', 'm', '▁', 'r', 'o', 'w', '▁', 'o', 'f', '▁', 'p', 'lan', 'e', '▁', '<0x31>', '.', '<0x0A>', '<0x0A>', 'E', 'n', 'co', 'd', 'ing', 's', '<0x0A>', '<0x57>', 'e', '<0xE2>', '<0x80>', '<0x99>', 'v', 'e', '▁s', 'e', 'en', '▁th', 'at', '▁', '<0x55>', 'n', 'ic', 'o', 'de', '▁', 'co', 'de', '▁', 'p', 'o', 'in', 't', 's', '▁a', 'r', 'e', '▁a', 'b', 'st', 'ra', 'c', 't', 'ly', '▁', 'i', 'd', 'ent', 'if', 'i', 'ed', '▁', 'by', '▁the', 'ir', '▁', 'in', 'de', 'x', '▁', 'in', '▁the', '▁', 'co', 'de', 's', 'p', 'a', 'ce', ',', '▁', 'ra', 'n', 'g', 'ing', '▁f', 'r', 'o', 'm', '▁', '<0x55>', '<0x2B>', '<0x30>', '<0x30>', '<0x30>', '<0x30>', '▁to', '▁', '<0x55>', '<0x2B>', '<0x31>', '<0x30>', '<0x46>', '<0x46>', '<0x46>', '<0x46>', '.', '▁', 'B', 'u', 't', '▁', 'h', 'o', 'w', '▁', 'do', '▁', 'co', 'de', '▁', 'p', 'o', 'in', 't', 's', '▁', 'g', 'et', '▁', 'r', 'e', 'pr', 'es', 'ent', 'ed', '▁a', 's', '▁', 'by', 't', 'es', ',', '▁', 'in', '▁m', 'em', 'or', 'y', '▁', 'or', '▁', 'in', '▁a', '▁f', 'i', 'l', 'e', '<0x3F>', '<0x0A>', '<0x0A>', '<0x54>', 'h', 'e', '▁mo', 'st', '▁', 'c', 'on', 'v', 'en', 'i', 'ent', ',', '▁', 'co', 'm', 'p', 'u', 't', 'er', '-', 'f', 'r', 'i', 'end', 'l', 'i', 'e', 'st', '▁(', 'a', 'n', 'd', '▁pr', 'o', 'g', 'ra', 'm', 'm', 'er', '-', 'f', 'r', 'i', 'end', 'l', 'i', 'e', 'st', ')', '▁th', 'ing', '▁to', '▁', 'do', '▁w', 'o', 'u', 'l', 'd', '▁', 'b', 'e', '▁to', '▁', '<0x6A>', 'u', 'st', '▁s', 't', 'or', 'e', '▁the', '▁', 'co', 'de', '▁', 'p', 'o', 'in', 't', '▁', 'in', 'de', 'x', '▁a', 's', '▁a', '▁', '<0x33>', '<0x32>', '-', 'b', 'it', '▁', 'in', 't', 'e', 'g', 'er', '.', '▁', '<0x54>', 'h', 'is', '▁w', 'or', 'k', 's', ',', '▁', 'b', 'u', 't', '▁', 'it', '▁', 'c', 'on', 's', 'u', 'm', 'es', '▁', '<0x34>', '▁', 'by', 't', 'es', '▁', 'p', 'er', '▁', 'co', 'de', '▁', 'p', 'o', 'in', 't', ',', '▁w', 'h', 'ic', 'h', '▁is', '▁s', 'or', 't', '▁', 'o', 'f', '▁a', '▁', 'lo', 't', '.', '▁', '<0x55>', 's', 'ing', '▁', '<0x33>', '<0x32>', '-', 'b', 'it', '▁', 'in', 't', 's', '▁f', 'or', '▁', '<0x55>', 'n', 'ic', 'o', 'de', '▁w', 'i', 'l', 'l', '▁', 'co', 'st', '▁', 'y', 'o', 'u', '▁a', '▁', 'b', 'u', 'n', 'c', 'h', '▁', 'o', 'f', '▁', 'ext', 'ra', '▁s', 'to', 'ra', 'g', 'e', ',', '▁m', 'em', 'or', 'y', ',', '▁and', '▁', 'p', 'er', 'f', 'or', 'm', 'a', 'n', 'ce', '▁', 'in', '▁', 'b', 'a', 'n', 'd', 'w', 'i', 'd', 't', 'h', '-', 'b', 'o', 'u', 'n', 'd', '▁s', 'c', 'en', 'a', 'r', 'i', 'o', 's', ',', '▁', 'if', '▁', 'y', 'o', 'u', '▁w', 'or', 'k', '▁w', 'it', 'h', '▁a', '▁', 'lo', 't', '▁', 'o', 'f', '▁text', '.', '<0x0A>', '<0x0A>', '<0x43>', 'on', 's', 'e', '<0x71>', 'u', 'ent', 'ly', ',', '▁th', 'er', 'e', '▁a', 'r', 'e', '▁s', 'e', 'v', 'e', 'ral', '▁m', 'or', 'e', '-', 'co', 'm', 'p', 'a', 'c', 't', '▁', 'en', 'co', 'd', 'ing', 's', '▁f', 'or', '▁', '<0x55>', 'n', 'ic', 'o', 'de', '.', '▁', '<0x54>', 'h', 'e', '▁', '<0x33>', '<0x32>', '-', 'b', 'it', '▁', 'in', 't', 'e', 'g', 'er', '▁', 'en', 'co', 'd', 'ing', '▁is', '▁', 'o', 'f', 'f', 'ic', 'i', 'a', 'l', 'ly', '▁', 'c', 'a', 'l', 'l', 'ed', '▁', '<0x55>', '<0x54>', '<0x46>', '-', '<0x33>', '<0x32>', '▁(', '<0x55>', '<0x54>', '<0x46>', '▁', '<0x3D>', '▁', '<0xE2>', '<0x80>', '<0x9C>', '<0x55>', 'n', 'ic', 'o', 'de', '▁', '<0x54>', 'ra', 'n', 's', 'f', 'or', 'm', 'at', 'ion', '▁', '<0x46>', 'or', 'm', 'at', '<0xE2>', '<0x80>', '<0x9D>', ')', ',', '▁', 'b', 'u', 't', '▁', 'it', '<0xE2>', '<0x80>', '<0x99>', 's', '▁', 'ra', 'r', 'e', 'ly', '▁u', 's', 'ed', '▁f', 'or', '▁s', 'to', 'ra', 'g', 'e', '.', '▁', '<0x41>', 't', '▁mo', 'st', ',', '▁', 'it', '▁', 'co', 'm', 'es', '▁u', 'p', '▁s', 'o', 'm', 'et', 'im', 'es', '▁a', 's', '▁a', '▁t', 'em', 'p', 'o', 'ra', 'r', 'y', '▁', 'in', 't', 'er', 'n', 'a', 'l', '▁', 'r', 'e', 'pr', 'es', 'ent', 'at', 'ion', ',', '▁f', 'or', '▁', 'ex', 'a', 'm', 'in', 'ing', '▁', 'or', '▁', 'o', 'p', 'e', 'ra', 't', 'ing', '▁', 'on', '▁the', '▁', 'co', 'de', '▁', 'p', 'o', 'in', 't', 's', '▁', 'in', '▁a', '▁s', 't', 'r', 'ing', '.', '<0x0A>', '<0x0A>', '<0x4D>', 'u', 'c', 'h', '▁m', 'or', 'e', '▁', 'co', 'm', 'm', 'on', 'ly', ',', '▁', 'y', 'o', 'u', '<0xE2>', '<0x80>', '<0x99>', 'l', 'l', '▁s', 'e', 'e', '▁', '<0x55>', 'n', 'ic', 'o', 'de', '▁text', '▁', 'en', 'co', 'de', 'd', '▁a', 's', '▁', 'e', 'it', 'h', 'er', '▁', '<0x55>', '<0x54>', '<0x46>', '-', '<0x38>', '▁', 'or', '▁', '<0x55>', '<0x54>', '<0x46>', '-', '<0x31>', '<0x36>', '.', '▁', '<0x54>', 'h', 'es', 'e', '▁a', 'r', 'e', '▁', 'b', 'o', 't', 'h', '▁', 'v', 'a', 'r', 'i', 'ab', 'l', 'e', '-', 'l', 'en', 'g', 't', 'h', '▁', 'en', 'co', 'd', 'ing', 's', ',', '▁ma', 'de', '▁u', 'p', '▁', 'o', 'f', '▁', '<0x38>', '-', 'b', 'it', '▁', 'or', '▁', '<0x31>', '<0x36>', '-', 'b', 'it', '▁un', 'it', 's', ',', '▁', 'r', 'es', 'p', 'ec', 't', 'i', 'v', 'e', 'ly', '.', '▁', '<0x49>', 'n', '▁the', 's', 'e', '▁s', 'c', 'h', 'em', 'es', ',', '▁', 'co', 'de', '▁', 'p', 'o', 'in', 't', 's', '▁w', 'it', 'h', '▁s', 'm', 'a', 'l', 'l', 'er', '▁', 'in', 'de', 'x', '▁', 'v', 'a', 'l', 'u', 'es', '▁t', 'a', 'ke', '▁u', 'p', '▁f', 'e', 'w', 'er', '▁', 'by', 't', 'es', ',', '▁w', 'h', 'ic', 'h', '▁s', 'a', 'v', 'es', '▁a', '▁', 'lo', 't', '▁', 'o', 'f', '▁m', 'em', 'or', 'y', '▁f', 'or', '▁t', 'y', 'p', 'ic', 'a', 'l', '▁text', 's', '.', '▁', '<0x54>', 'h', 'e', '▁t', 'ra', 'de', '-', 'o', 'f', 'f', '▁is', '▁th', 'at', '▁pr', 'o', 'ce', 's', 's', 'ing', '▁', '<0x55>', '<0x54>', '<0x46>', '-', '<0x38>', '/', '<0x31>', '<0x36>', '▁text', 's', '▁is', '▁m', 'or', 'e', '▁pr', 'o', 'g', 'ra', 'm', 'm', 'at', 'ic', 'a', 'l', 'ly', '▁', 'in', 'v', 'o', 'l', 'v', 'ed', ',', '▁and', '▁', 'l', 'i', 'ke', 'ly', '▁s', 'lo', 'w', 'er', '.', '<0x0A>', '<0x0A>', '<0x55>', '<0x54>', '<0x46>', '-', '<0x38>', '<0x0A>', '<0x49>', 'n', '▁', '<0x55>', '<0x54>', '<0x46>', '-', '<0x38>', ',', '▁', 'e', 'a', 'c', 'h', '▁', 'co', 'de', '▁', 'p', 'o', 'in', 't', '▁is', '▁s', 't', 'or', 'ed', '▁u', 's', 'ing', '▁', '<0x31>', '▁to', '▁', '<0x34>', '▁', 'by', 't', 'es', ',', '▁', 'b', 'as', 'ed', '▁', 'on', '▁', 'it', 's', '▁', 'in', 'de', 'x', '▁', 'v', 'a', 'l', 'u', 'e', '.', '<0x0A>', '<0x0A>', '<0x55>', '<0x54>', '<0x46>', '-', '<0x38>', '▁u', 's', 'es', '▁a', '▁system', '▁', 'o', 'f', '▁', 'b', 'in', 'a', 'r', 'y', '▁pre', 'f', 'i', 'x', 'es', ',', '▁', 'in', '▁w', 'h', 'ic', 'h', '▁the', '▁', 'h', 'ig', 'h', '▁', 'b', 'it', 's', '▁', 'o', 'f', '▁', 'e', 'a', 'c', 'h', '▁', 'by', 't', 'e', '▁ma', 'r', 'k', '▁w', 'h', 'et', 'h', 'er', '▁', 'it', '<0xE2>', '<0x80>', '<0x99>', 's', '▁a', '▁s', 'ing', 'l', 'e', '▁', 'by', 't', 'e', ',', '▁the', '▁', 'b', 'e', 'g', 'in', 'n', 'ing', '▁', 'o', 'f', '▁a', '▁m', 'u', 'l', 't', 'i', '-', 'by', 't', 'e', '▁s', 'e', '<0x71>', 'u', 'ence', ',', '▁', 'or', '▁a', '▁', 'c', 'on', 't', 'in', 'u', 'at', 'ion', '▁', 'by', 't', 'e', '<0x3B>', '▁the', '▁', 'r', 'em', 'a', 'in', 'ing', '▁', 'b', 'it', 's', ',', '▁', 'c', 'on', 'c', 'at', 'en', 'at', 'ed', ',', '▁', 'g', 'i', 'v', 'e', '▁the', '▁', 'co', 'de', '▁', 'p', 'o', 'in', 't', '▁', 'in', 'de', 'x', '.', '▁', '<0x54>', 'h', 'is', '▁t', 'ab', 'l', 'e', '▁s', 'h', 'o', 'w', 's', '▁', 'h', 'o', 'w', '▁', 'it', '▁w', 'or', 'k', 's', '<0x3A>', '<0x0A>', '<0x0A>', '<0x55>', '<0x54>', '<0x46>', '-', '<0x38>', '▁(', 'b', 'in', 'a', 'r', 'y', ')', '<0x09>', '<0x43>', 'o', 'de', '▁', 'p', 'o', 'in', 't', '▁(', 'b', 'in', 'a', 'r', 'y', ')', '<0x09>', '<0x52>', 'a', 'n', 'g', 'e', '<0x0A>', '<0x30>', 'x', 'x', 'x', 'x', 'x', 'x', 'x', '<0x09>', 'x', 'x', 'x', 'x', 'x', 'x', 'x', '<0x09>', '<0x55>', '<0x2B>', '<0x30>', '<0x30>', '<0x30>', '<0x30>', '<0xE2>', '<0x80>', '<0x93>', '<0x55>', '<0x2B>', '<0x30>', '<0x30>', '<0x37>', '<0x46>', '<0x0A>', '<0x31>', '<0x31>', '<0x30>', 'x', 'x', 'x', 'x', 'x', '▁', '<0x31>', '<0x30>', 'y', 'y', 'y', 'y', 'y', 'y', '<0x09>', 'x', 'x', 'x', 'x', 'x', 'y', 'y', 'y', 'y', 'y', 'y', '<0x09>', '<0x55>', '<0x2B>', '<0x30>', '<0x30>', '<0x38>', '<0x30>', '<0xE2>', '<0x80>', '<0x93>', '<0x55>', '<0x2B>', '<0x30>', '<0x37>', '<0x46>', '<0x46>', '<0x0A>', '<0x31>', '<0x31>', '<0x31>', '<0x30>', 'x', 'x', 'x', 'x', '▁', '<0x31>', '<0x30>', 'y', 'y', 'y', 'y', 'y', 'y', '▁', '<0x31>', '<0x30>', 'z', 'z', 'z', 'z', 'z', 'z', '<0x09>', 'x', 'x', 'x', 'x', 'y', 'y', 'y', 'y', 'y', 'y', 'z', 'z', 'z', 'z', 'z', 'z', '<0x09>', '<0x55>', '<0x2B>', '<0x30>', '<0x38>', '<0x30>', '<0x30>', '<0xE2>', '<0x80>', '<0x93>', '<0x55>', '<0x2B>', '<0x46>', '<0x46>', '<0x46>', '<0x46>', '<0x0A>', '<0x31>', '<0x31>', '<0x31>', '<0x31>', '<0x30>', 'x', 'x', 'x', '▁', '<0x31>', '<0x30>', 'y', 'y', 'y', 'y', 'y', 'y', '▁', '<0x31>', '<0x30>', 'z', 'z', 'z', 'z', 'z', 'z', '▁', '<0x31>', '<0x30>', 'w', 'w', 'w', 'w', 'w', 'w', '<0x09>', 'x', 'x', 'x', 'y', 'y', 'y', 'y', 'y', 'y', 'z', 'z', 'z', 'z', 'z', 'z', 'w', 'w', 'w', 'w', 'w', 'w', '<0x09>', '<0x55>', '<0x2B>', '<0x31>', '<0x30>', '<0x30>', '<0x30>', '<0x30>', '<0xE2>', '<0x80>', '<0x93>', '<0x55>', '<0x2B>', '<0x31>', '<0x30>', '<0x46>', '<0x46>', '<0x46>', '<0x46>', '<0x0A>', '<0x41>', '▁', 'h', 'a', 'n', 'd', 'y', '▁pr', 'o', 'p', 'er', 't', 'y', '▁', 'o', 'f', '▁', '<0x55>', '<0x54>', '<0x46>', '-', '<0x38>', '▁is', '▁th', 'at', '▁', 'co', 'de', '▁', 'p', 'o', 'in', 't', 's', '▁', 'b', 'e', 'lo', 'w', '▁', '<0x31>', '<0x32>', '<0x38>', '▁(', '<0x41>', 'S', '<0x43>', '<0x49>', '<0x49>', '▁', 'c', 'h', 'a', 'ra', 'c', 't', 'er', 's', ')', '▁a', 'r', 'e', '▁', 'en', 'co', 'de', 'd', '▁a', 's', '▁s', 'ing', 'l', 'e', '▁', 'by', 't', 'es', ',', '▁and', '▁al', 'l', '▁n', 'on', '-', '<0x41>', 'S', '<0x43>', '<0x49>', '<0x49>', '▁', 'co', 'de', '▁', 'p', 'o', 'in', 't', 's', '▁a', 'r', 'e', '▁', 'en', 'co', 'de', 'd', '▁u', 's', 'ing', '▁s', 'e', '<0x71>', 'u', 'ence', 's', '▁', 'o', 'f', '▁', 'by', 't', 'es', '▁', '<0x31>', '<0x32>', '<0x38>', '<0xE2>', '<0x80>', '<0x93>', '<0x32>', '<0x35>', '<0x35>', '.', '▁', '<0x54>', 'h', 'is', '▁', 'h', 'as', '▁a', '▁', 'co', 'u', 'p', 'l', 'e', '▁', 'o', 'f', '▁n', 'i', 'ce', '▁', 'c', 'on', 's', 'e', '<0x71>', 'u', 'ence', 's', '.', '▁', '<0x46>', 'ir', 'st', ',', '▁an', 'y', '▁s', 't', 'r', 'ing', 's', '▁', 'or', '▁f', 'i', 'l', 'es', '▁', 'o', 'u', 't', '▁th', 'er', 'e', '▁th', 'at', '▁a', 'r', 'e', '▁al', 'r', 'e', 'a', 'd', 'y', '▁', 'in', '▁', '<0x41>', 'S', '<0x43>', '<0x49>', '<0x49>', '▁', 'c', 'a', 'n', '▁al', 's', 'o', '▁', 'b', 'e', '▁', 'in', 't', 'er', 'pr', 'et', 'ed', '▁a', 's', '▁', '<0x55>', '<0x54>', '<0x46>', '-', '<0x38>', '▁w', 'it', 'h', 'o', 'u', 't', '▁an', 'y', '▁', 'c', 'on', 'v', 'er', 's', 'ion', '.', '▁S', 'ec', 'on', 'd', ',', '▁', 'lo', 't', 's', '▁', 'o', 'f', '▁w', 'i', 'de', 'ly', '-', 'u', 's', 'ed', '▁s', 't', 'r', 'ing', '▁pr', 'o', 'g', 'ra', 'm', 'm', 'ing', '▁', 'i', 'd', 'i', 'o', 'm', 's', '<0xE2>', '<0x80>', '<0x94>', 's', 'u', 'c', 'h', '▁a', 's', '▁n', 'u', 'l', 'l', '▁t', 'er', 'm', 'in', 'at', 'ion', ',', '▁', 'or', '▁', 'del', 'im', 'it', 'er', 's', '▁(', 'n', 'e', 'w', 'l', 'in', 'es', ',', '▁t', 'ab', 's', ',', '▁', 'co', 'm', 'm', 'as', ',', '▁s', 'la', 's', 'h', 'es', ',', '▁', 'et', 'c', '.', ')', '<0xE2>', '<0x80>', '<0x94>', 'w', 'i', 'l', 'l', '▁', '<0x6A>', 'u', 'st', '▁w', 'or', 'k', '▁', 'on', '▁', '<0x55>', '<0x54>', '<0x46>', '-', '<0x38>', '▁s', 't', 'r', 'ing', 's', '.', '▁', '<0x41>', 'S', '<0x43>', '<0x49>', '<0x49>', '▁', 'by', 't', 'es', '▁n', 'e', 'v', 'er', '▁', 'oc', 'c', 'u', 'r', '▁', 'in', 's', 'i', 'de', '▁the', '▁', 'en', 'co', 'd', 'ing', '▁', 'o', 'f', '▁n', 'on', '-', '<0x41>', 'S', '<0x43>', '<0x49>', '<0x49>', '▁', 'co', 'de', '▁', 'p', 'o', 'in', 't', 's', ',', '▁s', 'o', '▁s', 'e', 'a', 'r', 'c', 'h', 'ing', '▁', 'by', 't', 'e', '-', 'w', 'is', 'e', '▁f', 'or', '▁a', '▁n', 'u', 'l', 'l', '▁t', 'er', 'm', 'in', 'at', 'or', '▁', 'or', '▁a', '▁', 'del', 'im', 'it', 'er', '▁w', 'i', 'l', 'l', '▁', 'do', '▁the', '▁', 'r', 'ig', 'h', 't', '▁th', 'ing', '.', '<0x0A>', '<0x0A>', '<0x54>', 'h', 'a', 'n', 'k', 's', '▁to', '▁th', 'is', '▁', 'c', 'on', 'v', 'en', 'i', 'ence', ',', '▁', 'it', '<0xE2>', '<0x80>', '<0x99>', 's', '▁', 'r', 'e', 'la', 't', 'i', 'v', 'e', 'ly', '▁s', 'im', 'p', 'l', 'e', '▁to', '▁', 'ext', 'end', '▁', 'l', 'e', 'g', 'a', 'c', 'y', '▁', '<0x41>', 'S', '<0x43>', '<0x49>', '<0x49>', '▁pr', 'o', 'g', 'ra', 'm', 's', '▁and', '▁', '<0x41>', 'P', '<0x49>', 's', '▁to', '▁', 'h', 'a', 'n', 'd', 'l', 'e', '▁', '<0x55>', '<0x54>', '<0x46>', '-', '<0x38>', '▁s', 't', 'r', 'ing', 's', '.', '▁', '<0x55>', '<0x54>', '<0x46>', '-', '<0x38>', '▁is', '▁', 'v', 'er', 'y', '▁w', 'i', 'de', 'ly', '▁u', 's', 'ed', '▁', 'in', '▁the', '▁', '<0x55>', 'n', 'i', 'x', '/', '<0x4C>', 'in', 'u', 'x', '▁and', '▁', '<0x57>', 'e', 'b', '▁w', 'or', 'l', 'd', 's', ',', '▁and', '▁ma', 'n', 'y', '▁pr', 'o', 'g', 'ra', 'm', 'm', 'er', 's', '▁a', 'r', 'gu', 'e', '▁', '<0x55>', '<0x54>', '<0x46>', '-', '<0x38>', '▁s', 'h', 'o', 'u', 'l', 'd', '▁', 'b', 'e', '▁the', '▁de', 'f', 'a', 'u', 'l', 't', '▁', 'en', 'co', 'd', 'ing', '▁', 'e', 'v', 'er', 'y', 'w', 'h', 'er', 'e', '.', '<0x0A>', '<0x0A>', '<0x48>', 'o', 'w', 'e', 'v', 'er', ',', '▁', '<0x55>', '<0x54>', '<0x46>', '-', '<0x38>', '▁is', 'n', '<0xE2>', '<0x80>', '<0x99>', 't', '▁a', '▁', 'd', 'r', 'o', 'p', '-', 'in', '▁', 'r', 'e', 'p', 'la', 'ce', 'm', 'ent', '▁f', 'or', '▁', '<0x41>', 'S', '<0x43>', '<0x49>', '<0x49>', '▁s', 't', 'r', 'ing', 's', '▁', 'in', '▁al', 'l', '▁', 'r', 'es', 'p', 'ec', 't', 's', '.', '▁', '<0x46>', 'or', '▁', 'in', 'st', 'a', 'n', 'ce', ',', '▁', 'co', 'de', '▁th', 'at', '▁', 'it', 'e', 'ra', 't', 'es', '▁', 'o', 'v', 'er', '▁the', '▁', '<0xE2>', '<0x80>', '<0x9C>', 'c', 'h', 'a', 'ra', 'c', 't', 'er', 's', '<0xE2>', '<0x80>', '<0x9D>', '▁', 'in', '▁a', '▁s', 't', 'r', 'ing', '▁w', 'i', 'l', 'l', '▁n', 'e', 'ed', '▁to', '▁de', 'co', 'de', '▁', '<0x55>', '<0x54>', '<0x46>', '-', '<0x38>', '▁and', '▁', 'it', 'e', 'ra', 't', 'e', '▁', 'o', 'v', 'er', '▁', 'co', 'de', '▁', 'p', 'o', 'in', 't', 's', '▁(', 'or', '▁ma', 'y', 'b', 'e', '▁', 'g', 'ra', 'p', 'h', 'em', 'e', '▁', 'c', 'l', 'u', 'st', 'er', 's', '<0xE2>', '<0x80>', '<0x94>', 'm', 'or', 'e', '▁a', 'b', 'o', 'u', 't', '▁th', 'o', 's', 'e', '▁', 'la', 't', 'er', ')', ',', '▁n', 'o', 't', '▁', 'by', 't', 'es', '.', '▁', '<0x57>', 'h', 'en', '▁', 'y', 'o', 'u', '▁m', 'e', 'as', 'u', 'r', 'e', '▁the', '▁', '<0xE2>', '<0x80>', '<0x9C>', 'l', 'en', 'g', 't', 'h', '<0xE2>', '<0x80>', '<0x9D>', '▁', 'o', 'f', '▁a', '▁s', 't', 'r', 'ing', ',', '▁', 'y', 'o', 'u', '<0xE2>', '<0x80>', '<0x99>', 'l', 'l', '▁n', 'e', 'ed', '▁to', '▁th', 'in', 'k', '▁a', 'b', 'o', 'u', 't', '▁w', 'h', 'et', 'h', 'er', '▁', 'y', 'o', 'u', '▁w', 'a', 'n', 't', '▁the', '▁', 'l', 'en', 'g', 't', 'h', '▁', 'in', '▁', 'by', 't', 'es', ',', '▁the', '▁', 'l', 'en', 'g', 't', 'h', '▁', 'in', '▁', 'co', 'de', '▁', 'p', 'o', 'in', 't', 's', ',', '▁the', '▁w', 'i', 'd', 't', 'h', '▁', 'o', 'f', '▁the', '▁text', '▁w', 'h', 'en', '▁', 'r', 'en', 'de', 'r', 'ed', ',', '▁', 'or', '▁s', 'o', 'm', 'et', 'h', 'ing', '▁', 'e', 'l', 's', 'e', '.', '<0x0A>', '<0x0A>', '<0x55>', '<0x54>', '<0x46>', '-', '<0x31>', '<0x36>', '<0x0A>', '<0x54>', 'h', 'e', '▁', 'o', 't', 'h', 'er', '▁', 'en', 'co', 'd', 'ing', '▁th', 'at', '▁', 'y', 'o', 'u', '<0xE2>', '<0x80>', '<0x99>', 'r', 'e', '▁', 'l', 'i', 'ke', 'ly', '▁to', '▁', 'en', 'co', 'u', 'n', 't', 'er', '▁is', '▁', '<0x55>', '<0x54>', '<0x46>', '-', '<0x31>', '<0x36>', '.', '▁', '<0x49>', 't', '▁u', 's', 'es', '▁', '<0x31>', '<0x36>', '-', 'b', 'it', '▁w', 'or', 'd', 's', ',', '▁w', 'it', 'h', '▁', 'e', 'a', 'c', 'h', '▁', 'co', 'de', '▁', 'p', 'o', 'in', 't', '▁s', 't', 'or', 'ed', '▁a', 's', '▁', 'e', 'it', 'h', 'er', '▁', '<0x31>', '▁', 'or', '▁', '<0x32>', '▁w', 'or', 'd', 's', '.', '<0x0A>', '<0x0A>', '<0x4C>', 'i', 'ke', '▁', '<0x55>', '<0x54>', '<0x46>', '-', '<0x38>', ',', '▁w', 'e', '▁', 'c', 'a', 'n', '▁', 'ex', 'pr', 'es', 's', '▁the', '▁', '<0x55>', '<0x54>', '<0x46>', '-', '<0x31>', '<0x36>', '▁', 'en', 'co', 'd', 'ing', '▁', 'r', 'u', 'l', 'es', '▁', 'in', '▁the', '▁f', 'or', 'm', '▁', 'o', 'f', '▁', 'b', 'in', 'a', 'r', 'y', '▁pre', 'f', 'i', 'x', 'es', '<0x3A>', '<0x0A>', '<0x0A>', '<0x55>', '<0x54>', '<0x46>', '-', '<0x31>', '<0x36>', '▁(', 'b', 'in', 'a', 'r', 'y', ')', '<0x09>', '<0x43>', 'o', 'de', '▁', 'p', 'o', 'in', 't', '▁(', 'b', 'in', 'a', 'r', 'y', ')', '<0x09>', '<0x52>', 'a', 'n', 'g', 'e', '<0x0A>', 'x', 'x', 'x', 'x', 'x', 'x', 'x', 'x', 'x', 'x', 'x', 'x', 'x', 'x', 'x', 'x', '<0x09>', 'x', 'x', 'x', 'x', 'x', 'x', 'x', 'x', 'x', 'x', 'x', 'x', 'x', 'x', 'x', 'x', '<0x09>', '<0x55>', '<0x2B>', '<0x30>', '<0x30>', '<0x30>', '<0x30>', '<0xE2>', '<0x80>', '<0x93>', '<0x55>', '<0x2B>', '<0x46>', '<0x46>', '<0x46>', '<0x46>', '<0x0A>', '<0x31>', '<0x31>', '<0x30>', '<0x31>', '<0x31>', '<0x30>', 'x', 'x', 'x', 'x', 'x', 'x', 'x', 'x', 'x', 'x', '▁', '<0x31>', '<0x31>', '<0x30>', '<0x31>', '<0x31>', '<0x31>', 'y', 'y', 'y', 'y', 'y', 'y', 'y', 'y', 'y', 'y', '<0x09>', 'x', 'x', 'x', 'x', 'x', 'x', 'x', 'x', 'x', 'x', 'y', 'y', 'y', 'y', 'y', 'y', 'y', 'y', 'y', 'y', '▁', '<0x2B>', '▁', '<0x30>', 'x', '<0x31>', '<0x30>', '<0x30>', '<0x30>', '<0x30>', '<0x09>', '<0x55>', '<0x2B>', '<0x31>', '<0x30>', '<0x30>', '<0x30>', '<0x30>', '<0xE2>', '<0x80>', '<0x93>', '<0x55>', '<0x2B>', '<0x31>', '<0x30>', '<0x46>', '<0x46>', '<0x46>', '<0x46>', '<0x0A>', '<0x41>', '▁m', 'or', 'e', '▁', 'co', 'm', 'm', 'on', '▁w', 'a', 'y', '▁th', 'at', '▁', 'p', 'e', 'o', 'p', 'l', 'e', '▁t', 'a', 'l', 'k', '▁a', 'b', 'o', 'u', 't', '▁', '<0x55>', '<0x54>', '<0x46>', '-', '<0x31>', '<0x36>', '▁', 'en', 'co', 'd', 'ing', ',', '▁th', 'o', 'u', 'g', 'h', ',', '▁is', '▁', 'in', '▁t', 'er', 'm', 's', '▁', 'o', 'f', '▁', 'co', 'de', '▁', 'p', 'o', 'in', 't', 's', '▁', 'c', 'a', 'l', 'l', 'ed', '▁', '<0xE2>', '<0x80>', '<0x9C>', 's', 'u', 'r', 'r', 'o', 'g', 'at', 'es', '<0xE2>', '<0x80>', '<0x9D>', '.', '▁', '<0x41>', 'l', 'l', '▁the', '▁', 'co', 'de', '▁', 'p', 'o', 'in', 't', 's', '▁', 'in', '▁the', '▁', 'ra', 'n', 'g', 'e', '▁', '<0x55>', '<0x2B>', '<0x44>', '<0x38>', '<0x30>', '<0x30>', '<0xE2>', '<0x80>', '<0x93>', '<0x55>', '<0x2B>', '<0x44>', '<0x46>', '<0x46>', '<0x46>', '<0xE2>', '<0x80>', '<0x94>', 'or', '▁', 'in', '▁', 'o', 't', 'h', 'er', '▁w', 'or', 'd', 's', ',', '▁the', '▁', 'co', 'de', '▁', 'p', 'o', 'in', 't', 's', '▁th', 'at', '▁ma', 't', 'c', 'h', '▁the', '▁', 'b', 'in', 'a', 'r', 'y', '▁pre', 'f', 'i', 'x', 'es', '▁', '<0x31>', '<0x31>', '<0x30>', '<0x31>', '<0x31>', '<0x30>', '▁and', '▁', '<0x31>', '<0x31>', '<0x30>', '<0x31>', '<0x31>', '<0x31>', '▁', 'in', '▁the', '▁t', 'ab', 'l', 'e', '▁a', 'b', 'o', 'v', 'e', '<0xE2>', '<0x80>', '<0x94>', 'a', 'r', 'e', '▁', 'r', 'es', 'er', 'v', 'ed', '▁s', 'p', 'ec', 'if', 'ic', 'a', 'l', 'ly', '▁f', 'or', '▁', '<0x55>', '<0x54>', '<0x46>', '-', '<0x31>', '<0x36>', '▁', 'en', 'co', 'd', 'ing', ',', '▁and', '▁', 'd', 'on', '<0xE2>', '<0x80>', '<0x99>', 't', '▁', 'r', 'e', 'pr', 'es', 'ent', '▁an', 'y', '▁', 'v', 'a', 'l', 'i', 'd', '▁', 'c', 'h', 'a', 'ra', 'c', 't', 'er', 's', '▁', 'on', '▁the', 'ir', '▁', 'o', 'w', 'n', '.', '▁', '<0x54>', 'h', 'e', 'y', '<0xE2>', '<0x80>', '<0x99>', 'r', 'e', '▁', 'on', 'ly', '▁m', 'e', 'a', 'n', 't', '▁to', '▁', 'oc', 'c', 'u', 'r', '▁', 'in', '▁the', '▁', '<0x32>', '-', 'wor', 'd', '▁', 'en', 'co', 'd', 'ing', '▁', 'p', 'at', 't', 'er', 'n', '▁a', 'b', 'o', 'v', 'e', ',', '▁w', 'h', 'ic', 'h', '▁is', '▁', 'c', 'a', 'l', 'l', 'ed', '▁a', '▁', '<0xE2>', '<0x80>', '<0x9C>', 's', 'u', 'r', 'r', 'o', 'g', 'at', 'e', '▁', 'p', 'a', 'ir', '<0xE2>', '<0x80>', '<0x9D>', '.', '▁S', 'u', 'r', 'r', 'o', 'g', 'at', 'e', '▁', 'co', 'de', '▁', 'p', 'o', 'in', 't', 's', '▁a', 'r', 'e', '▁', 'i', 'l', 'l', 'e', 'g', 'a', 'l', '▁', 'in', '▁an', 'y', '▁', 'o', 't', 'h', 'er', '▁', 'c', 'on', 't', 'ext', '<0x21>', '▁', '<0x54>', 'h', 'e', 'y', '<0xE2>', '<0x80>', '<0x99>', 'r', 'e', '▁n', 'o', 't', '▁al', 'lo', 'w', 'ed', '▁', 'in', '▁', '<0x55>', '<0x54>', '<0x46>', '-', '<0x38>', '▁', 'or', '▁', '<0x55>', '<0x54>', '<0x46>', '-', '<0x33>', '<0x32>', '▁a', 't', '▁al', 'l', '.', '<0x0A>', '<0x0A>', '<0x48>', 'is', 't', 'or', 'ic', 'a', 'l', 'ly', ',', '▁', '<0x55>', '<0x54>', '<0x46>', '-', '<0x31>', '<0x36>', '▁is', '▁a', '▁de', 's', 'c', 'end', 'a', 'n', 't', '▁', 'o', 'f', '▁the', '▁', 'or', 'ig', 'in', 'a', 'l', ',', '▁pre', '-', '<0x31>', '<0x39>', '<0x39>', '<0x36>', '▁', 'v', 'er', 's', 'ion', 's', '▁', 'o', 'f', '▁', '<0x55>', 'n', 'ic', 'o', 'de', ',', '▁', 'in', '▁w', 'h', 'ic', 'h', '▁th', 'er', 'e', '▁w', 'er', 'e', '▁', 'on', 'ly', '▁', '<0x36>', '<0x35>', ',', '<0x35>', '<0x33>', '<0x36>', '▁', 'co', 'de', '▁', 'p', 'o', 'in', 't', 's', '.', '▁', '<0x54>', 'h', 'e', '▁', 'or', 'ig', 'in', 'a', 'l', '▁', 'in', 't', 'ent', 'ion', '▁w', 'as', '▁th', 'at', '▁th', 'er', 'e', '▁w', 'o', 'u', 'l', 'd', '▁', 'b', 'e', '▁n', 'o', '▁', 'd', 'if', 'f', 'er', 'ent', '▁', '<0xE2>', '<0x80>', '<0x9C>', 'en', 'co', 'd', 'ing', 's', '<0xE2>', '<0x80>', '<0x9D>', '<0x3B>', '▁', '<0x55>', 'n', 'ic', 'o', 'de', '▁w', 'as', '▁s', 'u', 'p', 'p', 'o', 's', 'ed', '▁to', '▁', 'b', 'e', '▁a', '▁s', 't', 'ra', 'ig', 'h', 't', 'f', 'or', 'w', 'a', 'r', 'd', '▁', '<0x31>', '<0x36>', '-', 'b', 'it', '▁', 'c', 'h', 'a', 'ra', 'c', 't', 'er', '▁s', 'et', '.', '▁', '<0x4C>', 'at', 'er', ',', '▁the', '▁', 'co', 'de', 's', 'p', 'a', 'ce', '▁w', 'as', '▁', 'ex', 'p', 'a', 'n', 'de', 'd', '▁to', '▁ma', 'ke', '▁', 'r', 'o', 'o', 'm', '▁f', 'or', '▁a', '▁', 'l', 'on', 'g', '▁t', 'a', 'i', 'l', '▁', 'o', 'f', '▁', 'l', 'es', 's', '-', 'co', 'm', 'm', 'on', '▁(', 'b', 'u', 't', '▁s', 't', 'i', 'l', 'l', '▁', 'im', 'p', 'or', 't', 'a', 'n', 't', ')', '▁', '<0x48>', 'a', 'n', '▁', 'c', 'h', 'a', 'ra', 'c', 't', 'er', 's', ',', '▁w', 'h', 'ic', 'h', '▁the', '▁', '<0x55>', 'n', 'ic', 'o', 'de', '▁de', 's', 'ig', 'n', 'er', 's', '▁', 'd', 'i', 'd', 'n', '<0xE2>', '<0x80>', '<0x99>', 't', '▁', 'or', 'ig', 'in', 'a', 'l', 'ly', '▁', 'p', 'lan', '▁f', 'or', '.', '▁S', 'u', 'r', 'r', 'o', 'g', 'at', 'es', '▁w', 'er', 'e', '▁th', 'en', '▁', 'in', 't', 'r', 'o', 'd', 'u', 'ce', 'd', ',', '▁a', 's', '<0xE2>', '<0x80>', '<0x94>', 'to', '▁', 'p', 'u', 't', '▁', 'it', '▁', 'b', 'l', 'u', 'n', 't', 'ly', '<0xE2>', '<0x80>', '<0x94>', 'a', '▁', 'k', 'l', 'u', 'd', 'g', 'e', ',', '▁al', 'lo', 'w', 'ing', '▁', '<0x31>', '<0x36>', '-', 'b', 'it', '▁', 'en', 'co', 'd', 'ing', 's', '▁to', '▁a', 'c', 'ce', 's', 's', '▁the', '▁n', 'e', 'w', '▁', 'co', 'de', '▁', 'p', 'o', 'in', 't', 's', '.', '<0x0A>', '<0x0A>', '<0x54>', 'o', 'd', 'a', 'y', ',', '▁', '<0x4A>', 'a', 'v', 'as', 'c', 'r', 'i', 'p', 't', '▁u', 's', 'es', '▁', '<0x55>', '<0x54>', '<0x46>', '-', '<0x31>', '<0x36>', '▁a', 's', '▁', 'it', 's', '▁s', 't', 'a', 'n', 'd', 'a', 'r', 'd', '▁s', 't', 'r', 'ing', '▁', 'r', 'e', 'pr', 'es', 'ent', 'at', 'ion', '<0x3A>', '▁', 'if', '▁', 'y', 'o', 'u', '▁a', 's', 'k', '▁f', 'or', '▁the', '▁', 'l', 'en', 'g', 't', 'h', '▁', 'o', 'f', '▁a', '▁s', 't', 'r', 'ing', ',', '▁', 'or', '▁', 'it', 'e', 'ra', 't', 'e', '▁', 'o', 'v', 'er', '▁', 'it', ',', '▁', 'et', 'c', '.,', '▁the', '▁', 'r', 'es', 'u', 'l', 't', '▁w', 'i', 'l', 'l', '▁', 'b', 'e', '▁', 'in', '▁', '<0x55>', '<0x54>', '<0x46>', '-', '<0x31>', '<0x36>', '▁w', 'or', 'd', 's', ',', '▁w', 'it', 'h', '▁an', 'y', '▁', 'co', 'de', '▁', 'p', 'o', 'in', 't', 's', '▁', 'o', 'u', 't', 's', 'i', 'de', '▁the', '▁', 'B', '<0x4D>', 'P', '▁', 'ex', 'pr', 'es', 's', 'ed', '▁a', 's', '▁s', 'u', 'r', 'r', 'o', 'g', 'at', 'e', '▁', 'p', 'a', 'ir', 's', '.', '▁', '<0x55>', '<0x54>', '<0x46>', '-', '<0x31>', '<0x36>', '▁is', '▁al', 's', 'o', '▁u', 's', 'ed', '▁', 'by', '▁the', '▁', '<0x4D>', 'ic', 'r', 'o', 's', 'o', 'f', 't', '▁', '<0x57>', 'in', '<0x33>', '<0x32>', '▁', '<0x41>', 'P', '<0x49>', 's', '<0x3B>', '▁th', 'o', 'u', 'g', 'h', '▁', '<0x57>', 'in', '<0x33>', '<0x32>', '▁s', 'u', 'p', 'p', 'or', 't', 's', '▁', 'e', 'it', 'h', 'er', '▁', '<0x38>', '-', 'b', 'it', '▁', 'or', '▁', '<0x31>', '<0x36>', '-', 'b', 'it', '▁s', 't', 'r', 'ing', 's', ',', '▁the', '▁', '<0x38>', '-', 'b', 'it', '▁', 'v', 'er', 's', 'ion', '▁un', 'a', 'c', 'co', 'u', 'n', 't', 'ab', 'ly', '▁s', 't', 'i', 'l', 'l', '▁', 'do', 'es', 'n', '<0xE2>', '<0x80>', '<0x99>', 't', '▁s', 'u', 'p', 'p', 'or', 't', '▁', '<0x55>', '<0x54>', '<0x46>', '-', '<0x38>', '<0xE2>', '<0x80>', '<0x94>', 'on', 'ly', '▁', 'l', 'e', 'g', 'a', 'c', 'y', '▁', 'co', 'de', '-', 'p', 'age', '▁', 'en', 'co', 'd', 'ing', 's', ',', '▁', 'l', 'i', 'ke', '▁', '<0x41>', 'N', 'S', '<0x49>', '.', '▁', '<0x54>', 'h', 'is', '▁', 'l', 'e', 'a', 'v', 'es', '▁', '<0x55>', '<0x54>', '<0x46>', '-', '<0x31>', '<0x36>', '▁a', 's', '▁the', '▁', 'on', 'ly', '▁w', 'a', 'y', '▁to', '▁', 'g', 'et', '▁pr', 'o', 'p', 'er', '▁', '<0x55>', 'n', 'ic', 'o', 'de', '▁s', 'u', 'p', 'p', 'or', 't', '▁', 'in', '▁', '<0x57>', 'in', 'do', 'w', 's', '.', '▁(', '<0x55>', 'p', 'd', 'at', 'e', '<0x3A>', '▁', 'in', '▁', '<0x57>', 'in', '<0x31>', '<0x30>', '▁', 'v', 'er', 's', 'ion', '▁', '<0x31>', '<0x39>', '<0x30>', '<0x33>', ',', '▁the', 'y', '▁f', 'in', 'a', 'l', 'ly', '▁a', 'd', 'de', 'd', '▁', '<0x55>', '<0x54>', '<0x46>', '-', '<0x38>', '▁s', 'u', 'p', 'p', 'or', 't', '▁to', '▁the', '▁', '<0x38>', '-', 'b', 'it', '▁', '<0x41>', 'P', '<0x49>', 's', '<0x21>', '▁', '<0xF0>', '<0x9F>', '<0x98>', '<0x8A>', ')', '<0x0A>', '<0x0A>', 'B', 'y', '▁the', '▁w', 'a', 'y', ',', '▁', '<0x55>', '<0x54>', '<0x46>', '-', '<0x31>', '<0x36>', '<0xE2>', '<0x80>', '<0x99>', 's', '▁w', 'or', 'd', 's', '▁', 'c', 'a', 'n', '▁', 'b', 'e', '▁s', 't', 'or', 'ed', '▁', 'e', 'it', 'h', 'er', '▁', 'l', 'it', 't', 'l', 'e', '-', 'end', 'i', 'a', 'n', '▁', 'or', '▁', 'b', 'ig', '-', 'end', 'i', 'a', 'n', '.', '▁', '<0x55>', 'n', 'ic', 'o', 'de', '▁', 'h', 'as', '▁n', 'o', '▁', 'o', 'p', 'in', 'ion', '▁', 'on', '▁th', 'at', '▁is', 's', 'u', 'e', ',', '▁th', 'o', 'u', 'g', 'h', '▁', 'it', '▁', 'do', 'es', '▁', 'en', 'co', 'u', 'ra', 'g', 'e', '▁the', '▁', 'c', 'on', 'v', 'ent', 'ion', '▁', 'o', 'f', '▁', 'p', 'u', 't', 't', 'ing', '▁', '<0x55>', '<0x2B>', '<0x46>', 'E', '<0x46>', '<0x46>', '▁', 'z', 'er', 'o', '▁w', 'i', 'd', 't', 'h', '▁n', 'o', '-', 'b', 'r', 'e', 'a', 'k', '▁s', 'p', 'a', 'ce', '▁a', 't', '▁the', '▁to', 'p', '▁', 'o', 'f', '▁a', '▁', '<0x55>', '<0x54>', '<0x46>', '-', '<0x31>', '<0x36>', '▁f', 'i', 'l', 'e', '▁a', 's', '▁a', '▁', 'by', 't', 'e', '-', 'or', 'de', 'r', '▁ma', 'r', 'k', ',', '▁to', '▁', 'd', 'is', 'a', 'm', 'b', 'i', 'gu', 'at', 'e', '▁the', '▁', 'end', 'i', 'a', 'n', 'n', 'es', 's', '.', '▁(', '<0x49>', 'f', '▁the', '▁f', 'i', 'l', 'e', '▁', 'do', 'es', 'n', '<0xE2>', '<0x80>', '<0x99>', 't', '▁ma', 't', 'c', 'h', '▁the', '▁system', '<0xE2>', '<0x80>', '<0x99>', 's', '▁', 'end', 'i', 'a', 'n', 'n', 'es', 's', ',', '▁the', '▁', 'B', '<0x4F>', '<0x4D>', '▁w', 'i', 'l', 'l', '▁', 'b', 'e', '▁de', 'co', 'de', 'd', '▁a', 's', '▁', '<0x55>', '<0x2B>', '<0x46>', '<0x46>', '<0x46>', 'E', ',', '▁w', 'h', 'ic', 'h', '▁is', 'n', '<0xE2>', '<0x80>', '<0x99>', 't', '▁a', '▁', 'v', 'a', 'l', 'i', 'd', '▁', 'co', 'de', '▁', 'p', 'o', 'in', 't', '.', ')', '<0x0A>', '<0x0A>', '<0x43>', 'o', 'm', 'b', 'in', 'ing', '▁', '<0x4D>', 'a', 'r', 'k', 's', '<0x0A>', '<0x49>', 'n', '▁the', '▁s', 't', 'or', 'y', '▁s', 'o', '▁f', 'a', 'r', ',', '▁w', 'e', '<0xE2>', '<0x80>', '<0x99>', 'v', 'e', '▁', 'b', 'e', 'en', '▁f', 'oc', 'u', 's', 'ing', '▁', 'on', '▁', 'co', 'de', '▁', 'p', 'o', 'in', 't', 's', '.', '▁', 'B', 'u', 't', '▁', 'in', '▁', '<0x55>', 'n', 'ic', 'o', 'de', ',', '▁a', '▁', '<0xE2>', '<0x80>', '<0x9C>', 'c', 'h', 'a', 'ra', 'c', 't', 'er', '<0xE2>', '<0x80>', '<0x9D>', '▁', 'c', 'a', 'n', '▁', 'b', 'e', '▁m', 'or', 'e', '▁', 'co', 'm', 'p', 'l', 'ic', 'at', 'ed', '▁th', 'a', 'n', '▁', '<0x6A>', 'u', 'st', '▁an', '▁', 'in', 'd', 'i', 'v', 'i', 'd', 'u', 'a', 'l', '▁', 'co', 'de', '▁', 'p', 'o', 'in', 't', '<0x21>', '<0x0A>', '<0x0A>', '<0x55>', 'n', 'ic', 'o', 'de', '▁', 'in', 'c', 'l', 'u', 'de', 's', '▁a', '▁system', '▁f', 'or', '▁', 'd', 'y', 'n', 'a', 'm', 'ic', 'a', 'l', 'ly', '▁', 'co', 'm', 'p', 'o', 's', 'ing', '▁', 'c', 'h', 'a', 'ra', 'c', 't', 'er', 's', ',', '▁', 'by', '▁', 'co', 'm', 'b', 'in', 'ing', '▁m', 'u', 'l', 't', 'i', 'p', 'l', 'e', '▁', 'co', 'de', '▁', 'p', 'o', 'in', 't', 's', '▁to', 'g', 'et', 'h', 'er', '.', '▁', '<0x54>', 'h', 'is', '▁is', '▁u', 's', 'ed', '▁', 'in', '▁', 'v', 'a', 'r', 'i', 'o', 'u', 's', '▁w', 'a', 'y', 's', '▁to', '▁', 'g', 'a', 'in', '▁f', 'l', 'ex', 'i', 'b', 'i', 'l', 'it', 'y', '▁w', 'it', 'h', 'o', 'u', 't', '▁', 'c', 'a', 'u', 's', 'ing', '▁a', '▁', 'h', 'u', 'g', 'e', '▁', 'co', 'm', 'b', 'in', 'at', 'or', 'i', 'a', 'l', '▁', 'ex', 'p', 'lo', 's', 'ion', '▁', 'in', '▁the', '▁n', 'u', 'm', 'b', 'er', '▁', 'o', 'f', '▁', 'co', 'de', '▁', 'p', 'o', 'in', 't', 's', '.', '<0x0A>', '<0x0A>', '<0x49>', 'n', '▁', 'E', 'u', 'r', 'o', 'p', 'e', 'a', 'n', '▁language', 's', ',', '▁f', 'or', '▁', 'ex', 'a', 'm', 'p', 'l', 'e', ',', '▁th', 'is', '▁s', 'h', 'o', 'w', 's', '▁u', 'p', '▁', 'in', '▁the', '▁a', 'p', 'p', 'l', 'ic', 'at', 'ion', '▁', 'o', 'f', '▁', 'd', 'i', 'a', 'c', 'r', 'it', 'ic', 's', '▁to', '▁', 'l', 'et', 't', 'er', 's', '.', '▁', '<0x55>', 'n', 'ic', 'o', 'de', '▁s', 'u', 'p', 'p', 'or', 't', 's', '▁a', '▁w', 'i', 'de', '▁', 'ra', 'n', 'g', 'e', '▁', 'o', 'f', '▁', 'd', 'i', 'a', 'c', 'r', 'it', 'ic', 's', ',', '▁', 'in', 'c', 'l', 'u', 'd', 'ing', '▁a', 'c', 'u', 't', 'e', '▁and', '▁', 'g', 'ra', 'v', 'e', '▁a', 'c', 'c', 'ent', 's', ',', '▁u', 'm', 'la', 'u', 't', 's', ',', '▁', 'ce', 'd', 'i', 'l', 'la', 's', ',', '▁and', '▁ma', 'n', 'y', '▁m', 'or', 'e', '.', '▁', '<0x41>', 'l', 'l', '▁the', 's', 'e', '▁', 'd', 'i', 'a', 'c', 'r', 'it', 'ic', 's', '▁', 'c', 'a', 'n', '▁', 'b', 'e', '▁a', 'p', 'p', 'l', 'i', 'ed', '▁to', '▁an', 'y', '▁', 'l', 'et', 't', 'er', '▁', 'o', 'f', '▁an', 'y', '▁al', 'p', 'h', 'ab', 'et', '<0xE2>', '<0x80>', '<0x94>', 'a', 'n', 'd', '▁', 'in', '▁f', 'a', 'c', 't', ',', '▁m', 'u', 'l', 't', 'i', 'p', 'l', 'e', '▁', 'd', 'i', 'a', 'c', 'r', 'it', 'ic', 's', '▁', 'c', 'a', 'n', '▁', 'b', 'e', '▁u', 's', 'ed', '▁', 'on', '▁a', '▁s', 'ing', 'l', 'e', '▁', 'l', 'et', 't', 'er', '.', '<0x0A>', '<0x0A>', '<0x49>', 'f', '▁', '<0x55>', 'n', 'ic', 'o', 'de', '▁t', 'r', 'i', 'ed', '▁to', '▁a', 's', 's', 'ig', 'n', '▁a', '▁', 'd', 'is', 't', 'in', 'c', 't', '▁', 'co', 'de', '▁', 'p', 'o', 'in', 't', '▁to', '▁', 'e', 'v', 'er', 'y', '▁', 'p', 'o', 's', 's', 'i', 'b', 'l', 'e', '▁', 'co', 'm', 'b', 'in', 'at', 'ion', '▁', 'o', 'f', '▁', 'l', 'et', 't', 'er', '▁and', '▁', 'd', 'i', 'a', 'c', 'r', 'it', 'ic', 's', ',', '▁th', 'ing', 's', '▁w', 'o', 'u', 'l', 'd', '▁', 'ra', 'p', 'i', 'd', 'ly', '▁', 'g', 'et', '▁', 'o', 'u', 't', '▁', 'o', 'f', '▁', 'h', 'a', 'n', 'd', '.', '▁', '<0x49>', 'n', 'st', 'e', 'a', 'd', ',', '▁the', '▁', 'd', 'y', 'n', 'a', 'm', 'ic', '▁', 'co', 'm', 'p', 'o', 's', 'it', 'ion', '▁system', '▁', 'en', 'ab', 'l', 'es', '▁', 'y', 'o', 'u', '▁to', '▁', 'c', 'on', 'st', 'r', 'u', 'c', 't', '▁the', '▁', 'c', 'h', 'a', 'ra', 'c', 't', 'er', '▁', 'y', 'o', 'u', '▁w', 'a', 'n', 't', ',', '▁', 'by', '▁s', 't', 'a', 'r', 't', 'ing', '▁w', 'it', 'h', '▁a', '▁', 'b', 'as', 'e', '▁', 'co', 'de', '▁', 'p', 'o', 'in', 't', '▁(', 't', 'h', 'e', '▁', 'l', 'et', 't', 'er', ')', '▁and', '▁a', 'p', 'p', 'end', 'ing', '▁a', 'd', 'd', 'it', 'ion', 'a', 'l', '▁', 'co', 'de', '▁', 'p', 'o', 'in', 't', 's', ',', '▁', 'c', 'a', 'l', 'l', 'ed', '▁', '<0xE2>', '<0x80>', '<0x9C>', 'co', 'm', 'b', 'in', 'ing', '▁ma', 'r', 'k', 's', '<0xE2>', '<0x80>', '<0x9D>', ',', '▁to', '▁s', 'p', 'ec', 'if', 'y', '▁the', '▁', 'd', 'i', 'a', 'c', 'r', 'it', 'ic', 's', '.', '▁', '<0x57>', 'h', 'en', '▁a', '▁text', '▁', 'r', 'en', 'de', 'r', 'er', '▁s', 'e', 'es', '▁a', '▁s', 'e', '<0x71>', 'u', 'ence', '▁', 'l', 'i', 'ke', '▁th', 'is', '▁', 'in', '▁a', '▁s', 't', 'r', 'ing', ',', '▁', 'it', '▁a', 'u', 'to', 'm', 'at', 'ic', 'a', 'l', 'ly', '▁s', 't', 'a', 'c', 'k', 's', '▁the', '▁', 'd', 'i', 'a', 'c', 'r', 'it', 'ic', 's', '▁', 'o', 'v', 'er', '▁', 'or', '▁un', 'de', 'r', '▁the', '▁', 'b', 'as', 'e', '▁', 'l', 'et', 't', 'er', '▁to', '▁', 'c', 'r', 'e', 'at', 'e', '▁a', '▁', 'co', 'm', 'p', 'o', 's', 'ed', '▁', 'c', 'h', 'a', 'ra', 'c', 't', 'er', '.', '<0x0A>', '<0x0A>', '<0x46>', 'or', '▁', 'ex', 'a', 'm', 'p', 'l', 'e', ',', '▁the', '▁a', 'c', 'c', 'ent', 'ed', '▁', 'c', 'h', 'a', 'ra', 'c', 't', 'er', '▁', '<0xE2>', '<0x80>', '<0x9C>', '<0xC3>', '<0x81>', '<0xE2>', '<0x80>', '<0x9D>', '▁', 'c', 'a', 'n', '▁', 'b', 'e', '▁', 'ex', 'pr', 'es', 's', 'ed', '▁a', 's', '▁a', '▁s', 't', 'r', 'ing', '▁', 'o', 'f', '▁t', 'w', 'o', '▁', 'co', 'de', '▁', 'p', 'o', 'in', 't', 's', '<0x3A>', '▁', '<0x55>', '<0x2B>', '<0x30>', '<0x30>', '<0x34>', '<0x31>', '▁', '<0xE2>', '<0x80>', '<0x9C>', '<0x41>', '<0xE2>', '<0x80>', '<0x9D>', '▁', 'la', 't', 'in', '▁', 'c', 'a', 'p', 'it', 'a', 'l', '▁', 'l', 'et', 't', 'er', '▁a', '▁', 'p', 'l', 'u', 's', '▁', '<0x55>', '<0x2B>', '<0x30>', '<0x33>', '<0x30>', '<0x31>', '▁', '<0xE2>', '<0x80>', '<0x9C>', '<0xE2>', '<0x97>', '<0x8C>', '<0xCC>', '<0x81>', '<0xE2>', '<0x80>', '<0x9D>', '▁', 'co', 'm', 'b', 'in', 'ing', '▁a', 'c', 'u', 't', 'e', '▁a', 'c', 'c', 'ent', '.', '▁', '<0x54>', 'h', 'is', '▁s', 't', 'r', 'ing', '▁a', 'u', 'to', 'm', 'at', 'ic', 'a', 'l', 'ly', '▁', 'g', 'et', 's', '▁', 'r', 'en', 'de', 'r', 'ed', '▁a', 's', '▁a', '▁s', 'ing', 'l', 'e', '▁', 'c', 'h', 'a', 'ra', 'c', 't', 'er', '<0x3A>', '▁', '<0xE2>', '<0x80>', '<0x9C>', '<0x41>', '<0xCC>', '<0x81>', '<0xE2>', '<0x80>', '<0x9D>', '.', '<0x0A>', '<0x0A>', 'N', 'o', 'w', ',', '▁', '<0x55>', 'n', 'ic', 'o', 'de', '▁', 'do', 'es', '▁al', 's', 'o', '▁', 'in', 'c', 'l', 'u', 'de', '▁ma', 'n', 'y', '▁', '<0xE2>', '<0x80>', '<0x9C>', 'pr', 'ec', 'o', 'm', 'p', 'o', 's', 'ed', '<0xE2>', '<0x80>', '<0x9D>', '▁', 'co', 'de', '▁', 'p', 'o', 'in', 't', 's', ',', '▁', 'e', 'a', 'c', 'h', '▁', 'r', 'e', 'pr', 'es', 'ent', 'ing', '▁a', '▁', 'l', 'et', 't', 'er', '▁w', 'it', 'h', '▁s', 'o', 'm', 'e', '▁', 'co', 'm', 'b', 'in', 'at', 'ion', '▁', 'o', 'f', '▁', 'd', 'i', 'a', 'c', 'r', 'it', 'ic', 's', '▁al', 'r', 'e', 'a', 'd', 'y', '▁a', 'p', 'p', 'l', 'i', 'ed', ',', '▁s', 'u', 'c', 'h', '▁a', 's', '▁', '<0x55>', '<0x2B>', '<0x30>', '<0x30>', '<0x43>', '<0x31>', '▁', '<0xE2>', '<0x80>', '<0x9C>', '<0xC3>', '<0x81>', '<0xE2>', '<0x80>', '<0x9D>', '▁', 'la', 't', 'in', '▁', 'c', 'a', 'p', 'it', 'a', 'l', '▁', 'l', 'et', 't', 'er', '▁a', '▁w', 'it', 'h', '▁a', 'c', 'u', 't', 'e', '▁', 'or', '▁', '<0x55>', '<0x2B>', '<0x31>', 'E', '<0x43>', '<0x37>', '▁', '<0xE2>', '<0x80>', '<0x9C>', '<0xE1>', '<0xBB>', '<0x87>', '<0xE2>', '<0x80>', '<0x9D>', '▁', 'la', 't', 'in', '▁s', 'm', 'a', 'l', 'l', '▁', 'l', 'et', 't', 'er', '▁', 'e', '▁w', 'it', 'h', '▁', 'c', 'ir', 'c', 'u', 'm', 'f', 'l', 'ex', '▁and', '▁', 'do', 't', '▁', 'b', 'e', 'lo', 'w', '.', '▁', '<0x49>', '▁s', 'u', 's', 'p', 'ec', 't', '▁the', 's', 'e', '▁a', 'r', 'e', '▁mo', 'st', 'ly', '▁', 'in', 'h', 'er', 'it', 'ed', '▁f', 'r', 'o', 'm', '▁', 'o', 'l', 'de', 'r', '▁', 'en', 'co', 'd', 'ing', 's', '▁th', 'at', '▁w', 'er', 'e', '▁a', 's', 's', 'im', 'i', 'la', 't', 'ed', '▁', 'in', 'to', '▁', '<0x55>', 'n', 'ic', 'o', 'de', ',', '▁and', '▁', 'ke', 'p', 't', '▁a', 'r', 'o', 'u', 'n', 'd', '▁f', 'or', '▁', 'co', 'm', 'p', 'at', 'i', 'b', 'i', 'l', 'it', 'y', '.', '▁', '<0x49>', 'n', '▁', 'p', 'ra', 'c', 't', 'i', 'ce', ',', '▁th', 'er', 'e', '▁a', 'r', 'e', '▁pr', 'ec', 'o', 'm', 'p', 'o', 's', 'ed', '▁', 'co', 'de', '▁', 'p', 'o', 'in', 't', 's', '▁f', 'or', '▁mo', 'st', '▁', 'o', 'f', '▁the', '▁', 'co', 'm', 'm', 'on', '▁', 'l', 'et', 't', 'er', '-', 'w', 'it', 'h', '-', 'd', 'i', 'a', 'c', 'r', 'it', 'ic', '▁', 'co', 'm', 'b', 'in', 'at', 'ion', 's', '▁', 'in', '▁', 'E', 'u', 'r', 'o', 'p', 'e', 'a', 'n', '-', 's', 'c', 'r', 'i', 'p', 't', '▁language', 's', ',', '▁s', 'o', '▁the', 'y', '▁', 'd', 'on', '<0xE2>', '<0x80>', '<0x99>', 't', '▁u', 's', 'e', '▁', 'd', 'y', 'n', 'a', 'm', 'ic', '▁', 'co', 'm', 'p', 'o', 's', 'it', 'ion', '▁th', 'at', '▁m', 'u', 'c', 'h', '▁', 'in', '▁t', 'y', 'p', 'ic', 'a', 'l', '▁text', '.', '<0x0A>', '<0x0A>', 'S', 't', 'i', 'l', 'l', ',', '▁the', '▁system', '▁', 'o', 'f', '▁', 'co', 'm', 'b', 'in', 'ing', '▁ma', 'r', 'k', 's', '▁', 'do', 'es', '▁al', 'lo', 'w', '▁f', 'or', '▁an', '▁a', 'r', 'b', 'it', 'ra', 'r', 'y', '▁n', 'u', 'm', 'b', 'er', '▁', 'o', 'f', '▁', 'd', 'i', 'a', 'c', 'r', 'it', 'ic', 's', '▁to', '▁', 'b', 'e', '▁s', 't', 'a', 'c', 'k', 'ed', '▁', 'on', '▁an', 'y', '▁', 'b', 'as', 'e', '▁', 'c', 'h', 'a', 'ra', 'c', 't', 'er', '.', '▁', '<0x54>', 'h', 'e', '▁', 'r', 'ed', 'u', 'c', 't', 'i', 'o', '-', 'a', 'd', '-', 'ab', 's', 'u', 'r', 'd', 'u', 'm', '▁', 'o', 'f', '▁th', 'is', '▁is', '▁', '<0x5A>', 'a', 'l', 'g', 'o', '▁text', ',', '▁w', 'h', 'ic', 'h', '▁w', 'or', 'k', 's', '▁', 'by', '▁', '<0xCD>', '<0x9F>', '<0xCD>', '<0x85>', '<0xCD>', '<0x96>', 'r', '<0xCD>', '<0x9E>', 'a', 'n', '<0xCC>', '<0xAD>', '<0xCC>', '<0xAB>', '<0xCC>', '<0xA0>', '<0xCC>', '<0x96>', '<0xCD>', '<0x88>', '<0xCC>', '<0x97>', 'd', '<0xCD>', '<0x96>', '<0xCC>', '<0xBB>', '<0xCC>', '<0xB9>', 'o', '<0xCD>', '<0x81>', 'm', '<0xCC>', '<0xAA>', '<0xCD>', '<0x99>', '<0xCD>', '<0x95>', '<0xCC>', '<0x97>', '<0xCC>', '<0x9D>', 'l', '<0xCC>', '<0xA7>', '<0xCD>', '<0x87>', '<0xCC>', '<0xB0>', '<0xCD>', '<0x93>', '<0xCC>', '<0xB3>', '<0xCC>', '<0xAB>', 'y', '<0xCD>', '<0x81>', '<0xCD>', '<0x93>', '<0xCC>', '<0xA5>', '<0xCC>', '<0x9F>', '<0xCD>', '<0x8D>', '▁', '<0xCC>', '<0x95>', 's', '<0xCC>', '<0xAB>', 't', '<0xCD>', '<0x9C>', '<0xCC>', '<0xAB>', '<0xCC>', '<0xB1>', '<0xCD>', '<0x95>', '<0xCC>', '<0x97>', '<0xCC>', '<0xB0>', '<0xCC>', '<0xBC>', '<0xCC>', '<0x98>', 'a', '<0xCD>', '<0x9D>', '<0xCC>', '<0xBC>', '<0xCC>', '<0xA9>', '<0xCD>', '<0x96>', '<0xCD>', '<0x87>', '<0xCC>', '<0xA0>', '<0xCD>', '<0x88>', '<0xCC>', '<0xA3>', 'c', '<0xCC>', '<0x99>', '<0xCD>', '<0x8D>', 'k', '<0xCD>', '<0x98>', '<0xCC>', '<0x96>', '<0xCC>', '<0xB1>', '<0xCC>', '<0xB9>', '<0xCD>', '<0x8D>', 'i', '<0xCC>', '<0xA2>', 'n', '<0xCC>', '<0xA8>', '<0xCC>', '<0xBA>', '<0xCC>', '<0x9D>', '<0xCD>', '<0x87>', '<0xCD>', '<0x87>', '<0xCC>', '<0x9F>', '<0xCD>', '<0x99>', 'g', '<0xCC>', '<0xA7>', '<0xCC>', '<0xAB>', '<0xCC>', '<0xAE>', '<0xCD>', '<0x8E>', '<0xCD>', '<0x85>', '<0xCC>', '<0xBB>', '<0xCC>', '<0x9F>', '▁', '<0xCC>', '<0x95>', 'n', '<0xCD>', '<0x9E>', '<0xCC>', '<0xBC>', '<0xCC>', '<0xBA>', '<0xCD>', '<0x88>', 'u', '<0xCC>', '<0xAE>', '<0xCD>', '<0x99>', 'm', '<0xCD>', '<0x9E>', '<0xCC>', '<0xBA>', '<0xCC>', '<0xAD>', '<0xCC>', '<0x9F>', '<0xCC>', '<0x97>', 'e', '<0xCC>', '<0x9E>', '<0xCD>', '<0x93>', '<0xCC>', '<0xB0>', '<0xCC>', '<0xA4>', '<0xCD>', '<0x93>', '<0xCC>', '<0xAB>', 'r', '<0xCC>', '<0xB5>', 'o', '<0xCC>', '<0x96>', 'u', '<0xCC>', '<0xAD>', 's', '<0xD2>', '<0x89>', '<0xCC>', '<0xAA>', '<0xCD>', '<0x8D>', '<0xCC>', '<0xAD>', '<0xCC>', '<0xAC>', '<0xCC>', '<0x9D>', '<0xCC>', '<0xA4>', '▁', '<0xCD>', '<0xA0>', '<0xCC>', '<0xAE>', '<0xCD>', '<0x89>', '<0xCC>', '<0x9D>', '<0xCC>', '<0x9E>', '<0xCC>', '<0x97>', '<0xCC>', '<0x9F>', 'd', '<0xCC>', '<0xB4>', '<0xCC>', '<0x9F>', '<0xCC>', '<0x9C>', '<0xCC>', '<0xB1>', '<0xCD>', '<0x95>', '<0xCD>', '<0x9A>', 'i', '<0xCD>', '<0xA1>', '<0xCD>', '<0x87>', '<0xCC>', '<0xAB>', '<0xCC>', '<0xBC>', '<0xCC>', '<0xAF>', '<0xCC>', '<0xAD>', '<0xCC>', '<0x9C>', 'a', '<0xCC>', '<0xA5>', '<0xCD>', '<0x99>', '<0xCC>', '<0xBB>', '<0xCC>', '<0xBC>', 'c', '<0xCC>', '<0xB2>', '<0xCC>', '<0xB2>', '<0xCC>', '<0xB9>', 'r', '<0xCC>', '<0xA8>', '<0xCC>', '<0xA0>', '<0xCC>', '<0xB9>', '<0xCC>', '<0xA3>', '<0xCC>', '<0xB0>', '<0xCC>', '<0xA6>', 'i', '<0xCC>', '<0xB1>', 't', '<0xCC>', '<0x95>', '<0xCC>', '<0xA4>', '<0xCC>', '<0xBB>', '<0xCC>', '<0xA4>', '<0xCD>', '<0x8D>', '<0xCD>', '<0x99>', '<0xCC>', '<0x98>', 'i', '<0xCC>', '<0xB5>', '<0xCC>', '<0x9C>', '<0xCC>', '<0xAD>', '<0xCC>', '<0xA4>', '<0xCC>', '<0xB1>', '<0xCD>', '<0x8E>', 'c', '<0xCC>', '<0xB5>', 's', '▁', '<0xCD>', '<0x98>', 'o', '<0xCD>', '<0xA2>', '<0xCC>', '<0xB1>', '<0xCC>', '<0xB2>', '<0xCD>', '<0x88>', '<0xCC>', '<0x99>', '<0xCD>', '<0x96>', '<0xCD>', '<0x87>', '<0xCC>', '<0xB2>', 'n', '<0xCD>', '<0x98>', '▁', '<0xCC>', '<0x9C>', '<0xCD>', '<0x88>', 'e', '<0xCC>', '<0xAC>', '<0xCC>', '<0xB2>', '<0xCC>', '<0xA0>', '<0xCC>', '<0xA9>', 'a', 'c', '<0xCD>', '<0x95>', '<0xCC>', '<0xBA>', '<0xCC>', '<0xA0>', '<0xCD>', '<0x89>', 'h', '<0xCC>', '<0xB7>', '<0xCC>', '<0xAA>', '▁', '<0xCC>', '<0xBA>', '<0xCC>', '<0xA3>', '<0xCD>', '<0x96>', '<0xCC>', '<0xB1>', 'l', '<0xCC>', '<0xB1>', '<0xCC>', '<0xAB>', '<0xCC>', '<0xAC>', '<0xCC>', '<0x9D>', '<0xCC>', '<0xB9>', 'e', '<0xCC>', '<0xAD>', '<0xCC>', '<0x99>', '<0xCC>', '<0xBA>', '<0xCD>', '<0x99>', '<0xCC>', '<0xAD>', '<0xCD>', '<0x93>', '<0xCC>', '<0xB2>', 't', '<0xCC>', '<0x9E>', '<0xCC>', '<0x9E>', '<0xCD>', '<0x87>', '<0xCC>', '<0xB2>', '<0xCD>', '<0x89>', '<0xCD>', '<0x8D>', 't', '<0xCC>', '<0xB7>', '<0xCD>', '<0x94>', '<0xCC>', '<0xAA>', '<0xCD>', '<0x89>', '<0xCC>', '<0xB2>', '<0xCC>', '<0xBB>', '<0xCC>', '<0xA0>', '<0xCD>', '<0x99>', 'e', '<0xCC>', '<0xA6>', '<0xCC>', '<0xBB>', '<0xCD>', '<0x88>', '<0xCD>', '<0x89>', '<0xCD>', '<0x87>', 'r', '<0xCD>', '<0x87>', '<0xCC>', '<0xAD>', '<0xCC>', '<0xAD>', '<0xCC>', '<0xAC>', '<0xCD>', '<0x96>', ',', '<0xCD>', '<0x81>', '<0xCC>', '<0x96>', '▁', '<0xCC>', '<0x9C>', '<0xCD>', '<0x99>', '<0xCD>', '<0x93>', '<0xCC>', '<0xA3>', '<0xCC>', '<0xAD>', 's', '<0xCC>', '<0x98>', '<0xCC>', '<0x98>', '<0xCD>', '<0x88>', 'o', '<0xCC>', '<0xB1>', '<0xCC>', '<0xB0>', '<0xCD>', '<0x85>', '<0xCC>', '<0xA4>', '<0xCC>', '<0xB2>', '▁', '<0xCC>', '<0x9B>', '<0xCC>', '<0xAC>', '<0xCC>', '<0x9C>', '<0xCC>', '<0x99>', 't', '<0xCC>', '<0xBC>', '<0xCC>', '<0xA6>', '<0xCD>', '<0x95>', '<0xCC>', '<0xB1>', '<0xCC>', '<0xB9>', '<0xCD>', '<0x95>', '<0xCC>', '<0xA5>', 'h', '<0xCD>', '<0x9D>', '<0xCC>', '<0xB3>', '<0xCC>', '<0xB2>', '<0xCD>', '<0x88>', '<0xCD>', '<0x85>', 'a', '<0xCC>', '<0xA6>', 't', '<0xCC>', '<0xBB>', '<0xCC>', '<0xB2>', '▁', '<0xCC>', '<0xBB>', '<0xCC>', '<0x9F>', '<0xCC>', '<0xAD>', '<0xCC>', '<0xA6>', '<0xCC>', '<0x96>', 't', '<0xCC>', '<0x9B>', '<0xCC>', '<0xB0>', '<0xCC>', '<0xA9>', 'h', '<0xCC>', '<0xA0>', '<0xCD>', '<0x95>', '<0xCC>', '<0xB3>', '<0xCC>', '<0x9D>', '<0xCC>', '<0xAB>', '<0xCD>', '<0x95>', 'e', '<0xCD>', '<0x98>', '<0xCD>', '<0x88>', '<0xCC>', '<0xA4>', '<0xCC>', '<0x98>', '<0xCD>', '<0x96>', '<0xCC>', '<0x9E>', 'y', '<0xD2>', '<0x89>', '<0xCC>', '<0x9D>', '<0xCD>', '<0x99>', '▁', '<0xCC>', '<0xB7>', '<0xCD>', '<0x89>', '<0xCD>', '<0x94>', '<0xCC>', '<0xB0>', '<0xCC>', '<0xA0>', 'o', '<0xCC>', '<0x9E>', '<0xCC>', '<0xB0>', 'v', '<0xCD>', '<0x9C>', '<0xCD>', '<0x88>', '<0xCD>', '<0x88>', '<0xCC>', '<0xB3>', '<0xCC>', '<0x98>', 'er', '<0xCC>', '<0xB6>', 'f', '<0xCC>', '<0xB0>', '<0xCD>', '<0x88>', '<0xCD>', '<0x94>', 'l', '<0xCC>', '<0xB1>', '<0xCD>', '<0x95>', '<0xCC>', '<0x98>', '<0xCC>', '<0xAB>', '<0xCC>', '<0xBA>', '<0xCC>', '<0xB2>', 'o', '<0xCD>', '<0xA0>', '<0xCC>', '<0xB2>', '<0xCD>', '<0x85>', '<0xCC>', '<0xAD>', '<0xCD>', '<0x99>', 'w', '<0xCC>', '<0xB1>', '<0xCC>', '<0xB3>', '<0xCC>', '<0xBA>', '▁', '<0xCD>', '<0x9C>', 't', '<0xCC>', '<0xB8>', 'h', '<0xCD>', '<0x87>', '<0xCC>', '<0xAD>', '<0xCD>', '<0x95>', '<0xCC>', '<0xB3>', '<0xCD>', '<0x8D>', 'e', '<0xCC>', '<0x96>', '<0xCC>', '<0xAF>', '<0xCC>', '<0x9F>', '<0xCC>', '<0xA0>', '▁', '<0xCD>', '<0x9C>', '<0xCD>', '<0x8D>', '<0xCC>', '<0x9E>', '<0xCC>', '<0x9C>', '<0xCD>', '<0x94>', '<0xCC>', '<0xA9>', '<0xCC>', '<0xAA>', 'l', '<0xCC>', '<0xA7>', '<0xCD>', '<0x8E>', '<0xCC>', '<0xAA>', '<0xCC>', '<0xB2>', '<0xCD>', '<0x9A>', 'i', '<0xCC>', '<0x9D>', '<0xCC>', '<0xB2>', '<0xCC>', '<0xB9>', '<0xCC>', '<0x99>', '<0xCC>', '<0xA9>', '<0xCC>', '<0xB9>', 'n', '<0xCC>', '<0xA8>', '<0xCC>', '<0xA6>', '<0xCC>', '<0xA9>', '<0xCC>', '<0x96>', 'e', '<0xCD>', '<0xA2>', '<0xCC>', '<0xAD>', '<0xCC>', '<0xBC>', '<0xCD>', '<0x85>', '<0xCC>', '<0xB2>', '<0xCC>', '<0xBC>', '▁', '<0xCD>', '<0x9D>', '<0xCC>', '<0xAC>', 's', '<0xCD>', '<0x9D>', '<0xCC>', '<0xBC>', '<0xCD>', '<0x9A>', '<0xCC>', '<0x98>', '<0xCC>', '<0x9E>', 'p', '<0xCD>', '<0x99>', '<0xCC>', '<0x98>', '<0xCC>', '<0xBB>', 'a', '<0xCC>', '<0x99>', 'c', '<0xD2>', '<0x89>', '<0xCD>', '<0x89>', '<0xCC>', '<0x9C>', '<0xCC>', '<0xA4>', '<0xCD>', '<0x88>', '<0xCC>', '<0xAF>', '<0xCC>', '<0x96>', 'i', '<0xCD>', '<0xA1>', '<0xCC>', '<0xA5>', 'n', '<0xCD>', '<0x9F>', '<0xCC>', '<0xA6>', '<0xCC>', '<0xA0>', '<0xCC>', '<0xB1>', 'g', '<0xCC>', '<0xB8>', '<0xCD>', '<0x85>', '<0xCC>', '<0x97>', '<0xCC>', '<0xBB>', '<0xCC>', '<0xA6>', '<0xCC>', '<0xAD>', '<0xCC>', '<0xAE>', '<0xCC>', '<0x9F>', '▁', '<0xCC>', '<0x95>', '<0xCC>', '<0xB3>', '<0xCC>', '<0xAA>', '<0xCC>', '<0xA0>', '<0xCD>', '<0x96>', '<0xCC>', '<0xB3>', '<0xCC>', '<0xAF>', 'a', '<0xCD>', '<0x9C>', '<0xCC>', '<0xAB>', 'n', '<0xCD>', '<0x9D>', 'd', '<0xCD>', '<0xA1>', '▁', '<0xCC>', '<0xA3>', '<0xCC>', '<0xA6>', '<0xCD>', '<0x85>', '<0xCC>', '<0x99>', 'c', '<0xCC>', '<0xAA>', '<0xCC>', '<0x97>', 'r', '<0xCC>', '<0xB4>', '<0xCD>', '<0x99>', '<0xCC>', '<0xAE>', '<0xCC>', '<0xA6>', '<0xCC>', '<0xB9>', '<0xCC>', '<0xB3>', 'e', '<0xCD>', '<0x9F>', '<0xCD>', '<0x87>', '<0xCD>', '<0x9A>', '<0xCC>', '<0x9E>', '<0xCD>', '<0x94>', '<0xCC>', '<0xB9>', '<0xCC>', '<0xAB>', 'a', '<0xCC>', '<0x99>', '<0xCC>', '<0xBA>', '<0xCC>', '<0x99>', 't', '<0xCC>', '<0xA6>', '<0xCD>', '<0x94>', '<0xCD>', '<0x8E>', '<0xCD>', '<0x85>', '<0xCC>', '<0x98>', '<0xCC>', '<0xB9>', 'e', '<0xCC>', '<0xA5>', '<0xCC>', '<0xA9>', '<0xCD>', '<0x8D>', '▁a', '<0xCD>', '<0x96>', '<0xCC>', '<0xAA>', '<0xCC>', '<0x9C>', '<0xCC>', '<0xAE>', '<0xCD>', '<0x99>', '<0xCC>', '<0xB9>', 'n', '<0xCC>', '<0xA2>', '<0xCD>', '<0x89>', '<0xCC>', '<0x9D>', '▁', '<0xCD>', '<0x81>', '<0xCD>', '<0x87>', '<0xCD>', '<0x89>', '<0xCD>', '<0x93>', '<0xCC>', '<0xA6>', '<0xCC>', '<0xBC>', 'a', '<0xCC>', '<0xB3>', '<0xCD>', '<0x96>', '<0xCC>', '<0xAA>', '<0xCC>', '<0xA4>', '<0xCC>', '<0xB1>', 'p', '<0xCD>', '<0xA0>', '<0xCC>', '<0x96>', '<0xCD>', '<0x94>', '<0xCD>', '<0x94>', '<0xCC>', '<0x9F>', '<0xCD>', '<0x87>', '<0xCD>', '<0x8E>', 'p', '<0xCC>', '<0xB1>', '<0xCD>', '<0x8D>', '<0xCC>', '<0xBA>', 'e', '<0xCC>', '<0xA8>', '<0xCC>', '<0xB2>', '<0xCD>', '<0x8E>', '<0xCD>', '<0x88>', '<0xCC>', '<0xB0>', '<0xCC>', '<0xB2>', '<0xCC>', '<0xA4>', '<0xCC>', '<0xAB>', 'a', '<0xCD>', '<0x9C>', '<0xCC>', '<0xAF>', 'r', '<0xCC>', '<0xA8>', '<0xCC>', '<0xAE>', '<0xCC>', '<0xAB>', '<0xCC>', '<0xA3>', '<0xCC>', '<0x98>', 'a', '<0xCC>', '<0xA9>', '<0xCC>', '<0xAF>', '<0xCD>', '<0x96>', 'n', '<0xCC>', '<0xB9>', '<0xCC>', '<0xA6>', '<0xCC>', '<0xB0>', '<0xCD>', '<0x8E>', '<0xCC>', '<0xA3>', '<0xCC>', '<0x9E>', '<0xCC>', '<0x9E>', 'c', '<0xCC>', '<0xA8>', '<0xCC>', '<0xA6>', '<0xCC>', '<0xB1>', '<0xCD>', '<0x94>', '<0xCD>', '<0x8E>', '<0xCD>', '<0x8D>', '<0xCD>', '<0x96>', 'e', '<0xCD>', '<0x98>', '<0xCC>', '<0xAC>', '<0xCD>', '<0x93>', '▁', '<0xCC>', '<0xA4>', '<0xCC>', '<0xB0>', '<0xCC>', '<0xA9>', '<0xCD>', '<0x99>', '<0xCC>', '<0xA4>', '<0xCC>', '<0xAC>', '<0xCD>', '<0x99>', 'o', '<0xCC>', '<0xB5>', '<0xCC>', '<0xBC>', '<0xCC>', '<0xBB>', '<0xCC>', '<0xAC>', '<0xCC>', '<0xBB>', '<0xCD>', '<0x87>', '<0xCC>', '<0xAE>', '<0xCC>', '<0xAA>', 'f', '<0xCC>', '<0xB4>', '▁', '<0xCC>', '<0xA1>', '<0xCC>', '<0x99>', '<0xCC>', '<0xAD>', '<0xCD>', '<0x93>', '<0xCD>', '<0x96>', '<0xCC>', '<0xAA>', '<0xCC>', '<0xA4>', '<0xE2>', '<0x80>', '<0x9C>', '<0xCC>', '<0xB8>', '<0xCD>', '<0x99>', '<0xCC>', '<0xA0>', '<0xCC>', '<0xBC>', 'c', '<0xCD>', '<0x9C>', '<0xCC>', '<0xB3>', '<0xCC>', '<0x97>', 'o', '<0xCD>', '<0x8F>', '<0xCC>', '<0xBC>', '<0xCD>', '<0x99>', '<0xCD>', '<0x94>', '<0xCC>', '<0xAE>', 'r', '<0xCC>', '<0x9E>', '<0xCC>', '<0xAB>', '<0xCC>', '<0xBA>', '<0xCC>', '<0x9E>', '<0xCC>', '<0xA5>', '<0xCC>', '<0xAC>', 'r', 'u', '<0xCC>', '<0xBA>', '<0xCC>', '<0xBB>', '<0xCC>', '<0xAF>', '<0xCD>', '<0x89>', '<0xCC>', '<0xAD>', '<0xCC>', '<0xBB>', '<0xCC>', '<0xAF>', 'p', '<0xCD>', '<0xA2>', '<0xCC>', '<0xB0>', '<0xCC>', '<0xA5>', '<0xCD>', '<0x93>', '<0xCC>', '<0xA3>', '<0xCC>', '<0xAB>', '<0xCC>', '<0x99>', '<0xCC>', '<0xA4>', 't', '<0xCD>', '<0x85>', '<0xCC>', '<0xB3>', '<0xCD>', '<0x8D>', '<0xCC>', '<0xB3>', '<0xCC>', '<0x96>', 'i', '<0xCC>', '<0xB6>', '<0xCD>', '<0x88>', '<0xCC>', '<0x9D>', '<0xCD>', '<0x99>', '<0xCC>', '<0xBC>', '<0xCC>', '<0x99>', '<0xCC>', '<0xB9>', 'o', '<0xCC>', '<0xA1>', '<0xCD>', '<0x94>', 'n', '<0xCD>', '<0x9D>', '<0xCD>', '<0x85>', '<0xCC>', '<0x99>', '<0xCC>', '<0xBA>', '<0xCC>', '<0xB9>', '<0xCC>', '<0x96>', '<0xCC>', '<0xA9>', '<0xE2>', '<0x80>', '<0x9D>', '<0xCC>', '<0xA8>', '<0xCC>', '<0x97>', '<0xCD>', '<0x96>', '<0xCD>', '<0x9A>', '<0xCC>', '<0xA9>', '.', '<0xCC>', '<0xAF>', '<0xCD>', '<0x93>', '<0x0A>', '<0x0A>', '<0x41>', '▁f', 'e', 'w', '▁', 'o', 't', 'h', 'er', '▁', 'p', 'la', 'ce', 's', '▁w', 'h', 'er', 'e', '▁', 'd', 'y', 'n', 'a', 'm', 'ic', '▁', 'c', 'h', 'a', 'ra', 'c', 't', 'er', '▁', 'co', 'm', 'p', 'o', 's', 'it', 'ion', '▁s', 'h', 'o', 'w', 's', '▁u', 'p', '▁', 'in', '▁', '<0x55>', 'n', 'ic', 'o', 'de', '<0x3A>', '<0x0A>', '<0x0A>', '<0x56>', 'o', 'w', 'e', 'l', '-', 'p', 'o', 'in', 't', 'ing', '▁n', 'o', 't', 'at', 'ion', '▁', 'in', '▁', '<0x41>', 'ra', 'b', 'ic', '▁and', '▁', '<0x48>', 'e', 'b', 'r', 'e', 'w', '.', '▁', '<0x49>', 'n', '▁the', 's', 'e', '▁language', 's', ',', '▁w', 'or', 'd', 's', '▁a', 'r', 'e', '▁n', 'or', 'm', 'a', 'l', 'ly', '▁s', 'p', 'e', 'l', 'l', 'ed', '▁w', 'it', 'h', '▁s', 'o', 'm', 'e', '▁', 'o', 'f', '▁the', 'ir', '▁', 'v', 'o', 'w', 'e', 'l', 's', '▁', 'l', 'e', 'f', 't', '▁', 'o', 'u', 't', '.', '▁', '<0x54>', 'h', 'e', 'y', '▁th', 'en', '▁', 'h', 'a', 'v', 'e', '▁', 'd', 'i', 'a', 'c', 'r', 'it', 'ic', '▁n', 'o', 't', 'at', 'ion', '▁to', '▁', 'in', 'd', 'ic', 'at', 'e', '▁the', '▁', 'v', 'o', 'w', 'e', 'l', 's', '▁(', 'u', 's', 'ed', '▁', 'in', '▁', 'd', 'ic', 't', 'ion', 'a', 'r', 'i', 'es', ',', '▁language', '-', 't', 'e', 'a', 'c', 'h', 'ing', '▁ma', 't', 'er', 'i', 'a', 'l', 's', ',', '▁', 'c', 'h', 'i', 'l', 'd', 'r', 'en', '<0xE2>', '<0x80>', '<0x99>', 's', '▁', 'b', 'o', 'o', 'k', 's', ',', '▁and', '▁s', 'u', 'c', 'h', ')', '.', '▁', '<0x54>', 'h', 'es', 'e', '▁', 'd', 'i', 'a', 'c', 'r', 'it', 'ic', 's', '▁a', 'r', 'e', '▁', 'ex', 'pr', 'es', 's', 'ed', '▁w', 'it', 'h', '▁', 'co', 'm', 'b', 'in', 'ing', '▁ma', 'r', 'k', 's', '.', '<0x0A>', '<0x0A>', '<0x41>', '▁', '<0x48>', 'e', 'b', 'r', 'e', 'w', '▁', 'ex', 'a', 'm', 'p', 'l', 'e', ',', '▁w', 'it', 'h', '▁n', 'i', '<0x71>', '<0x71>', 'u', 'd', '<0x3A>', '<0x09>', '<0xD7>', '<0x90>', '<0xD6>', '<0xB6>', '<0xD7>', '<0xAA>', '▁', '<0xD7>', '<0x93>', '<0xD6>', '<0xB7>', '<0xD7>', '<0x9C>', '<0xD6>', '<0xB0>', '<0xD7>', '<0xAA>', '<0xD6>', '<0xB4>', '<0xD6>', '<0xBC>', '<0xD7>', '<0x99>', '▁', '<0xD7>', '<0x94>', '<0xD6>', '<0xB5>', '<0xD7>', '<0x96>', '<0xD6>', '<0xB4>', '<0xD7>', '<0x99>', '<0xD7>', '<0x96>', '▁', '<0xD7>', '<0x94>', '<0xD6>', '<0xB5>', '<0xD7>', '<0xA0>', '<0xD6>', '<0xB4>', '<0xD7>', '<0x99>', '<0xD7>', '<0xA2>', '<0xD6>', '<0xB7>', ',', '▁', '<0xD7>', '<0xA7>', '<0xD6>', '<0xB6>', '<0xD7>', '<0x98>', '<0xD6>', '<0xB6>', '<0xD7>', '<0x91>', '▁', '<0xD7>', '<0x9C>', '<0xD6>', '<0xB4>', '<0xD7>', '<0xA9>', '<0xD6>', '<0xB0>', '<0xD7>', '<0x81>', '<0xD7>', '<0x9B>', '<0xD6>', '<0xB7>', '<0xD6>', '<0xBC>', '<0xD7>', '<0xAA>', '<0xD6>', '<0xB4>', '<0xD6>', '<0xBC>', '<0xD7>', '<0x99>', '▁', '<0xD7>', '<0x99>', '<0xD6>', '<0xB8>', '<0xD7>', '<0xA9>', '<0xD7>', '<0x81>', '<0xD7>', '<0x95>', '<0xD6>', '<0xB9>', '<0xD7>', '<0x93>', '<0x0A>', 'N', 'or', 'm', 'a', 'l', '▁w', 'r', 'it', 'ing', '▁(', 'n', 'o', '▁n', 'i', '<0x71>', '<0x71>', 'u', 'd', ')', '<0x3A>', '<0x09>', '<0xD7>', '<0x90>', '<0xD7>', '<0xAA>', '▁', '<0xD7>', '<0x93>', '<0xD7>', '<0x9C>', '<0xD7>', '<0xAA>', '<0xD7>', '<0x99>', '▁', '<0xD7>', '<0x94>', '<0xD7>', '<0x96>', '<0xD7>', '<0x99>', '<0xD7>', '<0x96>', '▁', '<0xD7>', '<0x94>', '<0xD7>', '<0xA0>', '<0xD7>', '<0x99>', '<0xD7>', '<0xA2>', ',', '▁', '<0xD7>', '<0xA7>', '<0xD7>', '<0x98>', '<0xD7>', '<0x91>', '▁', '<0xD7>', '<0x9C>', '<0xD7>', '<0xA9>', '<0xD7>', '<0x9B>', '<0xD7>', '<0xAA>', '<0xD7>', '<0x99>', '▁', '<0xD7>', '<0x99>', '<0xD7>', '<0xA9>', '<0xD7>', '<0x95>', '<0xD7>', '<0x93>', '<0x0A>', '<0x44>', 'e', 'v', 'a', 'n', 'ag', 'a', 'r', 'i', ',', '▁the', '▁s', 'c', 'r', 'i', 'p', 't', '▁u', 's', 'ed', '▁to', '▁w', 'r', 'it', 'e', '▁', '<0x48>', 'in', 'd', 'i', ',', '▁S', 'a', 'n', 's', 'k', 'r', 'it', ',', '▁and', '▁ma', 'n', 'y', '▁', 'o', 't', 'h', 'er', '▁S', 'o', 'u', 't', 'h', '▁', '<0x41>', 's', 'i', 'a', 'n', '▁language', 's', ',', '▁', 'ex', 'pr', 'es', 's', 'es', '▁', 'ce', 'r', 't', 'a', 'in', '▁', 'v', 'o', 'w', 'e', 'l', 's', '▁a', 's', '▁', 'co', 'm', 'b', 'in', 'ing', '▁ma', 'r', 'k', 's', '▁a', 't', 't', 'a', 'c', 'h', 'ed', '▁to', '▁', 'c', 'on', 's', 'on', 'a', 'n', 't', '▁', 'l', 'et', 't', 'er', 's', '.', '▁', '<0x46>', 'or', '▁', 'ex', 'a', 'm', 'p', 'l', 'e', ',', '▁', '<0xE2>', '<0x80>', '<0x9C>', '<0xE0>', '<0xA4>', '<0xB9>', '<0xE2>', '<0x80>', '<0x9D>', '▁', '<0x2B>', '▁', '<0xE2>', '<0x80>', '<0x9C>', '<0xE2>', '<0x80>', '<0x8B>', '<0xE0>', '<0xA4>', '<0xBF>', '<0xE2>', '<0x80>', '<0x9D>', '▁', '<0x3D>', '▁', '<0xE2>', '<0x80>', '<0x9C>', '<0xE0>', '<0xA4>', '<0xB9>', '<0xE0>', '<0xA4>', '<0xBF>', '<0xE2>', '<0x80>', '<0x9D>', '▁(', '<0xE2>', '<0x80>', '<0x9C>', 'h', '<0xE2>', '<0x80>', '<0x9D>', '▁', '<0x2B>', '▁', '<0xE2>', '<0x80>', '<0x9C>', 'i', '<0xE2>', '<0x80>', '<0x9D>', '▁', '<0x3D>', '▁', '<0xE2>', '<0x80>', '<0x9C>', 'h', 'i', '<0xE2>', '<0x80>', '<0x9D>', ')', '.', '<0x0A>', '<0x0A>', 'K', 'or', 'e', 'a', 'n', '▁', 'c', 'h', 'a', 'ra', 'c', 't', 'er', 's', '▁s', 't', 'a', 'n', 'd', '▁f', 'or', '▁s', 'y', 'l', 'la', 'b', 'l', 'es', ',', '▁', 'b', 'u', 't', '▁the', 'y', '▁a', 'r', 'e', '▁', 'co', 'm', 'p', 'o', 's', 'ed', '▁', 'o', 'f', '▁', 'l', 'et', 't', 'er', 's', '▁', 'c', 'a', 'l', 'l', 'ed', '▁', '<0x6A>', 'a', 'm', 'o', '▁th', 'at', '▁s', 't', 'a', 'n', 'd', '▁f', 'or', '▁the', '▁', 'v', 'o', 'w', 'e', 'l', 's', '▁and', '▁', 'c', 'on', 's', 'on', 'a', 'n', 't', 's', '▁', 'in', '▁the', '▁s', 'y', 'l', 'la', 'b', 'l', 'e', '.', '▁', '<0x57>', 'h', 'i', 'l', 'e', '▁th', 'er', 'e', '▁a', 'r', 'e', '▁', 'co', 'de', '▁', 'p', 'o', 'in', 't', 's', '▁f', 'or', '▁pr', 'ec', 'o', 'm', 'p', 'o', 's', 'ed', '▁', 'K', 'or', 'e', 'a', 'n', '▁s', 'y', 'l', 'la', 'b', 'l', 'es', ',', '▁', 'it', '<0xE2>', '<0x80>', '<0x99>', 's', '▁al', 's', 'o', '▁', 'p', 'o', 's', 's', 'i', 'b', 'l', 'e', '▁to', '▁', 'd', 'y', 'n', 'a', 'm', 'ic', 'a', 'l', 'ly', '▁', 'co', 'm', 'p', 'o', 's', 'e', '▁th', 'em', '▁', 'by', '▁', 'c', 'on', 'c', 'at', 'en', 'at', 'ing', '▁the', 'ir', '▁', '<0x6A>', 'a', 'm', 'o', '.', '▁', '<0x46>', 'or', '▁', 'ex', 'a', 'm', 'p', 'l', 'e', ',', '▁', '<0xE2>', '<0x80>', '<0x9C>', '<0xE1>', '<0x84>', '<0x92>', '<0xE2>', '<0x80>', '<0x9D>', '▁', '<0x2B>', '▁', '<0xE2>', '<0x80>', '<0x9C>', '<0xE1>', '<0x85>', '<0xA1>', '<0xE2>', '<0x80>', '<0x9D>', '▁', '<0x2B>', '▁', '<0xE2>', '<0x80>', '<0x9C>', '<0xE1>', '<0x86>', '<0xAB>', '<0xE2>', '<0x80>', '<0x9D>', '▁', '<0x3D>', '▁', '<0xE2>', '<0x80>', '<0x9C>', '<0xE1>', '<0x84>', '<0x92>', '<0xE1>', '<0x85>', '<0xA1>', '<0xE1>', '<0x86>', '<0xAB>', '<0xE2>', '<0x80>', '<0x9D>', '▁(', '<0xE2>', '<0x80>', '<0x9C>', 'h', '<0xE2>', '<0x80>', '<0x9D>', '▁', '<0x2B>', '▁', '<0xE2>', '<0x80>', '<0x9C>', 'a', '<0xE2>', '<0x80>', '<0x9D>', '▁', '<0x2B>', '▁', '<0xE2>', '<0x80>', '<0x9C>', 'n', '<0xE2>', '<0x80>', '<0x9D>', '▁', '<0x3D>', '▁', '<0xE2>', '<0x80>', '<0x9C>', 'h', 'a', 'n', '<0xE2>', '<0x80>', '<0x9D>', ')', '.', '<0x0A>', '<0x0A>', '<0x43>', 'a', 'n', 'on', 'ic', 'a', 'l', '▁', 'E', '<0x71>', 'u', 'i', 'v', 'a', 'l', 'ence', '<0x0A>', '<0x49>', 'n', '▁', '<0x55>', 'n', 'ic', 'o', 'de', ',', '▁pr', 'ec', 'o', 'm', 'p', 'o', 's', 'ed', '▁', 'c', 'h', 'a', 'ra', 'c', 't', 'er', 's', '▁', 'ex', 'is', 't', '▁al', 'on', 'g', 's', 'i', 'de', '▁the', '▁', 'd', 'y', 'n', 'a', 'm', 'ic', '▁', 'co', 'm', 'p', 'o', 's', 'it', 'ion', '▁system', '.', '▁', '<0x41>', '▁', 'c', 'on', 's', 'e', '<0x71>', 'u', 'ence', '▁', 'o', 'f', '▁th', 'is', '▁is', '▁th', 'at', '▁th', 'er', 'e', '▁a', 'r', 'e', '▁m', 'u', 'l', 't', 'i', 'p', 'l', 'e', '▁w', 'a', 'y', 's', '▁to', '▁', 'ex', 'pr', 'es', 's', '▁', '<0xE2>', '<0x80>', '<0x9C>', 't', 'h', 'e', '▁s', 'a', 'm', 'e', '<0xE2>', '<0x80>', '<0x9D>', '▁s', 't', 'r', 'ing', '<0xE2>', '<0x80>', '<0x94>', 'd', 'if', 'f', 'er', 'ent', '▁s', 'e', '<0x71>', 'u', 'ence', 's', '▁', 'o', 'f', '▁', 'co', 'de', '▁', 'p', 'o', 'in', 't', 's', '▁th', 'at', '▁', 'r', 'es', 'u', 'l', 't', '▁', 'in', '▁the', '▁s', 'a', 'm', 'e', '▁u', 's', 'er', '-', 'p', 'er', 'ce', 'i', 'v', 'ed', '▁', 'c', 'h', 'a', 'ra', 'c', 't', 'er', 's', '.', '▁', '<0x46>', 'or', '▁', 'ex', 'a', 'm', 'p', 'l', 'e', ',', '▁a', 's', '▁w', 'e', '▁s', 'a', 'w', '▁', 'e', 'a', 'r', 'l', 'i', 'er', ',', '▁w', 'e', '▁', 'c', 'a', 'n', '▁', 'ex', 'pr', 'es', 's', '▁the', '▁', 'c', 'h', 'a', 'ra', 'c', 't', 'er', '▁', '<0xE2>', '<0x80>', '<0x9C>', '<0xC3>', '<0x81>', '<0xE2>', '<0x80>', '<0x9D>', '▁', 'e', 'it', 'h', 'er', '▁a', 's', '▁the', '▁s', 'ing', 'l', 'e', '▁', 'co', 'de', '▁', 'p', 'o', 'in', 't', '▁', '<0x55>', '<0x2B>', '<0x30>', '<0x30>', '<0x43>', '<0x31>', ',', '▁', 'or', '▁a', 's', '▁the', '▁s', 't', 'r', 'ing', '▁', 'o', 'f', '▁t', 'w', 'o', '▁', 'co', 'de', '▁', 'p', 'o', 'in', 't', 's', '▁', '<0x55>', '<0x2B>', '<0x30>', '<0x30>', '<0x34>', '<0x31>', '▁', '<0x55>', '<0x2B>', '<0x30>', '<0x33>', '<0x30>', '<0x31>', '.', '<0x0A>', '<0x0A>', '<0x41>', 'n', 'o', 't', 'h', 'er', '▁s', 'o', 'u', 'r', 'ce', '▁', 'o', 'f', '▁a', 'm', 'b', 'i', 'gu', 'it', 'y', '▁is', '▁the', '▁', 'or', 'de', 'r', 'ing', '▁', 'o', 'f', '▁m', 'u', 'l', 't', 'i', 'p', 'l', 'e', '▁', 'd', 'i', 'a', 'c', 'r', 'it', 'ic', 's', '▁', 'in', '▁a', '▁s', 'ing', 'l', 'e', '▁', 'c', 'h', 'a', 'ra', 'c', 't', 'er', '.', '▁', '<0x44>', 'i', 'a', 'c', 'r', 'it', 'ic', '▁', 'or', 'de', 'r', '▁ma', 't', 't', 'er', 's', '▁', 'v', 'is', 'u', 'a', 'l', 'ly', '▁w', 'h', 'en', '▁t', 'w', 'o', '▁', 'd', 'i', 'a', 'c', 'r', 'it', 'ic', 's', '▁a', 'p', 'p', 'ly', '▁to', '▁the', '▁s', 'a', 'm', 'e', '▁s', 'i', 'de', '▁', 'o', 'f', '▁the', '▁', 'b', 'as', 'e', '▁', 'c', 'h', 'a', 'ra', 'c', 't', 'er', ',', '▁', 'e', '.', 'g', '.', '▁', 'b', 'o', 't', 'h', '▁a', 'b', 'o', 'v', 'e', '<0x3A>', '▁', '<0xE2>', '<0x80>', '<0x9C>', '<0xC7>', '<0xA1>', '<0xE2>', '<0x80>', '<0x9D>', '▁(', 'do', 't', ',', '▁th', 'en', '▁ma', 'c', 'r', 'on', ')', '▁is', '▁', 'd', 'if', 'f', 'er', 'ent', '▁f', 'r', 'o', 'm', '▁', '<0xE2>', '<0x80>', '<0x9C>', '<0xC4>', '<0x81>', '<0xCC>', '<0x87>', '<0xE2>', '<0x80>', '<0x9D>', '▁(', 'm', 'a', 'c', 'r', 'on', ',', '▁th', 'en', '▁', 'do', 't', ')', '.', '▁', '<0x48>', 'o', 'w', 'e', 'v', 'er', ',', '▁w', 'h', 'en', '▁', 'd', 'i', 'a', 'c', 'r', 'it', 'ic', 's', '▁a', 'p', 'p', 'ly', '▁to', '▁', 'd', 'if', 'f', 'er', 'ent', '▁s', 'i', 'de', 's', '▁', 'o', 'f', '▁the', '▁', 'c', 'h', 'a', 'ra', 'c', 't', 'er', ',', '▁', 'e', '.', 'g', '.', '▁', 'on', 'e', '▁a', 'b', 'o', 'v', 'e', '▁and', '▁', 'on', 'e', '▁', 'b', 'e', 'lo', 'w', ',', '▁th', 'en', '▁the', '▁', 'or', 'de', 'r', '▁', 'do', 'es', 'n', '<0xE2>', '<0x80>', '<0x99>', 't', '▁a', 'f', 'f', 'ec', 't', '▁', 'r', 'en', 'de', 'r', 'ing', '.', '▁', '<0x4D>', 'or', 'e', 'o', 'v', 'er', ',', '▁a', '▁', 'c', 'h', 'a', 'ra', 'c', 't', 'er', '▁w', 'it', 'h', '▁m', 'u', 'l', 't', 'i', 'p', 'l', 'e', '▁', 'd', 'i', 'a', 'c', 'r', 'it', 'ic', 's', '▁m', 'ig', 'h', 't', '▁', 'h', 'a', 'v', 'e', '▁', 'on', 'e', '▁', 'o', 'f', '▁the', '▁', 'd', 'i', 'a', 'c', 'r', 'it', 'ic', 's', '▁pr', 'ec', 'o', 'm', 'p', 'o', 's', 'ed', '▁and', '▁', 'o', 't', 'h', 'er', 's', '▁', 'ex', 'pr', 'es', 's', 'ed', '▁a', 's', '▁', 'co', 'm', 'b', 'in', 'ing', '▁ma', 'r', 'k', 's', '.', '<0x0A>', '<0x0A>', '<0x46>', 'or', '▁', 'ex', 'a', 'm', 'p', 'l', 'e', ',', '▁the', '▁', '<0x56>', 'i', 'et', 'n', 'a', 'm', 'es', 'e', '▁', 'l', 'et', 't', 'er', '▁', '<0xE2>', '<0x80>', '<0x9C>', '<0xE1>', '<0xBB>', '<0x87>', '<0xE2>', '<0x80>', '<0x9D>', '▁', 'c', 'a', 'n', '▁', 'b', 'e', '▁', 'ex', 'pr', 'es', 's', 'ed', '▁', 'in', '▁f', 'i', 'v', 'e', '▁', 'd', 'if', 'f', 'er', 'ent', '▁w', 'a', 'y', 's', '<0x3A>', '<0x0A>', '<0x0A>', '<0x46>', 'u', 'l', 'ly', '▁pr', 'ec', 'o', 'm', 'p', 'o', 's', 'ed', '<0x3A>', '▁', '<0x55>', '<0x2B>', '<0x31>', 'E', '<0x43>', '<0x37>', '▁', '<0xE2>', '<0x80>', '<0x9C>', '<0xE1>', '<0xBB>', '<0x87>', '<0xE2>', '<0x80>', '<0x9D>', '<0x0A>', 'P', 'a', 'r', 't', 'i', 'a', 'l', 'ly', '▁pr', 'ec', 'o', 'm', 'p', 'o', 's', 'ed', '<0x3A>', '▁', '<0x55>', '<0x2B>', '<0x31>', 'E', 'B', '<0x39>', '▁', '<0xE2>', '<0x80>', '<0x9C>', '<0xE1>', '<0xBA>', '<0xB9>', '<0xE2>', '<0x80>', '<0x9D>', '▁', '<0x2B>', '▁', '<0x55>', '<0x2B>', '<0x30>', '<0x33>', '<0x30>', '<0x32>', '▁', '<0xE2>', '<0x80>', '<0x9C>', '<0xE2>', '<0x97>', '<0x8C>', '<0xCC>', '<0x82>', '<0xE2>', '<0x80>', '<0x9D>', '<0x0A>', 'P', 'a', 'r', 't', 'i', 'a', 'l', 'ly', '▁pr', 'ec', 'o', 'm', 'p', 'o', 's', 'ed', '<0x3A>', '▁', '<0x55>', '<0x2B>', '<0x30>', '<0x30>', 'E', '<0x41>', '▁', '<0xE2>', '<0x80>', '<0x9C>', '<0xC3>', '<0xAA>', '<0xE2>', '<0x80>', '<0x9D>', '▁', '<0x2B>', '▁', '<0x55>', '<0x2B>', '<0x30>', '<0x33>', '<0x32>', '<0x33>', '▁', '<0xE2>', '<0x80>', '<0x9C>', '<0xE2>', '<0x97>', '<0x8C>', '<0xCC>', '<0xA3>', '<0xE2>', '<0x80>', '<0x9D>', '<0x0A>', '<0x46>', 'u', 'l', 'ly', '▁de', 'co', 'm', 'p', 'o', 's', 'ed', '<0x3A>', '▁', '<0x55>', '<0x2B>', '<0x30>', '<0x30>', '<0x36>', '<0x35>', '▁', '<0xE2>', '<0x80>', '<0x9C>', 'e', '<0xE2>', '<0x80>', '<0x9D>', '▁', '<0x2B>', '▁', '<0x55>', '<0x2B>', '<0x30>', '<0x33>', '<0x32>', '<0x33>', '▁', '<0xE2>', '<0x80>', '<0x9C>', '<0xE2>', '<0x97>', '<0x8C>', '<0xCC>', '<0xA3>', '<0xE2>', '<0x80>', '<0x9D>', '▁', '<0x2B>', '▁', '<0x55>', '<0x2B>', '<0x30>', '<0x33>', '<0x30>', '<0x32>', '▁', '<0xE2>', '<0x80>', '<0x9C>', '<0xE2>', '<0x97>', '<0x8C>', '<0xCC>', '<0x82>', '<0xE2>', '<0x80>', '<0x9D>', '<0x0A>', '<0x46>', 'u', 'l', 'ly', '▁de', 'co', 'm', 'p', 'o', 's', 'ed', '<0x3A>', '▁', '<0x55>', '<0x2B>', '<0x30>', '<0x30>', '<0x36>', '<0x35>', '▁', '<0xE2>', '<0x80>', '<0x9C>', 'e', '<0xE2>', '<0x80>', '<0x9D>', '▁', '<0x2B>', '▁', '<0x55>', '<0x2B>', '<0x30>', '<0x33>', '<0x30>', '<0x32>', '▁', '<0xE2>', '<0x80>', '<0x9C>', '<0xE2>', '<0x97>', '<0x8C>', '<0xCC>', '<0x82>', '<0xE2>', '<0x80>', '<0x9D>', '▁', '<0x2B>', '▁', '<0x55>', '<0x2B>', '<0x30>', '<0x33>', '<0x32>', '<0x33>', '▁', '<0xE2>', '<0x80>', '<0x9C>', '<0xE2>', '<0x97>', '<0x8C>', '<0xCC>', '<0xA3>', '<0xE2>', '<0x80>', '<0x9D>', '<0x0A>', '<0x55>', 'n', 'ic', 'o', 'de', '▁', 'r', 'e', 'f', 'er', 's', '▁to', '▁s', 'et', '▁', 'o', 'f', '▁s', 't', 'r', 'ing', 's', '▁', 'l', 'i', 'ke', '▁th', 'is', '▁a', 's', '▁', '<0xE2>', '<0x80>', '<0x9C>', 'c', 'a', 'n', 'on', 'ic', 'a', 'l', 'ly', '▁', 'e', '<0x71>', 'u', 'i', 'v', 'a', 'l', 'ent', '<0xE2>', '<0x80>', '<0x9D>', '.', '▁', '<0x43>', 'a', 'n', 'on', 'ic', 'a', 'l', 'ly', '▁', 'e', '<0x71>', 'u', 'i', 'v', 'a', 'l', 'ent', '▁s', 't', 'r', 'ing', 's', '▁a', 'r', 'e', '▁s', 'u', 'p', 'p', 'o', 's', 'ed', '▁to', '▁', 'b', 'e', '▁t', 'r', 'e', 'at', 'ed', '▁a', 's', '▁', 'i', 'd', 'ent', 'ic', 'a', 'l', '▁f', 'or', '▁', 'p', 'u', 'r', 'p', 'o', 's', 'es', '▁', 'o', 'f', '▁s', 'e', 'a', 'r', 'c', 'h', 'ing', ',', '▁s', 'or', 't', 'ing', ',', '▁', 'r', 'en', 'de', 'r', 'ing', ',', '▁text', '▁s', 'e', 'l', 'ec', 't', 'ion', ',', '▁and', '▁s', 'o', '▁', 'on', '.', '▁', '<0x54>', 'h', 'is', '▁', 'h', 'as', '▁', 'im', 'p', 'l', 'ic', 'at', 'ion', 's', '▁f', 'or', '▁', 'h', 'o', 'w', '▁', 'y', 'o', 'u', '▁', 'im', 'p', 'l', 'em', 'ent', '▁', 'o', 'p', 'e', 'ra', 't', 'ion', 's', '▁', 'on', '▁text', '.', '▁', '<0x46>', 'or', '▁', 'ex', 'a', 'm', 'p', 'l', 'e', ',', '▁', 'if', '▁an', '▁a', 'p', 'p', '▁', 'h', 'as', '▁a', '▁', '<0xE2>', '<0x80>', '<0x9C>', 'f', 'in', 'd', '▁', 'in', '▁f', 'i', 'l', 'e', '<0xE2>', '<0x80>', '<0x9D>', '▁', 'o', 'p', 'e', 'ra', 't', 'ion', '▁and', '▁the', '▁u', 's', 'er', '▁s', 'e', 'a', 'r', 'c', 'h', 'es', '▁f', 'or', '▁', '<0xE2>', '<0x80>', '<0x9C>', '<0xE1>', '<0xBB>', '<0x87>', '<0xE2>', '<0x80>', '<0x9D>', ',', '▁', 'it', '▁s', 'h', 'o', 'u', 'l', 'd', ',', '▁', 'by', '▁de', 'f', 'a', 'u', 'l', 't', ',', '▁f', 'in', 'd', '▁', 'oc', 'c', 'u', 'r', 'r', 'ence', 's', '▁', 'o', 'f', '▁an', 'y', '▁', 'o', 'f', '▁the', '▁f', 'i', 'v', 'e', '▁', 'v', 'er', 's', 'ion', 's', '▁', 'o', 'f', '▁', '<0xE2>', '<0x80>', '<0x9C>', '<0xE1>', '<0xBB>', '<0x87>', '<0xE2>', '<0x80>', '<0x9D>', '▁a', 'b', 'o', 'v', 'e', '<0x21>', '<0x0A>', '<0x0A>', 'N', 'or', 'm', 'a', 'l', 'iz', 'at', 'ion', '▁', '<0x46>', 'or', 'm', 's', '<0x0A>', '<0x54>', 'o', '▁a', 'd', 'd', 'r', 'es', 's', '▁the', '▁pr', 'o', 'b', 'l', 'em', '▁', 'o', 'f', '▁', '<0xE2>', '<0x80>', '<0x9C>', 'h', 'o', 'w', '▁to', '▁', 'h', 'a', 'n', 'd', 'l', 'e', '▁', 'c', 'a', 'n', 'on', 'ic', 'a', 'l', 'ly', '▁', 'e', '<0x71>', 'u', 'i', 'v', 'a', 'l', 'ent', '▁s', 't', 'r', 'ing', 's', '<0xE2>', '<0x80>', '<0x9D>', ',', '▁', '<0x55>', 'n', 'ic', 'o', 'de', '▁de', 'f', 'in', 'es', '▁s', 'e', 'v', 'e', 'ral', '▁n', 'or', 'm', 'a', 'l', 'iz', 'at', 'ion', '▁f', 'or', 'm', 's', '<0x3A>', '▁w', 'a', 'y', 's', '▁', 'o', 'f', '▁', 'c', 'on', 'v', 'er', 't', 'ing', '▁s', 't', 'r', 'ing', 's', '▁', 'in', 'to', '▁a', '▁', 'c', 'a', 'n', 'on', 'ic', 'a', 'l', '▁f', 'or', 'm', '▁s', 'o', '▁th', 'at', '▁the', 'y', '▁', 'c', 'a', 'n', '▁', 'b', 'e', '▁', 'co', 'm', 'p', 'a', 'r', 'ed', '▁', 'co', 'de', '-', 'p', 'o', 'in', 't', '-', 'by', '-', 'co', 'de', '-', 'p', 'o', 'in', 't', '▁(', 'or', '▁', 'by', 't', 'e', '-', 'by', '-', 'by', 't', 'e', ')', '.', '<0x0A>', '<0x0A>', '<0x54>', 'h', 'e', '▁', '<0xE2>', '<0x80>', '<0x9C>', 'N', '<0x46>', '<0x44>', '<0xE2>', '<0x80>', '<0x9D>', '▁n', 'or', 'm', 'a', 'l', 'iz', 'at', 'ion', '▁f', 'or', 'm', '▁f', 'u', 'l', 'ly', '▁de', 'co', 'm', 'p', 'o', 's', 'es', '▁', 'e', 'v', 'er', 'y', '▁', 'c', 'h', 'a', 'ra', 'c', 't', 'er', '▁', 'do', 'w', 'n', '▁to', '▁', 'it', 's', '▁', 'co', 'm', 'p', 'on', 'ent', '▁', 'b', 'as', 'e', '▁and', '▁', 'co', 'm', 'b', 'in', 'ing', '▁ma', 'r', 'k', 's', ',', '▁t', 'a', 'k', 'ing', '▁a', 'p', 'a', 'r', 't', '▁an', 'y', '▁pr', 'ec', 'o', 'm', 'p', 'o', 's', 'ed', '▁', 'co', 'de', '▁', 'p', 'o', 'in', 't', 's', '▁', 'in', '▁the', '▁s', 't', 'r', 'ing', '.', '▁', '<0x49>', 't', '▁al', 's', 'o', '▁s', 'or', 't', 's', '▁the', '▁', 'co', 'm', 'b', 'in', 'ing', '▁ma', 'r', 'k', 's', '▁', 'in', '▁', 'e', 'a', 'c', 'h', '▁', 'c', 'h', 'a', 'ra', 'c', 't', 'er', '▁a', 'c', 'c', 'or', 'd', 'ing', '▁to', '▁the', 'ir', '▁', 'r', 'en', 'de', 'r', 'ed', '▁', 'p', 'o', 's', 'it', 'ion', ',', '▁s', 'o', '▁', 'e', '.', 'g', '.', '▁', 'd', 'i', 'a', 'c', 'r', 'it', 'ic', 's', '▁th', 'at', '▁', 'g', 'o', '▁', 'b', 'e', 'lo', 'w', '▁the', '▁', 'c', 'h', 'a', 'ra', 'c', 't', 'er', '▁', 'co', 'm', 'e', '▁', 'b', 'e', 'f', 'or', 'e', '▁the', '▁', 'on', 'es', '▁th', 'at', '▁', 'g', 'o', '▁a', 'b', 'o', 'v', 'e', '▁the', '▁', 'c', 'h', 'a', 'ra', 'c', 't', 'er', '.', '▁(', '<0x49>', 't', '▁', 'do', 'es', 'n', '<0xE2>', '<0x80>', '<0x99>', 't', '▁', 'r', 'e', 'or', 'de', 'r', '▁', 'd', 'i', 'a', 'c', 'r', 'it', 'ic', 's', '▁', 'in', '▁the', '▁s', 'a', 'm', 'e', '▁', 'r', 'en', 'de', 'r', 'ed', '▁', 'p', 'o', 's', 'it', 'ion', ',', '▁s', 'in', 'ce', '▁the', 'ir', '▁', 'or', 'de', 'r', '▁ma', 't', 't', 'er', 's', '▁', 'v', 'is', 'u', 'a', 'l', 'ly', ',', '▁a', 's', '▁pre', 'v', 'i', 'o', 'u', 's', 'ly', '▁m', 'ent', 'ion', 'ed', '.', ')', '<0x0A>', '<0x0A>', '<0x54>', 'h', 'e', '▁', '<0xE2>', '<0x80>', '<0x9C>', 'N', '<0x46>', '<0x43>', '<0xE2>', '<0x80>', '<0x9D>', '▁f', 'or', 'm', ',', '▁', 'c', 'on', 'v', 'er', 's', 'e', 'ly', ',', '▁', 'p', 'u', 't', 's', '▁th', 'ing', 's', '▁', 'b', 'a', 'c', 'k', '▁to', 'g', 'et', 'h', 'er', '▁', 'in', 'to', '▁pr', 'ec', 'o', 'm', 'p', 'o', 's', 'ed', '▁', 'co', 'de', '▁', 'p', 'o', 'in', 't', 's', '▁a', 's', '▁m', 'u', 'c', 'h', '▁a', 's', '▁', 'p', 'o', 's', 's', 'i', 'b', 'l', 'e', '.', '▁', '<0x49>', 'f', '▁an', '▁un', 'u', 's', 'u', 'a', 'l', '▁', 'co', 'm', 'b', 'in', 'at', 'ion', '▁', 'o', 'f', '▁', 'd', 'i', 'a', 'c', 'r', 'it', 'ic', 's', '▁is', '▁', 'c', 'a', 'l', 'l', 'ed', '▁f', 'or', ',', '▁th', 'er', 'e', '▁ma', 'y', '▁n', 'o', 't', '▁', 'b', 'e', '▁an', 'y', '▁pr', 'ec', 'o', 'm', 'p', 'o', 's', 'ed', '▁', 'co', 'de', '▁', 'p', 'o', 'in', 't', '▁f', 'or', '▁', 'it', ',', '▁', 'in', '▁w', 'h', 'ic', 'h', '▁', 'c', 'as', 'e', '▁', 'N', '<0x46>', '<0x43>', '▁s', 't', 'i', 'l', 'l', '▁pr', 'ec', 'o', 'm', 'p', 'o', 's', 'es', '▁w', 'h', 'at', '▁', 'it', '▁', 'c', 'a', 'n', '▁and', '▁', 'l', 'e', 'a', 'v', 'es', '▁an', 'y', '▁', 'r', 'em', 'a', 'in', 'ing', '▁', 'co', 'm', 'b', 'in', 'ing', '▁ma', 'r', 'k', 's', '▁', 'in', '▁', 'p', 'la', 'ce', '▁(', 'ag', 'a', 'in', '▁', 'or', 'de', 'r', 'ed', '▁', 'by', '▁', 'r', 'en', 'de', 'r', 'ed', '▁', 'p', 'o', 's', 'it', 'ion', ',', '▁a', 's', '▁', 'in', '▁', 'N', '<0x46>', '<0x44>', ')', '.', '<0x0A>', '<0x0A>', '<0x54>', 'h', 'er', 'e', '▁a', 'r', 'e', '▁al', 's', 'o', '▁f', 'or', 'm', 's', '▁', 'c', 'a', 'l', 'l', 'ed', '▁', 'N', '<0x46>', 'K', '<0x44>', '▁and', '▁', 'N', '<0x46>', 'K', '<0x43>', '.', '▁', '<0x54>', 'h', 'e', '▁', '<0xE2>', '<0x80>', '<0x9C>', 'K', '<0xE2>', '<0x80>', '<0x9D>', '▁', 'h', 'er', 'e', '▁', 'r', 'e', 'f', 'er', 's', '▁to', '▁', 'co', 'm', 'p', 'at', 'i', 'b', 'i', 'l', 'it', 'y', '▁de', 'co', 'm', 'p', 'o', 's', 'it', 'ion', 's', ',', '▁w', 'h', 'ic', 'h', '▁', 'co', 'v', 'er', '▁', 'c', 'h', 'a', 'ra', 'c', 't', 'er', 's', '▁th', 'at', '▁a', 'r', 'e', '▁', '<0xE2>', '<0x80>', '<0x9C>', 's', 'im', 'i', 'la', 'r', '<0xE2>', '<0x80>', '<0x9D>', '▁', 'in', '▁s', 'o', 'm', 'e', '▁s', 'en', 's', 'e', '▁', 'b', 'u', 't', '▁n', 'o', 't', '▁', 'v', 'is', 'u', 'a', 'l', 'ly', '▁', 'i', 'd', 'ent', 'ic', 'a', 'l', '.', '▁', '<0x48>', 'o', 'w', 'e', 'v', 'er', ',', '▁', '<0x49>', '<0xE2>', '<0x80>', '<0x99>', 'm', '▁n', 'o', 't', '▁', 'g', 'o', 'ing', '▁to', '▁', 'co', 'v', 'er', '▁th', 'at', '▁', 'h', 'er', 'e', '.', '<0x0A>', '<0x0A>', '<0x47>', 'ra', 'p', 'h', 'em', 'e', '▁', '<0x43>', 'l', 'u', 'st', 'er', 's', '<0x0A>', '<0x41>', 's', '▁w', 'e', '<0xE2>', '<0x80>', '<0x99>', 'v', 'e', '▁s', 'e', 'en', ',', '▁', '<0x55>', 'n', 'ic', 'o', 'de', '▁', 'c', 'on', 't', 'a', 'in', 's', '▁', 'v', 'a', 'r', 'i', 'o', 'u', 's', '▁', 'c', 'as', 'es', '▁w', 'h', 'er', 'e', '▁a', '▁th', 'ing', '▁th', 'at', '▁a', '▁u', 's', 'er', '▁th', 'in', 'k', 's', '▁', 'o', 'f', '▁a', 's', '▁a', '▁s', 'ing', 'l', 'e', '▁', '<0xE2>', '<0x80>', '<0x9C>', 'c', 'h', 'a', 'ra', 'c', 't', 'er', '<0xE2>', '<0x80>', '<0x9D>', '▁m', 'ig', 'h', 't', '▁a', 'c', 't', 'u', 'a', 'l', 'ly', '▁', 'b', 'e', '▁ma', 'de', '▁u', 'p', '▁', 'o', 'f', '▁m', 'u', 'l', 't', 'i', 'p', 'l', 'e', '▁', 'co', 'de', '▁', 'p', 'o', 'in', 't', 's', '▁un', 'de', 'r', '▁the', '▁', 'h', 'o', 'o', 'd', '.', '▁', '<0x55>', 'n', 'ic', 'o', 'de', '▁f', 'or', 'm', 'a', 'l', 'iz', 'es', '▁th', 'is', '▁u', 's', 'ing', '▁the', '▁n', 'o', 't', 'ion', '▁', 'o', 'f', '▁a', '▁', 'g', 'ra', 'p', 'h', 'em', 'e', '▁', 'c', 'l', 'u', 'st', 'er', '<0x3A>', '▁a', '▁s', 't', 'r', 'ing', '▁', 'o', 'f', '▁', 'on', 'e', '▁', 'or', '▁m', 'or', 'e', '▁', 'co', 'de', '▁', 'p', 'o', 'in', 't', 's', '▁th', 'at', '▁', 'c', 'on', 'st', 'it', 'u', 't', 'e', '▁a', '▁s', 'ing', 'l', 'e', '▁', '<0xE2>', '<0x80>', '<0x9C>', 'u', 's', 'er', '-', 'p', 'er', 'ce', 'i', 'v', 'ed', '▁', 'c', 'h', 'a', 'ra', 'c', 't', 'er', '<0xE2>', '<0x80>', '<0x9D>', '.', '<0x0A>', '<0x0A>', '<0x55>', '<0x41>', '<0x58>', '▁', '<0x23>', '<0x32>', '<0x39>', '▁de', 'f', 'in', 'es', '▁the', '▁', 'r', 'u', 'l', 'es', '▁f', 'or', '▁w', 'h', 'at', ',', '▁pr', 'ec', 'is', 'e', 'ly', ',', '▁', '<0x71>', 'u', 'a', 'l', 'if', 'i', 'es', '▁a', 's', '▁a', '▁', 'g', 'ra', 'p', 'h', 'em', 'e', '▁', 'c', 'l', 'u', 'st', 'er', '.', '▁', '<0x49>', 't', '<0xE2>', '<0x80>', '<0x99>', 's', '▁a', 'p', 'pr', 'o', 'x', 'im', 'at', 'e', 'ly', '▁', '<0xE2>', '<0x80>', '<0x9C>', 'a', '▁', 'b', 'as', 'e', '▁', 'co', 'de', '▁', 'p', 'o', 'in', 't', '▁f', 'o', 'l', 'lo', 'w', 'ed', '▁', 'by', '▁an', 'y', '▁n', 'u', 'm', 'b', 'er', '▁', 'o', 'f', '▁', 'co', 'm', 'b', 'in', 'ing', '▁ma', 'r', 'k', 's', '<0xE2>', '<0x80>', '<0x9D>', ',', '▁', 'b', 'u', 't', '▁the', '▁a', 'c', 't', 'u', 'a', 'l', '▁de', 'f', 'in', 'it', 'ion', '▁is', '▁a', '▁', 'b', 'it', '▁m', 'or', 'e', '▁', 'co', 'm', 'p', 'l', 'ic', 'at', 'ed', '<0x3B>', '▁', 'it', '▁a', 'c', 'co', 'u', 'n', 't', 's', '▁f', 'or', '▁th', 'ing', 's', '▁', 'l', 'i', 'ke', '▁', 'K', 'or', 'e', 'a', 'n', '▁', '<0x6A>', 'a', 'm', 'o', ',', '▁and', '▁', 'em', 'o', '<0x6A>', 'i', '▁', '<0x5A>', '<0x57>', '<0x4A>', '▁s', 'e', '<0x71>', 'u', 'ence', 's', '.', '<0x0A>', '<0x0A>', '<0x54>', 'h', 'e', '▁ma', 'in', '▁th', 'ing', '▁', 'g', 'ra', 'p', 'h', 'em', 'e', '▁', 'c', 'l', 'u', 'st', 'er', 's', '▁a', 'r', 'e', '▁u', 's', 'ed', '▁f', 'or', '▁is', '▁text', '▁', 'ed', 'it', 'ing', '<0x3A>', '▁the', 'y', '<0xE2>', '<0x80>', '<0x99>', 'r', 'e', '▁', 'o', 'f', 't', 'en', '▁the', '▁mo', 'st', '▁s', 'en', 's', 'i', 'b', 'l', 'e', '▁un', 'it', '▁f', 'or', '▁', 'c', 'u', 'r', 's', 'or', '▁', 'p', 'la', 'ce', 'm', 'ent', '▁and', '▁text', '▁s', 'e', 'l', 'ec', 't', 'ion', '▁', 'b', 'o', 'u', 'n', 'd', 'a', 'r', 'i', 'es', '.', '▁', '<0x55>', 's', 'ing', '▁', 'g', 'ra', 'p', 'h', 'em', 'e', '▁', 'c', 'l', 'u', 'st', 'er', 's', '▁f', 'or', '▁the', 's', 'e', '▁', 'p', 'u', 'r', 'p', 'o', 's', 'es', '▁', 'en', 's', 'u', 'r', 'es', '▁th', 'at', '▁', 'y', 'o', 'u', '▁', 'c', 'a', 'n', '<0xE2>', '<0x80>', '<0x99>', 't', '▁a', 'c', 'c', 'i', 'd', 'ent', 'a', 'l', 'ly', '▁', 'c', 'h', 'o', 'p', '▁', 'o', 'f', 'f', '▁s', 'o', 'm', 'e', '▁', 'd', 'i', 'a', 'c', 'r', 'it', 'ic', 's', '▁w', 'h', 'en', '▁', 'y', 'o', 'u', '▁', 'co', 'p', 'y', '-', 'a', 'n', 'd', '-', 'p', 'a', 'st', 'e', '▁text', ',', '▁th', 'at', '▁', 'l', 'e', 'f', 't', '/', 'r', 'ig', 'h', 't', '▁a', 'r', 'r', 'o', 'w', '▁', 'ke', 'y', 's', '▁al', 'w', 'a', 'y', 's', '▁mo', 'v', 'e', '▁the', '▁', 'c', 'u', 'r', 's', 'or', '▁', 'by', '▁', 'on', 'e', '▁', 'v', 'is', 'i', 'b', 'l', 'e', '▁', 'c', 'h', 'a', 'ra', 'c', 't', 'er', ',', '▁and', '▁s', 'o', '▁', 'on', '.', '<0x0A>', '<0x0A>', '<0x41>', 'n', 'o', 't', 'h', 'er', '▁', 'p', 'la', 'ce', '▁w', 'h', 'er', 'e', '▁', 'g', 'ra', 'p', 'h', 'em', 'e', '▁', 'c', 'l', 'u', 'st', 'er', 's', '▁a', 'r', 'e', '▁u', 's', 'e', 'f', 'u', 'l', '▁is', '▁', 'in', '▁', 'en', 'f', 'or', 'c', 'ing', '▁a', '▁s', 't', 'r', 'ing', '▁', 'l', 'en', 'g', 't', 'h', '▁', 'l', 'im', 'it', '<0xE2>', '<0x80>', '<0x94>', 's', 'a', 'y', ',', '▁', 'on', '▁a', '▁', 'd', 'at', 'ab', 'as', 'e', '▁f', 'i', 'e', 'l', 'd', '.', '▁', '<0x57>', 'h', 'i', 'l', 'e', '▁the', '▁t', 'r', 'u', 'e', ',', '▁un', 'de', 'r', 'ly', 'ing', '▁', 'l', 'im', 'it', '▁m', 'ig', 'h', 't', '▁', 'b', 'e', '▁s', 'o', 'm', 'et', 'h', 'ing', '▁', 'l', 'i', 'ke', '▁the', '▁', 'by', 't', 'e', '▁', 'l', 'en', 'g', 't', 'h', '▁', 'o', 'f', '▁the', '▁s', 't', 'r', 'ing', '▁', 'in', '▁', '<0x55>', '<0x54>', '<0x46>', '-', '<0x38>', ',', '▁', 'y', 'o', 'u', '▁w', 'o', 'u', 'l', 'd', 'n', '<0xE2>', '<0x80>', '<0x99>', 't', '▁w', 'a', 'n', 't', '▁to', '▁', 'en', 'f', 'or', 'ce', '▁th', 'at', '▁', 'by', '▁', '<0x6A>', 'u', 'st', '▁t', 'r', 'u', 'n', 'c', 'at', 'ing', '▁', 'by', 't', 'es', '.', '▁', '<0x41>', 't', '▁a', '▁m', 'in', 'im', 'u', 'm', ',', '▁', 'y', 'o', 'u', '<0xE2>', '<0x80>', '<0x99>', 'd', '▁w', 'a', 'n', 't', '▁to', '▁', '<0xE2>', '<0x80>', '<0x9C>', 'r', 'o', 'u', 'n', 'd', '▁', 'do', 'w', 'n', '<0xE2>', '<0x80>', '<0x9D>', '▁to', '▁the', '▁n', 'e', 'a', 'r', 'e', 'st', '▁', 'co', 'de', '▁', 'p', 'o', 'in', 't', '▁', 'b', 'o', 'u', 'n', 'd', 'a', 'r', 'y', '<0x3B>', '▁', 'b', 'u', 't', '▁', 'e', 'v', 'en', '▁', 'b', 'et', 't', 'er', ',', '▁', 'r', 'o', 'u', 'n', 'd', '▁', 'do', 'w', 'n', '▁to', '▁the', '▁n', 'e', 'a', 'r', 'e', 'st', '▁', 'g', 'ra', 'p', 'h', 'em', 'e', '▁', 'c', 'l', 'u', 'st', 'er', '▁', 'b', 'o', 'u', 'n', 'd', 'a', 'r', 'y', '.', '▁', '<0x4F>', 't', 'h', 'er', 'w', 'is', 'e', ',', '▁', 'y', 'o', 'u', '▁m', 'ig', 'h', 't', '▁', 'b', 'e', '▁', 'c', 'or', 'r', 'u', 'p', 't', 'ing', '▁the', '▁', 'la', 'st', '▁', 'c', 'h', 'a', 'ra', 'c', 't', 'er', '▁', 'by', '▁', 'c', 'u', 't', 't', 'ing', '▁', 'o', 'f', 'f', '▁a', '▁', 'd', 'i', 'a', 'c', 'r', 'it', 'ic', ',', '▁', 'or', '▁', 'in', 't', 'er', 'r', 'u', 'p', 't', 'ing', '▁a', '▁', '<0x6A>', 'a', 'm', 'o', '▁s', 'e', '<0x71>', 'u', 'ence', '▁', 'or', '▁', '<0x5A>', '<0x57>', '<0x4A>', '▁s', 'e', '<0x71>', 'u', 'ence', '.', '<0x0A>', '<0x0A>', '<0x41>', 'n', 'd', '▁', '<0x4D>', 'or', 'e', '<0xE2>', '<0x80>', '<0xA6>', '<0x0A>', '<0x54>', 'h', 'er', 'e', '<0xE2>', '<0x80>', '<0x99>', 's', '▁m', 'u', 'c', 'h', '▁m', 'or', 'e', '▁th', 'at', '▁', 'co', 'u', 'l', 'd', '▁', 'b', 'e', '▁s', 'a', 'i', 'd', '▁a', 'b', 'o', 'u', 't', '▁', '<0x55>', 'n', 'ic', 'o', 'de', '▁f', 'r', 'o', 'm', '▁a', '▁pr', 'o', 'g', 'ra', 'm', 'm', 'er', '<0xE2>', '<0x80>', '<0x99>', 's', '▁', 'p', 'er', 's', 'p', 'ec', 't', 'i', 'v', 'e', '<0x21>', '▁', '<0x49>', '▁', 'h', 'a', 'v', 'en', '<0xE2>', '<0x80>', '<0x99>', 't', '▁', 'g', 'o', 't', 't', 'en', '▁', 'in', 'to', '▁s', 'u', 'c', 'h', '▁f', 'u', 'n', '▁to', 'p', 'ic', 's', '▁a', 's', '▁', 'c', 'as', 'e', '▁ma', 'p', 'p', 'ing', ',', '▁', 'co', 'l', 'la', 't', 'ion', ',', '▁', 'co', 'm', 'p', 'at', 'i', 'b', 'i', 'l', 'it', 'y', '▁de', 'co', 'm', 'p', 'o', 's', 'it', 'ion', 's', '▁and', '▁', 'c', 'on', 'f', 'u', 's', 'ab', 'l', 'es', ',', '▁', '<0x55>', 'n', 'ic', 'o', 'de', '-', 'a', 'w', 'a', 'r', 'e', '▁', 'r', 'e', 'g', 'ex', 'es', ',', '▁', 'or', '▁', 'b', 'i', 'd', 'ir', 'ec', 't', 'ion', 'a', 'l', '▁text', '.', '▁', 'N', 'or', '▁', 'h', 'a', 'v', 'e', '▁', '<0x49>', '▁s', 'a', 'i', 'd', '▁an', 'y', 't', 'h', 'ing', '▁', 'y', 'et', '▁a', 'b', 'o', 'u', 't', '▁', 'im', 'p', 'l', 'em', 'ent', 'at', 'ion', '▁is', 's', 'u', 'es', '<0xE2>', '<0x80>', '<0x94>', 'h', 'o', 'w', '▁to', '▁', 'e', 'f', 'f', 'ic', 'i', 'ent', 'ly', '▁s', 't', 'or', 'e', '▁and', '▁', 'lo', 'o', 'k', '-', 'u', 'p', '▁', 'd', 'at', 'a', '▁a', 'b', 'o', 'u', 't', '▁the', '▁s', 'p', 'a', 'r', 's', 'e', 'ly', '-', 'as', 's', 'ig', 'n', 'ed', '▁', 'co', 'de', '▁', 'p', 'o', 'in', 't', 's', ',', '▁', 'or', '▁', 'h', 'o', 'w', '▁to', '▁', 'o', 'p', 't', 'im', 'iz', 'e', '▁', '<0x55>', '<0x54>', '<0x46>', '-', '<0x38>', '▁de', 'co', 'd', 'ing', ',', '▁s', 't', 'r', 'ing', '▁', 'co', 'm', 'p', 'a', 'r', 'is', 'on', ',', '▁', 'or', '▁', 'N', '<0x46>', '<0x43>', '▁n', 'or', 'm', 'a', 'l', 'iz', 'at', 'ion', '.', '▁', 'P', 'er', 'h', 'a', 'p', 's', '▁', '<0x49>', '<0xE2>', '<0x80>', '<0x99>', 'l', 'l', '▁', 'r', 'et', 'u', 'r', 'n', '▁to', '▁s', 'o', 'm', 'e', '▁', 'o', 'f', '▁th', 'o', 's', 'e', '▁th', 'ing', 's', '▁', 'in', '▁f', 'u', 't', 'u', 'r', 'e', '▁', 'p', 'o', 'st', 's', '.', '<0x0A>', '<0x0A>', '<0x55>', 'n', 'ic', 'o', 'de', '▁is', '▁a', '▁f', 'as', 'c', 'in', 'at', 'ing', '▁and', '▁', 'co', 'm', 'p', 'l', 'ex', '▁system', '.', '▁', '<0x49>', 't', '▁', 'h', 'as', '▁a', '▁ma', 'n', 'y', '-', 'to', '-', 'on', 'e', '▁ma', 'p', 'p', 'ing', '▁', 'b', 'et', 'w', 'e', 'en', '▁', 'by', 't', 'es', '▁and', '▁', 'co', 'de', '▁', 'p', 'o', 'in', 't', 's', ',', '▁and', '▁', 'on', '▁to', 'p', '▁', 'o', 'f', '▁th', 'at', '▁a', '▁ma', 'n', 'y', '-', 'to', '-', 'on', 'e', '▁(', 'or', ',', '▁un', 'de', 'r', '▁s', 'o', 'm', 'e', '▁', 'c', 'ir', 'c', 'u', 'm', 'st', 'a', 'n', 'ce', 's', ',', '▁ma', 'n', 'y', '-', 'to', '-', 'm', 'a', 'n', 'y', ')', '▁ma', 'p', 'p', 'ing', '▁', 'b', 'et', 'w', 'e', 'en', '▁', 'co', 'de', '▁', 'p', 'o', 'in', 't', 's', '▁and', '▁', '<0xE2>', '<0x80>', '<0x9C>', 'c', 'h', 'a', 'ra', 'c', 't', 'er', 's', '<0xE2>', '<0x80>', '<0x9D>', '.', '▁', '<0x49>', 't', '▁', 'h', 'as', '▁', 'o', 'd', 'd', 'b', 'a', 'l', 'l', '▁s', 'p', 'ec', 'i', 'a', 'l', '▁', 'c', 'as', 'es', '▁', 'in', '▁', 'e', 'v', 'er', 'y', '▁', 'c', 'or', 'n', 'er', '.', '▁', 'B', 'u', 't', '▁n', 'o', '▁', 'on', 'e', '▁', 'e', 'v', 'er', '▁', 'c', 'la', 'im', 'ed', '▁th', 'at', '▁', 'r', 'e', 'pr', 'es', 'ent', 'ing', '▁al', 'l', '▁w', 'r', 'it', 't', 'en', '▁language', 's', '▁w', 'as', '▁', 'g', 'o', 'ing', '▁to', '▁', 'b', 'e', '▁', 'e', 'as', 'y', ',', '▁and', '▁', 'it', '<0xE2>', '<0x80>', '<0x99>', 's', '▁', 'c', 'l', 'e', 'a', 'r', '▁th', 'at', '▁w', 'e', '<0xE2>', '<0x80>', '<0x99>', 'r', 'e', '▁n', 'e', 'v', 'er', '▁', 'g', 'o', 'ing', '▁', 'b', 'a', 'c', 'k', '▁to', '▁the', '▁', 'b', 'a', 'd', '▁', 'o', 'l', 'd', '▁', 'd', 'a', 'y', 's', '▁', 'o', 'f', '▁a', '▁', 'p', 'at', 'c', 'h', 'wor', 'k', '▁', 'o', 'f', '▁', 'in', 'co', 'm', 'p', 'at', 'i', 'b', 'l', 'e', '▁', 'en', 'co', 'd', 'ing', 's', '.', '<0x0A>', '<0x0A>', '<0x46>', 'u', 'r', 't', 'h', 'er', '▁', 'r', 'e', 'a', 'd', 'ing', '<0x3A>', '<0x0A>', '<0x0A>', '<0x54>', 'h', 'e', '▁', '<0x55>', 'n', 'ic', 'o', 'de', '▁S', 't', 'a', 'n', 'd', 'a', 'r', 'd', '<0x0A>', '<0x55>', '<0x54>', '<0x46>', '-', '<0x38>', '▁', 'E', 'v', 'er', 'y', 'w', 'h', 'er', 'e', '▁', '<0x4D>', 'a', 'n', 'if', 'e', 'st', 'o', '<0x0A>', '<0x44>', 'a', 'r', 'k', '▁', 'c', 'or', 'n', 'er', 's', '▁', 'o', 'f', '▁', '<0x55>', 'n', 'ic', 'o', 'de', '▁', 'by', '▁', 'E', 'e', 'v', 'e', 'e', '<0x0A>', '<0x49>', '<0x43>', '<0x55>', '▁(', '<0x49>', 'n', 't', 'er', 'n', 'at', 'ion', 'a', 'l', '▁', '<0x43>', 'o', 'm', 'p', 'on', 'ent', 's', '▁f', 'or', '▁', '<0x55>', 'n', 'ic', 'o', 'de', ')', '<0xE2>', '<0x80>', '<0x94>', '<0x43>', '/', '<0x43>', '<0x2B>', '<0x2B>', '/', '<0x4A>', 'a', 'v', 'a', '▁', 'l', 'i', 'b', 'ra', 'r', 'i', 'es', '▁', 'im', 'p', 'l', 'em', 'ent', 'ing', '▁ma', 'n', 'y', '▁', '<0x55>', 'n', 'ic', 'o', 'de', '▁al', 'g', 'or', 'it', 'h', 'm', 's', '▁and', '▁', 'r', 'e', 'la', 't', 'ed', '▁th', 'ing', 's', '<0x0A>', 'P', 'y', 't', 'h', 'on', '▁', '<0x33>', '▁', '<0x55>', 'n', 'ic', 'o', 'de', '▁', '<0x48>', 'o', 'w', 'to', '<0x0A>', '<0x47>', 'o', 'o', 'g', 'l', 'e', '▁', 'N', 'o', 'to', '▁', '<0x46>', 'on', 't', 's', '<0xE2>', '<0x80>', '<0x94>', 's', 'et', '▁', 'o', 'f', '▁f', 'on', 't', 's', '▁', 'in', 't', 'en', 'de', 'd', '▁to', '▁', 'co', 'v', 'er', '▁al', 'l', '▁a', 's', 's', 'ig', 'n', 'ed', '▁', 'co', 'de', '▁', 'p', 'o', 'in', 't', 's']\n"
          ]
        },
        {
          "output_type": "execute_result",
          "data": {
            "text/plain": [
              "(18327, 23347)"
            ]
          },
          "metadata": {},
          "execution_count": 55
        }
      ]
    },
    {
      "cell_type": "code",
      "source": [
        "print(f'Conversion Ratio: {len(texto)/len(isd1):.2f}X')"
      ],
      "metadata": {
        "colab": {
          "base_uri": "https://localhost:8080/"
        },
        "id": "TVPcc3zB_4WF",
        "outputId": "78cbc89e-e019-4832-e5ba-4365e783d09b"
      },
      "execution_count": 57,
      "outputs": [
        {
          "output_type": "stream",
          "name": "stdout",
          "text": [
            "Conversion Ratio: 1.27X\n"
          ]
        }
      ]
    }
  ]
}